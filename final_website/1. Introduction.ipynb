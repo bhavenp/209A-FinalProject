{
 "cells": [
  {
   "cell_type": "markdown",
   "metadata": {},
   "source": [
    "# 1. Introduction"
   ]
  },
  {
   "cell_type": "markdown",
   "metadata": {},
   "source": [
    "## What is Lending Club?\n",
    "Lending Club is a peer-to-peer lending company. The United States based company connects borrowers seeking loans with investors looking to finance loans and make a profit through loan interest payments in through an online marketplace. Lending Club's [website ](https://www.lendingclub.com/) claims they have facilitated over $42 billion dollars in borrowing and have more than 2.5 million customers.\n",
    "\n",
    "Potential borrowers submit applications for loans to Lending Club. The company screens the applicants and, for approved applications, provides loan information, like a risk analysis, to investors. Investors can choose how much of a loan they wish to fund; an approved applicant receives their loan once it is fully funded.\n",
    "\n",
    "We intend to look at publically available Lending Club data with two goals in mind: \n",
    "1. Crafting a winning investment strategy that meaningfully beats the market by modelling relevant features of borrowing behavior to formulate a smarter return on investment (ROI) measurement\n",
    "2. Assessing the extent to which discrimination against legally protected classes exists in Lending Club's process and proposing alternative socially conscious investing options that still allow investors to make a profit \n",
    "\n",
    "<hr>\n",
    "## What makes for a good investment strategy?\n",
    "-idk lol\n",
    "\n",
    "<hr>\n",
    "## How to define discrimination and how to address it?\n",
    "Generally speaking, there are two forms of discrimination that may exist in the Lending Club process:\n",
    "1. *Individual-level*: treating an entity differently based on a **protected class**, such as their gender, ethnicity, or sexual orientation; this is often refered to as **disparate treatment**\n",
    ">Example: Lending Club refuses to approve a loan application for someone because they are Muslim\n",
    "2. *Group-level*: disproportionate **adverse impact** observed on members of a protected class; this is often referred to as **disparate impact**\n",
    ">Example: Lending Club approves disproportionately more loans from white applications than it does for non-white applicants\n",
    "  \n",
    "Furthermore, there are two general ways to go about addressing this discrimination:\n",
    "1. *At the time of model-building*: specifying a loss function that is aware of features that should be protected\n",
    ">Example: A probability of default model that seeks to reduce false positive rates across all race categories\n",
    "2. *Making adjustments after the model has been built*: combining model output with protected features when making decisions based on the model\n",
    ">Example: After ranking all loans by their potential return on investment, select the same proportion of loans from each race category\n",
    "\n",
    "In this project we will explore different ways of identifying and addressing discrimination in the LendingClub process and in our own investment strategy. While we will seek to implement methods to remedy this discrimination, our primary goal will be establishing whether and to what extent discrimination exists in this context and laying the groundwork for future efforts.\n",
    "\n",
    "Source: Julia Stoyanovich slides in class (how do I cite properly)\n",
    "\n"
   ]
  }
 ],
 "metadata": {
  "kernelspec": {
   "display_name": "Python 3",
   "language": "python",
   "name": "python3"
  },
  "language_info": {
   "codemirror_mode": {
    "name": "ipython",
    "version": 3
   },
   "file_extension": ".py",
   "mimetype": "text/x-python",
   "name": "python",
   "nbconvert_exporter": "python",
   "pygments_lexer": "ipython3",
   "version": "3.6.5"
  }
 },
 "nbformat": 4,
 "nbformat_minor": 2
}
