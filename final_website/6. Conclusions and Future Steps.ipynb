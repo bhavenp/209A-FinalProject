{
 "cells": [
  {
   "cell_type": "markdown",
   "metadata": {},
   "source": [
    "## Summary of goals and contributions\n",
    "\n",
    "Our first goal of was to accurately model the probability of default of a given loan, by blinding ourselves to features that contain information about protected classes (race, gender, etc.).\n",
    "- We achieved an improvement of 1 percentage point in testing accuracy over the baseline using a tuned multi-layer perceptron\n",
    "- We consider this a success given the challenge of discriminating between the two classes (repaid vs. defaulted loans) using obvious predictors, as explored in the initial data exploration. We also overcame the imbalance in classes using synthetic methods to allow our model to capture the nuances of the under represented class (defaulted loans).\n",
    "\n",
    "\n",
    "Our second goal was to choose a subset of loans that would maximize our return on investment (ROI), given the predicted probability of default of loans.\n",
    "\n",
    "- We formalized our understanding of return on investment to define a real ROI metric that allowed us to rank loans and select the top subset to invest in.\n",
    "\n",
    "Our third goal was to assess the extent to which discrimination existed and then adjust the loans we chose to attain statistical parity. \n",
    "\n",
    "- We identify unintended flaws in our initial investment strategy that led to disproportionate investment in advantaged populations, such as highly educated areas.\n",
    "- We stratify our investments by relevant demographics and find that we can still achieve near optimal return while meaningfully funneling our investments evenly across protected groups."
   ]
  },
  {
   "cell_type": "markdown",
   "metadata": {},
   "source": [
    "## Future work\n",
    "\n",
    "While we explored many methods and have formulated a strong investment strategy, there are many extensions that can be explored\n",
    "\n",
    "### Modeling Extensions\n",
    "\n",
    "One potential area for exploration is to update our formula for expected ROI to include a term that accounts for average loan approval rates by zip codes to incorporate another measure of fairness into our formulations.\n",
    "\n",
    "$$ ROI_{P}=\\frac{(1+I)A(1-P_d) + \\alpha P_d R - A}{A} + \\beta\\frac{P_a}{P_{a|z}}$$\n",
    "\n",
    "With: \n",
    "* $A$   - loan amount\n",
    "* $P_d$ - probability of Default (assessed by our models)\n",
    "* $I$   - interest rate charged on the loan\n",
    "* $R$   - expected return should a loan default\n",
    "* $\\alpha$ -default penalty term\n",
    "* $\\beta$ - tuning parameter\n",
    "* $P_a$ - probability of being approved for a loan \n",
    "* $P_{a|z}$ - probability of being approved for a loan given zip code\n",
    "\n",
    "We could also consider investigating a time series approach to data analysis for our investment strategy.\n",
    "\n",
    "### Fairness Extensions\n",
    "\n",
    "On the fairness front, a next step would be to implement a model that incorporates some notion of group-level fairness into the loss function. This is certainly an exciting avenue to explore, as it is a cutting-edge research area in machine learning.\n",
    "\n",
    "It would also be wise to examine rejection data from Lending Club to inform us of characteristics that may make a loan less likely to be approved, determine if there is any implicit discrimination in that process, and potentially adjust our investment strategy."
   ]
  }
 ],
 "metadata": {
  "kernelspec": {
   "display_name": "Python 3",
   "language": "python",
   "name": "python3"
  },
  "language_info": {
   "codemirror_mode": {
    "name": "ipython",
    "version": 3
   },
   "file_extension": ".py",
   "mimetype": "text/x-python",
   "name": "python",
   "nbconvert_exporter": "python",
   "pygments_lexer": "ipython3",
   "version": "3.7.0"
  }
 },
 "nbformat": 4,
 "nbformat_minor": 2
}
