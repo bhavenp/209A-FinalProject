{
 "cells": [
  {
   "cell_type": "markdown",
   "metadata": {},
   "source": [
    "We started this project with two expansive goals: to create a Lending Club investment strategy that maximized investor profit and to measure and address discrimination in the Lending Club process, from the time they receive a loan application to our investor funding a loan. We chose to use Lending Club data from 2013-2015 for this task. We reasoned that this time span was just long enough for most loans to have run their course, so we would have a fuller picture of loan repayment behavior. Data from the first two years in the span served as our training data while data from the final year served as our test data.\n",
    "\n",
    "## Data processing\n",
    "At the outset we knew we would need to do some data massaging in order to get the most out of our modeling efforts while at the same time blinding our model to features that contain information that make the model liable to discriminatory behavior. To handle this, we performed a careful manual feature selection, removing columns that are well-known to contain information about socio-economic status, such as zip code, and other columns that threatened to bleed forward information that would not be available to investors at the time of investment, such as information about loan payments made.\n",
    "* SOME RESULTS?\n",
    "\n",
    "## Modeling loan characteristics\n",
    "An important piece of optimizing return on investment is to accurately predict who will default on a loan. We sought to build a classification model on Lending Club's rich feature set and compared a variety of models, from logistic regression to a multi-layer perceptron. Because of the nature of the prediction task, we sought to maximize the true positive rate relative to the false positive rate, also known as the area under the curve. Further, we implemented an oversampling technique to increase our model's sensitivity toward predicting defaulted loans.\n",
    "* SOME RESULTS\n",
    "\n",
    "## Optimizing investment strategy\n",
    "In any investment strategy, the overarching goal is to balance investments that are a safet bet and those that promise to have a high rate of return. For this task, that involves us balancing a portfolio of loans with small chances of defaulting and those with high interest rates.\n",
    "* SOME RESULTS\n",
    "\n",
    "## Addressing discrimination\n",
    "We detected some meaningful trends between zip code level Census data and Lending Club loan approval rates, especially with respect to education, family status, and unemployment, that highlighted where we may expect to see discrimination crop up in our investment strategy. When we dug deeper, comparing zip code level characteristics to loan approval rates as well as our own investment strategy, we found that we introduced a fair amount of differential treatment. Seeking to provide a socially conscious investing option, we performed a statistical parity adjustment and were able to redistribute investment funds evenly across relevant demographic groups while taking only a small hit in terms of our return on investment. \n",
    "\n",
    "## Future steps\n",
    "On the discrimination front, we ran out of time to implement a model that incorporated some notion of group-level fairness into the loss function. This is something we would certainly look to do in the future, as this is a cutting-edge research area in machine learning.\n",
    "\n",
    "* DISCUSS OUR CONTRIBUTIONS"
   ]
  }
 ],
 "metadata": {
  "kernelspec": {
   "display_name": "Python 3",
   "language": "python",
   "name": "python3"
  },
  "language_info": {
   "codemirror_mode": {
    "name": "ipython",
    "version": 3
   },
   "file_extension": ".py",
   "mimetype": "text/x-python",
   "name": "python",
   "nbconvert_exporter": "python",
   "pygments_lexer": "ipython3",
   "version": "3.6.5"
  }
 },
 "nbformat": 4,
 "nbformat_minor": 2
}
