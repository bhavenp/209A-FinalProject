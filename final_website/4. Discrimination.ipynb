{
 "cells": [
  {
   "cell_type": "markdown",
   "metadata": {},
   "source": [
    "# 4. Discrimination"
   ]
  },
  {
   "cell_type": "markdown",
   "metadata": {},
   "source": [
    "As was estbalished in the introduction, we can define discrimination at either the group level or the individual level. In the context of this project, before even debating which one of these approaches might be more justifiable, it will be important to examine what data we have available to us. Below is a brief summary of what characteristics would be legal or moral grounds for claiming discrimination and what characteristics are available to us through the data.\n",
    "\n",
    "## What variables are there grounds to use for a discrimination argument?\n",
    "[Legally protected classes](https://content.next.westlaw.com/Document/Ibb0a38daef0511e28578f7ccc38dcbee/View/FullText.html?contextData=sc.Default&transitionType=Default&firstPage=true&bhcp=1):\n",
    "* Race\n",
    "* Color\n",
    "* Religion or creed\n",
    "* National origin or ancestry\n",
    "* Sex\n",
    "* Age\n",
    "* Physical or mental disability\n",
    "* Veteran status\n",
    "* Genetic information\n",
    "* Citizenship\n",
    "\n",
    "Characteristics that are protected by being an Equal Housing Lender (which Lending Club is):\n",
    "* Race\n",
    "* Color\n",
    "* Religion\n",
    "* National origin\n",
    "* Sex\n",
    "* Handicap\n",
    "* Familial status\n",
    "\n",
    "Other variables research suggests is correlated to socioeconomic status and other important socio-political outcomes:\n",
    "* Education\n",
    "* Unemployment\n",
    "* Poverty\n",
    "* Income/wealth\n",
    "\n",
    "## What characteristics are available to us?\n",
    "\n",
    "Through LendingClub, these characteristics might be valuable to investigate at the individual-level: \n",
    "* Income\n",
    "* Loan description\n",
    "* Debt-to-income ratio\n",
    "* Number of mortgage accounts\n",
    "* Job description\n",
    "\n",
    "LendingClub provides the first three digits of each approved applicant's zip code. This allows us to get a sense of the demographics of an individual's area from Census data, which we re-aggregated at the three-digit zip level after it was provided to us at the five-digit zip level. Thus, we can examine these Census demographics to get at group-level fairness: \n",
    "* Race\n",
    "* Education\n",
    "* Family status\n",
    "* Gender x age\n",
    "* Unemployment rate\n",
    "* Workforce\n",
    "* Household income\n",
    "\n",
    "<hr>\n",
    "\n",
    "Moving forward, our best options for assessing discrimination are as follows:\n",
    "\n",
    "| Type | Features |\n",
    "| --- | --- |\n",
    "| Individual-level fairness | *Income* |\n",
    "| Group-level fairness | *Race, family status, education, unemployment* |\n",
    "\n"
   ]
  },
  {
   "cell_type": "markdown",
   "metadata": {},
   "source": [
    "Since more information is available at the group-level, we will focus more of our analysis of discrimination on race, family status, education, and unemployment. Specifically, we will examine \n",
    "1. whether Lending Club's process of approving loan applicants is correlated to zip code and, in turn, whether it is correlated to these four demographic characteristics of a zip code,\n",
    "2. whether our lending strategy that hinges around modeling probability of default to maximize return on investment is discriminatory,\n",
    "3. and whether \n",
    "\n",
    "\n",
    "\n",
    "\n",
    "\n",
    "- hint at terminology and methodologies we will use here; different parity types, LIME, QII, package Lipika found, calibration versus repairing "
   ]
  },
  {
   "cell_type": "code",
   "execution_count": 1,
   "metadata": {},
   "outputs": [],
   "source": [
    "import pandas as pd"
   ]
  },
  {
   "cell_type": "code",
   "execution_count": 2,
   "metadata": {},
   "outputs": [
    {
     "name": "stderr",
     "output_type": "stream",
     "text": [
      "/Users/anthonyrentsch/anaconda3/lib/python3.6/site-packages/IPython/core/interactiveshell.py:2785: DtypeWarning: Columns (19) have mixed types. Specify dtype option on import or set low_memory=False.\n",
      "  interactivity=interactivity, compiler=compiler, result=result)\n"
     ]
    }
   ],
   "source": [
    "dat = pd.read_csv('../data/2014_loan_data/LoanStats_2014_A.csv')"
   ]
  },
  {
   "cell_type": "code",
   "execution_count": 6,
   "metadata": {},
   "outputs": [
    {
     "data": {
      "text/plain": [
       "145"
      ]
     },
     "execution_count": 6,
     "metadata": {},
     "output_type": "execute_result"
    }
   ],
   "source": [
    "len(dat.columns)"
   ]
  },
  {
   "cell_type": "code",
   "execution_count": null,
   "metadata": {},
   "outputs": [],
   "source": []
  }
 ],
 "metadata": {
  "kernelspec": {
   "display_name": "Python 3",
   "language": "python",
   "name": "python3"
  },
  "language_info": {
   "codemirror_mode": {
    "name": "ipython",
    "version": 3
   },
   "file_extension": ".py",
   "mimetype": "text/x-python",
   "name": "python",
   "nbconvert_exporter": "python",
   "pygments_lexer": "ipython3",
   "version": "3.6.5"
  }
 },
 "nbformat": 4,
 "nbformat_minor": 2
}
