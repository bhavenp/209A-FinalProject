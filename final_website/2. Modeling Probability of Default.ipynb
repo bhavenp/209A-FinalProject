{
 "cells": [
  {
   "cell_type": "markdown",
   "metadata": {},
   "source": [
    "# 2. Modeling Probability of Default"
   ]
  },
  {
   "cell_type": "markdown",
   "metadata": {},
   "source": [
    "Modeling the probability that a loan defaults is critical to our investment strategy. After our exploration of 2013 and 2014 data, we select predictors that present promising separations between defaulted and repaid loans. We also make sure not to use any predictors capturing information that we would not have at the time of selecting which loans to invest in.\n",
    "\n",
    "---"
   ]
  },
  {
   "cell_type": "markdown",
   "metadata": {},
   "source": [
    "### Summary of variables"
   ]
  },
  {
   "cell_type": "markdown",
   "metadata": {},
   "source": [
    "**Response:**\n",
    "\n",
    "Newly defined variable, `paid`, which was a binary variable indicating whether a loan had any status other than 'Fully Paid'. \n",
    "\n",
    "**Predictors:**\n",
    "\n",
    "- `funded_amnt`: The total amount committed to that loan at that point in time.\n",
    "- `home_ownership` : The home ownership status provided by the borrower during registration or obtained from the credit report.    \n",
    "- `int_rate` : Interest Rate on the loan.\n",
    "- `purpose` : A category provided by the borrower for the loan request.\n",
    "- `annual_inc`: The self-reported annual income provided by the borrower during registration.\n",
    "- `verification_status`: Indicates if income was verified by LC, not verified, or if the income source was verified.\n",
    "- `dti`: Debt to income ratio - ratio calculated using the borrower's total monthly debt payments on the total debt obligations, excluding mortgage and the requested LC loan, divided by the borrower's self-reported monthly income.\n",
    "- `revol_util`:  Revolving utilization - ratio of total current balance to credit limit for all revolving accounts.\n",
    "- `grade`: Lending club assigned loan grade.\n",
    "- `term`: The number of payments on the loan. Values are in months and can be either 36 or 60.\n",
    "\n",
    "    *We use one hot encoding for the categorical variables (employment length, home ownership, verification status, grade and purpose).*    \n",
    "    *We normalize all columns with values that are not percentages (funded amount, annual income and debt-to-income ratio).*\n",
    "    \n",
    "    \n",
    "---"
   ]
  },
  {
   "cell_type": "markdown",
   "metadata": {
    "hide": true
   },
   "source": [
    "## HIDE"
   ]
  },
  {
   "cell_type": "code",
   "execution_count": 68,
   "metadata": {
    "hide": true
   },
   "outputs": [],
   "source": [
    "import pandas as pd\n",
    "import datetime\n",
    "from sklearn import preprocessing\n",
    "from imblearn.over_sampling import SMOTE\n"
   ]
  },
  {
   "cell_type": "code",
   "execution_count": 15,
   "metadata": {
    "hide": true
   },
   "outputs": [],
   "source": [
    "\n",
    "## read in csv files\n",
    "data_2013 = pd.read_csv(\"../data/2012_13_loan_data/LoanStats3b.csv\", low_memory = False, encoding='latin-1')\n",
    "\n",
    "data_a_2014 = pd.read_csv(\"../data/2014_loan_data/LoanStats_2014_A.csv\", low_memory = False);\n",
    "data_b_2014 = pd.read_csv(\"../data/2014_loan_data/LoanStats_2014_B.csv\", low_memory = False);\n",
    "data_c_2014 = pd.read_csv(\"../data/2014_loan_data/LoanStats_2014_C.csv\", low_memory = False);\n",
    "data_d_2014 = pd.read_csv(\"../data/2014_loan_data/LoanStats_2014_D.csv\", low_memory = False);\n",
    "\n",
    "data_a_2015 = pd.read_csv(\"../data/2015_loan_data/LoanStats_2015_A.csv\", low_memory = False);\n",
    "data_b_2015 = pd.read_csv(\"../data/2015_loan_data/LoanStats_2015_B.csv\", low_memory = False);\n",
    "data_c_2015 = pd.read_csv(\"../data/2015_loan_data/LoanStats_2015_C.csv\", low_memory = False);\n",
    "data_d_2015 = pd.read_csv(\"../data/2015_loan_data/LoanStats_2015_D.csv\", low_memory = False);\n",
    "data_e_2015 = pd.read_csv(\"../data/2015_loan_data/LoanStats_2015_E.csv\", low_memory = False);\n",
    "data_f_2015 = pd.read_csv(\"../data/2015_loan_data/LoanStats_2015_F.csv\", low_memory = False);\n",
    "data_g_2015 = pd.read_csv(\"../data/2015_loan_data/LoanStats_2015_G.csv\", low_memory = False);\n",
    "data_h_2015 = pd.read_csv(\"../data/2015_loan_data/LoanStats_2015_H.csv\", low_memory = False);\n",
    "\n",
    "\n",
    "## concatenate data into training and test sets\n",
    "data_train = pd.concat([data_a_2014, data_b_2014, data_c_2014, data_d_2014, data_2013], ignore_index=True)\n",
    "\n",
    "data_2015 = pd.concat([data_a_2015, data_b_2015, data_c_2015, data_d_2015, \n",
    "                       data_e_2015, data_f_2015, data_g_2015, data_h_2015], \n",
    "                       ignore_index=True)"
   ]
  },
  {
   "cell_type": "code",
   "execution_count": 27,
   "metadata": {
    "hide": true
   },
   "outputs": [],
   "source": [
    "data_train_ = data_train.copy()\n",
    "# create response var\n",
    "data_train_[\"paid\"] = 1\n",
    "data_train_.loc[data_train_.loan_status == 'Fully Paid', 'paid'] = 0\n",
    "\n",
    "### MAKE TABLE TO SHOW IMBALANCE OF CLASSES\n",
    "class_cts = data_train_.groupby(['paid']).agg({\n",
    "    'paid' : 'count'})\n",
    "class_cts['Percent'] = class_cts.paid/len(data_train)\n",
    "class_cts.index = ['repaid','defaulted']\n",
    "class_cts.columns = ['number of loans', 'percent of loans']\n",
    "\n",
    "### ADD IN SMOTE\n",
    "def split_data(df, cols):\n",
    "    x = df.drop(cols, axis = 1)\n",
    "    y = df.paid\n",
    "    return x, y\n",
    "cols_to_drop_training = []\n",
    "x_train_initial, y_train_initial = split_data(data_train_.loc[:, ['paid', 'funded_amnt']], cols_to_drop_training)\n",
    "sm = SMOTE(random_state=1, ratio = 1.0)\n",
    "x_train, y_train = sm.fit_sample(x_train_initial, y_train_initial)\n",
    "class_cts['SMOTE number of loans'] = [sum(y_train),len(y_train) - sum(y_train)]\n",
    "class_cts['SMOTE percent of loans'] = [sum(y_train)/len(y_train), 1-sum(y_train)/len(y_train)]"
   ]
  },
  {
   "cell_type": "markdown",
   "metadata": {},
   "source": [
    "### Handling Imbalanced Class\n",
    "\n",
    "The algorithms we select to predict future loans as defaulting or not defaulting have trouble learning to predict underrepresented classes. As seen in the table below, the defaulted class in the training data is under represented. \n",
    "\n",
    "To address this class imbalance problem, we use synthesis of new minority class instances ([SMOTE](https://jair.org/index.php/jair/article/view/10302/24590)). For each minority class, SMOTE calculates the k nearest neighbors. Depending on the amount of oversampling required, one or more of the k-nearest neighbors are selecte to create synthetic examples to augment the training dataset. We oversample the defaulted loan class to achieve a 50-50 split of classes using the `imbalanced-learn` library."
   ]
  },
  {
   "cell_type": "code",
   "execution_count": 91,
   "metadata": {
    "hide": true
   },
   "outputs": [
    {
     "data": {
      "text/html": [
       "<div>\n",
       "<style scoped>\n",
       "    .dataframe tbody tr th:only-of-type {\n",
       "        vertical-align: middle;\n",
       "    }\n",
       "\n",
       "    .dataframe tbody tr th {\n",
       "        vertical-align: top;\n",
       "    }\n",
       "\n",
       "    .dataframe thead th {\n",
       "        text-align: right;\n",
       "    }\n",
       "</style>\n",
       "<table border=\"1\" class=\"dataframe\">\n",
       "  <thead>\n",
       "    <tr style=\"text-align: right;\">\n",
       "      <th></th>\n",
       "      <th>number of loans</th>\n",
       "      <th>percent of loans</th>\n",
       "      <th>SMOTE number of loans</th>\n",
       "      <th>SMOTE\n",
       "number of loans</th>\n",
       "      <th>SMOTE\n",
       "percent of loans</th>\n",
       "    </tr>\n",
       "  </thead>\n",
       "  <tbody>\n",
       "    <tr>\n",
       "      <th>repaid</th>\n",
       "      <td>289177</td>\n",
       "      <td>0.78</td>\n",
       "      <td>289177</td>\n",
       "      <td>289177</td>\n",
       "      <td>0.5</td>\n",
       "    </tr>\n",
       "    <tr>\n",
       "      <th>defaulted</th>\n",
       "      <td>81266</td>\n",
       "      <td>0.22</td>\n",
       "      <td>289177</td>\n",
       "      <td>289177</td>\n",
       "      <td>0.5</td>\n",
       "    </tr>\n",
       "  </tbody>\n",
       "</table>\n",
       "</div>"
      ],
      "text/plain": [
       "           number of loans  percent of loans  SMOTE number of loans  \\\n",
       "repaid              289177              0.78                 289177   \n",
       "defaulted            81266              0.22                 289177   \n",
       "\n",
       "           SMOTE\\nnumber of loans  SMOTE\\npercent of loans  \n",
       "repaid                     289177                      0.5  \n",
       "defaulted                  289177                      0.5  "
      ]
     },
     "execution_count": 91,
     "metadata": {},
     "output_type": "execute_result"
    }
   ],
   "source": [
    "class_cts.round(2)"
   ]
  },
  {
   "cell_type": "markdown",
   "metadata": {},
   "source": [
    "### Summary of models"
   ]
  },
  {
   "cell_type": "markdown",
   "metadata": {},
   "source": [
    "We select a handful of methods for this classification problem to "
   ]
  },
  {
   "cell_type": "code",
   "execution_count": null,
   "metadata": {},
   "outputs": [],
   "source": [
    "\n",
    "    cols = ['funded_amnt', 'emp_length', 'home_ownership', 'int_rate', 'purpose', 'total_pymnt',\n",
    "        'annual_inc', 'verification_status', 'dti', 'loan_status', 'revol_util', 'grade', \n",
    "            'term', 'term_adj', 'zip_code', 'delinq_2yrs']\n",
    "    # Cols to one hot encode\n",
    "    cols_encode = ['emp_length', 'home_ownership', 'verification_status', 'grade', 'purpose']\n",
    "    # Cols to normalize\n",
    "    cols_normalize = ['funded_amnt', 'annual_inc', 'dti']\n",
    "    \n",
    "    cols_to_drop_training = ['loan_status', 'paid', 'amnt', 'total_pymnt', 'term_adj', 'zip_code']\n"
   ]
  }
 ],
 "metadata": {
  "celltoolbar": "Edit Metadata",
  "kernelspec": {
   "display_name": "Python 3",
   "language": "python",
   "name": "python3"
  },
  "language_info": {
   "codemirror_mode": {
    "name": "ipython",
    "version": 3
   },
   "file_extension": ".py",
   "mimetype": "text/x-python",
   "name": "python",
   "nbconvert_exporter": "python",
   "pygments_lexer": "ipython3",
   "version": "3.7.0"
  }
 },
 "nbformat": 4,
 "nbformat_minor": 2
}
