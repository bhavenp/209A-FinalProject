{
 "cells": [
  {
   "cell_type": "markdown",
   "metadata": {},
   "source": [
    "# 2. Modeling Probability of Default"
   ]
  },
  {
   "cell_type": "markdown",
   "metadata": {},
   "source": [
    "Modeling the probability that a loan defaults is critical to our investment strategy. After our exploration of 2013 and 2014 data, we select predictors that present promising separations between defaulted and repaid loans. We also make sure not to use any predictors capturing information that we would not have at the time of selecting which loans to invest in.\n",
    "\n",
    "---"
   ]
  },
  {
   "cell_type": "markdown",
   "metadata": {},
   "source": [
    "### Summary of variables"
   ]
  },
  {
   "cell_type": "markdown",
   "metadata": {},
   "source": [
    "**Response:**\n",
    "\n",
    "Newly defined variable, `paid`, which was a binary variable indicating whether a loan had any status other that 'paid' or 'Fully Paid'. \n",
    "\n",
    "**Predictors:**\n",
    "\n",
    "- `funded_amnt`: The total amount committed to that loan at that point in time.\n",
    "- `home_ownership` : The home ownership status provided by the borrower during registration or obtained from the credit report.    \n",
    "- `int_rate` : Interest Rate on the loan.\n",
    "- `purpose` : A category provided by the borrower for the loan request.\n",
    "- `annual_inc`: The self-reported annual income provided by the borrower during registration.\n",
    "- `verification_status`: Indicates if income was verified by LC, not verified, or if the income source was verified.\n",
    "- `dti`: Debt to income ratio - ratio calculated using the borrower's total monthly debt payments on the total debt obligations, excluding mortgage and the requested LC loan, divided by the borrower's self-reported monthly income.\n",
    "- `revol_util`:  Revolving utilization - ratio of total current balance to credit limit for all revolving accounts.\n",
    "- `grade`: Lending club assigned loan grade.\n",
    "- `term`: The number of payments on the loan. Values are in months and can be either 36 or 60.\n",
    "\n",
    "    *We use one hot encoding for the categorical variables (employment length, home ownership, verification status, grade and purpose).*    \n",
    "    *We normalize all columns with values that are not percentages (funded amount, annual income and debt-to-income ratio).*\n",
    "    \n",
    "    \n",
    "---"
   ]
  },
  {
   "cell_type": "markdown",
   "metadata": {},
   "source": [
    "## HIDE"
   ]
  },
  {
   "cell_type": "markdown",
   "metadata": {},
   "source": [
    "### Handling Imbalanced Class\n",
    "\n",
    "The algorithms we select to predict future loans as defaulting or not defaulting have trouble learning to predict underrepresented classes. \n",
    "\n",
    "Machine learning algorithms have trouble learning when one class dominates the other. For example, imagine writing an algorithm to classify iris flowers based on sepal length and width. Your classifier learns based on these data:\n",
    "\n",
    "\n",
    "\n",
    "There are 4 ways of addressing class imbalance problems like these:\n",
    "\n",
    "Synthesisis of new minority class instances\n",
    "Over-sampling of minority class\n",
    "Under-sampling of majority class\n",
    "tweak the cost function to make misclassification of minority instances more important than misclassification of majority instances\n",
    "This blog post is exclusively about the first solution: synthesis of new minority class instances via SMOTE, as implemented in the R library smotefamily.\n",
    "\n",
    "How does SMOTE resolve the class imbalance problem?\n",
    "SMOTE synthesises new minority instances between existing (real) minority instances. Imagine that SMOTE draws lines between existing minority instances like this.\n",
    "\n",
    "\n",
    "https://jair.org/index.php/jair/article/view/10302/24590"
   ]
  },
  {
   "cell_type": "markdown",
   "metadata": {},
   "source": [
    "### Summary of models"
   ]
  },
  {
   "cell_type": "markdown",
   "metadata": {},
   "source": [
    "We select a handful of methods for this classification problem to "
   ]
  },
  {
   "cell_type": "code",
   "execution_count": null,
   "metadata": {},
   "outputs": [],
   "source": [
    "\n",
    "    cols = ['funded_amnt', 'emp_length', 'home_ownership', 'int_rate', 'purpose', 'total_pymnt',\n",
    "        'annual_inc', 'verification_status', 'dti', 'loan_status', 'revol_util', 'grade', \n",
    "            'term', 'term_adj', 'zip_code', 'delinq_2yrs']\n",
    "    # Cols to one hot encode\n",
    "    cols_encode = ['emp_length', 'home_ownership', 'verification_status', 'grade', 'purpose']\n",
    "    # Cols to normalize\n",
    "    cols_normalize = ['funded_amnt', 'annual_inc', 'dti']\n",
    "    \n",
    "    cols_to_drop_training = ['loan_status', 'paid', 'amnt', 'total_pymnt', 'term_adj', 'zip_code']\n"
   ]
  }
 ],
 "metadata": {
  "kernelspec": {
   "display_name": "Python 3",
   "language": "python",
   "name": "python3"
  },
  "language_info": {
   "codemirror_mode": {
    "name": "ipython",
    "version": 3
   },
   "file_extension": ".py",
   "mimetype": "text/x-python",
   "name": "python",
   "nbconvert_exporter": "python",
   "pygments_lexer": "ipython3",
   "version": "3.7.0"
  }
 },
 "nbformat": 4,
 "nbformat_minor": 2
}
