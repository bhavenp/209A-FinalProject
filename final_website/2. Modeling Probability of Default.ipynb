{
 "cells": [
  {
   "cell_type": "markdown",
   "metadata": {},
   "source": [
    "# 2. Modeling Probability of Default"
   ]
  },
  {
   "cell_type": "markdown",
   "metadata": {},
   "source": [
    "    Modeling the probability that a loan defaults is critical to our investment strategy."
   ]
  },
  {
   "cell_type": "markdown",
   "metadata": {},
   "source": [
    "As shown in our careful exploration of 2013 and 2014 data, we selected the following predictors to model the probability of a loan defaulting.\n",
    "\n",
    "- `funded_amnt`: funded amount\n",
    "- `home_ownership` : home ownership\n",
    "- `int_rate` : interest rate\n",
    "- `purpose` : purpose of the loan\n",
    "- `annual_inc`\n",
    "- `verification_status`\n",
    "- `dti`\n",
    "- `revol_util`\n",
    "- `grade`\n",
    "- `term` \n",
    "\n",
    "Predicted variable:\n",
    "\n",
    "Whether a loan_status was paid or fully paif\n",
    "\n",
    "\n"
   ]
  },
  {
   "cell_type": "code",
   "execution_count": null,
   "metadata": {},
   "outputs": [],
   "source": [
    "\n",
    "    cols = ['funded_amnt', 'emp_length', 'home_ownership', 'int_rate', 'purpose', 'total_pymnt',\n",
    "        'annual_inc', 'verification_status', 'dti', 'loan_status', 'revol_util', 'grade', \n",
    "            'term', 'term_adj', 'zip_code', 'delinq_2yrs']\n",
    "    # Cols to one hot encode\n",
    "    cols_encode = ['emp_length', 'home_ownership', 'verification_status', 'grade', 'purpose']\n",
    "    # Cols to normalize\n",
    "    cols_normalize = ['funded_amnt', 'annual_inc', 'dti']\n",
    "    \n",
    "    cols_to_drop_training = ['loan_status', 'paid', 'amnt', 'total_pymnt', 'term_adj', 'zip_code']\n"
   ]
  }
 ],
 "metadata": {
  "kernelspec": {
   "display_name": "Python 3",
   "language": "python",
   "name": "python3"
  },
  "language_info": {
   "codemirror_mode": {
    "name": "ipython",
    "version": 3
   },
   "file_extension": ".py",
   "mimetype": "text/x-python",
   "name": "python",
   "nbconvert_exporter": "python",
   "pygments_lexer": "ipython3",
   "version": "3.7.0"
  }
 },
 "nbformat": 4,
 "nbformat_minor": 2
}
