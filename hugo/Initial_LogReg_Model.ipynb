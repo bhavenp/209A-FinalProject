{
 "cells": [
  {
   "cell_type": "code",
   "execution_count": 57,
   "metadata": {},
   "outputs": [],
   "source": [
    "import numpy as np\n",
    "import pandas as pd\n",
    "import matplotlib\n",
    "import matplotlib.pyplot as plt\n",
    "%matplotlib inline\n",
    "import seaborn as sns\n",
    "sns.set()\n",
    "\n",
    "from sklearn.linear_model import LogisticRegression\n",
    "from sklearn.linear_model import LogisticRegressionCV\n",
    "from sklearn.model_selection import train_test_split\n",
    "from sklearn.model_selection import cross_val_score\n",
    "from sklearn.metrics import accuracy_score\n",
    "from sklearn.discriminant_analysis import QuadraticDiscriminantAnalysis\n",
    "from sklearn.discriminant_analysis import LinearDiscriminantAnalysis\n",
    "from sklearn import preprocessing\n",
    "from sklearn.ensemble import RandomForestClassifier"
   ]
  },
  {
   "cell_type": "code",
   "execution_count": 2,
   "metadata": {},
   "outputs": [],
   "source": [
    "data = pd.read_csv(\"../data/2014_loan_data/LoanStats_2014_A.csv\", low_memory = False);"
   ]
  },
  {
   "cell_type": "code",
   "execution_count": 3,
   "metadata": {},
   "outputs": [],
   "source": [
    "columns_to_drop = ['id', 'member_id', 'emp_title']\n",
    "data = data.drop(columns_to_drop, axis = 1)"
   ]
  },
  {
   "cell_type": "code",
   "execution_count": 48,
   "metadata": {},
   "outputs": [],
   "source": [
    "def initial_model(df, columns, columns_to_encode, columns_to_normalize):\n",
    "    min_max_scaler = preprocessing.MinMaxScaler()\n",
    "    new_df = df.copy()\n",
    "    new_df = new_df[columns]\n",
    "    new_df = pd.get_dummies(new_df, dummy_na = True, columns = columns_to_encode)\n",
    "    new_df[columns_to_normalize] = min_max_scaler.fit_transform(new_df[columns_to_normalize])\n",
    "    return new_df"
   ]
  },
  {
   "cell_type": "code",
   "execution_count": 50,
   "metadata": {},
   "outputs": [
    {
     "name": "stderr",
     "output_type": "stream",
     "text": [
      "/Users/hugoramambason/anaconda3/lib/python3.6/site-packages/sklearn/preprocessing/data.py:323: DataConversionWarning: Data with input dtype int64, float64 were all converted to float64 by MinMaxScaler.\n",
      "  return self.partial_fit(X, y)\n"
     ]
    }
   ],
   "source": [
    "cols = ['funded_amnt', 'emp_length', 'home_ownership',\n",
    "        'annual_inc', 'verification_status', 'dti', 'loan_status', 'revol_util', 'grade']\n",
    "cols_encode = ['emp_length', 'home_ownership', 'verification_status', 'grade']\n",
    "cols_normalize = ['funded_amnt', 'annual_inc', 'dti']\n",
    "\n",
    "new_df = initial_model(data, cols, cols_encode, cols_normalize)"
   ]
  },
  {
   "cell_type": "code",
   "execution_count": 24,
   "metadata": {},
   "outputs": [],
   "source": [
    "def format_revol(val):\n",
    "    percent = val[:-1]\n",
    "    return float(percent)/100\n",
    "\n",
    "new_df['revol_util'] = new_df['revol_util'].map(format_revol, na_action='ignore')"
   ]
  },
  {
   "cell_type": "code",
   "execution_count": 25,
   "metadata": {},
   "outputs": [],
   "source": [
    "new_df[new_df['revol_util'].isnull()] = np.mean(new_df['revol_util'])"
   ]
  },
  {
   "cell_type": "code",
   "execution_count": 26,
   "metadata": {},
   "outputs": [],
   "source": [
    "new_df = new_df[new_df.loan_status != 'Current'];"
   ]
  },
  {
   "cell_type": "code",
   "execution_count": 27,
   "metadata": {},
   "outputs": [
    {
     "data": {
      "text/plain": [
       "loan_status\n",
       "0.5549454866843405       31\n",
       "Charged Off           10303\n",
       "Default                  11\n",
       "Fully Paid            43787\n",
       "In Grace Period          96\n",
       "Late (16-30 days)        49\n",
       "Late (31-120 days)      177\n",
       "dtype: int64"
      ]
     },
     "execution_count": 27,
     "metadata": {},
     "output_type": "execute_result"
    }
   ],
   "source": [
    "new_df.groupby('loan_status').size()"
   ]
  },
  {
   "cell_type": "code",
   "execution_count": 28,
   "metadata": {},
   "outputs": [
    {
     "data": {
      "text/html": [
       "<div>\n",
       "<style scoped>\n",
       "    .dataframe tbody tr th:only-of-type {\n",
       "        vertical-align: middle;\n",
       "    }\n",
       "\n",
       "    .dataframe tbody tr th {\n",
       "        vertical-align: top;\n",
       "    }\n",
       "\n",
       "    .dataframe thead th {\n",
       "        text-align: right;\n",
       "    }\n",
       "</style>\n",
       "<table border=\"1\" class=\"dataframe\">\n",
       "  <thead>\n",
       "    <tr style=\"text-align: right;\">\n",
       "      <th></th>\n",
       "      <th>funded_amnt</th>\n",
       "      <th>annual_inc</th>\n",
       "      <th>dti</th>\n",
       "      <th>loan_status</th>\n",
       "      <th>revol_util</th>\n",
       "      <th>emp_length_1 year</th>\n",
       "      <th>emp_length_10+ years</th>\n",
       "      <th>emp_length_2 years</th>\n",
       "      <th>emp_length_3 years</th>\n",
       "      <th>emp_length_4 years</th>\n",
       "      <th>...</th>\n",
       "      <th>verification_status_nan</th>\n",
       "      <th>grade_A</th>\n",
       "      <th>grade_B</th>\n",
       "      <th>grade_C</th>\n",
       "      <th>grade_D</th>\n",
       "      <th>grade_E</th>\n",
       "      <th>grade_F</th>\n",
       "      <th>grade_G</th>\n",
       "      <th>grade_nan</th>\n",
       "      <th>paid</th>\n",
       "    </tr>\n",
       "  </thead>\n",
       "  <tbody>\n",
       "    <tr>\n",
       "      <th>0</th>\n",
       "      <td>0.276471</td>\n",
       "      <td>0.027749</td>\n",
       "      <td>0.373093</td>\n",
       "      <td>Charged Off</td>\n",
       "      <td>0.316</td>\n",
       "      <td>0.0</td>\n",
       "      <td>0.0</td>\n",
       "      <td>0.0</td>\n",
       "      <td>0.0</td>\n",
       "      <td>0.0</td>\n",
       "      <td>...</td>\n",
       "      <td>0.0</td>\n",
       "      <td>1.0</td>\n",
       "      <td>0.0</td>\n",
       "      <td>0.0</td>\n",
       "      <td>0.0</td>\n",
       "      <td>0.0</td>\n",
       "      <td>0.0</td>\n",
       "      <td>0.0</td>\n",
       "      <td>0.0</td>\n",
       "      <td>1</td>\n",
       "    </tr>\n",
       "    <tr>\n",
       "      <th>1</th>\n",
       "      <td>0.411765</td>\n",
       "      <td>0.038027</td>\n",
       "      <td>0.300825</td>\n",
       "      <td>Fully Paid</td>\n",
       "      <td>0.290</td>\n",
       "      <td>0.0</td>\n",
       "      <td>1.0</td>\n",
       "      <td>0.0</td>\n",
       "      <td>0.0</td>\n",
       "      <td>0.0</td>\n",
       "      <td>...</td>\n",
       "      <td>0.0</td>\n",
       "      <td>0.0</td>\n",
       "      <td>0.0</td>\n",
       "      <td>1.0</td>\n",
       "      <td>0.0</td>\n",
       "      <td>0.0</td>\n",
       "      <td>0.0</td>\n",
       "      <td>0.0</td>\n",
       "      <td>0.0</td>\n",
       "      <td>0</td>\n",
       "    </tr>\n",
       "    <tr>\n",
       "      <th>3</th>\n",
       "      <td>0.195588</td>\n",
       "      <td>0.023638</td>\n",
       "      <td>0.870468</td>\n",
       "      <td>Charged Off</td>\n",
       "      <td>0.919</td>\n",
       "      <td>0.0</td>\n",
       "      <td>0.0</td>\n",
       "      <td>0.0</td>\n",
       "      <td>0.0</td>\n",
       "      <td>0.0</td>\n",
       "      <td>...</td>\n",
       "      <td>0.0</td>\n",
       "      <td>0.0</td>\n",
       "      <td>0.0</td>\n",
       "      <td>1.0</td>\n",
       "      <td>0.0</td>\n",
       "      <td>0.0</td>\n",
       "      <td>0.0</td>\n",
       "      <td>0.0</td>\n",
       "      <td>0.0</td>\n",
       "      <td>1</td>\n",
       "    </tr>\n",
       "    <tr>\n",
       "      <th>4</th>\n",
       "      <td>0.252941</td>\n",
       "      <td>0.033402</td>\n",
       "      <td>0.645411</td>\n",
       "      <td>Fully Paid</td>\n",
       "      <td>0.594</td>\n",
       "      <td>0.0</td>\n",
       "      <td>1.0</td>\n",
       "      <td>0.0</td>\n",
       "      <td>0.0</td>\n",
       "      <td>0.0</td>\n",
       "      <td>...</td>\n",
       "      <td>0.0</td>\n",
       "      <td>0.0</td>\n",
       "      <td>0.0</td>\n",
       "      <td>1.0</td>\n",
       "      <td>0.0</td>\n",
       "      <td>0.0</td>\n",
       "      <td>0.0</td>\n",
       "      <td>0.0</td>\n",
       "      <td>0.0</td>\n",
       "      <td>0</td>\n",
       "    </tr>\n",
       "    <tr>\n",
       "      <th>5</th>\n",
       "      <td>0.600735</td>\n",
       "      <td>0.030730</td>\n",
       "      <td>0.462366</td>\n",
       "      <td>Fully Paid</td>\n",
       "      <td>0.762</td>\n",
       "      <td>0.0</td>\n",
       "      <td>0.0</td>\n",
       "      <td>0.0</td>\n",
       "      <td>0.0</td>\n",
       "      <td>0.0</td>\n",
       "      <td>...</td>\n",
       "      <td>0.0</td>\n",
       "      <td>0.0</td>\n",
       "      <td>0.0</td>\n",
       "      <td>0.0</td>\n",
       "      <td>1.0</td>\n",
       "      <td>0.0</td>\n",
       "      <td>0.0</td>\n",
       "      <td>0.0</td>\n",
       "      <td>0.0</td>\n",
       "      <td>0</td>\n",
       "    </tr>\n",
       "  </tbody>\n",
       "</table>\n",
       "<p>5 rows × 34 columns</p>\n",
       "</div>"
      ],
      "text/plain": [
       "   funded_amnt  annual_inc       dti  loan_status  revol_util  \\\n",
       "0     0.276471    0.027749  0.373093  Charged Off       0.316   \n",
       "1     0.411765    0.038027  0.300825   Fully Paid       0.290   \n",
       "3     0.195588    0.023638  0.870468  Charged Off       0.919   \n",
       "4     0.252941    0.033402  0.645411   Fully Paid       0.594   \n",
       "5     0.600735    0.030730  0.462366   Fully Paid       0.762   \n",
       "\n",
       "   emp_length_1 year  emp_length_10+ years  emp_length_2 years  \\\n",
       "0                0.0                   0.0                 0.0   \n",
       "1                0.0                   1.0                 0.0   \n",
       "3                0.0                   0.0                 0.0   \n",
       "4                0.0                   1.0                 0.0   \n",
       "5                0.0                   0.0                 0.0   \n",
       "\n",
       "   emp_length_3 years  emp_length_4 years  ...   verification_status_nan  \\\n",
       "0                 0.0                 0.0  ...                       0.0   \n",
       "1                 0.0                 0.0  ...                       0.0   \n",
       "3                 0.0                 0.0  ...                       0.0   \n",
       "4                 0.0                 0.0  ...                       0.0   \n",
       "5                 0.0                 0.0  ...                       0.0   \n",
       "\n",
       "   grade_A  grade_B  grade_C  grade_D  grade_E  grade_F  grade_G  grade_nan  \\\n",
       "0      1.0      0.0      0.0      0.0      0.0      0.0      0.0        0.0   \n",
       "1      0.0      0.0      1.0      0.0      0.0      0.0      0.0        0.0   \n",
       "3      0.0      0.0      1.0      0.0      0.0      0.0      0.0        0.0   \n",
       "4      0.0      0.0      1.0      0.0      0.0      0.0      0.0        0.0   \n",
       "5      0.0      0.0      0.0      1.0      0.0      0.0      0.0        0.0   \n",
       "\n",
       "   paid  \n",
       "0     1  \n",
       "1     0  \n",
       "3     1  \n",
       "4     0  \n",
       "5     0  \n",
       "\n",
       "[5 rows x 34 columns]"
      ]
     },
     "metadata": {},
     "output_type": "display_data"
    }
   ],
   "source": [
    "new_df['paid'] = 1;\n",
    "new_df.loc[new_df.loan_status == 'Fully Paid', 'paid'] = 0;\n",
    "display(new_df.head())"
   ]
  },
  {
   "cell_type": "code",
   "execution_count": 29,
   "metadata": {},
   "outputs": [],
   "source": [
    "data_train, data_test = train_test_split(new_df, test_size=.5, stratify=new_df.paid, random_state=99);"
   ]
  },
  {
   "cell_type": "code",
   "execution_count": 30,
   "metadata": {},
   "outputs": [],
   "source": [
    "def split_data(df, cols):\n",
    "    x = df.drop(cols, axis = 1)\n",
    "    y = df.paid\n",
    "    return x, y"
   ]
  },
  {
   "cell_type": "code",
   "execution_count": 31,
   "metadata": {},
   "outputs": [],
   "source": [
    "cols_to_drop_training = ['loan_status', 'paid']\n",
    "x_train, y_train = split_data(data_train, cols_to_drop_training)\n",
    "x_test, y_test = split_data(data_test, cols_to_drop_training)"
   ]
  },
  {
   "cell_type": "code",
   "execution_count": 32,
   "metadata": {},
   "outputs": [],
   "source": [
    "model = LogisticRegressionCV(cv = 5, multi_class='ovr', penalty = 'l2')\n",
    "model.fit(x_train, y_train);"
   ]
  },
  {
   "cell_type": "code",
   "execution_count": 33,
   "metadata": {},
   "outputs": [
    {
     "data": {
      "text/plain": [
       "0.8062584934072795"
      ]
     },
     "execution_count": 33,
     "metadata": {},
     "output_type": "execute_result"
    }
   ],
   "source": [
    "model.score(x_train, y_train)"
   ]
  },
  {
   "cell_type": "code",
   "execution_count": 34,
   "metadata": {},
   "outputs": [
    {
     "data": {
      "text/plain": [
       "0.806809417122709"
      ]
     },
     "execution_count": 34,
     "metadata": {},
     "output_type": "execute_result"
    }
   ],
   "source": [
    "model.score(x_test, y_test)"
   ]
  },
  {
   "cell_type": "code",
   "execution_count": 35,
   "metadata": {},
   "outputs": [],
   "source": [
    "predictions = x_train.copy()\n",
    "predictions['pred'] = model.predict(x_train)\n",
    "predictions['proba'] = model.predict_proba(x_train)[:, 1]\n",
    "predictions['true_val'] = y_train"
   ]
  },
  {
   "cell_type": "code",
   "execution_count": 36,
   "metadata": {},
   "outputs": [
    {
     "data": {
      "text/html": [
       "<div>\n",
       "<style scoped>\n",
       "    .dataframe tbody tr th:only-of-type {\n",
       "        vertical-align: middle;\n",
       "    }\n",
       "\n",
       "    .dataframe tbody tr th {\n",
       "        vertical-align: top;\n",
       "    }\n",
       "\n",
       "    .dataframe thead th {\n",
       "        text-align: right;\n",
       "    }\n",
       "</style>\n",
       "<table border=\"1\" class=\"dataframe\">\n",
       "  <thead>\n",
       "    <tr style=\"text-align: right;\">\n",
       "      <th></th>\n",
       "      <th>funded_amnt</th>\n",
       "      <th>annual_inc</th>\n",
       "      <th>dti</th>\n",
       "      <th>revol_util</th>\n",
       "      <th>emp_length_1 year</th>\n",
       "      <th>emp_length_10+ years</th>\n",
       "      <th>emp_length_2 years</th>\n",
       "      <th>emp_length_3 years</th>\n",
       "      <th>emp_length_4 years</th>\n",
       "      <th>emp_length_5 years</th>\n",
       "      <th>...</th>\n",
       "      <th>grade_B</th>\n",
       "      <th>grade_C</th>\n",
       "      <th>grade_D</th>\n",
       "      <th>grade_E</th>\n",
       "      <th>grade_F</th>\n",
       "      <th>grade_G</th>\n",
       "      <th>grade_nan</th>\n",
       "      <th>pred</th>\n",
       "      <th>proba</th>\n",
       "      <th>true_val</th>\n",
       "    </tr>\n",
       "  </thead>\n",
       "  <tbody>\n",
       "    <tr>\n",
       "      <th>6459</th>\n",
       "      <td>0.500000</td>\n",
       "      <td>0.037127</td>\n",
       "      <td>0.445861</td>\n",
       "      <td>0.452</td>\n",
       "      <td>0.0</td>\n",
       "      <td>0.0</td>\n",
       "      <td>0.0</td>\n",
       "      <td>0.0</td>\n",
       "      <td>0.0</td>\n",
       "      <td>0.0</td>\n",
       "      <td>...</td>\n",
       "      <td>1.0</td>\n",
       "      <td>0.0</td>\n",
       "      <td>0.0</td>\n",
       "      <td>0.0</td>\n",
       "      <td>0.0</td>\n",
       "      <td>0.0</td>\n",
       "      <td>0.0</td>\n",
       "      <td>0</td>\n",
       "      <td>0.151901</td>\n",
       "      <td>0</td>\n",
       "    </tr>\n",
       "    <tr>\n",
       "      <th>44648</th>\n",
       "      <td>0.752941</td>\n",
       "      <td>0.035971</td>\n",
       "      <td>0.354839</td>\n",
       "      <td>0.427</td>\n",
       "      <td>0.0</td>\n",
       "      <td>1.0</td>\n",
       "      <td>0.0</td>\n",
       "      <td>0.0</td>\n",
       "      <td>0.0</td>\n",
       "      <td>0.0</td>\n",
       "      <td>...</td>\n",
       "      <td>1.0</td>\n",
       "      <td>0.0</td>\n",
       "      <td>0.0</td>\n",
       "      <td>0.0</td>\n",
       "      <td>0.0</td>\n",
       "      <td>0.0</td>\n",
       "      <td>0.0</td>\n",
       "      <td>0</td>\n",
       "      <td>0.135841</td>\n",
       "      <td>1</td>\n",
       "    </tr>\n",
       "    <tr>\n",
       "      <th>21632</th>\n",
       "      <td>0.088235</td>\n",
       "      <td>0.006148</td>\n",
       "      <td>0.396599</td>\n",
       "      <td>0.558</td>\n",
       "      <td>0.0</td>\n",
       "      <td>0.0</td>\n",
       "      <td>0.0</td>\n",
       "      <td>0.0</td>\n",
       "      <td>0.0</td>\n",
       "      <td>0.0</td>\n",
       "      <td>...</td>\n",
       "      <td>0.0</td>\n",
       "      <td>0.0</td>\n",
       "      <td>1.0</td>\n",
       "      <td>0.0</td>\n",
       "      <td>0.0</td>\n",
       "      <td>0.0</td>\n",
       "      <td>0.0</td>\n",
       "      <td>0</td>\n",
       "      <td>0.248726</td>\n",
       "      <td>0</td>\n",
       "    </tr>\n",
       "    <tr>\n",
       "      <th>48888</th>\n",
       "      <td>0.058824</td>\n",
       "      <td>0.016444</td>\n",
       "      <td>0.520130</td>\n",
       "      <td>0.249</td>\n",
       "      <td>0.0</td>\n",
       "      <td>0.0</td>\n",
       "      <td>0.0</td>\n",
       "      <td>0.0</td>\n",
       "      <td>0.0</td>\n",
       "      <td>0.0</td>\n",
       "      <td>...</td>\n",
       "      <td>0.0</td>\n",
       "      <td>0.0</td>\n",
       "      <td>1.0</td>\n",
       "      <td>0.0</td>\n",
       "      <td>0.0</td>\n",
       "      <td>0.0</td>\n",
       "      <td>0.0</td>\n",
       "      <td>0</td>\n",
       "      <td>0.333095</td>\n",
       "      <td>0</td>\n",
       "    </tr>\n",
       "    <tr>\n",
       "      <th>16510</th>\n",
       "      <td>0.680147</td>\n",
       "      <td>0.024920</td>\n",
       "      <td>0.515129</td>\n",
       "      <td>0.733</td>\n",
       "      <td>0.0</td>\n",
       "      <td>0.0</td>\n",
       "      <td>0.0</td>\n",
       "      <td>0.0</td>\n",
       "      <td>0.0</td>\n",
       "      <td>0.0</td>\n",
       "      <td>...</td>\n",
       "      <td>0.0</td>\n",
       "      <td>1.0</td>\n",
       "      <td>0.0</td>\n",
       "      <td>0.0</td>\n",
       "      <td>0.0</td>\n",
       "      <td>0.0</td>\n",
       "      <td>0.0</td>\n",
       "      <td>0</td>\n",
       "      <td>0.259245</td>\n",
       "      <td>0</td>\n",
       "    </tr>\n",
       "  </tbody>\n",
       "</table>\n",
       "<p>5 rows × 35 columns</p>\n",
       "</div>"
      ],
      "text/plain": [
       "       funded_amnt  annual_inc       dti  revol_util  emp_length_1 year  \\\n",
       "6459      0.500000    0.037127  0.445861       0.452                0.0   \n",
       "44648     0.752941    0.035971  0.354839       0.427                0.0   \n",
       "21632     0.088235    0.006148  0.396599       0.558                0.0   \n",
       "48888     0.058824    0.016444  0.520130       0.249                0.0   \n",
       "16510     0.680147    0.024920  0.515129       0.733                0.0   \n",
       "\n",
       "       emp_length_10+ years  emp_length_2 years  emp_length_3 years  \\\n",
       "6459                    0.0                 0.0                 0.0   \n",
       "44648                   1.0                 0.0                 0.0   \n",
       "21632                   0.0                 0.0                 0.0   \n",
       "48888                   0.0                 0.0                 0.0   \n",
       "16510                   0.0                 0.0                 0.0   \n",
       "\n",
       "       emp_length_4 years  emp_length_5 years    ...     grade_B  grade_C  \\\n",
       "6459                  0.0                 0.0    ...         1.0      0.0   \n",
       "44648                 0.0                 0.0    ...         1.0      0.0   \n",
       "21632                 0.0                 0.0    ...         0.0      0.0   \n",
       "48888                 0.0                 0.0    ...         0.0      0.0   \n",
       "16510                 0.0                 0.0    ...         0.0      1.0   \n",
       "\n",
       "       grade_D  grade_E  grade_F  grade_G  grade_nan  pred     proba  true_val  \n",
       "6459       0.0      0.0      0.0      0.0        0.0     0  0.151901         0  \n",
       "44648      0.0      0.0      0.0      0.0        0.0     0  0.135841         1  \n",
       "21632      1.0      0.0      0.0      0.0        0.0     0  0.248726         0  \n",
       "48888      1.0      0.0      0.0      0.0        0.0     0  0.333095         0  \n",
       "16510      0.0      0.0      0.0      0.0        0.0     0  0.259245         0  \n",
       "\n",
       "[5 rows x 35 columns]"
      ]
     },
     "execution_count": 36,
     "metadata": {},
     "output_type": "execute_result"
    }
   ],
   "source": [
    "predictions.head()"
   ]
  },
  {
   "cell_type": "code",
   "execution_count": 37,
   "metadata": {},
   "outputs": [
    {
     "data": {
      "text/html": [
       "<div>\n",
       "<style scoped>\n",
       "    .dataframe tbody tr th:only-of-type {\n",
       "        vertical-align: middle;\n",
       "    }\n",
       "\n",
       "    .dataframe tbody tr th {\n",
       "        vertical-align: top;\n",
       "    }\n",
       "\n",
       "    .dataframe thead th {\n",
       "        text-align: right;\n",
       "    }\n",
       "</style>\n",
       "<table border=\"1\" class=\"dataframe\">\n",
       "  <thead>\n",
       "    <tr style=\"text-align: right;\">\n",
       "      <th></th>\n",
       "      <th>funded_amnt</th>\n",
       "      <th>annual_inc</th>\n",
       "      <th>dti</th>\n",
       "      <th>revol_util</th>\n",
       "      <th>emp_length_1 year</th>\n",
       "      <th>emp_length_10+ years</th>\n",
       "      <th>emp_length_2 years</th>\n",
       "      <th>emp_length_3 years</th>\n",
       "      <th>emp_length_4 years</th>\n",
       "      <th>emp_length_5 years</th>\n",
       "      <th>...</th>\n",
       "      <th>grade_C</th>\n",
       "      <th>grade_D</th>\n",
       "      <th>grade_E</th>\n",
       "      <th>grade_F</th>\n",
       "      <th>grade_G</th>\n",
       "      <th>grade_nan</th>\n",
       "      <th>pred</th>\n",
       "      <th>proba</th>\n",
       "      <th>true_val</th>\n",
       "      <th>class</th>\n",
       "    </tr>\n",
       "  </thead>\n",
       "  <tbody>\n",
       "    <tr>\n",
       "      <th>6459</th>\n",
       "      <td>0.500000</td>\n",
       "      <td>0.037127</td>\n",
       "      <td>0.445861</td>\n",
       "      <td>0.452</td>\n",
       "      <td>0.0</td>\n",
       "      <td>0.0</td>\n",
       "      <td>0.0</td>\n",
       "      <td>0.0</td>\n",
       "      <td>0.0</td>\n",
       "      <td>0.0</td>\n",
       "      <td>...</td>\n",
       "      <td>0.0</td>\n",
       "      <td>0.0</td>\n",
       "      <td>0.0</td>\n",
       "      <td>0.0</td>\n",
       "      <td>0.0</td>\n",
       "      <td>0.0</td>\n",
       "      <td>0</td>\n",
       "      <td>0.151901</td>\n",
       "      <td>0</td>\n",
       "      <td>0</td>\n",
       "    </tr>\n",
       "    <tr>\n",
       "      <th>44648</th>\n",
       "      <td>0.752941</td>\n",
       "      <td>0.035971</td>\n",
       "      <td>0.354839</td>\n",
       "      <td>0.427</td>\n",
       "      <td>0.0</td>\n",
       "      <td>1.0</td>\n",
       "      <td>0.0</td>\n",
       "      <td>0.0</td>\n",
       "      <td>0.0</td>\n",
       "      <td>0.0</td>\n",
       "      <td>...</td>\n",
       "      <td>0.0</td>\n",
       "      <td>0.0</td>\n",
       "      <td>0.0</td>\n",
       "      <td>0.0</td>\n",
       "      <td>0.0</td>\n",
       "      <td>0.0</td>\n",
       "      <td>0</td>\n",
       "      <td>0.135841</td>\n",
       "      <td>1</td>\n",
       "      <td>0</td>\n",
       "    </tr>\n",
       "    <tr>\n",
       "      <th>21632</th>\n",
       "      <td>0.088235</td>\n",
       "      <td>0.006148</td>\n",
       "      <td>0.396599</td>\n",
       "      <td>0.558</td>\n",
       "      <td>0.0</td>\n",
       "      <td>0.0</td>\n",
       "      <td>0.0</td>\n",
       "      <td>0.0</td>\n",
       "      <td>0.0</td>\n",
       "      <td>0.0</td>\n",
       "      <td>...</td>\n",
       "      <td>0.0</td>\n",
       "      <td>1.0</td>\n",
       "      <td>0.0</td>\n",
       "      <td>0.0</td>\n",
       "      <td>0.0</td>\n",
       "      <td>0.0</td>\n",
       "      <td>0</td>\n",
       "      <td>0.248726</td>\n",
       "      <td>0</td>\n",
       "      <td>0</td>\n",
       "    </tr>\n",
       "    <tr>\n",
       "      <th>48888</th>\n",
       "      <td>0.058824</td>\n",
       "      <td>0.016444</td>\n",
       "      <td>0.520130</td>\n",
       "      <td>0.249</td>\n",
       "      <td>0.0</td>\n",
       "      <td>0.0</td>\n",
       "      <td>0.0</td>\n",
       "      <td>0.0</td>\n",
       "      <td>0.0</td>\n",
       "      <td>0.0</td>\n",
       "      <td>...</td>\n",
       "      <td>0.0</td>\n",
       "      <td>1.0</td>\n",
       "      <td>0.0</td>\n",
       "      <td>0.0</td>\n",
       "      <td>0.0</td>\n",
       "      <td>0.0</td>\n",
       "      <td>0</td>\n",
       "      <td>0.333095</td>\n",
       "      <td>0</td>\n",
       "      <td>0</td>\n",
       "    </tr>\n",
       "    <tr>\n",
       "      <th>16510</th>\n",
       "      <td>0.680147</td>\n",
       "      <td>0.024920</td>\n",
       "      <td>0.515129</td>\n",
       "      <td>0.733</td>\n",
       "      <td>0.0</td>\n",
       "      <td>0.0</td>\n",
       "      <td>0.0</td>\n",
       "      <td>0.0</td>\n",
       "      <td>0.0</td>\n",
       "      <td>0.0</td>\n",
       "      <td>...</td>\n",
       "      <td>1.0</td>\n",
       "      <td>0.0</td>\n",
       "      <td>0.0</td>\n",
       "      <td>0.0</td>\n",
       "      <td>0.0</td>\n",
       "      <td>0.0</td>\n",
       "      <td>0</td>\n",
       "      <td>0.259245</td>\n",
       "      <td>0</td>\n",
       "      <td>0</td>\n",
       "    </tr>\n",
       "  </tbody>\n",
       "</table>\n",
       "<p>5 rows × 36 columns</p>\n",
       "</div>"
      ],
      "text/plain": [
       "       funded_amnt  annual_inc       dti  revol_util  emp_length_1 year  \\\n",
       "6459      0.500000    0.037127  0.445861       0.452                0.0   \n",
       "44648     0.752941    0.035971  0.354839       0.427                0.0   \n",
       "21632     0.088235    0.006148  0.396599       0.558                0.0   \n",
       "48888     0.058824    0.016444  0.520130       0.249                0.0   \n",
       "16510     0.680147    0.024920  0.515129       0.733                0.0   \n",
       "\n",
       "       emp_length_10+ years  emp_length_2 years  emp_length_3 years  \\\n",
       "6459                    0.0                 0.0                 0.0   \n",
       "44648                   1.0                 0.0                 0.0   \n",
       "21632                   0.0                 0.0                 0.0   \n",
       "48888                   0.0                 0.0                 0.0   \n",
       "16510                   0.0                 0.0                 0.0   \n",
       "\n",
       "       emp_length_4 years  emp_length_5 years  ...    grade_C  grade_D  \\\n",
       "6459                  0.0                 0.0  ...        0.0      0.0   \n",
       "44648                 0.0                 0.0  ...        0.0      0.0   \n",
       "21632                 0.0                 0.0  ...        0.0      1.0   \n",
       "48888                 0.0                 0.0  ...        0.0      1.0   \n",
       "16510                 0.0                 0.0  ...        1.0      0.0   \n",
       "\n",
       "       grade_E  grade_F  grade_G  grade_nan  pred     proba  true_val  class  \n",
       "6459       0.0      0.0      0.0        0.0     0  0.151901         0      0  \n",
       "44648      0.0      0.0      0.0        0.0     0  0.135841         1      0  \n",
       "21632      0.0      0.0      0.0        0.0     0  0.248726         0      0  \n",
       "48888      0.0      0.0      0.0        0.0     0  0.333095         0      0  \n",
       "16510      0.0      0.0      0.0        0.0     0  0.259245         0      0  \n",
       "\n",
       "[5 rows x 36 columns]"
      ]
     },
     "metadata": {},
     "output_type": "display_data"
    }
   ],
   "source": [
    "predictions['class'] = 0;\n",
    "predictions.loc[predictions.proba > 0.39, 'class'] = 1;\n",
    "display(predictions.head())"
   ]
  },
  {
   "cell_type": "code",
   "execution_count": 38,
   "metadata": {},
   "outputs": [
    {
     "data": {
      "text/plain": [
       "0.798545561391266"
      ]
     },
     "execution_count": 38,
     "metadata": {},
     "output_type": "execute_result"
    }
   ],
   "source": [
    "accuracy_score(y_train, predictions['class'])"
   ]
  },
  {
   "cell_type": "code",
   "execution_count": 39,
   "metadata": {
    "scrolled": false
   },
   "outputs": [
    {
     "data": {
      "image/png": "[encoded data removed]",
      "text/plain": [
       "<Figure size 1080x432 with 1 Axes>"
      ]
     },
     "metadata": {},
     "output_type": "display_data"
    }
   ],
   "source": [
    "fig = plt.figure(figsize=(15,6));\n",
    "ax = plt.subplot(1,1,1);\n",
    "\n",
    "\n",
    "\n",
    "ax.hist(predictions.loc[predictions.true_val == 0,'proba'], density = True, bins = 40, label='Paid Off', alpha=0.6);\n",
    "ax.hist(predictions.loc[predictions.true_val == 1,'proba'], density = True, bins = 40, label='Defaulted', alpha=0.5);\n",
    "ax.set_title('Probability of Default for Defaulted & Non-Defaulted Customers with LogReg')\n",
    "ax.legend(loc='best')\n",
    "\n",
    "plt.show()"
   ]
  },
  {
   "cell_type": "code",
   "execution_count": 40,
   "metadata": {},
   "outputs": [
    {
     "name": "stderr",
     "output_type": "stream",
     "text": [
      "/Users/hugoramambason/anaconda3/lib/python3.6/site-packages/sklearn/discriminant_analysis.py:388: UserWarning: Variables are collinear.\n",
      "  warnings.warn(\"Variables are collinear.\")\n"
     ]
    },
    {
     "data": {
      "text/plain": [
       "LinearDiscriminantAnalysis(n_components=None, priors=None, shrinkage=None,\n",
       "              solver='svd', store_covariance=False, tol=0.0001)"
      ]
     },
     "execution_count": 40,
     "metadata": {},
     "output_type": "execute_result"
    }
   ],
   "source": [
    "lda = LinearDiscriminantAnalysis()\n",
    "lda.fit(x_train, y_train)"
   ]
  },
  {
   "cell_type": "code",
   "execution_count": 41,
   "metadata": {},
   "outputs": [
    {
     "data": {
      "text/plain": [
       "array([[0.86516607, 0.13483393],\n",
       "       [0.87956393, 0.12043607],\n",
       "       [0.7490424 , 0.2509576 ],\n",
       "       ...,\n",
       "       [0.36975857, 0.63024143],\n",
       "       [0.93465802, 0.06534198],\n",
       "       [0.9007097 , 0.0992903 ]])"
      ]
     },
     "execution_count": 41,
     "metadata": {},
     "output_type": "execute_result"
    }
   ],
   "source": [
    "lda.predict_proba(x_train)"
   ]
  },
  {
   "cell_type": "code",
   "execution_count": 42,
   "metadata": {},
   "outputs": [],
   "source": [
    "predictions_lda = x_train.copy()\n",
    "predictions_lda['pred'] = lda.predict(x_train)\n",
    "predictions_lda['proba'] = lda.predict_proba(x_train)[:, 1]\n",
    "predictions_lda['true_val'] = y_train"
   ]
  },
  {
   "cell_type": "code",
   "execution_count": 56,
   "metadata": {},
   "outputs": [
    {
     "data": {
      "image/png": "[encoded data removed]",
      "text/plain": [
       "<Figure size 1080x432 with 1 Axes>"
      ]
     },
     "metadata": {},
     "output_type": "display_data"
    }
   ],
   "source": [
    "fig = plt.figure(figsize=(15,6));\n",
    "ax = plt.subplot(1,1,1);\n",
    "\n",
    "ax.hist(predictions_lda.loc[predictions_lda.true_val == 0,'proba'], density = True, bins = 40, label='Paid Off', alpha=0.6);\n",
    "ax.hist(predictions_lda.loc[predictions_lda.true_val == 1,'proba'], density = True, bins = 40, label='Defaulted', alpha=0.5);\n",
    "ax.set_title('Probability of Default for Defaulted & Non-Defaulted Customers with LDA')\n",
    "ax.legend(loc='best')\n",
    "\n",
    "plt.show()"
   ]
  },
  {
   "cell_type": "code",
   "execution_count": 51,
   "metadata": {},
   "outputs": [
    {
     "name": "stderr",
     "output_type": "stream",
     "text": [
      "/Users/hugoramambason/anaconda3/lib/python3.6/site-packages/sklearn/discriminant_analysis.py:686: UserWarning: Variables are collinear\n",
      "  warnings.warn(\"Variables are collinear\")\n",
      "/Users/hugoramambason/anaconda3/lib/python3.6/site-packages/sklearn/discriminant_analysis.py:686: UserWarning: Variables are collinear\n",
      "  warnings.warn(\"Variables are collinear\")\n"
     ]
    },
    {
     "data": {
      "text/plain": [
       "QuadraticDiscriminantAnalysis(priors=None, reg_param=0.0,\n",
       "               store_covariance=False, store_covariances=None, tol=0.0001)"
      ]
     },
     "execution_count": 51,
     "metadata": {},
     "output_type": "execute_result"
    }
   ],
   "source": [
    "qda = QuadraticDiscriminantAnalysis()\n",
    "qda.fit(x_train, y_train)"
   ]
  },
  {
   "cell_type": "code",
   "execution_count": 54,
   "metadata": {},
   "outputs": [
    {
     "data": {
      "text/plain": [
       "array([[1.00000000e+00, 7.58335859e-16],\n",
       "       [1.00000000e+00, 2.05497678e-19],\n",
       "       [1.00000000e+00, 4.94482011e-17],\n",
       "       ...,\n",
       "       [1.00000000e+00, 1.40514324e-13],\n",
       "       [1.00000000e+00, 4.23827733e-20],\n",
       "       [1.00000000e+00, 1.55032450e-18]])"
      ]
     },
     "execution_count": 54,
     "metadata": {},
     "output_type": "execute_result"
    }
   ],
   "source": [
    "qda.predict_proba(x_train)"
   ]
  },
  {
   "cell_type": "code",
   "execution_count": 69,
   "metadata": {},
   "outputs": [],
   "source": [
    "rf = RandomForestClassifier(max_depth = 10, n_estimators = 100)\n",
    "rf.fit(x_train, y_train);"
   ]
  },
  {
   "cell_type": "code",
   "execution_count": 70,
   "metadata": {},
   "outputs": [
    {
     "data": {
      "text/plain": [
       "array([[0.8194025 , 0.1805975 ],\n",
       "       [0.85363989, 0.14636011],\n",
       "       [0.86018101, 0.13981899],\n",
       "       ...,\n",
       "       [0.46781905, 0.53218095],\n",
       "       [0.91733485, 0.08266515],\n",
       "       [0.88760371, 0.11239629]])"
      ]
     },
     "execution_count": 70,
     "metadata": {},
     "output_type": "execute_result"
    }
   ],
   "source": [
    "rf.predict_proba(x_train)"
   ]
  },
  {
   "cell_type": "code",
   "execution_count": 71,
   "metadata": {},
   "outputs": [],
   "source": [
    "predictions_rf = x_train.copy()\n",
    "predictions_rf['pred'] = rf.predict(x_train)\n",
    "predictions_rf['proba'] = rf.predict_proba(x_train)[:, 1]\n",
    "predictions_rf['true_val'] = y_train"
   ]
  },
  {
   "cell_type": "code",
   "execution_count": 72,
   "metadata": {},
   "outputs": [
    {
     "data": {
      "image/png": "[encoded data removed]",
      "text/plain": [
       "<Figure size 1080x432 with 1 Axes>"
      ]
     },
     "metadata": {},
     "output_type": "display_data"
    }
   ],
   "source": [
    "fig = plt.figure(figsize=(15,6));\n",
    "ax = plt.subplot(1,1,1);\n",
    "\n",
    "ax.hist(predictions_rf.loc[predictions_rf.true_val == 0,'proba'], density = True, bins = 40, label='Paid Off', alpha=0.6);\n",
    "ax.hist(predictions_rf.loc[predictions_rf.true_val == 1,'proba'], density = True, bins = 40, label='Defaulted', alpha=0.5);\n",
    "ax.set_title('Probability of Default for Defaulted & Non-Defaulted Customers with Random Forest')\n",
    "ax.legend(loc='best')\n",
    "\n",
    "plt.show()"
   ]
  },
  {
   "cell_type": "code",
   "execution_count": null,
   "metadata": {},
   "outputs": [],
   "source": []
  }
 ],
 "metadata": {
  "kernelspec": {
   "display_name": "Python 3",
   "language": "python",
   "name": "python3"
  },
  "language_info": {
   "codemirror_mode": {
    "name": "ipython",
    "version": 3
   },
   "file_extension": ".py",
   "mimetype": "text/x-python",
   "name": "python",
   "nbconvert_exporter": "python",
   "pygments_lexer": "ipython3",
   "version": "3.6.5"
  }
 },
 "nbformat": 4,
 "nbformat_minor": 2
}
