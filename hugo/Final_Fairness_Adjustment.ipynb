{
 "cells": [
  {
   "cell_type": "code",
   "execution_count": 27,
   "metadata": {},
   "outputs": [],
   "source": [
    "import numpy as np\n",
    "import pandas as pd\n",
    "import matplotlib\n",
    "import matplotlib.pyplot as plt\n",
    "%matplotlib inline\n",
    "import seaborn as sns\n",
    "sns.set()\n",
    "\n",
    "from sklearn.linear_model import LogisticRegression\n",
    "from sklearn.linear_model import LogisticRegressionCV\n",
    "from sklearn.model_selection import train_test_split\n",
    "from sklearn.model_selection import cross_val_score\n",
    "from sklearn.metrics import accuracy_score\n",
    "from sklearn.discriminant_analysis import QuadraticDiscriminantAnalysis\n",
    "from sklearn.discriminant_analysis import LinearDiscriminantAnalysis\n",
    "from sklearn import preprocessing\n",
    "from sklearn.ensemble import RandomForestClassifier\n",
    "from sklearn.pipeline import make_pipeline\n",
    "from sklearn.preprocessing import PolynomialFeatures\n",
    "from sklearn.metrics import r2_score\n",
    "\n",
    "from imblearn.over_sampling import SMOTE\n",
    "\n",
    "import pickle"
   ]
  },
  {
   "cell_type": "code",
   "execution_count": 2,
   "metadata": {},
   "outputs": [],
   "source": [
    "df_train = pd.read_csv(\"df_train\", low_memory = False);\n",
    "df_test = pd.read_csv(\"df_test\", low_memory = False);"
   ]
  },
  {
   "cell_type": "code",
   "execution_count": 3,
   "metadata": {},
   "outputs": [],
   "source": [
    "df_test = df_test.sort_values(by=['ROI'])\n",
    "df_train = df_train.sort_values(by=['ROI'])\n",
    "\n",
    "df_test['Rank'] = np.arange(0,df_test.shape[0])\n",
    "df_test['Rank'] = df_test['Rank']/df_test.shape[0]\n",
    "\n",
    "df_train['Rank'] = np.arange(0,df_train.shape[0])\n",
    "df_train['Rank'] = df_train['Rank']/df_train.shape[0]"
   ]
  },
  {
   "cell_type": "code",
   "execution_count": 7,
   "metadata": {},
   "outputs": [],
   "source": [
    "zip_df = pd.read_csv(\"../data/2015_loan_data/pct_accepted_by_zip3_2015.csv\", low_memory = False);\n",
    "zip_df.columns = ['ZIP'] + list(zip_df.columns[1:]);"
   ]
  },
  {
   "cell_type": "code",
   "execution_count": 8,
   "metadata": {},
   "outputs": [
    {
     "name": "stdout",
     "output_type": "stream",
     "text": [
      "0.0879457740068084\n"
     ]
    }
   ],
   "source": [
    "mean_accept_rate = np.sum(zip_df.pct_accepted*zip_df.num_loan_apps_considered)/np.sum(zip_df.num_loan_apps_considered)\n",
    "print(mean_accept_rate)"
   ]
  },
  {
   "cell_type": "code",
   "execution_count": 9,
   "metadata": {},
   "outputs": [],
   "source": [
    "df_train.ZIP = df_train.ZIP.astype(int)\n",
    "df_test.ZIP = df_test.ZIP.astype(int)"
   ]
  },
  {
   "cell_type": "code",
   "execution_count": 10,
   "metadata": {},
   "outputs": [],
   "source": [
    "pct_acc_mean = zip_df.pct_accepted.mean();\n",
    "pct_acc_std = zip_df.pct_accepted.std();"
   ]
  },
  {
   "cell_type": "code",
   "execution_count": 116,
   "metadata": {},
   "outputs": [],
   "source": [
    "merged_df_train = pd.merge(df_train, zip_df, on=['ZIP'])\n",
    "merged_df_test = pd.merge(df_test, zip_df, on=['ZIP'])"
   ]
  },
  {
   "cell_type": "code",
   "execution_count": 125,
   "metadata": {},
   "outputs": [],
   "source": [
    "def clipped_pct(x):\n",
    "    std_mult = 1.5\n",
    "    if x > pct_acc_mean + std_mult*pct_acc_std:\n",
    "        return pct_acc_mean + std_mult*pct_acc_std\n",
    "    elif x < pct_acc_mean - std_mult*pct_acc_std:\n",
    "        return pct_acc_mean - std_mult*pct_acc_std\n",
    "    else:\n",
    "        return x"
   ]
  },
  {
   "cell_type": "code",
   "execution_count": 127,
   "metadata": {},
   "outputs": [],
   "source": [
    "std_mult = 1.5\n",
    "merged_df_train['clipped_pct'] = merged_df_train.pct_accepted.map(clipped_pct)\n",
    "merged_df_train['adjustment_factor'] = merged_df_train['clipped_pct'].mean()/merged_df_train['clipped_pct']\n",
    "\n",
    "merged_df_test['clipped_pct'] = merged_df_test.pct_accepted.map(clipped_pct)\n",
    "merged_df_test['adjustment_factor'] = merged_df_test['clipped_pct'].mean()/merged_df_test['clipped_pct']"
   ]
  },
  {
   "cell_type": "code",
   "execution_count": 128,
   "metadata": {},
   "outputs": [],
   "source": [
    "def adjust_ROI(df):\n",
    "    df['adjusted_ROI'] = 0\n",
    "    mean_adj_factor = df.adjustment_factor.mean()\n",
    "    for i in range(len(df)):\n",
    "        adjustment = abs(df.iloc[i].ROI)*(df.iloc[i].adjustment_factor - mean_adj_factor + 1)\n",
    "        df.adjusted_ROI = df.ROI + adjustment\n",
    "    return df"
   ]
  },
  {
   "cell_type": "code",
   "execution_count": 133,
   "metadata": {},
   "outputs": [
    {
     "name": "stderr",
     "output_type": "stream",
     "text": [
      "/Users/hugoramambason/anaconda3/lib/python3.6/site-packages/pandas/core/groupby/groupby.py:4658: FutureWarning: using a dict with renaming is deprecated and will be removed in a future version\n",
      "  return super(DataFrameGroupBy, self).aggregate(arg, *args, **kwargs)\n"
     ]
    }
   ],
   "source": [
    "alphas = [1]\n",
    "scores_pure_model = []\n",
    "for alpha in alphas:\n",
    "    mean_adj_factor = merged_df_train.adjustment_factor.mean();\n",
    "    def adjust_ROI(x):\n",
    "        adjustment = abs(x.ROI)*alpha*(x.adjustment_factor - mean_adj_factor);\n",
    "        return x.ROI + adjustment;\n",
    "    merged_df_train['adjusted_ROI'] = merged_df_train.apply(adjust_ROI, axis=1);\n",
    "    merged_df_test['adjusted_ROI'] = merged_df_test.apply(adjust_ROI, axis=1);\n",
    "    \n",
    "    train_final = merged_df_train.sort_values(by=['adjusted_ROI'])\n",
    "    train_final['adjusted_Rank'] = np.arange(0,train_final.shape[0])\n",
    "    train_final['adjusted_Rank'] = (train_final['adjusted_Rank']/train_final.shape[0])*100\n",
    "    \n",
    "    test_final = merged_df_test.sort_values(by=['adjusted_ROI'])\n",
    "    test_final['adjusted_Rank'] = np.arange(0,test_final.shape[0])\n",
    "    test_final['adjusted_Rank'] = (test_final['adjusted_Rank']/test_final.shape[0])*100\n",
    "    \n",
    "    train_final_data = train_final.groupby('ZIP').agg({\n",
    "                'ZIP' : {'Count' : 'count'},\n",
    "                'adjusted_Rank' : np.mean,\n",
    "                'Rank' : np.mean\n",
    "            })\n",
    "    ranked_df = pd.DataFrame(train_final_data.to_records())\n",
    "    ranked_df.columns = ['ZIP', 'Count', 'adj_rank_mean', 'rank_mean']\n",
    "    ranked_df['Predicted_mean'] = 50\n",
    "    adj_score = r2_score((ranked_df.adj_rank_mean*ranked_df.Count), (ranked_df.Predicted_mean*ranked_df.Count))\n",
    "    scores_pure_model.append(adj_score)"
   ]
  },
  {
   "cell_type": "code",
   "execution_count": 134,
   "metadata": {},
   "outputs": [],
   "source": [
    "ranked_df['rank_mean'] = ranked_df['rank_mean']*100\n",
    "train_final['Rank'] = train_final['Rank']*100\n",
    "test_final['Rank'] = test_final['Rank']*100"
   ]
  },
  {
   "cell_type": "code",
   "execution_count": 135,
   "metadata": {},
   "outputs": [
    {
     "data": {
      "text/html": [
       "<div>\n",
       "<style scoped>\n",
       "    .dataframe tbody tr th:only-of-type {\n",
       "        vertical-align: middle;\n",
       "    }\n",
       "\n",
       "    .dataframe tbody tr th {\n",
       "        vertical-align: top;\n",
       "    }\n",
       "\n",
       "    .dataframe thead th {\n",
       "        text-align: right;\n",
       "    }\n",
       "</style>\n",
       "<table border=\"1\" class=\"dataframe\">\n",
       "  <thead>\n",
       "    <tr style=\"text-align: right;\">\n",
       "      <th></th>\n",
       "      <th>proba</th>\n",
       "      <th>true_val</th>\n",
       "      <th>int_rate</th>\n",
       "      <th>amnt</th>\n",
       "      <th>total_pymnt</th>\n",
       "      <th>term</th>\n",
       "      <th>ZIP</th>\n",
       "      <th>ROI</th>\n",
       "      <th>Real_ROI</th>\n",
       "      <th>annualized_amnt</th>\n",
       "      <th>Rank</th>\n",
       "      <th>pct_accepted</th>\n",
       "      <th>num_loan_apps_considered</th>\n",
       "      <th>clipped_pct</th>\n",
       "      <th>adjustment_factor</th>\n",
       "      <th>adjusted_ROI</th>\n",
       "      <th>adjusted_Rank</th>\n",
       "    </tr>\n",
       "  </thead>\n",
       "  <tbody>\n",
       "    <tr>\n",
       "      <th>218170</th>\n",
       "      <td>0.639860</td>\n",
       "      <td>0</td>\n",
       "      <td>0.1824</td>\n",
       "      <td>18000.0</td>\n",
       "      <td>25561.684514</td>\n",
       "      <td>5.0</td>\n",
       "      <td>7</td>\n",
       "      <td>-0.287025</td>\n",
       "      <td>1307.938115</td>\n",
       "      <td>3600.0</td>\n",
       "      <td>15.868328</td>\n",
       "      <td>0.022472</td>\n",
       "      <td>91.0</td>\n",
       "      <td>0.037509</td>\n",
       "      <td>2.456851</td>\n",
       "      <td>0.116041</td>\n",
       "      <td>99.986721</td>\n",
       "    </tr>\n",
       "    <tr>\n",
       "      <th>218169</th>\n",
       "      <td>0.664469</td>\n",
       "      <td>0</td>\n",
       "      <td>0.1449</td>\n",
       "      <td>17500.0</td>\n",
       "      <td>19074.720000</td>\n",
       "      <td>5.0</td>\n",
       "      <td>7</td>\n",
       "      <td>-0.317661</td>\n",
       "      <td>304.183974</td>\n",
       "      <td>3500.0</td>\n",
       "      <td>10.736706</td>\n",
       "      <td>0.022472</td>\n",
       "      <td>91.0</td>\n",
       "      <td>0.037509</td>\n",
       "      <td>2.456851</td>\n",
       "      <td>0.128427</td>\n",
       "      <td>99.990842</td>\n",
       "    </tr>\n",
       "  </tbody>\n",
       "</table>\n",
       "</div>"
      ],
      "text/plain": [
       "           proba  true_val  int_rate     amnt   total_pymnt  term  ZIP  \\\n",
       "218170  0.639860         0    0.1824  18000.0  25561.684514   5.0    7   \n",
       "218169  0.664469         0    0.1449  17500.0  19074.720000   5.0    7   \n",
       "\n",
       "             ROI     Real_ROI  annualized_amnt       Rank  pct_accepted  \\\n",
       "218170 -0.287025  1307.938115           3600.0  15.868328      0.022472   \n",
       "218169 -0.317661   304.183974           3500.0  10.736706      0.022472   \n",
       "\n",
       "        num_loan_apps_considered  clipped_pct  adjustment_factor  \\\n",
       "218170                      91.0     0.037509           2.456851   \n",
       "218169                      91.0     0.037509           2.456851   \n",
       "\n",
       "        adjusted_ROI  adjusted_Rank  \n",
       "218170      0.116041      99.986721  \n",
       "218169      0.128427      99.990842  "
      ]
     },
     "execution_count": 135,
     "metadata": {},
     "output_type": "execute_result"
    }
   ],
   "source": [
    "train_final[train_final.ZIP == 7]"
   ]
  },
  {
   "cell_type": "code",
   "execution_count": 136,
   "metadata": {},
   "outputs": [
    {
     "data": {
      "text/html": [
       "<div>\n",
       "<style scoped>\n",
       "    .dataframe tbody tr th:only-of-type {\n",
       "        vertical-align: middle;\n",
       "    }\n",
       "\n",
       "    .dataframe tbody tr th {\n",
       "        vertical-align: top;\n",
       "    }\n",
       "\n",
       "    .dataframe thead th {\n",
       "        text-align: right;\n",
       "    }\n",
       "</style>\n",
       "<table border=\"1\" class=\"dataframe\">\n",
       "  <thead>\n",
       "    <tr style=\"text-align: right;\">\n",
       "      <th></th>\n",
       "      <th>proba</th>\n",
       "      <th>true_val</th>\n",
       "      <th>int_rate</th>\n",
       "      <th>amnt</th>\n",
       "      <th>total_pymnt</th>\n",
       "      <th>term</th>\n",
       "      <th>ZIP</th>\n",
       "      <th>ROI</th>\n",
       "      <th>Real_ROI</th>\n",
       "      <th>annualized_amnt</th>\n",
       "      <th>Rank</th>\n",
       "      <th>pct_accepted</th>\n",
       "      <th>num_loan_apps_considered</th>\n",
       "      <th>clipped_pct</th>\n",
       "      <th>adjustment_factor</th>\n",
       "      <th>adjusted_ROI</th>\n",
       "      <th>adjusted_Rank</th>\n",
       "    </tr>\n",
       "  </thead>\n",
       "  <tbody>\n",
       "    <tr>\n",
       "      <th>345718</th>\n",
       "      <td>0.43399</td>\n",
       "      <td>1</td>\n",
       "      <td>0.1269</td>\n",
       "      <td>20000</td>\n",
       "      <td>13923.86</td>\n",
       "      <td>3.0</td>\n",
       "      <td>7</td>\n",
       "      <td>-0.167404</td>\n",
       "      <td>-2274.171365</td>\n",
       "      <td>6666.666667</td>\n",
       "      <td>29.964636</td>\n",
       "      <td>0.022472</td>\n",
       "      <td>91.0</td>\n",
       "      <td>0.037509</td>\n",
       "      <td>2.446901</td>\n",
       "      <td>0.066014</td>\n",
       "      <td>99.900791</td>\n",
       "    </tr>\n",
       "  </tbody>\n",
       "</table>\n",
       "</div>"
      ],
      "text/plain": [
       "          proba  true_val  int_rate   amnt  total_pymnt  term  ZIP       ROI  \\\n",
       "345718  0.43399         1    0.1269  20000     13923.86   3.0    7 -0.167404   \n",
       "\n",
       "           Real_ROI  annualized_amnt       Rank  pct_accepted  \\\n",
       "345718 -2274.171365      6666.666667  29.964636      0.022472   \n",
       "\n",
       "        num_loan_apps_considered  clipped_pct  adjustment_factor  \\\n",
       "345718                      91.0     0.037509           2.446901   \n",
       "\n",
       "        adjusted_ROI  adjusted_Rank  \n",
       "345718      0.066014      99.900791  "
      ]
     },
     "execution_count": 136,
     "metadata": {},
     "output_type": "execute_result"
    }
   ],
   "source": [
    "test_final[test_final.ZIP == 7]"
   ]
  },
  {
   "cell_type": "code",
   "execution_count": 138,
   "metadata": {},
   "outputs": [],
   "source": [
    "mean_ROI_train = train_final.adjusted_ROI.mean()\n",
    "std_ROI_train = train_final.adjusted_ROI.std()\n",
    "\n",
    "mean_ROI_test = test_final.adjusted_ROI.mean()\n",
    "std_ROI_test = test_final.adjusted_ROI.std()"
   ]
  },
  {
   "cell_type": "code",
   "execution_count": 139,
   "metadata": {},
   "outputs": [],
   "source": [
    "loans_to_buy_train = train_final[train_final.adjusted_ROI > (mean_ROI_train + 1.5*std_ROI_train)]\n",
    "loans_to_buy_test = test_final[test_final.adjusted_ROI > (mean_ROI_test + 1.5*std_ROI_test)]"
   ]
  },
  {
   "cell_type": "code",
   "execution_count": 142,
   "metadata": {},
   "outputs": [
    {
     "data": {
      "text/plain": [
       "(1726, 17)"
      ]
     },
     "execution_count": 142,
     "metadata": {},
     "output_type": "execute_result"
    }
   ],
   "source": [
    "loans_to_buy_test.shape"
   ]
  },
  {
   "cell_type": "code",
   "execution_count": 148,
   "metadata": {},
   "outputs": [
    {
     "name": "stdout",
     "output_type": "stream",
     "text": [
      "0.02166518755344178\n"
     ]
    }
   ],
   "source": [
    "return_ROI = np.sum(loans_to_buy_train.Real_ROI)/np.sum(loans_to_buy_train.annualized_amnt)\n",
    "portfolio_ROI = np.sum(train_final.Real_ROI)/np.sum(train_final.annualized_amnt)\n",
    "print(return_ROI - portfolio_ROI)"
   ]
  },
  {
   "cell_type": "code",
   "execution_count": 147,
   "metadata": {},
   "outputs": [
    {
     "name": "stdout",
     "output_type": "stream",
     "text": [
      "0.016110064996070168\n"
     ]
    }
   ],
   "source": [
    "return_ROI = np.sum(loans_to_buy_test.Real_ROI)/np.sum(loans_to_buy_test.annualized_amnt)\n",
    "portfolio_ROI = np.sum(test_final.Real_ROI)/np.sum(test_final.annualized_amnt)\n",
    "print(return_ROI - portfolio_ROI)"
   ]
  },
  {
   "cell_type": "markdown",
   "metadata": {},
   "source": [
    "So a portfolio where we **actively** favour traditionally disfavoured communities still outperforms the overall portfolio by 2.1%. This is an interesting result, since we might be able to show that we can target disenfranchised communities with investment and still deliver above average results for our investors. This result is for the training data, needs to be replicated on the test data.\n",
    "\n",
    "Have written subset of loans to csv, perhaps Anthony can run regressions to see how loans we buy compare with overall portfolio in terms of favouring various groups etc?"
   ]
  },
  {
   "cell_type": "code",
   "execution_count": 149,
   "metadata": {},
   "outputs": [],
   "source": [
    "loans_to_buy_train.to_csv('loans_bought_2014', index = False)\n",
    "loans_to_buy_test.to_csv('loans_bought_2015', index = False)"
   ]
  }
 ],
 "metadata": {
  "kernelspec": {
   "display_name": "Python 3",
   "language": "python",
   "name": "python3"
  },
  "language_info": {
   "codemirror_mode": {
    "name": "ipython",
    "version": 3
   },
   "file_extension": ".py",
   "mimetype": "text/x-python",
   "name": "python",
   "nbconvert_exporter": "python",
   "pygments_lexer": "ipython3",
   "version": "3.6.5"
  }
 },
 "nbformat": 4,
 "nbformat_minor": 2
}
