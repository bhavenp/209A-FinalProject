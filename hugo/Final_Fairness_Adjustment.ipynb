{
 "cells": [
  {
   "cell_type": "code",
   "execution_count": 1,
   "metadata": {},
   "outputs": [],
   "source": [
    "import numpy as np\n",
    "import pandas as pd\n",
    "import matplotlib\n",
    "import matplotlib.pyplot as plt\n",
    "%matplotlib inline\n",
    "import seaborn as sns\n",
    "sns.set()\n",
    "\n",
    "from sklearn.linear_model import LogisticRegression\n",
    "from sklearn.linear_model import LogisticRegressionCV\n",
    "from sklearn.model_selection import train_test_split\n",
    "from sklearn.model_selection import cross_val_score\n",
    "from sklearn.metrics import accuracy_score\n",
    "from sklearn.discriminant_analysis import QuadraticDiscriminantAnalysis\n",
    "from sklearn.discriminant_analysis import LinearDiscriminantAnalysis\n",
    "from sklearn import preprocessing\n",
    "from sklearn.ensemble import RandomForestClassifier\n",
    "from sklearn.pipeline import make_pipeline\n",
    "from sklearn.preprocessing import PolynomialFeatures\n",
    "from sklearn.metrics import r2_score\n",
    "\n",
    "from imblearn.over_sampling import SMOTE\n",
    "\n",
    "import pickle"
   ]
  },
  {
   "cell_type": "code",
   "execution_count": 2,
   "metadata": {},
   "outputs": [],
   "source": [
    "df_train = pd.read_csv(\"df_train\", low_memory = False);\n",
    "df_test = pd.read_csv(\"df_test\", low_memory = False);"
   ]
  },
  {
   "cell_type": "code",
   "execution_count": 4,
   "metadata": {},
   "outputs": [],
   "source": [
    "df_test = df_test.sort_values(by=['ROI'])\n",
    "df_train = df_train.sort_values(by=['ROI'])\n",
    "\n",
    "df_test['Rank'] = np.arange(0,df_test.shape[0])\n",
    "df_test['Rank'] = df_test['Rank']/df_test.shape[0]\n",
    "\n",
    "df_train['Rank'] = np.arange(0,df_train.shape[0])\n",
    "df_train['Rank'] = df_train['Rank']/df_train.shape[0]"
   ]
  },
  {
   "cell_type": "code",
   "execution_count": 5,
   "metadata": {},
   "outputs": [],
   "source": [
    "zip_df = pd.read_csv(\"../data/2014_loan_data/pct_accepted_by_zip3_2014_BP.csv\", dtype={'3_dig_zip': str}, low_memory = False);\n",
    "zip_df.columns = ['ZIP'] + list(zip_df.columns[1:]);"
   ]
  },
  {
   "cell_type": "code",
   "execution_count": 6,
   "metadata": {},
   "outputs": [
    {
     "name": "stdout",
     "output_type": "stream",
     "text": [
      "0.10874439151451491\n"
     ]
    }
   ],
   "source": [
    "mean_accept_rate = np.sum(zip_df['2014_pct_accepted']*zip_df['2014_Total_loans_considered'])/np.sum(zip_df['2014_Total_loans_considered'])\n",
    "print(mean_accept_rate)"
   ]
  },
  {
   "cell_type": "code",
   "execution_count": 13,
   "metadata": {},
   "outputs": [],
   "source": [
    "df_train.ZIP = df_train.ZIP.str.slice(0,3)\n",
    "df_test.ZIP = df_test.ZIP.str.slice(0,3)"
   ]
  },
  {
   "cell_type": "code",
   "execution_count": 14,
   "metadata": {},
   "outputs": [],
   "source": [
    "pct_acc_mean = zip_df['2014_pct_accepted'].mean();\n",
    "pct_acc_std = zip_df['2014_pct_accepted'].std();"
   ]
  },
  {
   "cell_type": "code",
   "execution_count": 15,
   "metadata": {},
   "outputs": [],
   "source": [
    "merged_df_train = pd.merge(df_train, zip_df, on=['ZIP'])\n",
    "merged_df_test = pd.merge(df_test, zip_df, on=['ZIP'])"
   ]
  },
  {
   "cell_type": "code",
   "execution_count": 17,
   "metadata": {},
   "outputs": [],
   "source": [
    "def clipped_pct(x):\n",
    "    std_mult = 1.5\n",
    "    if x > pct_acc_mean + std_mult*pct_acc_std:\n",
    "        return pct_acc_mean + std_mult*pct_acc_std\n",
    "    elif x < pct_acc_mean - std_mult*pct_acc_std:\n",
    "        return pct_acc_mean - std_mult*pct_acc_std\n",
    "    else:\n",
    "        return x"
   ]
  },
  {
   "cell_type": "code",
   "execution_count": 18,
   "metadata": {},
   "outputs": [],
   "source": [
    "std_mult = 1.5\n",
    "merged_df_train['clipped_pct'] = merged_df_train['2014_pct_accepted'].map(clipped_pct)\n",
    "merged_df_train['adjustment_factor'] = merged_df_train['clipped_pct'].mean()/merged_df_train['clipped_pct']\n",
    "\n",
    "merged_df_test['clipped_pct'] = merged_df_test['2014_pct_accepted'].map(clipped_pct)\n",
    "merged_df_test['adjustment_factor'] = merged_df_test['clipped_pct'].mean()/merged_df_test['clipped_pct']"
   ]
  },
  {
   "cell_type": "code",
   "execution_count": 19,
   "metadata": {},
   "outputs": [],
   "source": [
    "def adjust_ROI(df):\n",
    "    df['adjusted_ROI'] = 0\n",
    "    mean_adj_factor = df.adjustment_factor.mean()\n",
    "    for i in range(len(df)):\n",
    "        adjustment = abs(df.iloc[i].ROI)*(df.iloc[i].adjustment_factor - mean_adj_factor + 1)\n",
    "        df.adjusted_ROI = df.ROI + adjustment\n",
    "    return df"
   ]
  },
  {
   "cell_type": "code",
   "execution_count": 21,
   "metadata": {},
   "outputs": [
    {
     "name": "stderr",
     "output_type": "stream",
     "text": [
      "/Users/anthonyrentsch/anaconda3/lib/python3.6/site-packages/pandas/core/groupby/groupby.py:4658: FutureWarning: using a dict with renaming is deprecated and will be removed in a future version\n",
      "  return super(DataFrameGroupBy, self).aggregate(arg, *args, **kwargs)\n"
     ]
    }
   ],
   "source": [
    "merged_df_train['adjusted_ROI'] = 0\n",
    "merged_df_test['adjusted_ROI'] = 0\n",
    "\n",
    "alphas = [1]\n",
    "scores_pure_model = []\n",
    "for alpha in alphas:\n",
    "    mean_adj_factor = merged_df_train.adjustment_factor.mean();\n",
    "    def adjust_ROI(x):\n",
    "        adjustment = abs(x.ROI)*alpha*(x.adjustment_factor - mean_adj_factor);\n",
    "        return x.ROI + adjustment;\n",
    "    merged_df_train['adjusted_ROI'] = merged_df_train.apply(adjust_ROI, axis=1);\n",
    "    merged_df_test['adjusted_ROI'] = merged_df_test.apply(adjust_ROI, axis=1);\n",
    "    \n",
    "    train_final = merged_df_train.sort_values(by=['adjusted_ROI'])\n",
    "    train_final['adjusted_Rank'] = np.arange(0,train_final.shape[0])\n",
    "    train_final['adjusted_Rank'] = (train_final['adjusted_Rank']/train_final.shape[0])*100\n",
    "    \n",
    "    test_final = merged_df_test.sort_values(by=['adjusted_ROI'])\n",
    "    test_final['adjusted_Rank'] = np.arange(0,test_final.shape[0])\n",
    "    test_final['adjusted_Rank'] = (test_final['adjusted_Rank']/test_final.shape[0])*100\n",
    "    \n",
    "    train_final_data = train_final.groupby('ZIP').agg({\n",
    "                'ZIP' : {'Count' : 'count'},\n",
    "                'adjusted_Rank' : np.mean,\n",
    "                'Rank' : np.mean\n",
    "            })\n",
    "    ranked_df = pd.DataFrame(train_final_data.to_records())\n",
    "    ranked_df.columns = ['ZIP', 'Count', 'adj_rank_mean', 'rank_mean']\n",
    "    ranked_df['Predicted_mean'] = 50\n",
    "    adj_score = r2_score((ranked_df.adj_rank_mean*ranked_df.Count), (ranked_df.Predicted_mean*ranked_df.Count))\n",
    "    scores_pure_model.append(adj_score)"
   ]
  },
  {
   "cell_type": "code",
   "execution_count": 22,
   "metadata": {},
   "outputs": [],
   "source": [
    "ranked_df['rank_mean'] = ranked_df['rank_mean']*100\n",
    "train_final['Rank'] = train_final['Rank']*100\n",
    "test_final['Rank'] = test_final['Rank']*100"
   ]
  },
  {
   "cell_type": "code",
   "execution_count": 25,
   "metadata": {},
   "outputs": [],
   "source": [
    "# train_final[train_final.ZIP == 7]"
   ]
  },
  {
   "cell_type": "code",
   "execution_count": 26,
   "metadata": {},
   "outputs": [],
   "source": [
    "# test_final[test_final.ZIP == 7]"
   ]
  },
  {
   "cell_type": "code",
   "execution_count": 27,
   "metadata": {},
   "outputs": [],
   "source": [
    "mean_ROI_train = train_final.adjusted_ROI.mean()\n",
    "std_ROI_train = train_final.adjusted_ROI.std()\n",
    "\n",
    "mean_ROI_test = test_final.adjusted_ROI.mean()\n",
    "std_ROI_test = test_final.adjusted_ROI.std()"
   ]
  },
  {
   "cell_type": "code",
   "execution_count": 28,
   "metadata": {},
   "outputs": [],
   "source": [
    "loans_to_buy_train = train_final[train_final.adjusted_ROI > (mean_ROI_train + 1.5*std_ROI_train)]\n",
    "loans_to_buy_test = test_final[test_final.adjusted_ROI > (mean_ROI_test + 1.5*std_ROI_test)]"
   ]
  },
  {
   "cell_type": "code",
   "execution_count": 29,
   "metadata": {},
   "outputs": [
    {
     "data": {
      "text/plain": [
       "(1588, 19)"
      ]
     },
     "execution_count": 29,
     "metadata": {},
     "output_type": "execute_result"
    }
   ],
   "source": [
    "loans_to_buy_test.shape"
   ]
  },
  {
   "cell_type": "code",
   "execution_count": 30,
   "metadata": {},
   "outputs": [
    {
     "name": "stdout",
     "output_type": "stream",
     "text": [
      "0.00968128587913257\n"
     ]
    }
   ],
   "source": [
    "return_ROI = np.sum(loans_to_buy_train.Real_ROI)/np.sum(loans_to_buy_train.annualized_amnt)\n",
    "portfolio_ROI = np.sum(train_final.Real_ROI)/np.sum(train_final.annualized_amnt)\n",
    "print(return_ROI - portfolio_ROI)"
   ]
  },
  {
   "cell_type": "code",
   "execution_count": 31,
   "metadata": {},
   "outputs": [
    {
     "name": "stdout",
     "output_type": "stream",
     "text": [
      "0.046657071660717045\n"
     ]
    }
   ],
   "source": [
    "return_ROI = np.sum(loans_to_buy_test.Real_ROI)/np.sum(loans_to_buy_test.annualized_amnt)\n",
    "portfolio_ROI = np.sum(test_final.Real_ROI)/np.sum(test_final.annualized_amnt)\n",
    "print(return_ROI - portfolio_ROI)"
   ]
  },
  {
   "cell_type": "markdown",
   "metadata": {},
   "source": [
    "So a portfolio where we **actively** favour traditionally disfavoured communities still outperforms the overall portfolio by 2.1%. This is an interesting result, since we might be able to show that we can target disenfranchised communities with investment and still deliver above average results for our investors. This result is for the training data, needs to be replicated on the test data.\n",
    "\n",
    "Have written subset of loans to csv, perhaps Anthony can run regressions to see how loans we buy compare with overall portfolio in terms of favouring various groups etc?"
   ]
  },
  {
   "cell_type": "code",
   "execution_count": 32,
   "metadata": {},
   "outputs": [],
   "source": [
    "loans_to_buy_train.to_csv('loans_bought_2014', index = False)\n",
    "loans_to_buy_test.to_csv('loans_bought_2015', index = False)\n",
    "train_final.to_csv('all_loans_2014', index = False)\n",
    "test_final.to_csv('all_loans_2015', index = False)"
   ]
  },
  {
   "cell_type": "code",
   "execution_count": null,
   "metadata": {},
   "outputs": [],
   "source": []
  }
 ],
 "metadata": {
  "kernelspec": {
   "display_name": "Python 3",
   "language": "python",
   "name": "python3"
  },
  "language_info": {
   "codemirror_mode": {
    "name": "ipython",
    "version": 3
   },
   "file_extension": ".py",
   "mimetype": "text/x-python",
   "name": "python",
   "nbconvert_exporter": "python",
   "pygments_lexer": "ipython3",
   "version": "3.6.5"
  }
 },
 "nbformat": 4,
 "nbformat_minor": 2
}
