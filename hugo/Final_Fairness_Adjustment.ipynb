{
 "cells": [
  {
   "cell_type": "code",
   "execution_count": 1,
   "metadata": {},
   "outputs": [],
   "source": [
    "import numpy as np\n",
    "import pandas as pd\n",
    "import matplotlib\n",
    "import matplotlib.pyplot as plt\n",
    "%matplotlib inline\n",
    "import seaborn as sns\n",
    "sns.set()\n",
    "\n",
    "from sklearn.linear_model import LogisticRegression\n",
    "from sklearn.linear_model import LogisticRegressionCV\n",
    "from sklearn.model_selection import train_test_split\n",
    "from sklearn.model_selection import cross_val_score\n",
    "from sklearn.metrics import accuracy_score\n",
    "from sklearn.discriminant_analysis import QuadraticDiscriminantAnalysis\n",
    "from sklearn.discriminant_analysis import LinearDiscriminantAnalysis\n",
    "from sklearn import preprocessing\n",
    "from sklearn.ensemble import RandomForestClassifier\n",
    "from sklearn.pipeline import make_pipeline\n",
    "from sklearn.preprocessing import PolynomialFeatures\n",
    "from sklearn.metrics import r2_score\n",
    "\n",
    "from imblearn.over_sampling import SMOTE\n",
    "\n",
    "import pickle"
   ]
  },
  {
   "cell_type": "code",
   "execution_count": 2,
   "metadata": {},
   "outputs": [],
   "source": [
    "df_train = pd.read_csv(\"df_train\", low_memory = False);\n",
    "df_test = pd.read_csv(\"df_test\", low_memory = False);"
   ]
  },
  {
   "cell_type": "code",
   "execution_count": 3,
   "metadata": {},
   "outputs": [],
   "source": [
    "df_test = df_test.sort_values(by=['ROI'])\n",
    "df_train = df_train.sort_values(by=['ROI'])\n",
    "\n",
    "df_test['Rank'] = np.arange(0,df_test.shape[0])\n",
    "df_test['Rank'] = df_test['Rank']/df_test.shape[0]\n",
    "\n",
    "df_train['Rank'] = np.arange(0,df_train.shape[0])\n",
    "df_train['Rank'] = df_train['Rank']/df_train.shape[0]"
   ]
  },
  {
   "cell_type": "code",
   "execution_count": 65,
   "metadata": {},
   "outputs": [],
   "source": [
    "zip_df = pd.read_csv(\"../data/2014_loan_data/pct_accepted_by_zip3_2014_BP.csv\", low_memory = False);\n",
    "zip_df.columns = ['ZIP'] + list(zip_df.columns[1:zip_df.shape[1]-2]) + ['num_loan_apps_considered'] + ['pct_accepted'];"
   ]
  },
  {
   "cell_type": "code",
   "execution_count": 66,
   "metadata": {},
   "outputs": [
    {
     "data": {
      "text/html": [
       "<div>\n",
       "<style scoped>\n",
       "    .dataframe tbody tr th:only-of-type {\n",
       "        vertical-align: middle;\n",
       "    }\n",
       "\n",
       "    .dataframe tbody tr th {\n",
       "        vertical-align: top;\n",
       "    }\n",
       "\n",
       "    .dataframe thead th {\n",
       "        text-align: right;\n",
       "    }\n",
       "</style>\n",
       "<table border=\"1\" class=\"dataframe\">\n",
       "  <thead>\n",
       "    <tr style=\"text-align: right;\">\n",
       "      <th></th>\n",
       "      <th>ZIP</th>\n",
       "      <th>2014_accpt_loans</th>\n",
       "      <th>2014_rejected_loans</th>\n",
       "      <th>num_loan_apps_considered</th>\n",
       "      <th>pct_accepted</th>\n",
       "    </tr>\n",
       "  </thead>\n",
       "  <tbody>\n",
       "    <tr>\n",
       "      <th>0</th>\n",
       "      <td>7</td>\n",
       "      <td>2</td>\n",
       "      <td>63.0</td>\n",
       "      <td>65.0</td>\n",
       "      <td>0.030769</td>\n",
       "    </tr>\n",
       "    <tr>\n",
       "      <th>1</th>\n",
       "      <td>8</td>\n",
       "      <td>1</td>\n",
       "      <td>45.0</td>\n",
       "      <td>46.0</td>\n",
       "      <td>0.021739</td>\n",
       "    </tr>\n",
       "    <tr>\n",
       "      <th>2</th>\n",
       "      <td>10</td>\n",
       "      <td>379</td>\n",
       "      <td>2741.0</td>\n",
       "      <td>3120.0</td>\n",
       "      <td>0.121474</td>\n",
       "    </tr>\n",
       "    <tr>\n",
       "      <th>3</th>\n",
       "      <td>11</td>\n",
       "      <td>115</td>\n",
       "      <td>1367.0</td>\n",
       "      <td>1482.0</td>\n",
       "      <td>0.077598</td>\n",
       "    </tr>\n",
       "    <tr>\n",
       "      <th>4</th>\n",
       "      <td>12</td>\n",
       "      <td>93</td>\n",
       "      <td>803.0</td>\n",
       "      <td>896.0</td>\n",
       "      <td>0.103795</td>\n",
       "    </tr>\n",
       "  </tbody>\n",
       "</table>\n",
       "</div>"
      ],
      "text/plain": [
       "   ZIP  2014_accpt_loans  2014_rejected_loans  num_loan_apps_considered  \\\n",
       "0    7                 2                 63.0                      65.0   \n",
       "1    8                 1                 45.0                      46.0   \n",
       "2   10               379               2741.0                    3120.0   \n",
       "3   11               115               1367.0                    1482.0   \n",
       "4   12                93                803.0                     896.0   \n",
       "\n",
       "   pct_accepted  \n",
       "0      0.030769  \n",
       "1      0.021739  \n",
       "2      0.121474  \n",
       "3      0.077598  \n",
       "4      0.103795  "
      ]
     },
     "execution_count": 66,
     "metadata": {},
     "output_type": "execute_result"
    }
   ],
   "source": [
    "zip_df.head()"
   ]
  },
  {
   "cell_type": "code",
   "execution_count": 67,
   "metadata": {},
   "outputs": [
    {
     "name": "stdout",
     "output_type": "stream",
     "text": [
      "0.10874439151451491\n"
     ]
    }
   ],
   "source": [
    "mean_accept_rate = np.sum(zip_df.pct_accepted*zip_df.num_loan_apps_considered)/np.sum(zip_df.num_loan_apps_considered)\n",
    "print(mean_accept_rate)"
   ]
  },
  {
   "cell_type": "code",
   "execution_count": 68,
   "metadata": {},
   "outputs": [],
   "source": [
    "df_train.ZIP = df_train.ZIP.astype(int)\n",
    "df_test.ZIP = df_test.ZIP.astype(int)"
   ]
  },
  {
   "cell_type": "code",
   "execution_count": 69,
   "metadata": {},
   "outputs": [],
   "source": [
    "pct_acc_mean = zip_df.pct_accepted.mean();\n",
    "pct_acc_std = zip_df.pct_accepted.std();"
   ]
  },
  {
   "cell_type": "code",
   "execution_count": 70,
   "metadata": {},
   "outputs": [],
   "source": [
    "merged_df_train = pd.merge(df_train, zip_df, on=['ZIP'])\n",
    "merged_df_test = pd.merge(df_test, zip_df, on=['ZIP'])"
   ]
  },
  {
   "cell_type": "code",
   "execution_count": 98,
   "metadata": {},
   "outputs": [],
   "source": [
    "def clipped_pct(x):\n",
    "    std_mult = 1\n",
    "    if x > pct_acc_mean + std_mult*pct_acc_std:\n",
    "        return pct_acc_mean + std_mult*pct_acc_std\n",
    "    elif x < pct_acc_mean - std_mult*pct_acc_std:\n",
    "        return pct_acc_mean - std_mult*pct_acc_std\n",
    "    else:\n",
    "        return x"
   ]
  },
  {
   "cell_type": "code",
   "execution_count": 99,
   "metadata": {},
   "outputs": [],
   "source": [
    "merged_df_train['clipped_pct'] = merged_df_train.pct_accepted.map(clipped_pct)\n",
    "merged_df_train['adjustment_factor'] = merged_df_train['clipped_pct'].mean()/merged_df_train['clipped_pct']\n",
    "\n",
    "merged_df_test['clipped_pct'] = merged_df_test.pct_accepted.map(clipped_pct)\n",
    "merged_df_test['adjustment_factor'] = merged_df_test['clipped_pct'].mean()/merged_df_test['clipped_pct']"
   ]
  },
  {
   "cell_type": "code",
   "execution_count": 100,
   "metadata": {},
   "outputs": [],
   "source": [
    "def adjust_ROI(df):\n",
    "    df['adjusted_ROI'] = 0\n",
    "    mean_adj_factor = df.adjustment_factor.mean()\n",
    "    for i in range(len(df)):\n",
    "        adjustment = abs(df.iloc[i].ROI)*(df.iloc[i].adjustment_factor - mean_adj_factor + 1)\n",
    "        df.adjusted_ROI = df.ROI + adjustment\n",
    "    return df"
   ]
  },
  {
   "cell_type": "code",
   "execution_count": 101,
   "metadata": {},
   "outputs": [
    {
     "name": "stderr",
     "output_type": "stream",
     "text": [
      "/Users/hugoramambason/anaconda3/lib/python3.6/site-packages/pandas/core/groupby/groupby.py:4658: FutureWarning: using a dict with renaming is deprecated and will be removed in a future version\n",
      "  return super(DataFrameGroupBy, self).aggregate(arg, *args, **kwargs)\n"
     ]
    }
   ],
   "source": [
    "alphas = [1]\n",
    "scores_pure_model = []\n",
    "for alpha in alphas:\n",
    "    mean_adj_factor = merged_df_train.adjustment_factor.mean();\n",
    "    def adjust_ROI(x):\n",
    "        adjustment = abs(x.ROI)*alpha*(x.adjustment_factor - mean_adj_factor);\n",
    "        return x.ROI + adjustment;\n",
    "    merged_df_train['adjusted_ROI'] = merged_df_train.apply(adjust_ROI, axis=1);\n",
    "    merged_df_test['adjusted_ROI'] = merged_df_test.apply(adjust_ROI, axis=1);\n",
    "    \n",
    "    train_final = merged_df_train.sort_values(by=['adjusted_ROI'])\n",
    "    train_final['adjusted_Rank'] = np.arange(0,train_final.shape[0])\n",
    "    train_final['adjusted_Rank'] = (train_final['adjusted_Rank']/train_final.shape[0])*100\n",
    "    \n",
    "    test_final = merged_df_test.sort_values(by=['adjusted_ROI'])\n",
    "    test_final['adjusted_Rank'] = np.arange(0,test_final.shape[0])\n",
    "    test_final['adjusted_Rank'] = (test_final['adjusted_Rank']/test_final.shape[0])*100\n",
    "    \n",
    "    train_final_data = train_final.groupby('ZIP').agg({\n",
    "                'ZIP' : {'Count' : 'count'},\n",
    "                'adjusted_Rank' : np.mean,\n",
    "                'Rank' : np.mean\n",
    "            })\n",
    "    ranked_df = pd.DataFrame(train_final_data.to_records())\n",
    "    ranked_df.columns = ['ZIP', 'Count', 'adj_rank_mean', 'rank_mean']\n",
    "    ranked_df['Predicted_mean'] = 50\n",
    "    adj_score = r2_score((ranked_df.adj_rank_mean*ranked_df.Count), (ranked_df.Predicted_mean*ranked_df.Count))\n",
    "    scores_pure_model.append(adj_score)"
   ]
  },
  {
   "cell_type": "code",
   "execution_count": 102,
   "metadata": {},
   "outputs": [],
   "source": [
    "ranked_df['rank_mean'] = ranked_df['rank_mean']*100\n",
    "train_final['Rank'] = train_final['Rank']*100\n",
    "test_final['Rank'] = test_final['Rank']*100"
   ]
  },
  {
   "cell_type": "code",
   "execution_count": 103,
   "metadata": {},
   "outputs": [
    {
     "data": {
      "text/html": [
       "<div>\n",
       "<style scoped>\n",
       "    .dataframe tbody tr th:only-of-type {\n",
       "        vertical-align: middle;\n",
       "    }\n",
       "\n",
       "    .dataframe tbody tr th {\n",
       "        vertical-align: top;\n",
       "    }\n",
       "\n",
       "    .dataframe thead th {\n",
       "        text-align: right;\n",
       "    }\n",
       "</style>\n",
       "<table border=\"1\" class=\"dataframe\">\n",
       "  <thead>\n",
       "    <tr style=\"text-align: right;\">\n",
       "      <th></th>\n",
       "      <th>proba</th>\n",
       "      <th>true_val</th>\n",
       "      <th>int_rate</th>\n",
       "      <th>amnt</th>\n",
       "      <th>total_pymnt</th>\n",
       "      <th>term</th>\n",
       "      <th>ZIP</th>\n",
       "      <th>ROI</th>\n",
       "      <th>Real_ROI</th>\n",
       "      <th>annualized_amnt</th>\n",
       "      <th>Rank</th>\n",
       "      <th>2014_accpt_loans</th>\n",
       "      <th>2014_rejected_loans</th>\n",
       "      <th>num_loan_apps_considered</th>\n",
       "      <th>pct_accepted</th>\n",
       "      <th>clipped_pct</th>\n",
       "      <th>adjustment_factor</th>\n",
       "      <th>adjusted_ROI</th>\n",
       "      <th>adjusted_Rank</th>\n",
       "    </tr>\n",
       "  </thead>\n",
       "  <tbody>\n",
       "    <tr>\n",
       "      <th>218169</th>\n",
       "      <td>0.664469</td>\n",
       "      <td>0</td>\n",
       "      <td>0.1449</td>\n",
       "      <td>17500.0</td>\n",
       "      <td>19074.720000</td>\n",
       "      <td>5.0</td>\n",
       "      <td>7</td>\n",
       "      <td>-0.317661</td>\n",
       "      <td>304.183974</td>\n",
       "      <td>3500.0</td>\n",
       "      <td>10.736706</td>\n",
       "      <td>2</td>\n",
       "      <td>63.0</td>\n",
       "      <td>65.0</td>\n",
       "      <td>0.030769</td>\n",
       "      <td>0.068506</td>\n",
       "      <td>1.643473</td>\n",
       "      <td>-0.125649</td>\n",
       "      <td>51.364754</td>\n",
       "    </tr>\n",
       "    <tr>\n",
       "      <th>218170</th>\n",
       "      <td>0.639860</td>\n",
       "      <td>0</td>\n",
       "      <td>0.1824</td>\n",
       "      <td>18000.0</td>\n",
       "      <td>25561.684514</td>\n",
       "      <td>5.0</td>\n",
       "      <td>7</td>\n",
       "      <td>-0.287025</td>\n",
       "      <td>1307.938115</td>\n",
       "      <td>3600.0</td>\n",
       "      <td>15.868328</td>\n",
       "      <td>2</td>\n",
       "      <td>63.0</td>\n",
       "      <td>65.0</td>\n",
       "      <td>0.030769</td>\n",
       "      <td>0.068506</td>\n",
       "      <td>1.643473</td>\n",
       "      <td>-0.113531</td>\n",
       "      <td>54.956935</td>\n",
       "    </tr>\n",
       "  </tbody>\n",
       "</table>\n",
       "</div>"
      ],
      "text/plain": [
       "           proba  true_val  int_rate     amnt   total_pymnt  term  ZIP  \\\n",
       "218169  0.664469         0    0.1449  17500.0  19074.720000   5.0    7   \n",
       "218170  0.639860         0    0.1824  18000.0  25561.684514   5.0    7   \n",
       "\n",
       "             ROI     Real_ROI  annualized_amnt       Rank  2014_accpt_loans  \\\n",
       "218169 -0.317661   304.183974           3500.0  10.736706                 2   \n",
       "218170 -0.287025  1307.938115           3600.0  15.868328                 2   \n",
       "\n",
       "        2014_rejected_loans  num_loan_apps_considered  pct_accepted  \\\n",
       "218169                 63.0                      65.0      0.030769   \n",
       "218170                 63.0                      65.0      0.030769   \n",
       "\n",
       "        clipped_pct  adjustment_factor  adjusted_ROI  adjusted_Rank  \n",
       "218169     0.068506           1.643473     -0.125649      51.364754  \n",
       "218170     0.068506           1.643473     -0.113531      54.956935  "
      ]
     },
     "execution_count": 103,
     "metadata": {},
     "output_type": "execute_result"
    }
   ],
   "source": [
    "train_final[train_final.ZIP == 7]"
   ]
  },
  {
   "cell_type": "code",
   "execution_count": 104,
   "metadata": {},
   "outputs": [
    {
     "data": {
      "text/html": [
       "<div>\n",
       "<style scoped>\n",
       "    .dataframe tbody tr th:only-of-type {\n",
       "        vertical-align: middle;\n",
       "    }\n",
       "\n",
       "    .dataframe tbody tr th {\n",
       "        vertical-align: top;\n",
       "    }\n",
       "\n",
       "    .dataframe thead th {\n",
       "        text-align: right;\n",
       "    }\n",
       "</style>\n",
       "<table border=\"1\" class=\"dataframe\">\n",
       "  <thead>\n",
       "    <tr style=\"text-align: right;\">\n",
       "      <th></th>\n",
       "      <th>proba</th>\n",
       "      <th>true_val</th>\n",
       "      <th>int_rate</th>\n",
       "      <th>amnt</th>\n",
       "      <th>total_pymnt</th>\n",
       "      <th>term</th>\n",
       "      <th>ZIP</th>\n",
       "      <th>ROI</th>\n",
       "      <th>Real_ROI</th>\n",
       "      <th>annualized_amnt</th>\n",
       "      <th>Rank</th>\n",
       "      <th>2014_accpt_loans</th>\n",
       "      <th>2014_rejected_loans</th>\n",
       "      <th>num_loan_apps_considered</th>\n",
       "      <th>pct_accepted</th>\n",
       "      <th>clipped_pct</th>\n",
       "      <th>adjustment_factor</th>\n",
       "      <th>adjusted_ROI</th>\n",
       "      <th>adjusted_Rank</th>\n",
       "    </tr>\n",
       "  </thead>\n",
       "  <tbody>\n",
       "    <tr>\n",
       "      <th>345718</th>\n",
       "      <td>0.43399</td>\n",
       "      <td>1</td>\n",
       "      <td>0.1269</td>\n",
       "      <td>20000</td>\n",
       "      <td>13923.86</td>\n",
       "      <td>3.0</td>\n",
       "      <td>7</td>\n",
       "      <td>-0.167404</td>\n",
       "      <td>-2274.171365</td>\n",
       "      <td>6666.666667</td>\n",
       "      <td>29.964636</td>\n",
       "      <td>2</td>\n",
       "      <td>63.0</td>\n",
       "      <td>65.0</td>\n",
       "      <td>0.030769</td>\n",
       "      <td>0.068506</td>\n",
       "      <td>1.638306</td>\n",
       "      <td>-0.067081</td>\n",
       "      <td>63.66321</td>\n",
       "    </tr>\n",
       "  </tbody>\n",
       "</table>\n",
       "</div>"
      ],
      "text/plain": [
       "          proba  true_val  int_rate   amnt  total_pymnt  term  ZIP       ROI  \\\n",
       "345718  0.43399         1    0.1269  20000     13923.86   3.0    7 -0.167404   \n",
       "\n",
       "           Real_ROI  annualized_amnt       Rank  2014_accpt_loans  \\\n",
       "345718 -2274.171365      6666.666667  29.964636                 2   \n",
       "\n",
       "        2014_rejected_loans  num_loan_apps_considered  pct_accepted  \\\n",
       "345718                 63.0                      65.0      0.030769   \n",
       "\n",
       "        clipped_pct  adjustment_factor  adjusted_ROI  adjusted_Rank  \n",
       "345718     0.068506           1.638306     -0.067081       63.66321  "
      ]
     },
     "execution_count": 104,
     "metadata": {},
     "output_type": "execute_result"
    }
   ],
   "source": [
    "test_final[test_final.ZIP == 7]"
   ]
  },
  {
   "cell_type": "code",
   "execution_count": 105,
   "metadata": {},
   "outputs": [],
   "source": [
    "mean_ROI_train = train_final.adjusted_ROI.mean()\n",
    "std_ROI_train = train_final.adjusted_ROI.std()\n",
    "\n",
    "mean_ROI_test = test_final.adjusted_ROI.mean()\n",
    "std_ROI_test = test_final.adjusted_ROI.std()"
   ]
  },
  {
   "cell_type": "code",
   "execution_count": 106,
   "metadata": {},
   "outputs": [],
   "source": [
    "loans_to_buy_train = train_final[train_final.adjusted_ROI > (mean_ROI_train + 1.5*std_ROI_train)]\n",
    "loans_to_buy_test = test_final[test_final.adjusted_ROI > (mean_ROI_test + 1.5*std_ROI_test)]"
   ]
  },
  {
   "cell_type": "code",
   "execution_count": 107,
   "metadata": {},
   "outputs": [
    {
     "data": {
      "text/plain": [
       "(1700, 19)"
      ]
     },
     "execution_count": 107,
     "metadata": {},
     "output_type": "execute_result"
    }
   ],
   "source": [
    "loans_to_buy_test.shape"
   ]
  },
  {
   "cell_type": "code",
   "execution_count": 108,
   "metadata": {},
   "outputs": [
    {
     "data": {
      "text/html": [
       "<div>\n",
       "<style scoped>\n",
       "    .dataframe tbody tr th:only-of-type {\n",
       "        vertical-align: middle;\n",
       "    }\n",
       "\n",
       "    .dataframe tbody tr th {\n",
       "        vertical-align: top;\n",
       "    }\n",
       "\n",
       "    .dataframe thead th {\n",
       "        text-align: right;\n",
       "    }\n",
       "</style>\n",
       "<table border=\"1\" class=\"dataframe\">\n",
       "  <thead>\n",
       "    <tr style=\"text-align: right;\">\n",
       "      <th></th>\n",
       "      <th>proba</th>\n",
       "      <th>true_val</th>\n",
       "      <th>int_rate</th>\n",
       "      <th>amnt</th>\n",
       "      <th>total_pymnt</th>\n",
       "      <th>term</th>\n",
       "      <th>ZIP</th>\n",
       "      <th>ROI</th>\n",
       "      <th>Real_ROI</th>\n",
       "      <th>annualized_amnt</th>\n",
       "      <th>Rank</th>\n",
       "      <th>2014_accpt_loans</th>\n",
       "      <th>2014_rejected_loans</th>\n",
       "      <th>num_loan_apps_considered</th>\n",
       "      <th>pct_accepted</th>\n",
       "      <th>clipped_pct</th>\n",
       "      <th>adjustment_factor</th>\n",
       "      <th>adjusted_ROI</th>\n",
       "      <th>adjusted_Rank</th>\n",
       "    </tr>\n",
       "  </thead>\n",
       "  <tbody>\n",
       "    <tr>\n",
       "      <th>283818</th>\n",
       "      <td>0.043623</td>\n",
       "      <td>0</td>\n",
       "      <td>0.0532</td>\n",
       "      <td>15000</td>\n",
       "      <td>16068.421629</td>\n",
       "      <td>3.0</td>\n",
       "      <td>404</td>\n",
       "      <td>0.026832</td>\n",
       "      <td>348.004305</td>\n",
       "      <td>5000.000000</td>\n",
       "      <td>98.665347</td>\n",
       "      <td>95</td>\n",
       "      <td>1005.0</td>\n",
       "      <td>1100.0</td>\n",
       "      <td>0.086364</td>\n",
       "      <td>0.086364</td>\n",
       "      <td>1.299544</td>\n",
       "      <td>0.033823</td>\n",
       "      <td>99.508294</td>\n",
       "    </tr>\n",
       "    <tr>\n",
       "      <th>7001</th>\n",
       "      <td>0.034754</td>\n",
       "      <td>0</td>\n",
       "      <td>0.0532</td>\n",
       "      <td>12025</td>\n",
       "      <td>13033.110153</td>\n",
       "      <td>3.0</td>\n",
       "      <td>112</td>\n",
       "      <td>0.032194</td>\n",
       "      <td>327.060552</td>\n",
       "      <td>4008.333333</td>\n",
       "      <td>99.472427</td>\n",
       "      <td>2382</td>\n",
       "      <td>20744.0</td>\n",
       "      <td>23126.0</td>\n",
       "      <td>0.103001</td>\n",
       "      <td>0.103001</td>\n",
       "      <td>1.089634</td>\n",
       "      <td>0.033823</td>\n",
       "      <td>99.508583</td>\n",
       "    </tr>\n",
       "    <tr>\n",
       "      <th>49874</th>\n",
       "      <td>0.035353</td>\n",
       "      <td>0</td>\n",
       "      <td>0.0532</td>\n",
       "      <td>25000</td>\n",
       "      <td>26989.724449</td>\n",
       "      <td>3.0</td>\n",
       "      <td>190</td>\n",
       "      <td>0.031831</td>\n",
       "      <td>646.384908</td>\n",
       "      <td>8333.333333</td>\n",
       "      <td>99.434352</td>\n",
       "      <td>763</td>\n",
       "      <td>6729.0</td>\n",
       "      <td>7492.0</td>\n",
       "      <td>0.101842</td>\n",
       "      <td>0.101842</td>\n",
       "      <td>1.102034</td>\n",
       "      <td>0.033837</td>\n",
       "      <td>99.508872</td>\n",
       "    </tr>\n",
       "    <tr>\n",
       "      <th>189982</th>\n",
       "      <td>0.041400</td>\n",
       "      <td>0</td>\n",
       "      <td>0.0603</td>\n",
       "      <td>24000</td>\n",
       "      <td>26056.256722</td>\n",
       "      <td>3.0</td>\n",
       "      <td>207</td>\n",
       "      <td>0.034982</td>\n",
       "      <td>666.725601</td>\n",
       "      <td>8000.000000</td>\n",
       "      <td>99.670880</td>\n",
       "      <td>1091</td>\n",
       "      <td>8695.0</td>\n",
       "      <td>9786.0</td>\n",
       "      <td>0.111486</td>\n",
       "      <td>0.111486</td>\n",
       "      <td>1.006705</td>\n",
       "      <td>0.033852</td>\n",
       "      <td>99.509162</td>\n",
       "    </tr>\n",
       "    <tr>\n",
       "      <th>158896</th>\n",
       "      <td>0.060165</td>\n",
       "      <td>0</td>\n",
       "      <td>0.0649</td>\n",
       "      <td>6600</td>\n",
       "      <td>7230.465614</td>\n",
       "      <td>3.0</td>\n",
       "      <td>441</td>\n",
       "      <td>0.027830</td>\n",
       "      <td>203.797491</td>\n",
       "      <td>2200.000000</td>\n",
       "      <td>98.836109</td>\n",
       "      <td>810</td>\n",
       "      <td>8254.0</td>\n",
       "      <td>9064.0</td>\n",
       "      <td>0.089365</td>\n",
       "      <td>0.089365</td>\n",
       "      <td>1.255905</td>\n",
       "      <td>0.033866</td>\n",
       "      <td>99.509451</td>\n",
       "    </tr>\n",
       "  </tbody>\n",
       "</table>\n",
       "</div>"
      ],
      "text/plain": [
       "           proba  true_val  int_rate   amnt   total_pymnt  term  ZIP  \\\n",
       "283818  0.043623         0    0.0532  15000  16068.421629   3.0  404   \n",
       "7001    0.034754         0    0.0532  12025  13033.110153   3.0  112   \n",
       "49874   0.035353         0    0.0532  25000  26989.724449   3.0  190   \n",
       "189982  0.041400         0    0.0603  24000  26056.256722   3.0  207   \n",
       "158896  0.060165         0    0.0649   6600   7230.465614   3.0  441   \n",
       "\n",
       "             ROI    Real_ROI  annualized_amnt       Rank  2014_accpt_loans  \\\n",
       "283818  0.026832  348.004305      5000.000000  98.665347                95   \n",
       "7001    0.032194  327.060552      4008.333333  99.472427              2382   \n",
       "49874   0.031831  646.384908      8333.333333  99.434352               763   \n",
       "189982  0.034982  666.725601      8000.000000  99.670880              1091   \n",
       "158896  0.027830  203.797491      2200.000000  98.836109               810   \n",
       "\n",
       "        2014_rejected_loans  num_loan_apps_considered  pct_accepted  \\\n",
       "283818               1005.0                    1100.0      0.086364   \n",
       "7001                20744.0                   23126.0      0.103001   \n",
       "49874                6729.0                    7492.0      0.101842   \n",
       "189982               8695.0                    9786.0      0.111486   \n",
       "158896               8254.0                    9064.0      0.089365   \n",
       "\n",
       "        clipped_pct  adjustment_factor  adjusted_ROI  adjusted_Rank  \n",
       "283818     0.086364           1.299544      0.033823      99.508294  \n",
       "7001       0.103001           1.089634      0.033823      99.508583  \n",
       "49874      0.101842           1.102034      0.033837      99.508872  \n",
       "189982     0.111486           1.006705      0.033852      99.509162  \n",
       "158896     0.089365           1.255905      0.033866      99.509451  "
      ]
     },
     "execution_count": 108,
     "metadata": {},
     "output_type": "execute_result"
    }
   ],
   "source": [
    "loans_to_buy_test.head()"
   ]
  },
  {
   "cell_type": "code",
   "execution_count": 109,
   "metadata": {},
   "outputs": [
    {
     "name": "stdout",
     "output_type": "stream",
     "text": [
      "0.026560826235351664\n"
     ]
    }
   ],
   "source": [
    "return_ROI = np.sum(loans_to_buy_train.Real_ROI)/np.sum(loans_to_buy_train.annualized_amnt)\n",
    "portfolio_ROI = np.sum(train_final.Real_ROI)/np.sum(train_final.annualized_amnt)\n",
    "print(return_ROI - portfolio_ROI)"
   ]
  },
  {
   "cell_type": "code",
   "execution_count": 110,
   "metadata": {},
   "outputs": [
    {
     "name": "stdout",
     "output_type": "stream",
     "text": [
      "0.07218479561086673\n"
     ]
    }
   ],
   "source": [
    "return_ROI = np.sum(loans_to_buy_test.Real_ROI)/np.sum(loans_to_buy_test.annualized_amnt)\n",
    "portfolio_ROI = np.sum(test_final.Real_ROI)/np.sum(test_final.annualized_amnt)\n",
    "print(return_ROI - portfolio_ROI)"
   ]
  },
  {
   "cell_type": "markdown",
   "metadata": {},
   "source": [
    "So a portfolio where we **actively** favour traditionally disfavoured communities still outperforms the overall portfolio by 2.1%. This is an interesting result, since we might be able to show that we can target disenfranchised communities with investment and still deliver above average results for our investors. This result is for the training data, needs to be replicated on the test data.\n",
    "\n",
    "Have written subset of loans to csv, perhaps Anthony can run regressions to see how loans we buy compare with overall portfolio in terms of favouring various groups etc?"
   ]
  },
  {
   "cell_type": "code",
   "execution_count": 111,
   "metadata": {},
   "outputs": [],
   "source": [
    "loans_to_buy_train.to_csv('loans_bought_2014', index = False)\n",
    "loans_to_buy_test.to_csv('loans_bought_2015', index = False)"
   ]
  },
  {
   "cell_type": "code",
   "execution_count": 113,
   "metadata": {},
   "outputs": [
    {
     "data": {
      "text/plain": [
       "array([[ 1.        , -0.39329985],\n",
       "       [-0.39329985,  1.        ]])"
      ]
     },
     "execution_count": 113,
     "metadata": {},
     "output_type": "execute_result"
    }
   ],
   "source": [
    "np.corrcoef(loans_to_buy_test.adjusted_Rank, loans_to_buy_test.pct_accepted)"
   ]
  },
  {
   "cell_type": "code",
   "execution_count": 125,
   "metadata": {},
   "outputs": [
    {
     "data": {
      "text/plain": [
       "array([[ 1.        , -0.21186845],\n",
       "       [-0.21186845,  1.        ]])"
      ]
     },
     "execution_count": 125,
     "metadata": {},
     "output_type": "execute_result"
    }
   ],
   "source": [
    "np.corrcoef(test_final.adjusted_Rank, test_final.pct_accepted)"
   ]
  },
  {
   "cell_type": "code",
   "execution_count": 124,
   "metadata": {},
   "outputs": [
    {
     "data": {
      "text/plain": [
       "array([[1.       , 0.0171302],\n",
       "       [0.0171302, 1.       ]])"
      ]
     },
     "execution_count": 124,
     "metadata": {},
     "output_type": "execute_result"
    }
   ],
   "source": [
    "np.corrcoef(test_final.Rank, test_final.pct_accepted)"
   ]
  },
  {
   "cell_type": "code",
   "execution_count": 126,
   "metadata": {},
   "outputs": [
    {
     "data": {
      "text/html": [
       "<div>\n",
       "<style scoped>\n",
       "    .dataframe tbody tr th:only-of-type {\n",
       "        vertical-align: middle;\n",
       "    }\n",
       "\n",
       "    .dataframe tbody tr th {\n",
       "        vertical-align: top;\n",
       "    }\n",
       "\n",
       "    .dataframe thead th {\n",
       "        text-align: right;\n",
       "    }\n",
       "</style>\n",
       "<table border=\"1\" class=\"dataframe\">\n",
       "  <thead>\n",
       "    <tr style=\"text-align: right;\">\n",
       "      <th></th>\n",
       "      <th>proba</th>\n",
       "      <th>true_val</th>\n",
       "      <th>int_rate</th>\n",
       "      <th>amnt</th>\n",
       "      <th>total_pymnt</th>\n",
       "      <th>term</th>\n",
       "      <th>ZIP</th>\n",
       "      <th>ROI</th>\n",
       "      <th>Real_ROI</th>\n",
       "      <th>annualized_amnt</th>\n",
       "      <th>Rank</th>\n",
       "      <th>2014_accpt_loans</th>\n",
       "      <th>2014_rejected_loans</th>\n",
       "      <th>num_loan_apps_considered</th>\n",
       "      <th>pct_accepted</th>\n",
       "      <th>clipped_pct</th>\n",
       "      <th>adjustment_factor</th>\n",
       "      <th>adjusted_ROI</th>\n",
       "      <th>adjusted_Rank</th>\n",
       "    </tr>\n",
       "  </thead>\n",
       "  <tbody>\n",
       "    <tr>\n",
       "      <th>727</th>\n",
       "      <td>0.835835</td>\n",
       "      <td>0</td>\n",
       "      <td>0.1333</td>\n",
       "      <td>33600</td>\n",
       "      <td>39519.895741</td>\n",
       "      <td>3.0</td>\n",
       "      <td>79</td>\n",
       "      <td>-0.438860</td>\n",
       "      <td>1867.571125</td>\n",
       "      <td>11200.000000</td>\n",
       "      <td>0.000288</td>\n",
       "      <td>184</td>\n",
       "      <td>913.0</td>\n",
       "      <td>1097.0</td>\n",
       "      <td>0.167730</td>\n",
       "      <td>0.139538</td>\n",
       "      <td>0.80432</td>\n",
       "      <td>-0.541859</td>\n",
       "      <td>0.000000</td>\n",
       "    </tr>\n",
       "    <tr>\n",
       "      <th>1022</th>\n",
       "      <td>0.835118</td>\n",
       "      <td>1</td>\n",
       "      <td>0.1333</td>\n",
       "      <td>28000</td>\n",
       "      <td>26759.920000</td>\n",
       "      <td>3.0</td>\n",
       "      <td>600</td>\n",
       "      <td>-0.438369</td>\n",
       "      <td>-419.617104</td>\n",
       "      <td>9333.333333</td>\n",
       "      <td>0.000577</td>\n",
       "      <td>1250</td>\n",
       "      <td>7661.0</td>\n",
       "      <td>8911.0</td>\n",
       "      <td>0.140276</td>\n",
       "      <td>0.139538</td>\n",
       "      <td>0.80432</td>\n",
       "      <td>-0.541253</td>\n",
       "      <td>0.000289</td>\n",
       "    </tr>\n",
       "    <tr>\n",
       "      <th>7019</th>\n",
       "      <td>0.829023</td>\n",
       "      <td>0</td>\n",
       "      <td>0.1333</td>\n",
       "      <td>28000</td>\n",
       "      <td>34103.184219</td>\n",
       "      <td>3.0</td>\n",
       "      <td>220</td>\n",
       "      <td>-0.434197</td>\n",
       "      <td>1902.235985</td>\n",
       "      <td>9333.333333</td>\n",
       "      <td>0.001731</td>\n",
       "      <td>454</td>\n",
       "      <td>2502.0</td>\n",
       "      <td>2956.0</td>\n",
       "      <td>0.153586</td>\n",
       "      <td>0.139538</td>\n",
       "      <td>0.80432</td>\n",
       "      <td>-0.536102</td>\n",
       "      <td>0.000578</td>\n",
       "    </tr>\n",
       "    <tr>\n",
       "      <th>7632</th>\n",
       "      <td>0.828336</td>\n",
       "      <td>1</td>\n",
       "      <td>0.1333</td>\n",
       "      <td>28000</td>\n",
       "      <td>8621.260000</td>\n",
       "      <td>3.0</td>\n",
       "      <td>69</td>\n",
       "      <td>-0.433726</td>\n",
       "      <td>-9092.725251</td>\n",
       "      <td>9333.333333</td>\n",
       "      <td>0.002019</td>\n",
       "      <td>140</td>\n",
       "      <td>800.0</td>\n",
       "      <td>940.0</td>\n",
       "      <td>0.148936</td>\n",
       "      <td>0.139538</td>\n",
       "      <td>0.80432</td>\n",
       "      <td>-0.535520</td>\n",
       "      <td>0.000868</td>\n",
       "    </tr>\n",
       "    <tr>\n",
       "      <th>7845</th>\n",
       "      <td>0.827704</td>\n",
       "      <td>0</td>\n",
       "      <td>0.1333</td>\n",
       "      <td>25000</td>\n",
       "      <td>28468.916242</td>\n",
       "      <td>3.0</td>\n",
       "      <td>941</td>\n",
       "      <td>-0.433294</td>\n",
       "      <td>1106.600138</td>\n",
       "      <td>8333.333333</td>\n",
       "      <td>0.002308</td>\n",
       "      <td>1020</td>\n",
       "      <td>4902.0</td>\n",
       "      <td>5922.0</td>\n",
       "      <td>0.172239</td>\n",
       "      <td>0.139538</td>\n",
       "      <td>0.80432</td>\n",
       "      <td>-0.534987</td>\n",
       "      <td>0.001157</td>\n",
       "    </tr>\n",
       "  </tbody>\n",
       "</table>\n",
       "</div>"
      ],
      "text/plain": [
       "         proba  true_val  int_rate   amnt   total_pymnt  term  ZIP       ROI  \\\n",
       "727   0.835835         0    0.1333  33600  39519.895741   3.0   79 -0.438860   \n",
       "1022  0.835118         1    0.1333  28000  26759.920000   3.0  600 -0.438369   \n",
       "7019  0.829023         0    0.1333  28000  34103.184219   3.0  220 -0.434197   \n",
       "7632  0.828336         1    0.1333  28000   8621.260000   3.0   69 -0.433726   \n",
       "7845  0.827704         0    0.1333  25000  28468.916242   3.0  941 -0.433294   \n",
       "\n",
       "         Real_ROI  annualized_amnt      Rank  2014_accpt_loans  \\\n",
       "727   1867.571125     11200.000000  0.000288               184   \n",
       "1022  -419.617104      9333.333333  0.000577              1250   \n",
       "7019  1902.235985      9333.333333  0.001731               454   \n",
       "7632 -9092.725251      9333.333333  0.002019               140   \n",
       "7845  1106.600138      8333.333333  0.002308              1020   \n",
       "\n",
       "      2014_rejected_loans  num_loan_apps_considered  pct_accepted  \\\n",
       "727                 913.0                    1097.0      0.167730   \n",
       "1022               7661.0                    8911.0      0.140276   \n",
       "7019               2502.0                    2956.0      0.153586   \n",
       "7632                800.0                     940.0      0.148936   \n",
       "7845               4902.0                    5922.0      0.172239   \n",
       "\n",
       "      clipped_pct  adjustment_factor  adjusted_ROI  adjusted_Rank  \n",
       "727      0.139538            0.80432     -0.541859       0.000000  \n",
       "1022     0.139538            0.80432     -0.541253       0.000289  \n",
       "7019     0.139538            0.80432     -0.536102       0.000578  \n",
       "7632     0.139538            0.80432     -0.535520       0.000868  \n",
       "7845     0.139538            0.80432     -0.534987       0.001157  "
      ]
     },
     "execution_count": 126,
     "metadata": {},
     "output_type": "execute_result"
    }
   ],
   "source": [
    "test_final.head()"
   ]
  },
  {
   "cell_type": "code",
   "execution_count": 1,
   "metadata": {},
   "outputs": [
    {
     "ename": "NameError",
     "evalue": "name 'plt' is not defined",
     "output_type": "error",
     "traceback": [
      "\u001b[0;31m---------------------------------------------------------------------------\u001b[0m",
      "\u001b[0;31mNameError\u001b[0m                                 Traceback (most recent call last)",
      "\u001b[0;32m<ipython-input-1-82f20e75b492>\u001b[0m in \u001b[0;36m<module>\u001b[0;34m()\u001b[0m\n\u001b[0;32m----> 1\u001b[0;31m \u001b[0mplt\u001b[0m\u001b[0;34m.\u001b[0m\u001b[0mplot\u001b[0m\u001b[0;34m(\u001b[0m\u001b[0mtest_final\u001b[0m\u001b[0;34m.\u001b[0m\u001b[0mRank\u001b[0m\u001b[0;34m,\u001b[0m \u001b[0mtest_final\u001b[0m\u001b[0;34m.\u001b[0m\u001b[0mpct_accepted\u001b[0m\u001b[0;34m,\u001b[0m \u001b[0;34m'o'\u001b[0m\u001b[0;34m)\u001b[0m\u001b[0;34m\u001b[0m\u001b[0m\n\u001b[0m\u001b[1;32m      2\u001b[0m \u001b[0mplt\u001b[0m\u001b[0;34m.\u001b[0m\u001b[0mshow\u001b[0m\u001b[0;34m(\u001b[0m\u001b[0;34m)\u001b[0m\u001b[0;34m\u001b[0m\u001b[0m\n",
      "\u001b[0;31mNameError\u001b[0m: name 'plt' is not defined"
     ]
    }
   ],
   "source": [
    "plt.plot(test_final.Rank, test_final.pct_accepted, 'o')\n",
    "plt.show()"
   ]
  },
  {
   "cell_type": "code",
   "execution_count": null,
   "metadata": {},
   "outputs": [],
   "source": []
  }
 ],
 "metadata": {
  "kernelspec": {
   "display_name": "Python 3",
   "language": "python",
   "name": "python3"
  },
  "language_info": {
   "codemirror_mode": {
    "name": "ipython",
    "version": 3
   },
   "file_extension": ".py",
   "mimetype": "text/x-python",
   "name": "python",
   "nbconvert_exporter": "python",
   "pygments_lexer": "ipython3",
   "version": "3.6.5"
  }
 },
 "nbformat": 4,
 "nbformat_minor": 2
}
