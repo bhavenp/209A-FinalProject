{
 "cells": [
  {
   "cell_type": "code",
   "execution_count": 187,
   "metadata": {},
   "outputs": [],
   "source": [
    "import numpy as np\n",
    "import pandas as pd\n",
    "import matplotlib\n",
    "import matplotlib.pyplot as plt\n",
    "%matplotlib inline\n",
    "import seaborn as sns\n",
    "sns.set()\n",
    "\n",
    "from sklearn.linear_model import LogisticRegression\n",
    "from sklearn.linear_model import LogisticRegressionCV\n",
    "from sklearn.model_selection import train_test_split\n",
    "from sklearn.model_selection import cross_val_score\n",
    "from sklearn.metrics import accuracy_score\n",
    "from sklearn.discriminant_analysis import QuadraticDiscriminantAnalysis\n",
    "from sklearn.discriminant_analysis import LinearDiscriminantAnalysis\n",
    "from sklearn import preprocessing\n",
    "from sklearn.ensemble import RandomForestClassifier\n",
    "from sklearn.pipeline import make_pipeline\n",
    "from sklearn.preprocessing import PolynomialFeatures"
   ]
  },
  {
   "cell_type": "code",
   "execution_count": 335,
   "metadata": {},
   "outputs": [],
   "source": [
    "df = pd.read_csv(\"cleaned_2014\", low_memory = False);"
   ]
  },
  {
   "cell_type": "code",
   "execution_count": 412,
   "metadata": {},
   "outputs": [
    {
     "data": {
      "text/html": [
       "<div>\n",
       "<style scoped>\n",
       "    .dataframe tbody tr th:only-of-type {\n",
       "        vertical-align: middle;\n",
       "    }\n",
       "\n",
       "    .dataframe tbody tr th {\n",
       "        vertical-align: top;\n",
       "    }\n",
       "\n",
       "    .dataframe thead th {\n",
       "        text-align: right;\n",
       "    }\n",
       "</style>\n",
       "<table border=\"1\" class=\"dataframe\">\n",
       "  <thead>\n",
       "    <tr style=\"text-align: right;\">\n",
       "      <th></th>\n",
       "      <th>funded_amnt</th>\n",
       "      <th>int_rate</th>\n",
       "      <th>total_pymnt</th>\n",
       "      <th>annual_inc</th>\n",
       "      <th>dti</th>\n",
       "      <th>loan_status</th>\n",
       "      <th>revol_util</th>\n",
       "      <th>term</th>\n",
       "      <th>emp_length_1 year</th>\n",
       "      <th>emp_length_10+ years</th>\n",
       "      <th>...</th>\n",
       "      <th>purpose_medical</th>\n",
       "      <th>purpose_moving</th>\n",
       "      <th>purpose_other</th>\n",
       "      <th>purpose_renewable_energy</th>\n",
       "      <th>purpose_small_business</th>\n",
       "      <th>purpose_vacation</th>\n",
       "      <th>purpose_wedding</th>\n",
       "      <th>purpose_nan</th>\n",
       "      <th>amnt</th>\n",
       "      <th>paid</th>\n",
       "    </tr>\n",
       "  </thead>\n",
       "  <tbody>\n",
       "    <tr>\n",
       "      <th>218511</th>\n",
       "      <td>0.511765</td>\n",
       "      <td>0.1447</td>\n",
       "      <td>25188.225984</td>\n",
       "      <td>0.014272</td>\n",
       "      <td>0.496374</td>\n",
       "      <td>Fully Paid</td>\n",
       "      <td>0.776</td>\n",
       "      <td>5.0</td>\n",
       "      <td>0.0</td>\n",
       "      <td>0.0</td>\n",
       "      <td>...</td>\n",
       "      <td>0.0</td>\n",
       "      <td>0.0</td>\n",
       "      <td>0.0</td>\n",
       "      <td>0.0</td>\n",
       "      <td>0.0</td>\n",
       "      <td>0.0</td>\n",
       "      <td>0.0</td>\n",
       "      <td>0.0</td>\n",
       "      <td>18400.0</td>\n",
       "      <td>0</td>\n",
       "    </tr>\n",
       "    <tr>\n",
       "      <th>218512</th>\n",
       "      <td>0.617647</td>\n",
       "      <td>0.1997</td>\n",
       "      <td>4680.000000</td>\n",
       "      <td>0.010004</td>\n",
       "      <td>0.461365</td>\n",
       "      <td>Charged Off</td>\n",
       "      <td>0.463</td>\n",
       "      <td>5.0</td>\n",
       "      <td>0.0</td>\n",
       "      <td>1.0</td>\n",
       "      <td>...</td>\n",
       "      <td>0.0</td>\n",
       "      <td>0.0</td>\n",
       "      <td>0.0</td>\n",
       "      <td>0.0</td>\n",
       "      <td>0.0</td>\n",
       "      <td>0.0</td>\n",
       "      <td>0.0</td>\n",
       "      <td>0.0</td>\n",
       "      <td>22000.0</td>\n",
       "      <td>1</td>\n",
       "    </tr>\n",
       "    <tr>\n",
       "      <th>218513</th>\n",
       "      <td>0.579412</td>\n",
       "      <td>0.1699</td>\n",
       "      <td>30573.222000</td>\n",
       "      <td>0.005736</td>\n",
       "      <td>0.641410</td>\n",
       "      <td>Fully Paid</td>\n",
       "      <td>0.511</td>\n",
       "      <td>5.0</td>\n",
       "      <td>0.0</td>\n",
       "      <td>0.0</td>\n",
       "      <td>...</td>\n",
       "      <td>0.0</td>\n",
       "      <td>0.0</td>\n",
       "      <td>0.0</td>\n",
       "      <td>0.0</td>\n",
       "      <td>0.0</td>\n",
       "      <td>0.0</td>\n",
       "      <td>0.0</td>\n",
       "      <td>0.0</td>\n",
       "      <td>20700.0</td>\n",
       "      <td>0</td>\n",
       "    </tr>\n",
       "    <tr>\n",
       "      <th>218514</th>\n",
       "      <td>0.029412</td>\n",
       "      <td>0.0790</td>\n",
       "      <td>2126.579838</td>\n",
       "      <td>0.010671</td>\n",
       "      <td>0.134784</td>\n",
       "      <td>Fully Paid</td>\n",
       "      <td>0.215</td>\n",
       "      <td>3.0</td>\n",
       "      <td>0.0</td>\n",
       "      <td>0.0</td>\n",
       "      <td>...</td>\n",
       "      <td>0.0</td>\n",
       "      <td>0.0</td>\n",
       "      <td>0.0</td>\n",
       "      <td>0.0</td>\n",
       "      <td>0.0</td>\n",
       "      <td>0.0</td>\n",
       "      <td>0.0</td>\n",
       "      <td>0.0</td>\n",
       "      <td>2000.0</td>\n",
       "      <td>0</td>\n",
       "    </tr>\n",
       "    <tr>\n",
       "      <th>218515</th>\n",
       "      <td>0.264706</td>\n",
       "      <td>0.1920</td>\n",
       "      <td>13232.503339</td>\n",
       "      <td>0.005736</td>\n",
       "      <td>0.569642</td>\n",
       "      <td>Fully Paid</td>\n",
       "      <td>0.708</td>\n",
       "      <td>3.0</td>\n",
       "      <td>0.0</td>\n",
       "      <td>1.0</td>\n",
       "      <td>...</td>\n",
       "      <td>0.0</td>\n",
       "      <td>0.0</td>\n",
       "      <td>1.0</td>\n",
       "      <td>0.0</td>\n",
       "      <td>0.0</td>\n",
       "      <td>0.0</td>\n",
       "      <td>0.0</td>\n",
       "      <td>0.0</td>\n",
       "      <td>10000.0</td>\n",
       "      <td>0</td>\n",
       "    </tr>\n",
       "  </tbody>\n",
       "</table>\n",
       "<p>5 rows × 53 columns</p>\n",
       "</div>"
      ],
      "text/plain": [
       "        funded_amnt  int_rate   total_pymnt  annual_inc       dti  \\\n",
       "218511     0.511765    0.1447  25188.225984    0.014272  0.496374   \n",
       "218512     0.617647    0.1997   4680.000000    0.010004  0.461365   \n",
       "218513     0.579412    0.1699  30573.222000    0.005736  0.641410   \n",
       "218514     0.029412    0.0790   2126.579838    0.010671  0.134784   \n",
       "218515     0.264706    0.1920  13232.503339    0.005736  0.569642   \n",
       "\n",
       "        loan_status  revol_util  term  emp_length_1 year  \\\n",
       "218511   Fully Paid       0.776   5.0                0.0   \n",
       "218512  Charged Off       0.463   5.0                0.0   \n",
       "218513   Fully Paid       0.511   5.0                0.0   \n",
       "218514   Fully Paid       0.215   3.0                0.0   \n",
       "218515   Fully Paid       0.708   3.0                0.0   \n",
       "\n",
       "        emp_length_10+ years  ...   purpose_medical  purpose_moving  \\\n",
       "218511                   0.0  ...               0.0             0.0   \n",
       "218512                   1.0  ...               0.0             0.0   \n",
       "218513                   0.0  ...               0.0             0.0   \n",
       "218514                   0.0  ...               0.0             0.0   \n",
       "218515                   1.0  ...               0.0             0.0   \n",
       "\n",
       "        purpose_other  purpose_renewable_energy  purpose_small_business  \\\n",
       "218511            0.0                       0.0                     0.0   \n",
       "218512            0.0                       0.0                     0.0   \n",
       "218513            0.0                       0.0                     0.0   \n",
       "218514            0.0                       0.0                     0.0   \n",
       "218515            1.0                       0.0                     0.0   \n",
       "\n",
       "        purpose_vacation  purpose_wedding  purpose_nan     amnt  paid  \n",
       "218511               0.0              0.0          0.0  18400.0     0  \n",
       "218512               0.0              0.0          0.0  22000.0     1  \n",
       "218513               0.0              0.0          0.0  20700.0     0  \n",
       "218514               0.0              0.0          0.0   2000.0     0  \n",
       "218515               0.0              0.0          0.0  10000.0     0  \n",
       "\n",
       "[5 rows x 53 columns]"
      ]
     },
     "execution_count": 412,
     "metadata": {},
     "output_type": "execute_result"
    }
   ],
   "source": [
    "df.tail()"
   ]
  },
  {
   "cell_type": "code",
   "execution_count": 525,
   "metadata": {},
   "outputs": [],
   "source": [
    "data_train, data_test = train_test_split(df, test_size=.2, stratify=df.paid, random_state=1)"
   ]
  },
  {
   "cell_type": "code",
   "execution_count": 526,
   "metadata": {},
   "outputs": [],
   "source": [
    "def split_data(df, cols):\n",
    "    x = df.drop(cols, axis = 1)\n",
    "    y = df.paid\n",
    "    return x, y\n",
    "\n",
    "cols_to_drop_training = ['loan_status', 'paid', 'amnt', 'total_pymnt', 'term']\n",
    "x_train, y_train = split_data(data_train, cols_to_drop_training)\n",
    "x_test, y_test = split_data(data_test, cols_to_drop_training)"
   ]
  },
  {
   "cell_type": "code",
   "execution_count": 528,
   "metadata": {},
   "outputs": [
    {
     "data": {
      "text/plain": [
       "(174812, 48)"
      ]
     },
     "execution_count": 528,
     "metadata": {},
     "output_type": "execute_result"
    }
   ],
   "source": [
    "x_train.shape"
   ]
  },
  {
   "cell_type": "code",
   "execution_count": 529,
   "metadata": {},
   "outputs": [],
   "source": [
    "#create a function to take advantage of sklearn make_pipeline\n",
    "#pipeline adds second order terms and interaction terms to X_train and then fits model\n",
    "def rf_model(x, y, d):\n",
    "    model = make_pipeline(\n",
    "    PolynomialFeatures(degree=2, include_bias=False),\n",
    "    RandomForestClassifier(max_depth = d, n_estimators = 100))\n",
    "    model.fit(x, y)\n",
    "    return model\n",
    "\n",
    "rf_complex = rf_model(x_train, y_train, 10)"
   ]
  },
  {
   "cell_type": "code",
   "execution_count": 564,
   "metadata": {},
   "outputs": [],
   "source": [
    "#create a function to take advantage of sklearn make_pipeline\n",
    "#pipeline adds second order terms and interaction terms to X_train and then fits model\n",
    "def logreg_model(x, y):\n",
    "    model = make_pipeline(\n",
    "    PolynomialFeatures(degree=2, include_bias=False),\n",
    "    LogisticRegressionCV(cv = 3, penalty = 'l2', max_iter = 10000))\n",
    "    model.fit(x, y)\n",
    "    return model\n",
    "\n",
    "logreg_complex = logreg_model(x_train, y_train)"
   ]
  },
  {
   "cell_type": "code",
   "execution_count": 342,
   "metadata": {},
   "outputs": [],
   "source": [
    "def create_df(data_1, data_2):\n",
    "    df = pd.DataFrame(data_1)\n",
    "    \n",
    "    df['int_rate'] = data_2['int_rate']\n",
    "    df['amnt'] = data_2['amnt']\n",
    "    df['total_pymnt'] = data_2['total_pymnt']\n",
    "    df['term'] = data_2['term']\n",
    "    df['ROI'] = (df['int_rate'])*(1-df['proba'])\n",
    "\n",
    "    df['Real_ROI'] = df['amnt']*(((df['total_pymnt']/df['amnt'])**(1/df['term']))-1)\n",
    "    df['annualized_amnt'] = df['amnt']*(1/df['term'])\n",
    "    \n",
    "    return df"
   ]
  },
  {
   "cell_type": "code",
   "execution_count": 565,
   "metadata": {},
   "outputs": [],
   "source": [
    "train_data = {'proba' : logreg_complex.predict_proba(x_train)[:, 1], 'true_val' : y_train}\n",
    "test_data = {'proba' : logreg_complex.predict_proba(x_test)[:, 1], 'true_val' : y_test}\n",
    "\n",
    "df_train = create_df(train_data, data_train)\n",
    "df_test =  create_df(test_data, data_test)"
   ]
  },
  {
   "cell_type": "code",
   "execution_count": 566,
   "metadata": {},
   "outputs": [
    {
     "data": {
      "text/html": [
       "<div>\n",
       "<style scoped>\n",
       "    .dataframe tbody tr th:only-of-type {\n",
       "        vertical-align: middle;\n",
       "    }\n",
       "\n",
       "    .dataframe tbody tr th {\n",
       "        vertical-align: top;\n",
       "    }\n",
       "\n",
       "    .dataframe thead th {\n",
       "        text-align: right;\n",
       "    }\n",
       "</style>\n",
       "<table border=\"1\" class=\"dataframe\">\n",
       "  <thead>\n",
       "    <tr style=\"text-align: right;\">\n",
       "      <th></th>\n",
       "      <th>proba</th>\n",
       "      <th>true_val</th>\n",
       "      <th>int_rate</th>\n",
       "      <th>amnt</th>\n",
       "      <th>total_pymnt</th>\n",
       "      <th>term</th>\n",
       "      <th>ROI</th>\n",
       "      <th>Real_ROI</th>\n",
       "      <th>annualized_amnt</th>\n",
       "    </tr>\n",
       "  </thead>\n",
       "  <tbody>\n",
       "    <tr>\n",
       "      <th>83628</th>\n",
       "      <td>0.291054</td>\n",
       "      <td>1</td>\n",
       "      <td>0.1499</td>\n",
       "      <td>25000.0</td>\n",
       "      <td>8665.200000</td>\n",
       "      <td>3.0</td>\n",
       "      <td>0.106271</td>\n",
       "      <td>-7438.853357</td>\n",
       "      <td>8333.333333</td>\n",
       "    </tr>\n",
       "    <tr>\n",
       "      <th>126233</th>\n",
       "      <td>0.077514</td>\n",
       "      <td>0</td>\n",
       "      <td>0.1167</td>\n",
       "      <td>8000.0</td>\n",
       "      <td>9517.899386</td>\n",
       "      <td>3.0</td>\n",
       "      <td>0.107654</td>\n",
       "      <td>476.964437</td>\n",
       "      <td>2666.666667</td>\n",
       "    </tr>\n",
       "    <tr>\n",
       "      <th>82002</th>\n",
       "      <td>0.335033</td>\n",
       "      <td>0</td>\n",
       "      <td>0.2020</td>\n",
       "      <td>19000.0</td>\n",
       "      <td>25489.593211</td>\n",
       "      <td>3.0</td>\n",
       "      <td>0.134323</td>\n",
       "      <td>1955.114371</td>\n",
       "      <td>6333.333333</td>\n",
       "    </tr>\n",
       "    <tr>\n",
       "      <th>7475</th>\n",
       "      <td>0.111427</td>\n",
       "      <td>0</td>\n",
       "      <td>0.1199</td>\n",
       "      <td>16000.0</td>\n",
       "      <td>19117.978743</td>\n",
       "      <td>3.0</td>\n",
       "      <td>0.106540</td>\n",
       "      <td>978.291273</td>\n",
       "      <td>5333.333333</td>\n",
       "    </tr>\n",
       "    <tr>\n",
       "      <th>77360</th>\n",
       "      <td>0.345679</td>\n",
       "      <td>0</td>\n",
       "      <td>0.1699</td>\n",
       "      <td>27425.0</td>\n",
       "      <td>31808.380000</td>\n",
       "      <td>5.0</td>\n",
       "      <td>0.111169</td>\n",
       "      <td>825.466207</td>\n",
       "      <td>5485.000000</td>\n",
       "    </tr>\n",
       "  </tbody>\n",
       "</table>\n",
       "</div>"
      ],
      "text/plain": [
       "           proba  true_val  int_rate     amnt   total_pymnt  term       ROI  \\\n",
       "83628   0.291054         1    0.1499  25000.0   8665.200000   3.0  0.106271   \n",
       "126233  0.077514         0    0.1167   8000.0   9517.899386   3.0  0.107654   \n",
       "82002   0.335033         0    0.2020  19000.0  25489.593211   3.0  0.134323   \n",
       "7475    0.111427         0    0.1199  16000.0  19117.978743   3.0  0.106540   \n",
       "77360   0.345679         0    0.1699  27425.0  31808.380000   5.0  0.111169   \n",
       "\n",
       "           Real_ROI  annualized_amnt  \n",
       "83628  -7438.853357      8333.333333  \n",
       "126233   476.964437      2666.666667  \n",
       "82002   1955.114371      6333.333333  \n",
       "7475     978.291273      5333.333333  \n",
       "77360    825.466207      5485.000000  "
      ]
     },
     "execution_count": 566,
     "metadata": {},
     "output_type": "execute_result"
    }
   ],
   "source": [
    "df_train.tail()"
   ]
  },
  {
   "cell_type": "code",
   "execution_count": 596,
   "metadata": {},
   "outputs": [
    {
     "name": "stdout",
     "output_type": "stream",
     "text": [
      "0.1059016444424917 0.10591492821042693\n"
     ]
    }
   ],
   "source": [
    "baseline_train = np.mean(df_train.ROI)\n",
    "baseline_test = np.mean(df_test.ROI)\n",
    "print(baseline_train, baseline_test)\n",
    "alpha_low = 0.5\n",
    "alpha_high = 1"
   ]
  },
  {
   "cell_type": "code",
   "execution_count": 597,
   "metadata": {},
   "outputs": [],
   "source": [
    "loans_to_buy_train = df_train[(df_train.ROI > alpha_low*baseline_train) & (df_train.ROI < alpha_high*baseline_train)]\n",
    "loans_to_buy_test = df_test[(df_test.ROI > alpha_low*baseline_test) & (df_test.ROI < alpha_high*baseline_test)]"
   ]
  },
  {
   "cell_type": "code",
   "execution_count": 598,
   "metadata": {},
   "outputs": [],
   "source": [
    "def return_performance(df_sub, df_main):\n",
    "    perf_subset = np.sum(df_sub.Real_ROI)/np.sum(df_sub.annualized_amnt)\n",
    "    perf_mainset = np.sum(df_main.Real_ROI)/np.sum(df_main.annualized_amnt)\n",
    "    return (perf_subset, perf_mainset, perf_subset - perf_mainset)"
   ]
  },
  {
   "cell_type": "code",
   "execution_count": 599,
   "metadata": {},
   "outputs": [],
   "source": [
    "training_set_performance = return_performance(loans_to_buy_train, df_train)\n",
    "testing_set_performance = return_performance(loans_to_buy_test, df_test)"
   ]
  },
  {
   "cell_type": "code",
   "execution_count": 600,
   "metadata": {
    "scrolled": true
   },
   "outputs": [
    {
     "name": "stdout",
     "output_type": "stream",
     "text": [
      "(0.05649491585372523, 0.048889501414794555, 0.007605414438930674)\n",
      "(0.05827890193768245, 0.049272700564121655, 0.009006201373560792)\n"
     ]
    }
   ],
   "source": [
    "print(training_set_performance)\n",
    "print(testing_set_performance)"
   ]
  },
  {
   "cell_type": "code",
   "execution_count": 601,
   "metadata": {},
   "outputs": [
    {
     "data": {
      "image/png": "[encoded data removed]",
      "text/plain": [
       "<Figure size 1080x432 with 1 Axes>"
      ]
     },
     "metadata": {},
     "output_type": "display_data"
    }
   ],
   "source": [
    "fig = plt.figure(figsize=(15,6));\n",
    "ax = plt.subplot(1,1,1);\n",
    "\n",
    "ax.hist(df_test.loc[df_test.true_val == 0,'ROI'], bins = 50, label='Paid Off', alpha=0.6);\n",
    "ax.hist(df_test.loc[df_test.true_val == 1,'ROI'], bins = 50, label='Defaulted', alpha=0.5);\n",
    "ax.set_title('Initial Predicted ROI for Defaulted & Non-Defaulted Customers with Higher Order Random Forest')\n",
    "ax.legend(loc='best')\n",
    "\n",
    "plt.show()"
   ]
  },
  {
   "cell_type": "code",
   "execution_count": 543,
   "metadata": {},
   "outputs": [
    {
     "data": {
      "image/png": "[encoded data removed]",
      "text/plain": [
       "<Figure size 1080x432 with 1 Axes>"
      ]
     },
     "metadata": {},
     "output_type": "display_data"
    }
   ],
   "source": [
    "fig = plt.figure(figsize=(15,6));\n",
    "ax = plt.subplot(1,1,1);\n",
    "\n",
    "ax.hist(df_train.loc[df_train.true_val == 0,'ROI'], bins = 50, label='Paid Off', alpha=0.6);\n",
    "ax.hist(df_train.loc[df_train.true_val == 1,'ROI'], bins = 50, label='Defaulted', alpha=0.5);\n",
    "ax.set_title('Initial Predicted ROI for Defaulted & Non-Defaulted Customers with Higher Order Random Forest')\n",
    "ax.legend(loc='best')\n",
    "\n",
    "plt.show()"
   ]
  },
  {
   "cell_type": "code",
   "execution_count": null,
   "metadata": {},
   "outputs": [],
   "source": []
  }
 ],
 "metadata": {
  "kernelspec": {
   "display_name": "Python 3",
   "language": "python",
   "name": "python3"
  },
  "language_info": {
   "codemirror_mode": {
    "name": "ipython",
    "version": 3
   },
   "file_extension": ".py",
   "mimetype": "text/x-python",
   "name": "python",
   "nbconvert_exporter": "python",
   "pygments_lexer": "ipython3",
   "version": "3.6.5"
  }
 },
 "nbformat": 4,
 "nbformat_minor": 2
}
