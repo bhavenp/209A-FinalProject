{
 "cells": [
  {
   "cell_type": "code",
   "execution_count": 4,
   "metadata": {},
   "outputs": [],
   "source": [
    "import numpy as np\n",
    "import pandas as pd\n",
    "import matplotlib\n",
    "import matplotlib.pyplot as plt\n",
    "%matplotlib inline\n",
    "import seaborn as sns\n",
    "sns.set()\n",
    "\n",
    "from sklearn.linear_model import LogisticRegression\n",
    "from sklearn.linear_model import LogisticRegressionCV\n",
    "from sklearn.model_selection import train_test_split\n",
    "from sklearn.model_selection import cross_val_score\n",
    "from sklearn.metrics import accuracy_score\n",
    "from sklearn.discriminant_analysis import QuadraticDiscriminantAnalysis\n",
    "from sklearn.discriminant_analysis import LinearDiscriminantAnalysis\n",
    "from sklearn import preprocessing\n",
    "from sklearn.ensemble import RandomForestClassifier\n",
    "from sklearn.pipeline import make_pipeline\n",
    "from sklearn.preprocessing import PolynomialFeatures\n",
    "from sklearn.metrics import roc_auc_score\n",
    "\n",
    "from imblearn.over_sampling import SMOTE\n",
    "\n",
    "import pickle\n",
    "\n",
    "import keras \n",
    "from keras.models import Sequential\n",
    "from keras.layers import Dense\n",
    "from keras.layers import Flatten\n",
    "from keras.layers import Dropout\n",
    "from keras.preprocessing.image import ImageDataGenerator\n",
    "from keras.callbacks import EarlyStopping\n",
    "from keras import regularizers\n",
    "from keras.models import load_model"
   ]
  },
  {
   "cell_type": "code",
   "execution_count": 3,
   "metadata": {},
   "outputs": [],
   "source": [
    "NN = load_model('../lipika/NN_final_model.h5')"
   ]
  },
  {
   "cell_type": "code",
   "execution_count": 5,
   "metadata": {},
   "outputs": [],
   "source": [
    "data_train = pd.read_csv(\"../lipika/cleaned_2013_14\", low_memory = False);\n",
    "data_test = pd.read_csv(\"../lipika/cleaned_2015\", low_memory = False);\n",
    "data_test = data_test.dropna()\n",
    "data_train = data_test.dropna()"
   ]
  },
  {
   "cell_type": "code",
   "execution_count": 7,
   "metadata": {},
   "outputs": [],
   "source": [
    "QDA_pred_test = pd.read_csv(\"../lipika/qda_preds_test\", low_memory = False);\n",
    "QDA_pred_train = pd.read_csv(\"../lipika/qda_preds_training\", low_memory = False);"
   ]
  },
  {
   "cell_type": "code",
   "execution_count": 13,
   "metadata": {},
   "outputs": [
    {
     "data": {
      "text/html": [
       "<div>\n",
       "<style scoped>\n",
       "    .dataframe tbody tr th:only-of-type {\n",
       "        vertical-align: middle;\n",
       "    }\n",
       "\n",
       "    .dataframe tbody tr th {\n",
       "        vertical-align: top;\n",
       "    }\n",
       "\n",
       "    .dataframe thead th {\n",
       "        text-align: right;\n",
       "    }\n",
       "</style>\n",
       "<table border=\"1\" class=\"dataframe\">\n",
       "  <thead>\n",
       "    <tr style=\"text-align: right;\">\n",
       "      <th></th>\n",
       "      <th>Unnamed: 0</th>\n",
       "      <th>pred</th>\n",
       "      <th>proba</th>\n",
       "      <th>true_val</th>\n",
       "      <th>int_rate</th>\n",
       "      <th>amnt</th>\n",
       "      <th>total_pymnt</th>\n",
       "      <th>term_adj</th>\n",
       "      <th>ROI</th>\n",
       "      <th>Real_ROI</th>\n",
       "      <th>annualized_amnt</th>\n",
       "    </tr>\n",
       "  </thead>\n",
       "  <tbody>\n",
       "    <tr>\n",
       "      <th>count</th>\n",
       "      <td>346843.000000</td>\n",
       "      <td>346843.000000</td>\n",
       "      <td>346843.000000</td>\n",
       "      <td>346843.000000</td>\n",
       "      <td>346843.000000</td>\n",
       "      <td>346843.000000</td>\n",
       "      <td>346843.000000</td>\n",
       "      <td>346843.000000</td>\n",
       "      <td>346843.000000</td>\n",
       "      <td>346843.000000</td>\n",
       "      <td>346843.000000</td>\n",
       "    </tr>\n",
       "    <tr>\n",
       "      <th>mean</th>\n",
       "      <td>173422.842251</td>\n",
       "      <td>0.000747</td>\n",
       "      <td>0.000748</td>\n",
       "      <td>0.222738</td>\n",
       "      <td>0.125009</td>\n",
       "      <td>14663.481856</td>\n",
       "      <td>14929.412424</td>\n",
       "      <td>2.393037</td>\n",
       "      <td>0.124271</td>\n",
       "      <td>476.750707</td>\n",
       "      <td>12592.332271</td>\n",
       "    </tr>\n",
       "    <tr>\n",
       "      <th>std</th>\n",
       "      <td>100125.338735</td>\n",
       "      <td>0.027316</td>\n",
       "      <td>0.027305</td>\n",
       "      <td>0.416084</td>\n",
       "      <td>0.044357</td>\n",
       "      <td>8518.606655</td>\n",
       "      <td>9946.005835</td>\n",
       "      <td>1.237858</td>\n",
       "      <td>0.047128</td>\n",
       "      <td>2164.692245</td>\n",
       "      <td>34717.951795</td>\n",
       "    </tr>\n",
       "    <tr>\n",
       "      <th>min</th>\n",
       "      <td>0.000000</td>\n",
       "      <td>0.000000</td>\n",
       "      <td>0.000000</td>\n",
       "      <td>0.000000</td>\n",
       "      <td>0.053200</td>\n",
       "      <td>0.538397</td>\n",
       "      <td>0.000000</td>\n",
       "      <td>0.040000</td>\n",
       "      <td>-0.550012</td>\n",
       "      <td>-35000.000000</td>\n",
       "      <td>1.000000</td>\n",
       "    </tr>\n",
       "    <tr>\n",
       "      <th>25%</th>\n",
       "      <td>86712.500000</td>\n",
       "      <td>0.000000</td>\n",
       "      <td>0.000000</td>\n",
       "      <td>0.000000</td>\n",
       "      <td>0.091700</td>\n",
       "      <td>8000.000000</td>\n",
       "      <td>7214.910000</td>\n",
       "      <td>1.500000</td>\n",
       "      <td>0.091700</td>\n",
       "      <td>211.042190</td>\n",
       "      <td>3250.000000</td>\n",
       "    </tr>\n",
       "    <tr>\n",
       "      <th>50%</th>\n",
       "      <td>173423.000000</td>\n",
       "      <td>0.000000</td>\n",
       "      <td>0.000000</td>\n",
       "      <td>0.000000</td>\n",
       "      <td>0.122900</td>\n",
       "      <td>12600.000000</td>\n",
       "      <td>12416.440000</td>\n",
       "      <td>2.583333</td>\n",
       "      <td>0.122900</td>\n",
       "      <td>645.166821</td>\n",
       "      <td>5625.000000</td>\n",
       "    </tr>\n",
       "    <tr>\n",
       "      <th>75%</th>\n",
       "      <td>260133.500000</td>\n",
       "      <td>0.000000</td>\n",
       "      <td>0.000000</td>\n",
       "      <td>0.000000</td>\n",
       "      <td>0.154100</td>\n",
       "      <td>20000.000000</td>\n",
       "      <td>20638.640000</td>\n",
       "      <td>3.000000</td>\n",
       "      <td>0.154100</td>\n",
       "      <td>1361.816645</td>\n",
       "      <td>10576.209677</td>\n",
       "    </tr>\n",
       "    <tr>\n",
       "      <th>max</th>\n",
       "      <td>346844.000000</td>\n",
       "      <td>1.000000</td>\n",
       "      <td>1.000000</td>\n",
       "      <td>1.000000</td>\n",
       "      <td>0.538397</td>\n",
       "      <td>35000.000000</td>\n",
       "      <td>59265.976314</td>\n",
       "      <td>5.000000</td>\n",
       "      <td>0.289900</td>\n",
       "      <td>21506.599818</td>\n",
       "      <td>875000.000000</td>\n",
       "    </tr>\n",
       "  </tbody>\n",
       "</table>\n",
       "</div>"
      ],
      "text/plain": [
       "          Unnamed: 0           pred          proba       true_val  \\\n",
       "count  346843.000000  346843.000000  346843.000000  346843.000000   \n",
       "mean   173422.842251       0.000747       0.000748       0.222738   \n",
       "std    100125.338735       0.027316       0.027305       0.416084   \n",
       "min         0.000000       0.000000       0.000000       0.000000   \n",
       "25%     86712.500000       0.000000       0.000000       0.000000   \n",
       "50%    173423.000000       0.000000       0.000000       0.000000   \n",
       "75%    260133.500000       0.000000       0.000000       0.000000   \n",
       "max    346844.000000       1.000000       1.000000       1.000000   \n",
       "\n",
       "            int_rate           amnt    total_pymnt       term_adj  \\\n",
       "count  346843.000000  346843.000000  346843.000000  346843.000000   \n",
       "mean        0.125009   14663.481856   14929.412424       2.393037   \n",
       "std         0.044357    8518.606655    9946.005835       1.237858   \n",
       "min         0.053200       0.538397       0.000000       0.040000   \n",
       "25%         0.091700    8000.000000    7214.910000       1.500000   \n",
       "50%         0.122900   12600.000000   12416.440000       2.583333   \n",
       "75%         0.154100   20000.000000   20638.640000       3.000000   \n",
       "max         0.538397   35000.000000   59265.976314       5.000000   \n",
       "\n",
       "                 ROI       Real_ROI  annualized_amnt  \n",
       "count  346843.000000  346843.000000    346843.000000  \n",
       "mean        0.124271     476.750707     12592.332271  \n",
       "std         0.047128    2164.692245     34717.951795  \n",
       "min        -0.550012  -35000.000000         1.000000  \n",
       "25%         0.091700     211.042190      3250.000000  \n",
       "50%         0.122900     645.166821      5625.000000  \n",
       "75%         0.154100    1361.816645     10576.209677  \n",
       "max         0.289900   21506.599818    875000.000000  "
      ]
     },
     "execution_count": 13,
     "metadata": {},
     "output_type": "execute_result"
    }
   ],
   "source": [
    "QDA_pred_test.describe()"
   ]
  },
  {
   "cell_type": "code",
   "execution_count": 22,
   "metadata": {},
   "outputs": [],
   "source": [
    "data_train.int_rate = data_train.int_rate/np.amax(data_train.int_rate)\n",
    "data_train['model_term'] = data_train.term/np.amax(data_train.term)\n",
    "data_train.dti = data_train.dti/np.amax(data_train.dti)\n",
    "data_train.revol_util = data_train.revol_util/np.amax(data_train.revol_util)\n",
    "\n",
    "data_test.int_rate = data_test.int_rate/np.amax(data_train.int_rate)\n",
    "data_test['model_term'] = data_test.term/np.amax(data_train.term)\n",
    "data_test.dti = data_test.dti/np.amax(data_test.dti)\n",
    "data_test.revol_util = data_test.revol_util/np.amax(data_test.revol_util)"
   ]
  },
  {
   "cell_type": "code",
   "execution_count": 23,
   "metadata": {},
   "outputs": [],
   "source": [
    "def split_data(df, cols):\n",
    "    x = df.drop(cols, axis = 1)\n",
    "    y = df.paid\n",
    "    return x, y\n",
    "\n",
    "cols_to_drop_training = ['loan_status', 'paid', 'amnt', 'total_pymnt', 'term_adj', 'term', 'zip_code']\n",
    "x_train, y_train = split_data(data_train, cols_to_drop_training)\n",
    "x_test, y_test = split_data(data_test, cols_to_drop_training)"
   ]
  },
  {
   "cell_type": "code",
   "execution_count": 68,
   "metadata": {},
   "outputs": [],
   "source": [
    "def create_df(data_1, data_2, penal = 0.5):\n",
    "    df = pd.DataFrame(data_1)\n",
    "    df['proba'] = df.proba.map(lambda x: x[0])\n",
    "    df['pred'] = df.pred.map(lambda x:x[0])\n",
    "    \n",
    "    df['int_rate'] = data_2['int_rate']\n",
    "    df['amnt'] = data_2['amnt']\n",
    "    df['total_pymnt'] = data_2['total_pymnt']\n",
    "    df['term'] = data_2['term']\n",
    "    df['ROI'] = (((1 + df['int_rate'])*(1-df['proba']))+(df['proba']*drr*penal))-1\n",
    "\n",
    "    df['Real_ROI'] = df['amnt']*(((df['total_pymnt']/df['amnt'])**(1/df['term']))-1)\n",
    "    df['annualized_amnt'] = df['amnt']*(1/df['term'])\n",
    "    \n",
    "    return df"
   ]
  },
  {
   "cell_type": "code",
   "execution_count": 69,
   "metadata": {},
   "outputs": [
    {
     "name": "stdout",
     "output_type": "stream",
     "text": [
      "0.8672532737835931\n"
     ]
    }
   ],
   "source": [
    "distress = data_train[data_train.paid == 1]\n",
    "drr = (np.sum(distress.total_pymnt)/np.sum(distress.amnt))**(1/np.mean(distress.term))\n",
    "print(drr)"
   ]
  },
  {
   "cell_type": "code",
   "execution_count": 36,
   "metadata": {},
   "outputs": [],
   "source": [
    "NN_train_predictions = (NN.predict(x_train))\n",
    "NN_test_predictions = (NN.predict(x_test))\n",
    "NN_train_class = np.where(NN_train_predictions > 0.50, 1, 0)\n",
    "NN_test_class = np.where(NN_test_predictions > 0.50, 1, 0)"
   ]
  },
  {
   "cell_type": "code",
   "execution_count": 70,
   "metadata": {},
   "outputs": [],
   "source": [
    "train_data = {'proba' : NN_train_predictions.tolist(), 'pred' : NN_train_class.tolist(), 'true_val' : y_train}\n",
    "test_data = {'proba' : NN_test_predictions.tolist(), 'pred' : NN_test_class.tolist(), 'true_val' : y_test}\n",
    "df_train = create_df(train_data, data_train)\n",
    "df_test =  create_df(test_data, data_test)"
   ]
  },
  {
   "cell_type": "code",
   "execution_count": 71,
   "metadata": {},
   "outputs": [
    {
     "data": {
      "text/html": [
       "<div>\n",
       "<style scoped>\n",
       "    .dataframe tbody tr th:only-of-type {\n",
       "        vertical-align: middle;\n",
       "    }\n",
       "\n",
       "    .dataframe tbody tr th {\n",
       "        vertical-align: top;\n",
       "    }\n",
       "\n",
       "    .dataframe thead th {\n",
       "        text-align: right;\n",
       "    }\n",
       "</style>\n",
       "<table border=\"1\" class=\"dataframe\">\n",
       "  <thead>\n",
       "    <tr style=\"text-align: right;\">\n",
       "      <th></th>\n",
       "      <th>proba</th>\n",
       "      <th>pred</th>\n",
       "      <th>true_val</th>\n",
       "      <th>int_rate</th>\n",
       "      <th>amnt</th>\n",
       "      <th>total_pymnt</th>\n",
       "      <th>term</th>\n",
       "      <th>ROI</th>\n",
       "      <th>Real_ROI</th>\n",
       "      <th>annualized_amnt</th>\n",
       "    </tr>\n",
       "  </thead>\n",
       "  <tbody>\n",
       "    <tr>\n",
       "      <th>0</th>\n",
       "      <td>0.314888</td>\n",
       "      <td>0</td>\n",
       "      <td>0</td>\n",
       "      <td>0.239229</td>\n",
       "      <td>10000.0</td>\n",
       "      <td>11316.890190</td>\n",
       "      <td>3.0</td>\n",
       "      <td>-0.014446</td>\n",
       "      <td>420.991315</td>\n",
       "      <td>3333.333333</td>\n",
       "    </tr>\n",
       "    <tr>\n",
       "      <th>1</th>\n",
       "      <td>0.205924</td>\n",
       "      <td>0</td>\n",
       "      <td>0</td>\n",
       "      <td>0.139117</td>\n",
       "      <td>18000.0</td>\n",
       "      <td>19771.097253</td>\n",
       "      <td>3.0</td>\n",
       "      <td>-0.006161</td>\n",
       "      <td>571.996545</td>\n",
       "      <td>6000.000000</td>\n",
       "    </tr>\n",
       "    <tr>\n",
       "      <th>2</th>\n",
       "      <td>0.073871</td>\n",
       "      <td>0</td>\n",
       "      <td>0</td>\n",
       "      <td>0.098812</td>\n",
       "      <td>20000.0</td>\n",
       "      <td>21631.724329</td>\n",
       "      <td>3.0</td>\n",
       "      <td>0.049674</td>\n",
       "      <td>529.752342</td>\n",
       "      <td>6666.666667</td>\n",
       "    </tr>\n",
       "    <tr>\n",
       "      <th>3</th>\n",
       "      <td>0.525477</td>\n",
       "      <td>1</td>\n",
       "      <td>1</td>\n",
       "      <td>0.259845</td>\n",
       "      <td>17475.0</td>\n",
       "      <td>13449.650000</td>\n",
       "      <td>3.0</td>\n",
       "      <td>-0.174314</td>\n",
       "      <td>-1460.436080</td>\n",
       "      <td>5825.000000</td>\n",
       "    </tr>\n",
       "    <tr>\n",
       "      <th>4</th>\n",
       "      <td>0.661357</td>\n",
       "      <td>1</td>\n",
       "      <td>0</td>\n",
       "      <td>0.249630</td>\n",
       "      <td>21000.0</td>\n",
       "      <td>24473.227622</td>\n",
       "      <td>5.0</td>\n",
       "      <td>-0.290039</td>\n",
       "      <td>652.781115</td>\n",
       "      <td>4200.000000</td>\n",
       "    </tr>\n",
       "  </tbody>\n",
       "</table>\n",
       "</div>"
      ],
      "text/plain": [
       "      proba  pred  true_val  int_rate     amnt   total_pymnt  term       ROI  \\\n",
       "0  0.314888     0         0  0.239229  10000.0  11316.890190   3.0 -0.014446   \n",
       "1  0.205924     0         0  0.139117  18000.0  19771.097253   3.0 -0.006161   \n",
       "2  0.073871     0         0  0.098812  20000.0  21631.724329   3.0  0.049674   \n",
       "3  0.525477     1         1  0.259845  17475.0  13449.650000   3.0 -0.174314   \n",
       "4  0.661357     1         0  0.249630  21000.0  24473.227622   5.0 -0.290039   \n",
       "\n",
       "      Real_ROI  annualized_amnt  \n",
       "0   420.991315      3333.333333  \n",
       "1   571.996545      6000.000000  \n",
       "2   529.752342      6666.666667  \n",
       "3 -1460.436080      5825.000000  \n",
       "4   652.781115      4200.000000  "
      ]
     },
     "execution_count": 71,
     "metadata": {},
     "output_type": "execute_result"
    }
   ],
   "source": [
    "plt.plot(df_test[df_test.true_val == 1])"
   ]
  },
  {
   "cell_type": "code",
   "execution_count": 72,
   "metadata": {},
   "outputs": [
    {
     "name": "stderr",
     "output_type": "stream",
     "text": [
      "/Users/hugoramambason/anaconda3/lib/python3.6/site-packages/scipy/stats/stats.py:1713: FutureWarning: Using a non-tuple sequence for multidimensional indexing is deprecated; use `arr[tuple(seq)]` instead of `arr[seq]`. In the future this will be interpreted as an array index, `arr[np.array(seq)]`, which will result either in an error or a different result.\n",
      "  return np.add.reduce(sorted[indexer] * weights, axis=axis) / sumval\n"
     ]
    },
    {
     "data": {
      "image/png": "[encoded data removed]",
      "text/plain": [
       "<Figure size 432x288 with 1 Axes>"
      ]
     },
     "metadata": {},
     "output_type": "display_data"
    }
   ],
   "source": [
    "sns.kdeplot(df_test.loc[df_test.true_val == 0,'proba'], label = 'Paid Out');\n",
    "sns.kdeplot(df_test.loc[df_test.true_val == 1,'proba'], label = 'Defaulted');"
   ]
  },
  {
   "cell_type": "code",
   "execution_count": 73,
   "metadata": {},
   "outputs": [
    {
     "name": "stderr",
     "output_type": "stream",
     "text": [
      "/Users/hugoramambason/anaconda3/lib/python3.6/site-packages/scipy/stats/stats.py:1713: FutureWarning: Using a non-tuple sequence for multidimensional indexing is deprecated; use `arr[tuple(seq)]` instead of `arr[seq]`. In the future this will be interpreted as an array index, `arr[np.array(seq)]`, which will result either in an error or a different result.\n",
      "  return np.add.reduce(sorted[indexer] * weights, axis=axis) / sumval\n"
     ]
    },
    {
     "data": {
      "image/png": "[encoded data removed]",
      "text/plain": [
       "<Figure size 432x288 with 1 Axes>"
      ]
     },
     "metadata": {},
     "output_type": "display_data"
    }
   ],
   "source": [
    "sns.kdeplot(df_train.loc[df_train.true_val == 0,'proba'], label = 'Paid Out');\n",
    "sns.kdeplot(df_train.loc[df_train.true_val == 1,'proba'], label = 'Defaulted');"
   ]
  },
  {
   "cell_type": "code",
   "execution_count": 83,
   "metadata": {},
   "outputs": [
    {
     "name": "stdout",
     "output_type": "stream",
     "text": [
      "0.05 0.5959068584537122\n",
      "0.1 0.5980087514283862\n",
      "0.15 0.5976610076091009\n",
      "0.2 0.5997177370428228\n",
      "0.25 0.6047853377950425\n",
      "0.3 0.6119735132999691\n",
      "0.35 0.6208204589818682\n",
      "0.39999999999999997 0.6319990037025967\n",
      "0.44999999999999996 0.6470553892262522\n",
      "0.49999999999999994 0.6611412621720926\n",
      "0.5499999999999999 0.6727342831255043\n",
      "0.6 0.6846022570861161\n",
      "0.65 0.7150760005559169\n",
      "0.7 0.7423555698375598\n",
      "0.75 0.7893189192098747\n",
      "0.7999999999999999 0.8330397317033172\n",
      "0.85 0.8710754334993399\n",
      "0.9 0.8888161348571297\n",
      "0.95 0.8888138917733933\n"
     ]
    }
   ],
   "source": [
    "lims = np.linspace(0.05, 0.95, 19, endpoint = True)\n",
    "\n",
    "for i in lims:\n",
    "    score = roc_auc_score(np.where(NN_test_predictions > i, 1, 0), y_test)\n",
    "    print(i, score)\n",
    "    \n"
   ]
  },
  {
   "cell_type": "code",
   "execution_count": 85,
   "metadata": {},
   "outputs": [
    {
     "data": {
      "text/plain": [
       "0.8888127702412304"
      ]
     },
     "execution_count": 85,
     "metadata": {},
     "output_type": "execute_result"
    }
   ],
   "source": [
    "roc_auc_score(np.where(NN_train_predictions > 0.999, 1, 0), y_train)"
   ]
  },
  {
   "cell_type": "code",
   "execution_count": null,
   "metadata": {},
   "outputs": [],
   "source": []
  }
 ],
 "metadata": {
  "kernelspec": {
   "display_name": "Python 3",
   "language": "python",
   "name": "python3"
  },
  "language_info": {
   "codemirror_mode": {
    "name": "ipython",
    "version": 3
   },
   "file_extension": ".py",
   "mimetype": "text/x-python",
   "name": "python",
   "nbconvert_exporter": "python",
   "pygments_lexer": "ipython3",
   "version": "3.6.5"
  }
 },
 "nbformat": 4,
 "nbformat_minor": 2
}
