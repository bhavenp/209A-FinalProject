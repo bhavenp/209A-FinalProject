{
 "cells": [
  {
   "cell_type": "code",
   "execution_count": 1,
   "metadata": {},
   "outputs": [],
   "source": [
    "import numpy as np\n",
    "import pandas as pd\n",
    "import matplotlib\n",
    "import matplotlib.pyplot as plt\n",
    "%matplotlib inline\n",
    "import seaborn as sns\n",
    "sns.set()\n",
    "\n",
    "from sklearn import preprocessing"
   ]
  },
  {
   "cell_type": "code",
   "execution_count": 2,
   "metadata": {},
   "outputs": [],
   "source": [
    "data_a_2014 = pd.read_csv(\"../data/2014_loan_data/LoanStats_2014_A.csv\", low_memory = False);\n",
    "data_b_2014 = pd.read_csv(\"../data/2014_loan_data/LoanStats_2014_B.csv\", low_memory = False);\n",
    "data_c_2014 = pd.read_csv(\"../data/2014_loan_data/LoanStats_2014_C.csv\", low_memory = False);\n",
    "data_d_2014 = pd.read_csv(\"../data/2014_loan_data/LoanStats_2014_D.csv\", low_memory = False);\n",
    "\n",
    "data_a_2015 = pd.read_csv(\"../data/2015_loan_data/LoanStats_2015_A.csv\", low_memory = False);\n",
    "data_b_2015 = pd.read_csv(\"../data/2015_loan_data/LoanStats_2015_B.csv\", low_memory = False);\n",
    "data_c_2015 = pd.read_csv(\"../data/2015_loan_data/LoanStats_2015_C.csv\", low_memory = False);\n",
    "data_d_2015 = pd.read_csv(\"../data/2015_loan_data/LoanStats_2015_D.csv\", low_memory = False);\n",
    "data_e_2015 = pd.read_csv(\"../data/2015_loan_data/LoanStats_2015_E.csv\", low_memory = False);\n",
    "data_f_2015 = pd.read_csv(\"../data/2015_loan_data/LoanStats_2015_F.csv\", low_memory = False);\n",
    "data_g_2015 = pd.read_csv(\"../data/2015_loan_data/LoanStats_2015_G.csv\", low_memory = False);\n",
    "data_h_2015 = pd.read_csv(\"../data/2015_loan_data/LoanStats_2015_H.csv\", low_memory = False);"
   ]
  },
  {
   "cell_type": "code",
   "execution_count": 74,
   "metadata": {},
   "outputs": [],
   "source": [
    "data_2014 = pd.concat([data_a_2014, data_b_2014, data_c_2014, data_d_2014], ignore_index=True)\n",
    "\n",
    "data_2015 = pd.concat([data_a_2015, data_b_2015, data_c_2015, data_d_2015, \n",
    "                       data_e_2015, data_f_2015, data_g_2015, data_h_2015], \n",
    "                       ignore_index=True)"
   ]
  },
  {
   "cell_type": "code",
   "execution_count": 75,
   "metadata": {},
   "outputs": [],
   "source": [
    "def format_revol(val):\n",
    "    percent = val[:-1]\n",
    "    return float(percent)/100\n",
    "\n",
    "def format_interest(val):\n",
    "    percent = val[:-1]\n",
    "    return float(percent)/100\n",
    "\n",
    "def format_term(val):\n",
    "    term = val[1:3]\n",
    "    return float(term)/12"
   ]
  },
  {
   "cell_type": "code",
   "execution_count": 110,
   "metadata": {},
   "outputs": [],
   "source": [
    "def initial_model(df, columns, columns_to_encode, columns_to_normalize):\n",
    "    min_max_scaler = preprocessing.MinMaxScaler()\n",
    "    new_df = df.copy()\n",
    "    #print(new_df.zip_code.unique())\n",
    "    new_df = new_df[columns]\n",
    "    new_df = pd.get_dummies(new_df, columns = columns_to_encode)\n",
    "    new_df['amnt'] = new_df['funded_amnt']\n",
    "    new_df[columns_to_normalize] = min_max_scaler.fit_transform(new_df[columns_to_normalize])\n",
    "    #print(new_df.zip_code.unique())\n",
    "    return new_df\n",
    "\n",
    "def clean_data(old_df):\n",
    "    df = old_df.copy()\n",
    "    columns_to_drop = ['id', 'member_id', 'emp_title']\n",
    "    df = df.drop(columns_to_drop, axis = 1)\n",
    "    \n",
    "    cols = ['zip_code', 'funded_amnt', 'emp_length', 'home_ownership', \n",
    "            'int_rate', 'purpose', 'total_pymnt','annual_inc', \n",
    "            'verification_status', 'dti', 'loan_status', 'revol_util', \n",
    "            'grade', 'term']\n",
    "    \n",
    "    cols_encode = ['emp_length', 'home_ownership', 'verification_status', 'grade', 'purpose']\n",
    "    cols_normalize = ['funded_amnt', 'annual_inc', 'dti']\n",
    "    \n",
    "    df = initial_model(df, cols, cols_encode, cols_normalize)\n",
    "    \n",
    "    df['term'] = df['term'].map(format_term, na_action = 'ignore')\n",
    "    df['int_rate'] = df['int_rate'].map(format_interest, na_action='ignore')\n",
    "    df['revol_util'] = df['revol_util'].map(format_revol, na_action='ignore')\n",
    "    \n",
    "    df['zip_code'] = df['zip_code'].str.slice(0,3)\n",
    "    \n",
    "    df = df.dropna()\n",
    "    df = df[df.loan_status != 'Current']\n",
    "    \n",
    "    df['paid'] = 1;\n",
    "    df.loc[df.loan_status == 'Fully Paid', 'paid'] = 0;\n",
    "    \n",
    "    return df"
   ]
  },
  {
   "cell_type": "code",
   "execution_count": 111,
   "metadata": {
    "scrolled": false
   },
   "outputs": [
    {
     "name": "stderr",
     "output_type": "stream",
     "text": [
      "/Users/hugoramambason/anaconda3/lib/python3.6/site-packages/sklearn/preprocessing/data.py:323: DataConversionWarning: Data with input dtype int64, float64 were all converted to float64 by MinMaxScaler.\n",
      "  return self.partial_fit(X, y)\n"
     ]
    }
   ],
   "source": [
    "df_2014 = clean_data(data_2014)"
   ]
  },
  {
   "cell_type": "code",
   "execution_count": 113,
   "metadata": {
    "scrolled": false
   },
   "outputs": [
    {
     "data": {
      "text/plain": [
       "(218391, 49)"
      ]
     },
     "execution_count": 113,
     "metadata": {},
     "output_type": "execute_result"
    }
   ],
   "source": [
    "df_2014.shape"
   ]
  },
  {
   "cell_type": "code",
   "execution_count": 114,
   "metadata": {},
   "outputs": [
    {
     "name": "stderr",
     "output_type": "stream",
     "text": [
      "/Users/hugoramambason/anaconda3/lib/python3.6/site-packages/sklearn/preprocessing/data.py:323: DataConversionWarning: Data with input dtype int64, float64 were all converted to float64 by MinMaxScaler.\n",
      "  return self.partial_fit(X, y)\n"
     ]
    }
   ],
   "source": [
    "df_2015 = clean_data(data_2015)"
   ]
  },
  {
   "cell_type": "code",
   "execution_count": 115,
   "metadata": {},
   "outputs": [],
   "source": [
    "df_2015 = df_2015.drop(['purpose_educational'], axis = 1)"
   ]
  },
  {
   "cell_type": "code",
   "execution_count": 116,
   "metadata": {},
   "outputs": [
    {
     "data": {
      "text/plain": [
       "array([ True,  True,  True,  True,  True,  True,  True,  True,  True,\n",
       "        True,  True,  True,  True,  True,  True,  True,  True,  True,\n",
       "        True,  True,  True,  True,  True,  True,  True,  True,  True,\n",
       "        True,  True,  True,  True,  True,  True,  True,  True,  True,\n",
       "        True,  True,  True,  True,  True,  True,  True,  True,  True,\n",
       "        True,  True,  True,  True])"
      ]
     },
     "execution_count": 116,
     "metadata": {},
     "output_type": "execute_result"
    }
   ],
   "source": [
    "df_2015.columns == df_2014.columns"
   ]
  },
  {
   "cell_type": "code",
   "execution_count": 119,
   "metadata": {},
   "outputs": [],
   "source": [
    "df_2014 = df_2014.dropna()\n",
    "df_2015 = df_2015.dropna()"
   ]
  },
  {
   "cell_type": "code",
   "execution_count": 124,
   "metadata": {
    "scrolled": false
   },
   "outputs": [],
   "source": [
    "df_2014.to_csv('cleaned_2014', index = False)\n",
    "df_2015.to_csv('cleaned_2015', index = False)"
   ]
  },
  {
   "cell_type": "code",
   "execution_count": null,
   "metadata": {},
   "outputs": [],
   "source": []
  }
 ],
 "metadata": {
  "kernelspec": {
   "display_name": "Python 3",
   "language": "python",
   "name": "python3"
  },
  "language_info": {
   "codemirror_mode": {
    "name": "ipython",
    "version": 3
   },
   "file_extension": ".py",
   "mimetype": "text/x-python",
   "name": "python",
   "nbconvert_exporter": "python",
   "pygments_lexer": "ipython3",
   "version": "3.6.5"
  }
 },
 "nbformat": 4,
 "nbformat_minor": 2
}
