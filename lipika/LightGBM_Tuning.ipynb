{
 "cells": [
  {
   "cell_type": "code",
   "execution_count": 3,
   "metadata": {},
   "outputs": [
    {
     "name": "stderr",
     "output_type": "stream",
     "text": [
      "/usr/local/lib/python2.7/site-packages/lightgbm/__init__.py:46: UserWarning: Starting from version 2.2.1, the library file in distribution wheels for macOS is built by the Apple Clang (Xcode_8.3.1) compiler.\n",
      "This means that in case of installing LightGBM from PyPI via the ``pip install lightgbm`` command, you don't need to install the gcc compiler anymore.\n",
      "Instead of that, you need to install the OpenMP library, which is required for running LightGBM on the system with the Apple Clang compiler.\n",
      "You can install the OpenMP library by the following command: ``brew install libomp``.\n",
      "  \"You can install the OpenMP library by the following command: ``brew install libomp``.\", UserWarning)\n"
     ]
    }
   ],
   "source": [
    "import numpy as np\n",
    "import pandas as pd\n",
    "import matplotlib\n",
    "import matplotlib.pyplot as plt\n",
    "%matplotlib inline\n",
    "import seaborn as sns\n",
    "sns.set()\n",
    "from sklearn.model_selection import train_test_split\n",
    "from sklearn.model_selection import cross_val_score\n",
    "from sklearn.metrics import accuracy_score\n",
    "from sklearn import preprocessing\n",
    "from sklearn.ensemble import RandomForestClassifier\n",
    "from sklearn.pipeline import make_pipeline\n",
    "from sklearn.pipeline import Pipeline\n",
    "from sklearn.metrics import roc_auc_score\n",
    "from sklearn.model_selection import GridSearchCV\n",
    "\n",
    "from sklearn.preprocessing import PolynomialFeatures\n",
    "from imblearn.over_sampling import SMOTE\n",
    "import pickle\n",
    "from lightgbm.sklearn import LGBMClassifier"
   ]
  },
  {
   "cell_type": "code",
   "execution_count": 4,
   "metadata": {},
   "outputs": [],
   "source": [
    "data_train = pd.read_csv(\"cleaned_2013_14\", low_memory = False);\n",
    "data_test = pd.read_csv(\"cleaned_2015\", low_memory = False);"
   ]
  },
  {
   "cell_type": "code",
   "execution_count": 5,
   "metadata": {},
   "outputs": [
    {
     "data": {
      "text/plain": [
       "array([ True,  True,  True,  True,  True,  True,  True,  True,  True,\n",
       "        True,  True,  True,  True,  True,  True,  True,  True,  True,\n",
       "        True,  True,  True,  True,  True,  True,  True,  True,  True,\n",
       "        True,  True,  True,  True,  True,  True,  True,  True,  True,\n",
       "        True,  True,  True,  True,  True,  True,  True,  True,  True,\n",
       "        True,  True,  True,  True,  True])"
      ]
     },
     "execution_count": 5,
     "metadata": {},
     "output_type": "execute_result"
    }
   ],
   "source": [
    "data_test = data_test.dropna()\n",
    "data_test.columns == data_train.columns"
   ]
  },
  {
   "cell_type": "code",
   "execution_count": 6,
   "metadata": {},
   "outputs": [],
   "source": [
    "def split_data(df, cols):\n",
    "    x = df.drop(cols, axis = 1)\n",
    "    y = df.paid\n",
    "    return x, y\n",
    "\n",
    "cols_to_drop_training = ['loan_status', 'paid', 'amnt', 'total_pymnt', 'term_adj', 'zip_code']\n",
    "x_train_initial, y_train_initial = split_data(data_train, cols_to_drop_training)\n",
    "x_test, y_test = split_data(data_test, cols_to_drop_training)"
   ]
  },
  {
   "cell_type": "code",
   "execution_count": 7,
   "metadata": {},
   "outputs": [],
   "source": [
    "sm = SMOTE(random_state=1, ratio = 1.0)\n",
    "x_train, y_train = sm.fit_sample(x_train_initial, y_train_initial)"
   ]
  },
  {
   "cell_type": "code",
   "execution_count": 8,
   "metadata": {},
   "outputs": [
    {
     "data": {
      "text/plain": [
       "((578050, 44), (346843, 44))"
      ]
     },
     "execution_count": 8,
     "metadata": {},
     "output_type": "execute_result"
    }
   ],
   "source": [
    "x_train.shape, x_test.shape"
   ]
  },
  {
   "cell_type": "code",
   "execution_count": 26,
   "metadata": {},
   "outputs": [],
   "source": [
    "params = {}\n",
    "\n",
    "params['LGBM__n_jobs'] = [5]\n",
    "params['LGBM__learning_rate'] = [0.001, 0.005, 0.01, 0.05, 0.1, 0.5]\n",
    "params['LGBM__boosting_type'] = ['gbdt', 'dart']\n",
    "params['LGBM__max_leaves'] = [2500, 5000, 7500, 10000, 12500, 14000, 16300]"
   ]
  },
  {
   "cell_type": "code",
   "execution_count": 27,
   "metadata": {},
   "outputs": [],
   "source": [
    "# Use Pipeline instead of make_pipeline\n",
    "pipe = Pipeline([('POLY', PolynomialFeatures(degree=2, include_bias=False)),\n",
    "            ('LGBM',LGBMClassifier(objective = 'binary', metric = 'binary_logloss',\n",
    "                                   n_jobs = 5, bagging_fraction = 0.7))])\n",
    "\n",
    "\n",
    "# lgbm = pipe.fit(x_train, y_train)\n",
    "\n",
    "# Instantiate GS\n",
    "gs = GridSearchCV(pipe, params, verbose=10, cv=4)"
   ]
  },
  {
   "cell_type": "code",
   "execution_count": 28,
   "metadata": {},
   "outputs": [],
   "source": [
    "# pipe.get_params().keys()"
   ]
  },
  {
   "cell_type": "code",
   "execution_count": null,
   "metadata": {
    "scrolled": false
   },
   "outputs": [
    {
     "name": "stdout",
     "output_type": "stream",
     "text": [
      "Fitting 4 folds for each of 84 candidates, totalling 336 fits\n",
      "[CV] LGBM__learning_rate=0.001, LGBM__boosting_type=gbdt, LGBM__n_jobs=5, LGBM__max_leaves=2500 \n"
     ]
    },
    {
     "name": "stderr",
     "output_type": "stream",
     "text": [
      "[Parallel(n_jobs=1)]: Using backend SequentialBackend with 1 concurrent workers.\n"
     ]
    },
    {
     "name": "stdout",
     "output_type": "stream",
     "text": [
      "[CV]  LGBM__learning_rate=0.001, LGBM__boosting_type=gbdt, LGBM__n_jobs=5, LGBM__max_leaves=2500, score=0.567896535976, total=  52.8s\n",
      "[CV] LGBM__learning_rate=0.001, LGBM__boosting_type=gbdt, LGBM__n_jobs=5, LGBM__max_leaves=2500 \n"
     ]
    },
    {
     "name": "stderr",
     "output_type": "stream",
     "text": [
      "[Parallel(n_jobs=1)]: Done   1 out of   1 | elapsed:  1.2min remaining:    0.0s\n"
     ]
    },
    {
     "name": "stdout",
     "output_type": "stream",
     "text": [
      "[CV]  LGBM__learning_rate=0.001, LGBM__boosting_type=gbdt, LGBM__n_jobs=5, LGBM__max_leaves=2500, score=0.71423134411, total=  49.8s\n",
      "[CV] LGBM__learning_rate=0.001, LGBM__boosting_type=gbdt, LGBM__n_jobs=5, LGBM__max_leaves=2500 \n"
     ]
    },
    {
     "name": "stderr",
     "output_type": "stream",
     "text": [
      "[Parallel(n_jobs=1)]: Done   2 out of   2 | elapsed:  2.4min remaining:    0.0s\n"
     ]
    },
    {
     "name": "stdout",
     "output_type": "stream",
     "text": [
      "[CV]  LGBM__learning_rate=0.001, LGBM__boosting_type=gbdt, LGBM__n_jobs=5, LGBM__max_leaves=2500, score=0.679348427812, total=  49.2s\n",
      "[CV] LGBM__learning_rate=0.001, LGBM__boosting_type=gbdt, LGBM__n_jobs=5, LGBM__max_leaves=2500 \n"
     ]
    },
    {
     "name": "stderr",
     "output_type": "stream",
     "text": [
      "[Parallel(n_jobs=1)]: Done   3 out of   3 | elapsed:  3.6min remaining:    0.0s\n"
     ]
    },
    {
     "name": "stdout",
     "output_type": "stream",
     "text": [
      "[CV]  LGBM__learning_rate=0.001, LGBM__boosting_type=gbdt, LGBM__n_jobs=5, LGBM__max_leaves=2500, score=0.539768323738, total=  49.4s\n",
      "[CV] LGBM__learning_rate=0.001, LGBM__boosting_type=gbdt, LGBM__n_jobs=5, LGBM__max_leaves=5000 \n"
     ]
    },
    {
     "name": "stderr",
     "output_type": "stream",
     "text": [
      "[Parallel(n_jobs=1)]: Done   4 out of   4 | elapsed:  4.7min remaining:    0.0s\n"
     ]
    },
    {
     "name": "stdout",
     "output_type": "stream",
     "text": [
      "[CV]  LGBM__learning_rate=0.001, LGBM__boosting_type=gbdt, LGBM__n_jobs=5, LGBM__max_leaves=5000, score=0.567896535976, total=  50.4s\n",
      "[CV] LGBM__learning_rate=0.001, LGBM__boosting_type=gbdt, LGBM__n_jobs=5, LGBM__max_leaves=5000 \n"
     ]
    },
    {
     "name": "stderr",
     "output_type": "stream",
     "text": [
      "[Parallel(n_jobs=1)]: Done   5 out of   5 | elapsed:  5.9min remaining:    0.0s\n"
     ]
    },
    {
     "name": "stdout",
     "output_type": "stream",
     "text": [
      "[CV]  LGBM__learning_rate=0.001, LGBM__boosting_type=gbdt, LGBM__n_jobs=5, LGBM__max_leaves=5000, score=0.71423134411, total=  49.4s\n",
      "[CV] LGBM__learning_rate=0.001, LGBM__boosting_type=gbdt, LGBM__n_jobs=5, LGBM__max_leaves=5000 \n"
     ]
    },
    {
     "name": "stderr",
     "output_type": "stream",
     "text": [
      "[Parallel(n_jobs=1)]: Done   6 out of   6 | elapsed:  7.1min remaining:    0.0s\n"
     ]
    },
    {
     "name": "stdout",
     "output_type": "stream",
     "text": [
      "[CV]  LGBM__learning_rate=0.001, LGBM__boosting_type=gbdt, LGBM__n_jobs=5, LGBM__max_leaves=5000, score=0.679348427812, total=  50.0s\n",
      "[CV] LGBM__learning_rate=0.001, LGBM__boosting_type=gbdt, LGBM__n_jobs=5, LGBM__max_leaves=5000 \n"
     ]
    },
    {
     "name": "stderr",
     "output_type": "stream",
     "text": [
      "[Parallel(n_jobs=1)]: Done   7 out of   7 | elapsed:  8.3min remaining:    0.0s\n"
     ]
    },
    {
     "name": "stdout",
     "output_type": "stream",
     "text": [
      "[CV]  LGBM__learning_rate=0.001, LGBM__boosting_type=gbdt, LGBM__n_jobs=5, LGBM__max_leaves=5000, score=0.539768323738, total=  48.8s\n",
      "[CV] LGBM__learning_rate=0.001, LGBM__boosting_type=gbdt, LGBM__n_jobs=5, LGBM__max_leaves=7500 \n"
     ]
    },
    {
     "name": "stderr",
     "output_type": "stream",
     "text": [
      "[Parallel(n_jobs=1)]: Done   8 out of   8 | elapsed:  9.4min remaining:    0.0s\n"
     ]
    },
    {
     "name": "stdout",
     "output_type": "stream",
     "text": [
      "[CV]  LGBM__learning_rate=0.001, LGBM__boosting_type=gbdt, LGBM__n_jobs=5, LGBM__max_leaves=7500, score=0.567896535976, total=  50.1s\n",
      "[CV] LGBM__learning_rate=0.001, LGBM__boosting_type=gbdt, LGBM__n_jobs=5, LGBM__max_leaves=7500 \n"
     ]
    },
    {
     "name": "stderr",
     "output_type": "stream",
     "text": [
      "[Parallel(n_jobs=1)]: Done   9 out of   9 | elapsed: 10.6min remaining:    0.0s\n"
     ]
    },
    {
     "name": "stdout",
     "output_type": "stream",
     "text": [
      "[CV]  LGBM__learning_rate=0.001, LGBM__boosting_type=gbdt, LGBM__n_jobs=5, LGBM__max_leaves=7500, score=0.71423134411, total=  49.0s\n",
      "[CV] LGBM__learning_rate=0.001, LGBM__boosting_type=gbdt, LGBM__n_jobs=5, LGBM__max_leaves=7500 \n",
      "[CV]  LGBM__learning_rate=0.001, LGBM__boosting_type=gbdt, LGBM__n_jobs=5, LGBM__max_leaves=7500, score=0.679348427812, total=  49.1s\n",
      "[CV] LGBM__learning_rate=0.001, LGBM__boosting_type=gbdt, LGBM__n_jobs=5, LGBM__max_leaves=7500 \n",
      "[CV]  LGBM__learning_rate=0.001, LGBM__boosting_type=gbdt, LGBM__n_jobs=5, LGBM__max_leaves=7500, score=0.539768323738, total=  48.7s\n",
      "[CV] LGBM__learning_rate=0.001, LGBM__boosting_type=gbdt, LGBM__n_jobs=5, LGBM__max_leaves=10000 \n",
      "[CV]  LGBM__learning_rate=0.001, LGBM__boosting_type=gbdt, LGBM__n_jobs=5, LGBM__max_leaves=10000, score=0.567896535976, total=  50.1s\n",
      "[CV] LGBM__learning_rate=0.001, LGBM__boosting_type=gbdt, LGBM__n_jobs=5, LGBM__max_leaves=10000 \n",
      "[CV]  LGBM__learning_rate=0.001, LGBM__boosting_type=gbdt, LGBM__n_jobs=5, LGBM__max_leaves=10000, score=0.71423134411, total=  49.4s\n",
      "[CV] LGBM__learning_rate=0.001, LGBM__boosting_type=gbdt, LGBM__n_jobs=5, LGBM__max_leaves=10000 \n",
      "[CV]  LGBM__learning_rate=0.001, LGBM__boosting_type=gbdt, LGBM__n_jobs=5, LGBM__max_leaves=10000, score=0.679348427812, total=  48.4s\n",
      "[CV] LGBM__learning_rate=0.001, LGBM__boosting_type=gbdt, LGBM__n_jobs=5, LGBM__max_leaves=10000 \n",
      "[CV]  LGBM__learning_rate=0.001, LGBM__boosting_type=gbdt, LGBM__n_jobs=5, LGBM__max_leaves=10000, score=0.539768323738, total=  49.1s\n",
      "[CV] LGBM__learning_rate=0.001, LGBM__boosting_type=gbdt, LGBM__n_jobs=5, LGBM__max_leaves=12500 \n",
      "[CV]  LGBM__learning_rate=0.001, LGBM__boosting_type=gbdt, LGBM__n_jobs=5, LGBM__max_leaves=12500, score=0.567896535976, total=  50.6s\n",
      "[CV] LGBM__learning_rate=0.001, LGBM__boosting_type=gbdt, LGBM__n_jobs=5, LGBM__max_leaves=12500 \n",
      "[CV]  LGBM__learning_rate=0.001, LGBM__boosting_type=gbdt, LGBM__n_jobs=5, LGBM__max_leaves=12500, score=0.71423134411, total=  49.6s\n",
      "[CV] LGBM__learning_rate=0.001, LGBM__boosting_type=gbdt, LGBM__n_jobs=5, LGBM__max_leaves=12500 \n",
      "[CV]  LGBM__learning_rate=0.001, LGBM__boosting_type=gbdt, LGBM__n_jobs=5, LGBM__max_leaves=12500, score=0.679348427812, total=  48.7s\n",
      "[CV] LGBM__learning_rate=0.001, LGBM__boosting_type=gbdt, LGBM__n_jobs=5, LGBM__max_leaves=12500 \n",
      "[CV]  LGBM__learning_rate=0.001, LGBM__boosting_type=gbdt, LGBM__n_jobs=5, LGBM__max_leaves=12500, score=0.539768323738, total=  48.3s\n",
      "[CV] LGBM__learning_rate=0.001, LGBM__boosting_type=gbdt, LGBM__n_jobs=5, LGBM__max_leaves=14000 \n",
      "[CV]  LGBM__learning_rate=0.001, LGBM__boosting_type=gbdt, LGBM__n_jobs=5, LGBM__max_leaves=14000, score=0.567896535976, total=  53.6s\n",
      "[CV] LGBM__learning_rate=0.001, LGBM__boosting_type=gbdt, LGBM__n_jobs=5, LGBM__max_leaves=14000 \n",
      "[CV]  LGBM__learning_rate=0.001, LGBM__boosting_type=gbdt, LGBM__n_jobs=5, LGBM__max_leaves=14000, score=0.71423134411, total=  49.0s\n",
      "[CV] LGBM__learning_rate=0.001, LGBM__boosting_type=gbdt, LGBM__n_jobs=5, LGBM__max_leaves=14000 \n",
      "[CV]  LGBM__learning_rate=0.001, LGBM__boosting_type=gbdt, LGBM__n_jobs=5, LGBM__max_leaves=14000, score=0.679348427812, total=  48.3s\n",
      "[CV] LGBM__learning_rate=0.001, LGBM__boosting_type=gbdt, LGBM__n_jobs=5, LGBM__max_leaves=14000 \n",
      "[CV]  LGBM__learning_rate=0.001, LGBM__boosting_type=gbdt, LGBM__n_jobs=5, LGBM__max_leaves=14000, score=0.539768323738, total=  48.9s\n",
      "[CV] LGBM__learning_rate=0.001, LGBM__boosting_type=gbdt, LGBM__n_jobs=5, LGBM__max_leaves=16300 \n",
      "[CV]  LGBM__learning_rate=0.001, LGBM__boosting_type=gbdt, LGBM__n_jobs=5, LGBM__max_leaves=16300, score=0.567896535976, total=  50.2s\n",
      "[CV] LGBM__learning_rate=0.001, LGBM__boosting_type=gbdt, LGBM__n_jobs=5, LGBM__max_leaves=16300 \n",
      "[CV]  LGBM__learning_rate=0.001, LGBM__boosting_type=gbdt, LGBM__n_jobs=5, LGBM__max_leaves=16300, score=0.71423134411, total=  49.4s\n",
      "[CV] LGBM__learning_rate=0.001, LGBM__boosting_type=gbdt, LGBM__n_jobs=5, LGBM__max_leaves=16300 \n",
      "[CV]  LGBM__learning_rate=0.001, LGBM__boosting_type=gbdt, LGBM__n_jobs=5, LGBM__max_leaves=16300, score=0.679348427812, total=  48.6s\n",
      "[CV] LGBM__learning_rate=0.001, LGBM__boosting_type=gbdt, LGBM__n_jobs=5, LGBM__max_leaves=16300 \n",
      "[CV]  LGBM__learning_rate=0.001, LGBM__boosting_type=gbdt, LGBM__n_jobs=5, LGBM__max_leaves=16300, score=0.539768323738, total=  48.6s\n",
      "[CV] LGBM__learning_rate=0.005, LGBM__boosting_type=gbdt, LGBM__n_jobs=5, LGBM__max_leaves=2500 \n",
      "[CV]  LGBM__learning_rate=0.005, LGBM__boosting_type=gbdt, LGBM__n_jobs=5, LGBM__max_leaves=2500, score=0.612245180398, total=  48.9s\n",
      "[CV] LGBM__learning_rate=0.005, LGBM__boosting_type=gbdt, LGBM__n_jobs=5, LGBM__max_leaves=2500 \n",
      "[CV]  LGBM__learning_rate=0.005, LGBM__boosting_type=gbdt, LGBM__n_jobs=5, LGBM__max_leaves=2500, score=0.741474756422, total=  50.0s\n",
      "[CV] LGBM__learning_rate=0.005, LGBM__boosting_type=gbdt, LGBM__n_jobs=5, LGBM__max_leaves=2500 \n",
      "[CV]  LGBM__learning_rate=0.005, LGBM__boosting_type=gbdt, LGBM__n_jobs=5, LGBM__max_leaves=2500, score=0.698751660762, total=  48.8s\n",
      "[CV] LGBM__learning_rate=0.005, LGBM__boosting_type=gbdt, LGBM__n_jobs=5, LGBM__max_leaves=2500 \n",
      "[CV]  LGBM__learning_rate=0.005, LGBM__boosting_type=gbdt, LGBM__n_jobs=5, LGBM__max_leaves=2500, score=0.534599202834, total=  48.6s\n",
      "[CV] LGBM__learning_rate=0.005, LGBM__boosting_type=gbdt, LGBM__n_jobs=5, LGBM__max_leaves=5000 \n",
      "[CV]  LGBM__learning_rate=0.005, LGBM__boosting_type=gbdt, LGBM__n_jobs=5, LGBM__max_leaves=5000, score=0.612245180398, total=  49.7s\n",
      "[CV] LGBM__learning_rate=0.005, LGBM__boosting_type=gbdt, LGBM__n_jobs=5, LGBM__max_leaves=5000 \n",
      "[CV]  LGBM__learning_rate=0.005, LGBM__boosting_type=gbdt, LGBM__n_jobs=5, LGBM__max_leaves=5000, score=0.741474756422, total=  49.6s\n",
      "[CV] LGBM__learning_rate=0.005, LGBM__boosting_type=gbdt, LGBM__n_jobs=5, LGBM__max_leaves=5000 \n",
      "[CV]  LGBM__learning_rate=0.005, LGBM__boosting_type=gbdt, LGBM__n_jobs=5, LGBM__max_leaves=5000, score=0.698751660762, total=  48.8s\n",
      "[CV] LGBM__learning_rate=0.005, LGBM__boosting_type=gbdt, LGBM__n_jobs=5, LGBM__max_leaves=5000 \n",
      "[CV]  LGBM__learning_rate=0.005, LGBM__boosting_type=gbdt, LGBM__n_jobs=5, LGBM__max_leaves=5000, score=0.534599202834, total=  50.1s\n",
      "[CV] LGBM__learning_rate=0.005, LGBM__boosting_type=gbdt, LGBM__n_jobs=5, LGBM__max_leaves=7500 \n",
      "[CV]  LGBM__learning_rate=0.005, LGBM__boosting_type=gbdt, LGBM__n_jobs=5, LGBM__max_leaves=7500, score=0.612245180398, total=  53.1s\n",
      "[CV] LGBM__learning_rate=0.005, LGBM__boosting_type=gbdt, LGBM__n_jobs=5, LGBM__max_leaves=7500 \n",
      "[CV]  LGBM__learning_rate=0.005, LGBM__boosting_type=gbdt, LGBM__n_jobs=5, LGBM__max_leaves=7500, score=0.741474756422, total=  54.1s\n",
      "[CV] LGBM__learning_rate=0.005, LGBM__boosting_type=gbdt, LGBM__n_jobs=5, LGBM__max_leaves=7500 \n",
      "[CV]  LGBM__learning_rate=0.005, LGBM__boosting_type=gbdt, LGBM__n_jobs=5, LGBM__max_leaves=7500, score=0.698751660762, total=  50.4s\n",
      "[CV] LGBM__learning_rate=0.005, LGBM__boosting_type=gbdt, LGBM__n_jobs=5, LGBM__max_leaves=7500 \n",
      "[CV]  LGBM__learning_rate=0.005, LGBM__boosting_type=gbdt, LGBM__n_jobs=5, LGBM__max_leaves=7500, score=0.534599202834, total=  50.6s\n",
      "[CV] LGBM__learning_rate=0.005, LGBM__boosting_type=gbdt, LGBM__n_jobs=5, LGBM__max_leaves=10000 \n",
      "[CV]  LGBM__learning_rate=0.005, LGBM__boosting_type=gbdt, LGBM__n_jobs=5, LGBM__max_leaves=10000, score=0.612245180398, total=  56.3s\n",
      "[CV] LGBM__learning_rate=0.005, LGBM__boosting_type=gbdt, LGBM__n_jobs=5, LGBM__max_leaves=10000 \n",
      "[CV]  LGBM__learning_rate=0.005, LGBM__boosting_type=gbdt, LGBM__n_jobs=5, LGBM__max_leaves=10000, score=0.741474756422, total=  54.4s\n",
      "[CV] LGBM__learning_rate=0.005, LGBM__boosting_type=gbdt, LGBM__n_jobs=5, LGBM__max_leaves=10000 \n",
      "[CV]  LGBM__learning_rate=0.005, LGBM__boosting_type=gbdt, LGBM__n_jobs=5, LGBM__max_leaves=10000, score=0.698751660762, total= 1.0min\n",
      "[CV] LGBM__learning_rate=0.005, LGBM__boosting_type=gbdt, LGBM__n_jobs=5, LGBM__max_leaves=10000 \n",
      "[CV]  LGBM__learning_rate=0.005, LGBM__boosting_type=gbdt, LGBM__n_jobs=5, LGBM__max_leaves=10000, score=0.534599202834, total= 1.0min\n",
      "[CV] LGBM__learning_rate=0.005, LGBM__boosting_type=gbdt, LGBM__n_jobs=5, LGBM__max_leaves=12500 \n",
      "[CV]  LGBM__learning_rate=0.005, LGBM__boosting_type=gbdt, LGBM__n_jobs=5, LGBM__max_leaves=12500, score=0.612245180398, total= 2.1min\n",
      "[CV] LGBM__learning_rate=0.005, LGBM__boosting_type=gbdt, LGBM__n_jobs=5, LGBM__max_leaves=12500 \n"
     ]
    },
    {
     "name": "stdout",
     "output_type": "stream",
     "text": [
      "[CV]  LGBM__learning_rate=0.005, LGBM__boosting_type=gbdt, LGBM__n_jobs=5, LGBM__max_leaves=12500, score=0.741474756422, total= 2.1min\n",
      "[CV] LGBM__learning_rate=0.005, LGBM__boosting_type=gbdt, LGBM__n_jobs=5, LGBM__max_leaves=12500 \n",
      "[CV]  LGBM__learning_rate=0.005, LGBM__boosting_type=gbdt, LGBM__n_jobs=5, LGBM__max_leaves=12500, score=0.698751660762, total=  50.8s\n",
      "[CV] LGBM__learning_rate=0.005, LGBM__boosting_type=gbdt, LGBM__n_jobs=5, LGBM__max_leaves=12500 \n",
      "[CV]  LGBM__learning_rate=0.005, LGBM__boosting_type=gbdt, LGBM__n_jobs=5, LGBM__max_leaves=12500, score=0.534599202834, total=  48.5s\n",
      "[CV] LGBM__learning_rate=0.005, LGBM__boosting_type=gbdt, LGBM__n_jobs=5, LGBM__max_leaves=14000 \n",
      "[CV]  LGBM__learning_rate=0.005, LGBM__boosting_type=gbdt, LGBM__n_jobs=5, LGBM__max_leaves=14000, score=0.612245180398, total=  49.3s\n",
      "[CV] LGBM__learning_rate=0.005, LGBM__boosting_type=gbdt, LGBM__n_jobs=5, LGBM__max_leaves=14000 \n",
      "[CV]  LGBM__learning_rate=0.005, LGBM__boosting_type=gbdt, LGBM__n_jobs=5, LGBM__max_leaves=14000, score=0.741474756422, total=  54.6s\n",
      "[CV] LGBM__learning_rate=0.005, LGBM__boosting_type=gbdt, LGBM__n_jobs=5, LGBM__max_leaves=14000 \n",
      "[CV]  LGBM__learning_rate=0.005, LGBM__boosting_type=gbdt, LGBM__n_jobs=5, LGBM__max_leaves=14000, score=0.698751660762, total=  51.5s\n",
      "[CV] LGBM__learning_rate=0.005, LGBM__boosting_type=gbdt, LGBM__n_jobs=5, LGBM__max_leaves=14000 \n",
      "[CV]  LGBM__learning_rate=0.005, LGBM__boosting_type=gbdt, LGBM__n_jobs=5, LGBM__max_leaves=14000, score=0.534599202834, total=  49.5s\n",
      "[CV] LGBM__learning_rate=0.005, LGBM__boosting_type=gbdt, LGBM__n_jobs=5, LGBM__max_leaves=16300 \n",
      "[CV]  LGBM__learning_rate=0.005, LGBM__boosting_type=gbdt, LGBM__n_jobs=5, LGBM__max_leaves=16300, score=0.612245180398, total=  49.3s\n",
      "[CV] LGBM__learning_rate=0.005, LGBM__boosting_type=gbdt, LGBM__n_jobs=5, LGBM__max_leaves=16300 \n",
      "[CV]  LGBM__learning_rate=0.005, LGBM__boosting_type=gbdt, LGBM__n_jobs=5, LGBM__max_leaves=16300, score=0.741474756422, total=  48.9s\n",
      "[CV] LGBM__learning_rate=0.005, LGBM__boosting_type=gbdt, LGBM__n_jobs=5, LGBM__max_leaves=16300 \n",
      "[CV]  LGBM__learning_rate=0.005, LGBM__boosting_type=gbdt, LGBM__n_jobs=5, LGBM__max_leaves=16300, score=0.698751660762, total=  57.5s\n",
      "[CV] LGBM__learning_rate=0.005, LGBM__boosting_type=gbdt, LGBM__n_jobs=5, LGBM__max_leaves=16300 \n",
      "[CV]  LGBM__learning_rate=0.005, LGBM__boosting_type=gbdt, LGBM__n_jobs=5, LGBM__max_leaves=16300, score=0.534599202834, total= 1.3min\n",
      "[CV] LGBM__learning_rate=0.01, LGBM__boosting_type=gbdt, LGBM__n_jobs=5, LGBM__max_leaves=2500 \n",
      "[CV]  LGBM__learning_rate=0.01, LGBM__boosting_type=gbdt, LGBM__n_jobs=5, LGBM__max_leaves=2500, score=0.599803479248, total= 1.2min\n",
      "[CV] LGBM__learning_rate=0.01, LGBM__boosting_type=gbdt, LGBM__n_jobs=5, LGBM__max_leaves=2500 \n",
      "[CV]  LGBM__learning_rate=0.01, LGBM__boosting_type=gbdt, LGBM__n_jobs=5, LGBM__max_leaves=2500, score=0.75586110496, total= 1.9min\n",
      "[CV] LGBM__learning_rate=0.01, LGBM__boosting_type=gbdt, LGBM__n_jobs=5, LGBM__max_leaves=2500 \n",
      "[CV]  LGBM__learning_rate=0.01, LGBM__boosting_type=gbdt, LGBM__n_jobs=5, LGBM__max_leaves=2500, score=0.707664415412, total= 1.3min\n",
      "[CV] LGBM__learning_rate=0.01, LGBM__boosting_type=gbdt, LGBM__n_jobs=5, LGBM__max_leaves=2500 \n",
      "[CV]  LGBM__learning_rate=0.01, LGBM__boosting_type=gbdt, LGBM__n_jobs=5, LGBM__max_leaves=2500, score=0.529561558902, total= 3.4min\n",
      "[CV] LGBM__learning_rate=0.01, LGBM__boosting_type=gbdt, LGBM__n_jobs=5, LGBM__max_leaves=5000 \n",
      "[CV]  LGBM__learning_rate=0.01, LGBM__boosting_type=gbdt, LGBM__n_jobs=5, LGBM__max_leaves=5000, score=0.599803479248, total=  53.6s\n",
      "[CV] LGBM__learning_rate=0.01, LGBM__boosting_type=gbdt, LGBM__n_jobs=5, LGBM__max_leaves=5000 \n",
      "[CV]  LGBM__learning_rate=0.01, LGBM__boosting_type=gbdt, LGBM__n_jobs=5, LGBM__max_leaves=5000, score=0.75586110496, total=  52.3s\n",
      "[CV] LGBM__learning_rate=0.01, LGBM__boosting_type=gbdt, LGBM__n_jobs=5, LGBM__max_leaves=5000 \n",
      "[CV]  LGBM__learning_rate=0.01, LGBM__boosting_type=gbdt, LGBM__n_jobs=5, LGBM__max_leaves=5000, score=0.707664415412, total=  51.6s\n",
      "[CV] LGBM__learning_rate=0.01, LGBM__boosting_type=gbdt, LGBM__n_jobs=5, LGBM__max_leaves=5000 \n",
      "[CV]  LGBM__learning_rate=0.01, LGBM__boosting_type=gbdt, LGBM__n_jobs=5, LGBM__max_leaves=5000, score=0.529561558902, total=  52.7s\n",
      "[CV] LGBM__learning_rate=0.01, LGBM__boosting_type=gbdt, LGBM__n_jobs=5, LGBM__max_leaves=7500 \n",
      "[CV]  LGBM__learning_rate=0.01, LGBM__boosting_type=gbdt, LGBM__n_jobs=5, LGBM__max_leaves=7500, score=0.599803479248, total=  52.7s\n",
      "[CV] LGBM__learning_rate=0.01, LGBM__boosting_type=gbdt, LGBM__n_jobs=5, LGBM__max_leaves=7500 \n",
      "[CV]  LGBM__learning_rate=0.01, LGBM__boosting_type=gbdt, LGBM__n_jobs=5, LGBM__max_leaves=7500, score=0.75586110496, total=  51.0s\n",
      "[CV] LGBM__learning_rate=0.01, LGBM__boosting_type=gbdt, LGBM__n_jobs=5, LGBM__max_leaves=7500 \n",
      "[CV]  LGBM__learning_rate=0.01, LGBM__boosting_type=gbdt, LGBM__n_jobs=5, LGBM__max_leaves=7500, score=0.707664415412, total=  48.7s\n",
      "[CV] LGBM__learning_rate=0.01, LGBM__boosting_type=gbdt, LGBM__n_jobs=5, LGBM__max_leaves=7500 \n",
      "[CV]  LGBM__learning_rate=0.01, LGBM__boosting_type=gbdt, LGBM__n_jobs=5, LGBM__max_leaves=7500, score=0.529561558902, total=  49.7s\n",
      "[CV] LGBM__learning_rate=0.01, LGBM__boosting_type=gbdt, LGBM__n_jobs=5, LGBM__max_leaves=10000 \n",
      "[CV]  LGBM__learning_rate=0.01, LGBM__boosting_type=gbdt, LGBM__n_jobs=5, LGBM__max_leaves=10000, score=0.599803479248, total=  50.5s\n",
      "[CV] LGBM__learning_rate=0.01, LGBM__boosting_type=gbdt, LGBM__n_jobs=5, LGBM__max_leaves=10000 \n",
      "[CV]  LGBM__learning_rate=0.01, LGBM__boosting_type=gbdt, LGBM__n_jobs=5, LGBM__max_leaves=10000, score=0.75586110496, total=  50.2s\n",
      "[CV] LGBM__learning_rate=0.01, LGBM__boosting_type=gbdt, LGBM__n_jobs=5, LGBM__max_leaves=10000 \n",
      "[CV]  LGBM__learning_rate=0.01, LGBM__boosting_type=gbdt, LGBM__n_jobs=5, LGBM__max_leaves=10000, score=0.707664415412, total=  48.8s\n",
      "[CV] LGBM__learning_rate=0.01, LGBM__boosting_type=gbdt, LGBM__n_jobs=5, LGBM__max_leaves=10000 \n",
      "[CV]  LGBM__learning_rate=0.01, LGBM__boosting_type=gbdt, LGBM__n_jobs=5, LGBM__max_leaves=10000, score=0.529561558902, total=  48.5s\n",
      "[CV] LGBM__learning_rate=0.01, LGBM__boosting_type=gbdt, LGBM__n_jobs=5, LGBM__max_leaves=12500 \n",
      "[CV]  LGBM__learning_rate=0.01, LGBM__boosting_type=gbdt, LGBM__n_jobs=5, LGBM__max_leaves=12500, score=0.599803479248, total=  51.7s\n",
      "[CV] LGBM__learning_rate=0.01, LGBM__boosting_type=gbdt, LGBM__n_jobs=5, LGBM__max_leaves=12500 \n",
      "[CV]  LGBM__learning_rate=0.01, LGBM__boosting_type=gbdt, LGBM__n_jobs=5, LGBM__max_leaves=12500, score=0.75586110496, total=  50.6s\n",
      "[CV] LGBM__learning_rate=0.01, LGBM__boosting_type=gbdt, LGBM__n_jobs=5, LGBM__max_leaves=12500 \n",
      "[CV]  LGBM__learning_rate=0.01, LGBM__boosting_type=gbdt, LGBM__n_jobs=5, LGBM__max_leaves=12500, score=0.707664415412, total=  49.5s\n",
      "[CV] LGBM__learning_rate=0.01, LGBM__boosting_type=gbdt, LGBM__n_jobs=5, LGBM__max_leaves=12500 \n"
     ]
    }
   ],
   "source": [
    "gs.fit(x_train, y_train)"
   ]
  },
  {
   "cell_type": "code",
   "execution_count": 11,
   "metadata": {},
   "outputs": [
    {
     "name": "stdout",
     "output_type": "stream",
     "text": [
      "Best parameters set found on training set:\n",
      "()\n"
     ]
    },
    {
     "ename": "AttributeError",
     "evalue": "'GridSearchCV' object has no attribute 'best_params_'",
     "output_type": "error",
     "traceback": [
      "\u001b[0;31m---------------------------------------------------------------------------\u001b[0m",
      "\u001b[0;31mAttributeError\u001b[0m                            Traceback (most recent call last)",
      "\u001b[0;32m<ipython-input-11-0db0772e7744>\u001b[0m in \u001b[0;36m<module>\u001b[0;34m()\u001b[0m\n\u001b[1;32m      1\u001b[0m \u001b[0;32mprint\u001b[0m\u001b[0;34m(\u001b[0m\u001b[0;34m\"Best parameters set found on training set:\"\u001b[0m\u001b[0;34m)\u001b[0m\u001b[0;34m\u001b[0m\u001b[0m\n\u001b[1;32m      2\u001b[0m \u001b[0;32mprint\u001b[0m\u001b[0;34m(\u001b[0m\u001b[0;34m)\u001b[0m\u001b[0;34m\u001b[0m\u001b[0m\n\u001b[0;32m----> 3\u001b[0;31m \u001b[0;32mprint\u001b[0m\u001b[0;34m(\u001b[0m\u001b[0mgs\u001b[0m\u001b[0;34m.\u001b[0m\u001b[0mbest_params_\u001b[0m\u001b[0;34m)\u001b[0m\u001b[0;34m\u001b[0m\u001b[0m\n\u001b[0m\u001b[1;32m      4\u001b[0m \u001b[0;32mprint\u001b[0m\u001b[0;34m(\u001b[0m\u001b[0;34m)\u001b[0m\u001b[0;34m\u001b[0m\u001b[0m\n\u001b[1;32m      5\u001b[0m \u001b[0;32mprint\u001b[0m\u001b[0;34m(\u001b[0m\u001b[0;34m\"Grid scores on training set:\"\u001b[0m\u001b[0;34m)\u001b[0m\u001b[0;34m\u001b[0m\u001b[0m\n",
      "\u001b[0;31mAttributeError\u001b[0m: 'GridSearchCV' object has no attribute 'best_params_'"
     ]
    }
   ],
   "source": [
    "print(\"Best parameters set found on training set:\")\n",
    "print()\n",
    "print(gs.best_params_)\n",
    "print()\n",
    "print(\"Grid scores on training set:\")\n",
    "print()\n",
    "means = gs.cv_results_['mean_test_score']\n",
    "stds = gs.cv_results_['std_test_score']\n",
    "for mean, std, params in zip(means, stds, gs.cv_results_['params']):\n",
    "    print(\"%0.3f (+/-%0.03f) for %r\"\n",
    "          % (mean, std * 2, params))\n",
    "print()"
   ]
  },
  {
   "cell_type": "code",
   "execution_count": null,
   "metadata": {},
   "outputs": [],
   "source": [
    "train_preds_true = {'proba' : gs.best_estimator_.predict_proba(x_train)[:, 1], 'true_val' : y_train}\n",
    "test_preds_true = {'proba' : gs.best_estimator_.predict_proba(x_test)[:, 1], 'true_val' : y_test}"
   ]
  },
  {
   "cell_type": "code",
   "execution_count": null,
   "metadata": {},
   "outputs": [],
   "source": [
    "AUC_train = roc_auc_score(train_preds_true['true_val'], train_preds_true['proba'])\n",
    "AUC_test = roc_auc_score(test_preds_true['true_val'], test_preds_true['proba'])"
   ]
  },
  {
   "cell_type": "code",
   "execution_count": null,
   "metadata": {},
   "outputs": [],
   "source": [
    "print('AUC Train: ', AUC_train);\n",
    "print('AUC Test: ', AUC_test);"
   ]
  },
  {
   "cell_type": "code",
   "execution_count": null,
   "metadata": {},
   "outputs": [],
   "source": [
    "# ## Predict\n",
    "# train_predictions = lgbm.predict(x_train)\n",
    "# test_predictions = lgbm.predict(x_test)\n",
    "\n",
    "# ## Accuracy Score\n",
    "# train_score = lgbm.score(x_train, y_train)\n",
    "# test_score = lgbm.score(x_test, y_test)\n",
    "\n",
    "# print(\"train accuracy: \", train_score)\n",
    "# print(\"test accuracy: \", test_score)\n",
    "\n",
    "# ## AUC\n",
    "# train_predictions_class = np.where(train_predictions > 0.5, 1, 0)\n",
    "# test_predictions_class = np.where(test_predictions > 0.5, 1, 0)\n",
    "\n",
    "# print('Train ROC AUC: ', roc_auc_score(train_predictions_class, y_train))\n",
    "# print('Test  ROC AUC: ', roc_auc_score(test_predictions_class, y_test))"
   ]
  },
  {
   "cell_type": "code",
   "execution_count": null,
   "metadata": {},
   "outputs": [],
   "source": [
    "# from sklearn.metrics import roc_curve\n",
    "# y_pred = lgbm.predict(x_test).ravel()\n",
    "# fpr, tpr, thresholds = roc_curve(y_test, y_pred)\n",
    "\n",
    "# from sklearn.metrics import auc\n",
    "# auc_lgbm = auc(fpr, tpr)\n",
    "\n",
    "# plt.figure(1)\n",
    "# plt.plot([0, 1], [0, 1], 'k--')\n",
    "# plt.plot(fpr, tpr, label='LGBM (area = {:.3f})'.format(auc_lgbm))\n",
    "# plt.xlabel('False positive rate')\n",
    "# plt.ylabel('True positive rate')\n",
    "# plt.title('ROC curve')\n",
    "# plt.legend(loc='best')\n",
    "# plt.show()"
   ]
  },
  {
   "cell_type": "code",
   "execution_count": null,
   "metadata": {},
   "outputs": [],
   "source": [
    "# Dump the tuned classifier with Pickle\n",
    "pkl_filename = 'Tuned_LGBM.pkl'\n",
    "\n",
    "# Open the file to save as pkl file\n",
    "model_pkl = open(pkl_filename, 'wb')\n",
    "pickle.dump(gs.best_estimator_, model_pkl)\n",
    "\n",
    "# Close the pickle instances\n",
    "model_pkl.close()"
   ]
  }
 ],
 "metadata": {
  "kernelspec": {
   "display_name": "Python 2",
   "language": "python",
   "name": "python2"
  },
  "language_info": {
   "codemirror_mode": {
    "name": "ipython",
    "version": 2
   },
   "file_extension": ".py",
   "mimetype": "text/x-python",
   "name": "python",
   "nbconvert_exporter": "python",
   "pygments_lexer": "ipython2",
   "version": "2.7.15"
  }
 },
 "nbformat": 4,
 "nbformat_minor": 2
}
