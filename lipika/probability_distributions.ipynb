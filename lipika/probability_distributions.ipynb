{
 "cells": [
  {
   "cell_type": "code",
   "execution_count": 98,
   "metadata": {},
   "outputs": [],
   "source": [
    "import numpy as np\n",
    "import pandas as pd\n",
    "import matplotlib\n",
    "import matplotlib.pyplot as plt\n",
    "%matplotlib inline\n",
    "import seaborn as sns\n",
    "sns.set()\n",
    "\n",
    "\n",
    "from sklearn.linear_model import LogisticRegression\n",
    "from sklearn.linear_model import LogisticRegressionCV\n",
    "from sklearn.model_selection import train_test_split\n",
    "from sklearn.model_selection import cross_val_score\n",
    "from sklearn.metrics import accuracy_score\n",
    "from sklearn.discriminant_analysis import QuadraticDiscriminantAnalysis\n",
    "from sklearn.discriminant_analysis import LinearDiscriminantAnalysis\n",
    "from sklearn import preprocessing\n",
    "from sklearn.ensemble import RandomForestClassifier\n",
    "from sklearn.pipeline import make_pipeline\n",
    "from sklearn.preprocessing import PolynomialFeatures\n",
    "from sklearn.metrics import accuracy_score\n",
    "from sklearn.metrics import auc\n",
    "from sklearn.metrics import roc_auc_score\n",
    "# from keras.models import load_model\n",
    "\n",
    "from imblearn.over_sampling import SMOTE\n",
    "import pickle\n",
    "\n",
    "import numpy as np\n",
    "import pandas as pd\n",
    "import matplotlib\n",
    "import matplotlib.pyplot as plt\n",
    "%matplotlib inline\n",
    "import seaborn as sns\n",
    "sns.set()\n",
    "from sklearn.model_selection import train_test_split\n",
    "from sklearn.model_selection import cross_val_score\n",
    "from sklearn.metrics import accuracy_score\n",
    "from sklearn import preprocessing\n",
    "from sklearn.ensemble import RandomForestClassifier\n",
    "from sklearn.pipeline import make_pipeline\n",
    "from sklearn.pipeline import Pipeline\n",
    "from sklearn.metrics import roc_auc_score\n",
    "\n",
    "from sklearn.preprocessing import PolynomialFeatures\n",
    "from imblearn.over_sampling import SMOTE\n",
    "import pickle\n",
    "from lightgbm.sklearn import LGBMClassifier\n",
    "\n",
    "## you'll have to pip install LGBM\n",
    "# !pip install lightgbm\n",
    "\n",
    "from sklearn.metrics import roc_curve\n",
    "from sklearn.metrics import auc\n"
   ]
  },
  {
   "cell_type": "code",
   "execution_count": 2,
   "metadata": {},
   "outputs": [],
   "source": [
    "data_train = pd.read_csv(\"../lipika/cleaned_2013_14\", low_memory = False);\n",
    "data_test = pd.read_csv(\"../lipika/cleaned_2015\", low_memory = False);"
   ]
  },
  {
   "cell_type": "code",
   "execution_count": 12,
   "metadata": {},
   "outputs": [],
   "source": [
    "# data_test__ = data_test[data_test.int_rate != 0.5383972057310751]"
   ]
  },
  {
   "cell_type": "code",
   "execution_count": 11,
   "metadata": {},
   "outputs": [],
   "source": [
    "# data_test.shape, data_test__.shape"
   ]
  },
  {
   "cell_type": "code",
   "execution_count": 3,
   "metadata": {},
   "outputs": [
    {
     "data": {
      "text/plain": [
       "array([ True,  True,  True,  True,  True,  True,  True,  True,  True,\n",
       "        True,  True,  True,  True,  True,  True,  True,  True,  True,\n",
       "        True,  True,  True,  True,  True,  True,  True,  True,  True,\n",
       "        True,  True,  True,  True,  True,  True,  True,  True,  True,\n",
       "        True,  True,  True,  True,  True,  True,  True,  True,  True,\n",
       "        True,  True,  True,  True,  True])"
      ]
     },
     "execution_count": 3,
     "metadata": {},
     "output_type": "execute_result"
    }
   ],
   "source": [
    "data_test.columns == data_train.columns"
   ]
  },
  {
   "cell_type": "code",
   "execution_count": null,
   "metadata": {},
   "outputs": [],
   "source": [
    "# def split_data(df, cols):\n",
    "#     x = df.drop(cols, axis = 1)\n",
    "#     y = df.paid\n",
    "#     return x, y\n",
    "\n",
    "# cols_to_drop_training = ['loan_status', 'paid', 'amnt', 'total_pymnt', 'term_adj', 'zip_code']\n",
    "# x_train_initial, y_train_initial = split_data(data_train, cols_to_drop_training)\n",
    "# x_test, y_test = split_data(data_test, cols_to_drop_training)"
   ]
  },
  {
   "cell_type": "code",
   "execution_count": null,
   "metadata": {},
   "outputs": [],
   "source": [
    "# sm = SMOTE(random_state=1, ratio = 1.0)\n",
    "# x_train, y_train = sm.fit_sample(x_train_initial, y_train_initial)"
   ]
  },
  {
   "cell_type": "code",
   "execution_count": null,
   "metadata": {},
   "outputs": [],
   "source": [
    "# x_test = x_test.dropna()\n",
    "# y_test = y_test.dropna()"
   ]
  },
  {
   "cell_type": "code",
   "execution_count": null,
   "metadata": {},
   "outputs": [],
   "source": [
    "# with open('Tuned_RF.pkl', 'rb') as file:  \n",
    "#     rf = pickle.load(file)\n",
    "\n",
    "# # with open('QDA.pkl', 'rb') as file:  \n",
    "# #     qda = pickle.load(file, encoding='latin1')\n",
    "\n",
    "# # with open('Tuned_LGBM.pkl', 'rb') as file:  \n",
    "# #     lgbm = pickle.load(file, encoding='latin1')\n",
    "\n",
    "# with open('../anthony/AdaboostGS.pkl', 'rb') as file:  \n",
    "#     adaboost = pickle.load(file, encoding='latin1')\n",
    "\n",
    "# with open('../bhaven/Tuned_logReg_all_training_data.pkl', 'rb') as file:  \n",
    "#     logreg = pickle.load(file, encoding='latin1')"
   ]
  },
  {
   "cell_type": "code",
   "execution_count": null,
   "metadata": {},
   "outputs": [],
   "source": [
    "# # models = [rf, qda, lgbm, adaboost, logreg]"
   ]
  },
  {
   "cell_type": "code",
   "execution_count": null,
   "metadata": {},
   "outputs": [],
   "source": [
    "# def create_df(data_1, data_2, penal = 0.5):\n",
    "#     df = pd.DataFrame(data_1)\n",
    "    \n",
    "#     df['int_rate'] = data_2['int_rate']\n",
    "#     df['amnt'] = data_2['amnt']\n",
    "#     df['total_pymnt'] = data_2['total_pymnt']\n",
    "#     df['term_adj'] = data_2['term_adj']\n",
    "#     df['ROI'] = (((1 + df['int_rate'])*(1-df['proba']))+(df['proba']*drr*penal))-1\n",
    "\n",
    "#     df['Real_ROI'] = df['amnt']*(((df['total_pymnt']/df['amnt'])**(1/df['term_adj']))-1)\n",
    "#     df['annualized_amnt'] = df['amnt']*(1/df['term_adj'])\n",
    "    \n",
    "#     return df"
   ]
  },
  {
   "cell_type": "code",
   "execution_count": 14,
   "metadata": {},
   "outputs": [
    {
     "name": "stdout",
     "output_type": "stream",
     "text": [
      "0.8999757837386154\n"
     ]
    }
   ],
   "source": [
    "distress = data_train[data_train.paid == 1]\n",
    "drr = (np.sum(distress.total_pymnt)/np.sum(distress.amnt))**(1/np.mean(distress.term))\n",
    "print(drr)"
   ]
  },
  {
   "cell_type": "code",
   "execution_count": null,
   "metadata": {},
   "outputs": [],
   "source": [
    "# train_data = {}\n",
    "# test_data= {}\n",
    "# df_train = {}\n",
    "# df_test = {}\n",
    "\n",
    "# for model in models:\n",
    "#     print(model)\n",
    "#     tr = {'proba' : model.predict_proba(x_train)[:, 1], \n",
    "#                          'pred' : model.predict(x_train), \n",
    "#                          'true_val' : y_train}\n",
    "#     df_tr = create_df(tr, data_train)\n",
    "#     train_data[model] = tr\n",
    "#     df_train[model] = df_tr\n",
    "    \n",
    "#     print(x_test.shape)\n",
    "#     te = {'proba' : model.predict_proba(x_test)[:, 1], \n",
    "#                          'pred' : model.predict(x_test), \n",
    "#                          'true_val' : y_test}    \n",
    "#     print(len(te['proba']))\n",
    "#     df_te = create_df(te, data_test)    \n",
    "#     test_data[model] = te\n",
    "#     df_test[model] = df_te"
   ]
  },
  {
   "cell_type": "code",
   "execution_count": null,
   "metadata": {},
   "outputs": [],
   "source": [
    "# with open('df_train_dict.pickle', 'wb') as handle:\n",
    "#     pickle.dump(df_train, handle, protocol=pickle.HIGHEST_PROTOCOL)\n",
    "\n",
    "# with open('df_test_dict.pickle', 'wb') as handle:\n",
    "#     pickle.dump(df_test, handle, protocol=pickle.HIGHEST_PROTOCOL)\n",
    "\n",
    "with open('df_train_dict.pickle', 'rb') as handle:\n",
    "    df_train_dict = pickle.load(handle)\n",
    "with open('df_test_dict.pickle', 'rb') as handle:\n",
    "    df_test_dict = pickle.load(handle)"
   ]
  },
  {
   "cell_type": "code",
   "execution_count": 42,
   "metadata": {},
   "outputs": [],
   "source": [
    "with open('lgbm_test_no_smote.pickle', 'rb') as handle:\n",
    "    lgbm_test_dict = pickle.load(handle)\n",
    "    \n",
    "with open('lgbm_train_no_smote.pickle', 'rb') as handle:\n",
    "    lgbm_train_dict = pickle.load(handle)"
   ]
  },
  {
   "cell_type": "code",
   "execution_count": 56,
   "metadata": {},
   "outputs": [],
   "source": [
    "keylgbmtest = list(lgbm_test_dict.keys())[0]\n",
    "keylgbmtrain = list(lgbm_train_dict.keys())[0]"
   ]
  },
  {
   "cell_type": "code",
   "execution_count": 6,
   "metadata": {},
   "outputs": [],
   "source": [
    "x = list(df_train_dict.keys())[0]\n",
    "y = list(df_train_dict.keys())[1]\n",
    "df_train_dict['adaboost'] = df_train_dict.pop(x)\n",
    "df_train_dict['logreg'] = df_train_dict.pop(y)\n",
    "x = list(df_test_dict.keys())[0]\n",
    "y = list(df_test_dict.keys())[1]\n",
    "df_test_dict['adaboost'] = df_test_dict.pop(x)\n",
    "df_test_dict['logreg'] = df_test_dict.pop(y)"
   ]
  },
  {
   "cell_type": "code",
   "execution_count": 48,
   "metadata": {},
   "outputs": [
    {
     "data": {
      "text/plain": [
       "dict_keys([Pipeline(memory=None,\n",
       "     steps=[('POLY', PolynomialFeatures(degree=2, include_bias=False, interaction_only=False)), ('LGBM', LGBMClassifier(bagging_fraction=0.7, boosting_type='gbdt', class_weight=None,\n",
       "        colsample_bytree=1.0, importance_type='split', lambda_l2=0,\n",
       "        learning_rate=0.1, max_depth=15, metric='binar...0, reg_lambda=0.0, silent=True,\n",
       "        subsample=1.0, subsample_for_bin=200000, subsample_freq=0))])])"
      ]
     },
     "execution_count": 48,
     "metadata": {},
     "output_type": "execute_result"
    }
   ],
   "source": [
    "lgbm_train_dict.keys()"
   ]
  },
  {
   "cell_type": "markdown",
   "metadata": {},
   "source": [
    "### PULL TOGETHER ALL DATASETS "
   ]
  },
  {
   "cell_type": "code",
   "execution_count": 135,
   "metadata": {},
   "outputs": [],
   "source": [
    "train_preds_lgbm = lgbm_train_dict[keylgbmtrain]\n",
    "train_preds_adaboost = df_train_dict['adaboost']\n",
    "train_preds_logreg = df_train_dict['logreg']\n",
    "train_preds_qda = pd.read_csv('qda_preds_training')\n",
    "train_preds_nn = pd.read_csv('../hugo/NN_train')\n",
    "train_preds_rf = pd.read_csv('../bhaven/RF_predictions_on_train.csv')\n",
    "\n",
    "\n",
    "test_preds_lgbm = lgbm_test_dict[keylgbmtest]\n",
    "test_preds_adaboost = df_test_dict['adaboost']\n",
    "test_preds_logreg = df_test_dict['logreg']\n",
    "test_preds_qda = pd.read_csv('qda_preds_test')\n",
    "test_preds_nn = pd.read_csv('../hugo/NN_test')\n",
    "test_preds_rf = pd.read_csv('../bhaven/RF_predictions_on_test.csv')\n"
   ]
  },
  {
   "cell_type": "code",
   "execution_count": 136,
   "metadata": {},
   "outputs": [],
   "source": [
    "list_of_model_names = ['Light GBM', 'AdaBoost', 'Logistic Regression', \n",
    "                       'Quadratic Discriminant Analysis', 'Neural Network',\n",
    "#                        'Random Forest'\n",
    "                      ]\n",
    "\n",
    "list_of_train_dfs = [train_preds_lgbm, \n",
    "                     train_preds_adaboost, \n",
    "                     train_preds_logreg,\n",
    "                     train_preds_qda,\n",
    "                     train_preds_nn,\n",
    "#                      train_preds_rf\n",
    "                    ]\n",
    "\n",
    "list_of_test_dfs = [test_preds_lgbm,\n",
    "                    test_preds_adaboost, \n",
    "                    test_preds_logreg,\n",
    "                    test_preds_qda,\n",
    "                    test_preds_nn, \n",
    "#                     test_preds_rf\n",
    "                   ]"
   ]
  },
  {
   "cell_type": "code",
   "execution_count": 133,
   "metadata": {},
   "outputs": [],
   "source": [
    "# train_preds_rf.head()"
   ]
  },
  {
   "cell_type": "code",
   "execution_count": 137,
   "metadata": {},
   "outputs": [],
   "source": [
    "### delete the bad data with 0.567 for all rows\n",
    "for key, df in enumerate(list_of_train_dfs):\n",
    "    df = df[df.int_rate < 0.5]\n",
    "for key, df in enumerate(list_of_test_dfs):\n",
    "    df = df[df.int_rate < 0.5]"
   ]
  },
  {
   "cell_type": "markdown",
   "metadata": {},
   "source": [
    "## NOW MAKE PRETTY THINGS :\n",
    "\n",
    "- Get accuracy for each of the models\n",
    "- Get ROC for each of the models\n",
    "- Get ROC plots for each of the models"
   ]
  },
  {
   "cell_type": "code",
   "execution_count": 138,
   "metadata": {},
   "outputs": [],
   "source": [
    "roc_auc_score_training = []\n",
    "accuracy_training = []\n",
    "\n",
    "for train_df in list_of_train_dfs:\n",
    "    \n",
    "    roc_auc_score_training.append(roc_auc_score(train_df['true_val'], train_df['proba']))\n",
    "    accuracy_training.append(accuracy_score(train_df['true_val'], train_df['pred']))"
   ]
  },
  {
   "cell_type": "code",
   "execution_count": 139,
   "metadata": {},
   "outputs": [],
   "source": [
    "roc_auc_score_testing = []\n",
    "accuracy_testing = []\n",
    "for test_df in list_of_test_dfs:\n",
    "    \n",
    "    roc_auc_score_testing.append(roc_auc_score(test_df['true_val'], test_df['proba']))\n",
    "    \n",
    "    accuracy_testing.append(accuracy_score(test_df['true_val'], test_df['pred']))"
   ]
  },
  {
   "cell_type": "code",
   "execution_count": 131,
   "metadata": {},
   "outputs": [
    {
     "data": {
      "text/html": [
       "<div>\n",
       "<style scoped>\n",
       "    .dataframe tbody tr th:only-of-type {\n",
       "        vertical-align: middle;\n",
       "    }\n",
       "\n",
       "    .dataframe tbody tr th {\n",
       "        vertical-align: top;\n",
       "    }\n",
       "\n",
       "    .dataframe thead th {\n",
       "        text-align: right;\n",
       "    }\n",
       "</style>\n",
       "<table border=\"1\" class=\"dataframe\">\n",
       "  <thead>\n",
       "    <tr style=\"text-align: right;\">\n",
       "      <th></th>\n",
       "      <th>Training Accuracy</th>\n",
       "      <th>Training AUC</th>\n",
       "      <th>Test Accuracy</th>\n",
       "      <th>Test AUC</th>\n",
       "    </tr>\n",
       "  </thead>\n",
       "  <tbody>\n",
       "    <tr>\n",
       "      <th>Logistic Regression</th>\n",
       "      <td>0.65</td>\n",
       "      <td>0.71</td>\n",
       "      <td>0.75</td>\n",
       "      <td>0.72</td>\n",
       "    </tr>\n",
       "    <tr>\n",
       "      <th>Neural Network</th>\n",
       "      <td>0.46</td>\n",
       "      <td>0.68</td>\n",
       "      <td>0.46</td>\n",
       "      <td>0.68</td>\n",
       "    </tr>\n",
       "    <tr>\n",
       "      <th>Light GBM</th>\n",
       "      <td>0.79</td>\n",
       "      <td>0.70</td>\n",
       "      <td>0.70</td>\n",
       "      <td>0.64</td>\n",
       "    </tr>\n",
       "    <tr>\n",
       "      <th>Random Forest</th>\n",
       "      <td>0.69</td>\n",
       "      <td>0.72</td>\n",
       "      <td>0.72</td>\n",
       "      <td>0.64</td>\n",
       "    </tr>\n",
       "    <tr>\n",
       "      <th>AdaBoost</th>\n",
       "      <td>0.90</td>\n",
       "      <td>0.96</td>\n",
       "      <td>0.66</td>\n",
       "      <td>0.62</td>\n",
       "    </tr>\n",
       "    <tr>\n",
       "      <th>Quadratic Discriminant Analysis</th>\n",
       "      <td>0.53</td>\n",
       "      <td>0.53</td>\n",
       "      <td>0.78</td>\n",
       "      <td>0.50</td>\n",
       "    </tr>\n",
       "  </tbody>\n",
       "</table>\n",
       "</div>"
      ],
      "text/plain": [
       "                                 Training Accuracy  Training AUC  \\\n",
       "Logistic Regression                           0.65          0.71   \n",
       "Neural Network                                0.46          0.68   \n",
       "Light GBM                                     0.79          0.70   \n",
       "Random Forest                                 0.69          0.72   \n",
       "AdaBoost                                      0.90          0.96   \n",
       "Quadratic Discriminant Analysis               0.53          0.53   \n",
       "\n",
       "                                 Test Accuracy  Test AUC  \n",
       "Logistic Regression                       0.75      0.72  \n",
       "Neural Network                            0.46      0.68  \n",
       "Light GBM                                 0.70      0.64  \n",
       "Random Forest                             0.72      0.64  \n",
       "AdaBoost                                  0.66      0.62  \n",
       "Quadratic Discriminant Analysis           0.78      0.50  "
      ]
     },
     "execution_count": 131,
     "metadata": {},
     "output_type": "execute_result"
    }
   ],
   "source": [
    "display_model_results = pd.DataFrame(\n",
    "    {'Training Accuracy' : accuracy_training,\n",
    "     'Training AUC' : roc_auc_score_training, \n",
    "     'Test Accuracy' : accuracy_testing,\n",
    "     'Test AUC' : roc_auc_score_testing\n",
    "    }, index = list_of_model_names)\n",
    "\n",
    "display_model_results = display_model_results.sort_values(by = 'Test AUC', ascending=0)\n",
    "display_model_results.round(2)"
   ]
  },
  {
   "cell_type": "code",
   "execution_count": null,
   "metadata": {},
   "outputs": [],
   "source": []
  },
  {
   "cell_type": "code",
   "execution_count": 104,
   "metadata": {},
   "outputs": [],
   "source": [
    "fpr_lgbm, tpr_lgbm, thresholds_lgbm = roc_curve(train_preds_lgbm['true_val'], \n",
    "                                                train_preds_lgbm['proba'])\n",
    "auc_lgbm = auc(fpr_lgbm, tpr_lgbm)\n",
    "\n",
    "fpr_logreg, tpr_logreg, thresholds_logreg = roc_curve(train_preds_logreg['true_val'], \n",
    "                                                      train_preds_logreg['proba'])\n",
    "auc_logreg = auc(fpr_logreg, tpr_logreg)\n",
    "\n",
    "fpr_adaboost, tpr_adaboost, thresholds_adaboost = roc_curve(train_preds_adaboost['true_val'], \n",
    "                                                            train_preds_adaboost['proba'])\n",
    "auc_adaboost = auc(fpr_adaboost, tpr_adaboost)\n",
    "\n",
    "fpr_qda, tpr_qda, thresholds_qda = roc_curve(train_preds_qda['true_val'], \n",
    "                                             train_preds_qda['proba'])\n",
    "auc_qda = auc(fpr_qda, tpr_qda)\n",
    "\n",
    "fpr_nn, tpr_nn, thresholds_nn = roc_curve(train_preds_nn['true_val'], \n",
    "                                          train_preds_nn['proba'])\n",
    "auc_nn = auc(fpr_nn, tpr_nn)\n",
    "\n",
    "fpr_rf, tpr_rf, thresholds_rf = roc_curve(train_preds_rf['true_val'], \n",
    "                                          train_preds_rf['proba'])\n",
    "auc_rf = auc(fpr_rf, tpr_rf)"
   ]
  },
  {
   "cell_type": "code",
   "execution_count": 109,
   "metadata": {},
   "outputs": [
    {
     "data": {
      "image/png": "[encoded data removed]",
      "text/plain": [
       "<Figure size 432x288 with 1 Axes>"
      ]
     },
     "metadata": {},
     "output_type": "display_data"
    }
   ],
   "source": [
    "plt.figure(1)\n",
    "plt.plot([0, 1], [0, 1], 'k--')\n",
    "plt.plot(fpr_lgbm, tpr_lgbm, label='{} (area = {:.3f})'.format('LGBM',auc_lgbm))\n",
    "plt.plot(fpr_nn, tpr_nn, label='{} (area = {:.3f})'.format('Neural Net',auc_nn))\n",
    "plt.plot(fpr_rf, tpr_rf, label='{} (area = {:.3f})'.format('Random Forest',auc_rf))\n",
    "plt.plot(fpr_qda, tpr_qda, label='{} (area = {:.3f})'.format('QDA',auc_qda))\n",
    "plt.xlabel('False positive rate')\n",
    "plt.ylabel('True positive rate')\n",
    "plt.title('ROC curve')\n",
    "plt.legend(loc='best')\n",
    "plt.show()"
   ]
  },
  {
   "cell_type": "code",
   "execution_count": null,
   "metadata": {},
   "outputs": [],
   "source": [
    "# # train_data[model] = {'proba' : model.predict_proba(x_train)[:, 1], 'pred' : model.predict(x_train), 'true_val' : y_train}\n",
    "# # test_data = {'proba' : rf_complex.predict_proba(x_test)[:, 1], 'pred' : rf_complex.predict(x_test),  'true_val' : y_test}\n",
    "\n",
    "# df_train = create_df(train_data, data_train)\n",
    "# df_test =  create_df(test_data, data_test)"
   ]
  },
  {
   "cell_type": "code",
   "execution_count": null,
   "metadata": {},
   "outputs": [],
   "source": [
    "# baseline_train = np.mean(df_train.ROI)\n",
    "# baseline_test = np.mean(df_test.ROI)\n",
    "# print(baseline_train, baseline_test)\n",
    "# alpha_low = 0\n",
    "# alpha_high = -np.inf"
   ]
  },
  {
   "cell_type": "code",
   "execution_count": null,
   "metadata": {},
   "outputs": [],
   "source": [
    "# print(roc_auc_score(df_train.true_val, df_train.pred))\n",
    "# print(roc_auc_score(df_test.true_val, df_test.pred))"
   ]
  },
  {
   "cell_type": "code",
   "execution_count": null,
   "metadata": {},
   "outputs": [],
   "source": [
    "# print(np.sum(df_train.true_val)/df_train.shape[0])\n",
    "# print(1 - np.sum(df_test.true_val)/df_test.shape[0])"
   ]
  },
  {
   "cell_type": "code",
   "execution_count": null,
   "metadata": {},
   "outputs": [],
   "source": [
    "# loans_to_buy_train = df_train[(df_train.ROI > alpha_low*baseline_train) & (df_train.ROI < alpha_high*baseline_train)]\n",
    "# loans_to_buy_test = df_test[(df_test.ROI > alpha_low*baseline_test) & (df_test.ROI < alpha_high*baseline_test)]"
   ]
  },
  {
   "cell_type": "code",
   "execution_count": null,
   "metadata": {},
   "outputs": [],
   "source": [
    "# def return_performance(df_sub, df_main):\n",
    "#     perf_subset = np.sum(df_sub.Real_ROI)/np.sum(df_sub.annualized_amnt)\n",
    "#     perf_mainset = np.sum(df_main.Real_ROI)/np.sum(df_main.annualized_amnt)\n",
    "#     return (perf_subset, perf_mainset, perf_subset - perf_mainset)"
   ]
  },
  {
   "cell_type": "code",
   "execution_count": null,
   "metadata": {},
   "outputs": [],
   "source": [
    "# training_set_performance = return_performance(loans_to_buy_train, df_train)\n",
    "# testing_set_performance = return_performance(loans_to_buy_test, df_test)"
   ]
  },
  {
   "cell_type": "code",
   "execution_count": null,
   "metadata": {},
   "outputs": [],
   "source": [
    "# fig = plt.figure(figsize=(15,6));\n",
    "# ax = plt.subplot(1,1,1);\n",
    "\n",
    "# ax.hist(df_test.loc[df_test.true_val == 0,'proba'], density = True, bins = 50, label='Paid Off', alpha=0.6);\n",
    "# ax.hist(df_test.loc[df_test.true_val == 1,'proba'], density = True, bins = 50, label='Defaulted', alpha=0.5);\n",
    "# ax.set_title('Initial Predicted ROI for Defaulted & Non-Defaulted Customers with Higher Order Random Forest')\n",
    "# ax.legend(loc='best')\n",
    "\n",
    "# plt.show()"
   ]
  },
  {
   "cell_type": "code",
   "execution_count": null,
   "metadata": {},
   "outputs": [],
   "source": [
    "# fig = plt.figure(figsize=(15,6));\n",
    "# ax = plt.subplot(1,1,1);\n",
    "\n",
    "# ax.hist(df_train.loc[df_train.true_val == 0,'proba'], bins = 50, label='Paid Off', alpha=0.6);\n",
    "# ax.hist(df_train.loc[df_train.true_val == 1,'proba'], bins = 50, label='Defaulted', alpha=0.5);\n",
    "# ax.set_title('Initial Predicted ROI for Defaulted & Non-Defaulted Customers with Higher Order Random Forest')\n",
    "# ax.legend(loc='best')\n",
    "\n",
    "# plt.show()"
   ]
  },
  {
   "cell_type": "code",
   "execution_count": null,
   "metadata": {},
   "outputs": [],
   "source": [
    "# sns.kdeplot(df_train.loc[df_train.true_val == 0,'proba'], label = 'Paid Out');\n",
    "# sns.kdeplot(df_train.loc[df_train.true_val == 1,'proba'], label = 'Defaulted');"
   ]
  },
  {
   "cell_type": "code",
   "execution_count": null,
   "metadata": {},
   "outputs": [],
   "source": [
    "# sns.set(rc={'figure.figsize':(16,8)})\n",
    "# sns.kdeplot(df_test.loc[df_test.true_val == 0,'proba'], label = 'Paid Out');\n",
    "# sns.kdeplot(df_test.loc[df_test.true_val == 1,'proba'], label = 'Defaulted', linestyle='--');\n",
    "# plt.ylim(0, 3)\n",
    "# plt.xlim(0, 1);\n",
    "# plt.xlabel('Probability of Default', size = 15);\n",
    "# plt.ylabel('Density of Distributions', size = 15);\n",
    "# plt.legend(prop={'size': 13});\n",
    "# plt.savefig('default_probability_distribution.png', bbox_inches='tight')"
   ]
  },
  {
   "cell_type": "code",
   "execution_count": null,
   "metadata": {},
   "outputs": [],
   "source": [
    "# sns.kdeplot(df_test['ROI'], label = '2015 Data');\n",
    "# sns.kdeplot(df_train['ROI'], label = '2014 Data', linestyle='--');\n",
    "# plt.ylim(0, 5)\n",
    "# plt.xlim(-0.5, 0.1);\n",
    "# plt.xlabel('Predicted Return on Investment', size = 15);\n",
    "# plt.ylabel('Density of Distributions', size = 15);\n",
    "# plt.legend(prop={'size': 13});\n",
    "# plt.savefig('ROI_distribution.png', bbox_inches='tight')"
   ]
  },
  {
   "cell_type": "code",
   "execution_count": null,
   "metadata": {},
   "outputs": [],
   "source": []
  }
 ],
 "metadata": {
  "kernelspec": {
   "display_name": "Python 3",
   "language": "python",
   "name": "python3"
  },
  "language_info": {
   "codemirror_mode": {
    "name": "ipython",
    "version": 3
   },
   "file_extension": ".py",
   "mimetype": "text/x-python",
   "name": "python",
   "nbconvert_exporter": "python",
   "pygments_lexer": "ipython3",
   "version": "3.7.0"
  }
 },
 "nbformat": 4,
 "nbformat_minor": 2
}
