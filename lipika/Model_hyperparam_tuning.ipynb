{
 "cells": [
  {
   "cell_type": "markdown",
   "metadata": {},
   "source": [
    "# Hyperparameter Tuning\n",
    "\n",
    "* Random Forest\n"
   ]
  },
  {
   "cell_type": "markdown",
   "metadata": {},
   "source": [
    "## I. Import libs and data"
   ]
  },
  {
   "cell_type": "code",
   "execution_count": 13,
   "metadata": {},
   "outputs": [],
   "source": [
    "import numpy as np\n",
    "import pandas as pd\n",
    "import matplotlib\n",
    "import matplotlib.pyplot as plt\n",
    "%matplotlib inline\n",
    "import seaborn as sns\n",
    "sns.set()\n",
    "from sklearn.linear_model import LogisticRegression\n",
    "from sklearn.linear_model import LogisticRegressionCV\n",
    "from sklearn.model_selection import train_test_split\n",
    "from sklearn.model_selection import cross_val_score\n",
    "from sklearn.metrics import accuracy_score\n",
    "from sklearn.discriminant_analysis import QuadraticDiscriminantAnalysis\n",
    "from sklearn.discriminant_analysis import LinearDiscriminantAnalysis\n",
    "from sklearn import preprocessing\n",
    "from sklearn.ensemble import RandomForestClassifier\n",
    "from sklearn.pipeline import make_pipeline\n",
    "from sklearn.pipeline import Pipeline\n",
    "from sklearn.model_selection import GridSearchCV\n",
    "\n",
    "\n",
    "from sklearn.preprocessing import PolynomialFeatures\n",
    "from imblearn.over_sampling import SMOTE\n",
    "import pickle\n",
    "from sklearn.metrics import roc_auc_score\n",
    "\n",
    "from lightgbm.sklearn import LGBMClassifier"
   ]
  },
  {
   "cell_type": "markdown",
   "metadata": {},
   "source": [
    "### Import Data"
   ]
  },
  {
   "cell_type": "code",
   "execution_count": 2,
   "metadata": {},
   "outputs": [],
   "source": [
    "data_train = pd.read_csv(\"cleaned_2013_14\", low_memory = False);\n",
    "data_test = pd.read_csv(\"cleaned_2015\", low_memory = False);"
   ]
  },
  {
   "cell_type": "code",
   "execution_count": 3,
   "metadata": {},
   "outputs": [
    {
     "data": {
      "text/plain": [
       "Index(['funded_amnt', 'int_rate', 'total_pymnt', 'annual_inc', 'dti',\n",
       "       'loan_status', 'revol_util', 'term', 'term_adj', 'zip_code',\n",
       "       'emp_length_1 year', 'emp_length_10+ years', 'emp_length_2 years',\n",
       "       'emp_length_3 years', 'emp_length_4 years', 'emp_length_5 years',\n",
       "       'emp_length_6 years', 'emp_length_7 years', 'emp_length_8 years',\n",
       "       'emp_length_9 years', 'emp_length_< 1 year', 'home_ownership_ANY',\n",
       "       'home_ownership_MORTGAGE', 'home_ownership_OWN', 'home_ownership_RENT',\n",
       "       'verification_status_Not Verified',\n",
       "       'verification_status_Source Verified', 'verification_status_Verified',\n",
       "       'grade_A', 'grade_B', 'grade_C', 'grade_D', 'grade_E', 'grade_F',\n",
       "       'grade_G', 'purpose_car', 'purpose_credit_card',\n",
       "       'purpose_debt_consolidation', 'purpose_home_improvement',\n",
       "       'purpose_house', 'purpose_major_purchase', 'purpose_medical',\n",
       "       'purpose_moving', 'purpose_other', 'purpose_renewable_energy',\n",
       "       'purpose_small_business', 'purpose_vacation', 'purpose_wedding', 'amnt',\n",
       "       'paid'],\n",
       "      dtype='object')"
      ]
     },
     "execution_count": 3,
     "metadata": {},
     "output_type": "execute_result"
    }
   ],
   "source": [
    "data_train.columns"
   ]
  },
  {
   "cell_type": "code",
   "execution_count": 4,
   "metadata": {},
   "outputs": [
    {
     "data": {
      "text/plain": [
       "array([ True,  True,  True,  True,  True,  True,  True,  True,  True,\n",
       "        True,  True,  True,  True,  True,  True,  True,  True,  True,\n",
       "        True,  True,  True,  True,  True,  True,  True,  True,  True,\n",
       "        True,  True,  True,  True,  True,  True,  True,  True,  True,\n",
       "        True,  True,  True,  True,  True,  True,  True,  True,  True,\n",
       "        True,  True,  True,  True,  True])"
      ]
     },
     "execution_count": 4,
     "metadata": {},
     "output_type": "execute_result"
    }
   ],
   "source": [
    "data_test = data_test.dropna()\n",
    "data_test.columns == data_train.columns"
   ]
  },
  {
   "cell_type": "code",
   "execution_count": 5,
   "metadata": {},
   "outputs": [],
   "source": [
    "def split_data(df, cols):\n",
    "    x = df.drop(cols, axis = 1)\n",
    "    y = df.paid\n",
    "    return x, y\n",
    "\n",
    "cols_to_drop_training = ['loan_status', 'paid', 'amnt', 'total_pymnt', 'term_adj', 'zip_code']\n",
    "x_train_initial, y_train_initial = split_data(data_train, cols_to_drop_training)\n",
    "x_test, y_test = split_data(data_test, cols_to_drop_training)"
   ]
  },
  {
   "cell_type": "code",
   "execution_count": 6,
   "metadata": {},
   "outputs": [],
   "source": [
    "sm = SMOTE(random_state=1, ratio = 1.0)\n",
    "x_train, y_train = sm.fit_sample(x_train_initial, y_train_initial)"
   ]
  },
  {
   "cell_type": "code",
   "execution_count": 7,
   "metadata": {},
   "outputs": [
    {
     "data": {
      "text/plain": [
       "((578050, 44), (346843, 44))"
      ]
     },
     "execution_count": 7,
     "metadata": {},
     "output_type": "execute_result"
    }
   ],
   "source": [
    "x_train.shape, x_test.shape"
   ]
  },
  {
   "cell_type": "markdown",
   "metadata": {},
   "source": [
    "### Downsample"
   ]
  },
  {
   "cell_type": "code",
   "execution_count": 8,
   "metadata": {},
   "outputs": [],
   "source": [
    "## Downsample the data to 30% of the full dataset stratifying by classes\n",
    "dont_use_x, x_train_sample, dont_use_y , y_train_sample = train_test_split(x_train, \n",
    "                                                            y_train, test_size = 0.3, stratify=y_train)"
   ]
  },
  {
   "cell_type": "code",
   "execution_count": 9,
   "metadata": {},
   "outputs": [
    {
     "data": {
      "text/plain": [
       "((173415, 44), (173415,))"
      ]
     },
     "execution_count": 9,
     "metadata": {},
     "output_type": "execute_result"
    }
   ],
   "source": [
    "x_train_sample.shape, y_train_sample.shape"
   ]
  },
  {
   "cell_type": "markdown",
   "metadata": {},
   "source": [
    "## Random Forest Tuning"
   ]
  },
  {
   "cell_type": "code",
   "execution_count": 12,
   "metadata": {},
   "outputs": [],
   "source": [
    "# Use Pipeline instead of make_pipeline to do grid search\n",
    "pipe = Pipeline([('POLY', PolynomialFeatures(degree=2, include_bias=False)),\n",
    "            ('RFC',RandomForestClassifier(max_features = 100))])\n",
    "\n",
    "# Specify parameters \n",
    "param_grid = {'RFC__n_estimators' : [50,100,120,140],\n",
    "              'RFC__max_depth' : [8,10,12]}\n",
    "\n",
    "# Instantiate GS\n",
    "gs = GridSearchCV(pipe,param_grid, verbose=10, cv=4)"
   ]
  },
  {
   "cell_type": "code",
   "execution_count": 13,
   "metadata": {},
   "outputs": [
    {
     "name": "stdout",
     "output_type": "stream",
     "text": [
      "Fitting 4 folds for each of 12 candidates, totalling 48 fits\n",
      "[CV] RFC__max_depth=8, RFC__n_estimators=50 ..........................\n"
     ]
    },
    {
     "name": "stderr",
     "output_type": "stream",
     "text": [
      "[Parallel(n_jobs=1)]: Using backend SequentialBackend with 1 concurrent workers.\n"
     ]
    },
    {
     "name": "stdout",
     "output_type": "stream",
     "text": [
      "[CV]  RFC__max_depth=8, RFC__n_estimators=50, score=0.6933154956866725, total= 1.9min\n",
      "[CV] RFC__max_depth=8, RFC__n_estimators=50 ..........................\n"
     ]
    },
    {
     "name": "stderr",
     "output_type": "stream",
     "text": [
      "[Parallel(n_jobs=1)]: Done   1 out of   1 | elapsed:  2.1min remaining:    0.0s\n"
     ]
    },
    {
     "name": "stdout",
     "output_type": "stream",
     "text": [
      "[CV]  RFC__max_depth=8, RFC__n_estimators=50, score=0.6937306822899848, total= 1.8min\n",
      "[CV] RFC__max_depth=8, RFC__n_estimators=50 ..........................\n"
     ]
    },
    {
     "name": "stderr",
     "output_type": "stream",
     "text": [
      "[Parallel(n_jobs=1)]: Done   2 out of   2 | elapsed:  4.0min remaining:    0.0s\n"
     ]
    },
    {
     "name": "stdout",
     "output_type": "stream",
     "text": [
      "[CV]  RFC__max_depth=8, RFC__n_estimators=50, score=0.6954375605480463, total= 1.8min\n",
      "[CV] RFC__max_depth=8, RFC__n_estimators=50 ..........................\n"
     ]
    },
    {
     "name": "stderr",
     "output_type": "stream",
     "text": [
      "[Parallel(n_jobs=1)]: Done   3 out of   3 | elapsed:  6.0min remaining:    0.0s\n"
     ]
    },
    {
     "name": "stdout",
     "output_type": "stream",
     "text": [
      "[CV]  RFC__max_depth=8, RFC__n_estimators=50, score=0.6943694784674648, total= 1.8min\n",
      "[CV] RFC__max_depth=8, RFC__n_estimators=100 .........................\n"
     ]
    },
    {
     "name": "stderr",
     "output_type": "stream",
     "text": [
      "[Parallel(n_jobs=1)]: Done   4 out of   4 | elapsed:  8.0min remaining:    0.0s\n"
     ]
    },
    {
     "name": "stdout",
     "output_type": "stream",
     "text": [
      "[CV]  RFC__max_depth=8, RFC__n_estimators=100, score=0.6953914287032339, total= 3.5min\n",
      "[CV] RFC__max_depth=8, RFC__n_estimators=100 .........................\n"
     ]
    },
    {
     "name": "stderr",
     "output_type": "stream",
     "text": [
      "[Parallel(n_jobs=1)]: Done   5 out of   5 | elapsed: 11.6min remaining:    0.0s\n"
     ]
    },
    {
     "name": "stdout",
     "output_type": "stream",
     "text": [
      "[CV]  RFC__max_depth=8, RFC__n_estimators=100, score=0.6934308252987037, total= 3.2min\n",
      "[CV] RFC__max_depth=8, RFC__n_estimators=100 .........................\n"
     ]
    },
    {
     "name": "stderr",
     "output_type": "stream",
     "text": [
      "[Parallel(n_jobs=1)]: Done   6 out of   6 | elapsed: 15.0min remaining:    0.0s\n"
     ]
    },
    {
     "name": "stdout",
     "output_type": "stream",
     "text": [
      "[CV]  RFC__max_depth=8, RFC__n_estimators=100, score=0.6947917147206717, total= 3.3min\n",
      "[CV] RFC__max_depth=8, RFC__n_estimators=100 .........................\n"
     ]
    },
    {
     "name": "stderr",
     "output_type": "stream",
     "text": [
      "[Parallel(n_jobs=1)]: Done   7 out of   7 | elapsed: 18.5min remaining:    0.0s\n"
     ]
    },
    {
     "name": "stdout",
     "output_type": "stream",
     "text": [
      "[CV]  RFC__max_depth=8, RFC__n_estimators=100, score=0.6941388139229119, total= 3.5min\n",
      "[CV] RFC__max_depth=8, RFC__n_estimators=120 .........................\n"
     ]
    },
    {
     "name": "stderr",
     "output_type": "stream",
     "text": [
      "[Parallel(n_jobs=1)]: Done   8 out of   8 | elapsed: 22.2min remaining:    0.0s\n"
     ]
    },
    {
     "name": "stdout",
     "output_type": "stream",
     "text": [
      "[CV]  RFC__max_depth=8, RFC__n_estimators=120, score=0.6956451538497025, total= 3.8min\n",
      "[CV] RFC__max_depth=8, RFC__n_estimators=120 .........................\n"
     ]
    },
    {
     "name": "stderr",
     "output_type": "stream",
     "text": [
      "[Parallel(n_jobs=1)]: Done   9 out of   9 | elapsed: 26.2min remaining:    0.0s\n"
     ]
    },
    {
     "name": "stdout",
     "output_type": "stream",
     "text": [
      "[CV]  RFC__max_depth=8, RFC__n_estimators=120, score=0.6922544632559856, total= 3.6min\n",
      "[CV] RFC__max_depth=8, RFC__n_estimators=120 .........................\n",
      "[CV]  RFC__max_depth=8, RFC__n_estimators=120, score=0.6956220879272962, total= 3.6min\n",
      "[CV] RFC__max_depth=8, RFC__n_estimators=120 .........................\n",
      "[CV]  RFC__max_depth=8, RFC__n_estimators=120, score=0.6943002791040989, total= 3.6min\n",
      "[CV] RFC__max_depth=8, RFC__n_estimators=140 .........................\n",
      "[CV]  RFC__max_depth=8, RFC__n_estimators=140, score=0.6953683627808276, total= 4.5min\n",
      "[CV] RFC__max_depth=8, RFC__n_estimators=140 .........................\n",
      "[CV]  RFC__max_depth=8, RFC__n_estimators=140, score=0.6893250911103935, total= 4.2min\n",
      "[CV] RFC__max_depth=8, RFC__n_estimators=140 .........................\n",
      "[CV]  RFC__max_depth=8, RFC__n_estimators=140, score=0.6957374175393274, total= 4.2min\n",
      "[CV] RFC__max_depth=8, RFC__n_estimators=140 .........................\n",
      "[CV]  RFC__max_depth=8, RFC__n_estimators=140, score=0.6945309436486518, total= 4.2min\n",
      "[CV] RFC__max_depth=10, RFC__n_estimators=50 .........................\n",
      "[CV]  RFC__max_depth=10, RFC__n_estimators=50, score=0.714674539834848, total= 1.9min\n",
      "[CV] RFC__max_depth=10, RFC__n_estimators=50 .........................\n",
      "[CV]  RFC__max_depth=10, RFC__n_estimators=50, score=0.710199750888038, total= 1.9min\n",
      "[CV] RFC__max_depth=10, RFC__n_estimators=50 .........................\n",
      "[CV]  RFC__max_depth=10, RFC__n_estimators=50, score=0.715551044886285, total= 1.9min\n",
      "[CV] RFC__max_depth=10, RFC__n_estimators=50 .........................\n",
      "[CV]  RFC__max_depth=10, RFC__n_estimators=50, score=0.710054667497059, total= 1.9min\n",
      "[CV] RFC__max_depth=10, RFC__n_estimators=100 ........................\n",
      "[CV]  RFC__max_depth=10, RFC__n_estimators=100, score=0.7136827051713798, total= 3.6min\n",
      "[CV] RFC__max_depth=10, RFC__n_estimators=100 ........................\n",
      "[CV]  RFC__max_depth=10, RFC__n_estimators=100, score=0.7139364303178484, total= 3.6min\n",
      "[CV] RFC__max_depth=10, RFC__n_estimators=100 ........................\n",
      "[CV]  RFC__max_depth=10, RFC__n_estimators=100, score=0.7170503298426905, total= 3.6min\n",
      "[CV] RFC__max_depth=10, RFC__n_estimators=100 ........................\n",
      "[CV]  RFC__max_depth=10, RFC__n_estimators=100, score=0.7142758286623763, total= 3.6min\n",
      "[CV] RFC__max_depth=10, RFC__n_estimators=120 ........................\n",
      "[CV]  RFC__max_depth=10, RFC__n_estimators=120, score=0.7145822761452231, total= 4.3min\n",
      "[CV] RFC__max_depth=10, RFC__n_estimators=120 ........................\n",
      "[CV]  RFC__max_depth=10, RFC__n_estimators=120, score=0.7115837062324122, total= 4.3min\n",
      "[CV] RFC__max_depth=10, RFC__n_estimators=120 ........................\n",
      "[CV]  RFC__max_depth=10, RFC__n_estimators=120, score=0.7169811320754716, total= 4.3min\n",
      "[CV] RFC__max_depth=10, RFC__n_estimators=120 ........................\n",
      "[CV]  RFC__max_depth=10, RFC__n_estimators=120, score=0.7126381103960511, total= 4.3min\n",
      "[CV] RFC__max_depth=10, RFC__n_estimators=140 ........................\n",
      "[CV]  RFC__max_depth=10, RFC__n_estimators=140, score=0.7136365733265674, total= 5.0min\n",
      "[CV] RFC__max_depth=10, RFC__n_estimators=140 ........................\n",
      "[CV]  RFC__max_depth=10, RFC__n_estimators=140, score=0.7105226738017253, total= 5.0min\n",
      "[CV] RFC__max_depth=10, RFC__n_estimators=140 ........................\n",
      "[CV]  RFC__max_depth=10, RFC__n_estimators=140, score=0.7201642293675324, total= 5.0min\n",
      "[CV] RFC__max_depth=10, RFC__n_estimators=140 ........................\n",
      "[CV]  RFC__max_depth=10, RFC__n_estimators=140, score=0.7123843793970429, total= 5.0min\n",
      "[CV] RFC__max_depth=12, RFC__n_estimators=50 .........................\n",
      "[CV]  RFC__max_depth=12, RFC__n_estimators=50, score=0.7404391751626147, total= 2.1min\n",
      "[CV] RFC__max_depth=12, RFC__n_estimators=50 .........................\n",
      "[CV]  RFC__max_depth=12, RFC__n_estimators=50, score=0.734626562716243, total= 2.1min\n",
      "[CV] RFC__max_depth=12, RFC__n_estimators=50 .........................\n",
      "[CV]  RFC__max_depth=12, RFC__n_estimators=50, score=0.7418923282742077, total= 2.1min\n",
      "[CV] RFC__max_depth=12, RFC__n_estimators=50 .........................\n",
      "[CV]  RFC__max_depth=12, RFC__n_estimators=50, score=0.7380573432057759, total= 2.1min\n",
      "[CV] RFC__max_depth=12, RFC__n_estimators=100 ........................\n",
      "[CV]  RFC__max_depth=12, RFC__n_estimators=100, score=0.7386861650597407, total= 4.1min\n",
      "[CV] RFC__max_depth=12, RFC__n_estimators=100 ........................\n",
      "[CV]  RFC__max_depth=12, RFC__n_estimators=100, score=0.7336116621303685, total= 4.0min\n",
      "[CV] RFC__max_depth=12, RFC__n_estimators=100 ........................\n",
      "[CV]  RFC__max_depth=12, RFC__n_estimators=100, score=0.739585736033584, total= 4.0min\n",
      "[CV] RFC__max_depth=12, RFC__n_estimators=100 ........................\n",
      "[CV]  RFC__max_depth=12, RFC__n_estimators=100, score=0.7364888243028164, total= 4.1min\n",
      "[CV] RFC__max_depth=12, RFC__n_estimators=120 ........................\n",
      "[CV]  RFC__max_depth=12, RFC__n_estimators=120, score=0.7357567929141486, total= 4.9min\n",
      "[CV] RFC__max_depth=12, RFC__n_estimators=120 ........................\n",
      "[CV]  RFC__max_depth=12, RFC__n_estimators=120, score=0.7312358721225262, total= 4.9min\n",
      "[CV] RFC__max_depth=12, RFC__n_estimators=120 ........................\n",
      "[CV]  RFC__max_depth=12, RFC__n_estimators=120, score=0.7414540757484892, total= 4.9min\n",
      "[CV] RFC__max_depth=12, RFC__n_estimators=120 ........................\n",
      "[CV]  RFC__max_depth=12, RFC__n_estimators=120, score=0.7359582958503449, total= 5.2min\n",
      "[CV] RFC__max_depth=12, RFC__n_estimators=140 ........................\n",
      "[CV]  RFC__max_depth=12, RFC__n_estimators=140, score=0.7394242745767403, total= 5.6min\n",
      "[CV] RFC__max_depth=12, RFC__n_estimators=140 ........................\n",
      "[CV]  RFC__max_depth=12, RFC__n_estimators=140, score=0.7332426073718687, total= 5.6min\n",
      "[CV] RFC__max_depth=12, RFC__n_estimators=140 ........................\n",
      "[CV]  RFC__max_depth=12, RFC__n_estimators=140, score=0.7424920422567699, total= 5.6min\n",
      "[CV] RFC__max_depth=12, RFC__n_estimators=140 ........................\n",
      "[CV]  RFC__max_depth=12, RFC__n_estimators=140, score=0.7329365903167024, total= 5.6min\n"
     ]
    },
    {
     "name": "stderr",
     "output_type": "stream",
     "text": [
      "[Parallel(n_jobs=1)]: Done  48 out of  48 | elapsed: 186.7min finished\n"
     ]
    },
    {
     "data": {
      "text/plain": [
       "GridSearchCV(cv=4, error_score='raise-deprecating',\n",
       "       estimator=Pipeline(memory=None,\n",
       "     steps=[('POLY', PolynomialFeatures(degree=2, include_bias=False, interaction_only=False)), ('RFC', RandomForestClassifier(bootstrap=True, class_weight=None, criterion='gini',\n",
       "            max_depth=None, max_features=100, max_leaf_nodes=None,\n",
       "            min_impurity_decrease=0.0, min_impurity_split=...obs=None,\n",
       "            oob_score=False, random_state=None, verbose=0,\n",
       "            warm_start=False))]),\n",
       "       fit_params=None, iid='warn', n_jobs=None,\n",
       "       param_grid={'RFC__n_estimators': [50, 100, 120, 140], 'RFC__max_depth': [8, 10, 12]},\n",
       "       pre_dispatch='2*n_jobs', refit=True, return_train_score='warn',\n",
       "       scoring=None, verbose=10)"
      ]
     },
     "execution_count": 13,
     "metadata": {},
     "output_type": "execute_result"
    }
   ],
   "source": [
    "gs.fit(x_train_sample, y_train_sample)"
   ]
  },
  {
   "cell_type": "code",
   "execution_count": 14,
   "metadata": {},
   "outputs": [
    {
     "name": "stdout",
     "output_type": "stream",
     "text": [
      "Best parameters set found on training set:\n",
      "\n",
      "{'RFC__max_depth': 12, 'RFC__n_estimators': 50}\n",
      "\n",
      "Grid scores on training set:\n",
      "\n",
      "0.694 (+/-0.002) for {'RFC__max_depth': 8, 'RFC__n_estimators': 50}\n",
      "0.694 (+/-0.001) for {'RFC__max_depth': 8, 'RFC__n_estimators': 100}\n",
      "0.694 (+/-0.003) for {'RFC__max_depth': 8, 'RFC__n_estimators': 120}\n",
      "0.694 (+/-0.005) for {'RFC__max_depth': 8, 'RFC__n_estimators': 140}\n",
      "0.713 (+/-0.005) for {'RFC__max_depth': 10, 'RFC__n_estimators': 50}\n",
      "0.715 (+/-0.003) for {'RFC__max_depth': 10, 'RFC__n_estimators': 100}\n",
      "0.714 (+/-0.004) for {'RFC__max_depth': 10, 'RFC__n_estimators': 120}\n",
      "0.714 (+/-0.007) for {'RFC__max_depth': 10, 'RFC__n_estimators': 140}\n",
      "0.739 (+/-0.005) for {'RFC__max_depth': 12, 'RFC__n_estimators': 50}\n",
      "0.737 (+/-0.005) for {'RFC__max_depth': 12, 'RFC__n_estimators': 100}\n",
      "0.736 (+/-0.007) for {'RFC__max_depth': 12, 'RFC__n_estimators': 120}\n",
      "0.737 (+/-0.008) for {'RFC__max_depth': 12, 'RFC__n_estimators': 140}\n",
      "\n"
     ]
    }
   ],
   "source": [
    "print(\"Best parameters set found on training set:\")\n",
    "print()\n",
    "print(gs.best_params_)\n",
    "print()\n",
    "print(\"Grid scores on training set:\")\n",
    "print()\n",
    "means = gs.cv_results_['mean_test_score']\n",
    "stds = gs.cv_results_['std_test_score']\n",
    "for mean, std, params in zip(means, stds, gs.cv_results_['params']):\n",
    "    print(\"%0.3f (+/-%0.03f) for %r\"\n",
    "          % (mean, std * 2, params))\n",
    "print()"
   ]
  },
  {
   "cell_type": "code",
   "execution_count": 15,
   "metadata": {},
   "outputs": [],
   "source": [
    "samp_train_preds_true = {'proba' : gs.best_estimator_.predict_proba(x_train_sample)[:, 1], 'true_val' : y_train_sample}\n",
    "train_preds_true = {'proba' : gs.best_estimator_.predict_proba(x_train)[:, 1], 'true_val' : y_train}\n",
    "test_preds_true = {'proba' : gs.best_estimator_.predict_proba(x_test)[:, 1], 'true_val' : y_test}"
   ]
  },
  {
   "cell_type": "code",
   "execution_count": 18,
   "metadata": {},
   "outputs": [],
   "source": [
    "AUC_sample = roc_auc_score(samp_train_preds_true['true_val'], samp_train_preds_true['proba'])\n",
    "AUC_train = roc_auc_score(train_preds_true['true_val'], train_preds_true['proba'])\n",
    "AUC_test = roc_auc_score(test_preds_true['true_val'], test_preds_true['proba'])"
   ]
  },
  {
   "cell_type": "code",
   "execution_count": 20,
   "metadata": {},
   "outputs": [
    {
     "name": "stdout",
     "output_type": "stream",
     "text": [
      "AUC Sample:  0.847602145427717\n",
      "AUC Train:  0.8254550459486434\n",
      "AUC Test:  0.637394906801299\n"
     ]
    }
   ],
   "source": [
    "print('AUC Sample: ', AUC_sample);\n",
    "print('AUC Train: ', AUC_train);\n",
    "print('AUC Test: ', AUC_test);"
   ]
  },
  {
   "cell_type": "code",
   "execution_count": 21,
   "metadata": {},
   "outputs": [],
   "source": [
    "# Dump the trained decision tree classifier with Pickle\n",
    "decision_tree_pkl_filename = 'Tuned_RF.pkl'\n",
    "# Open the file to save as pkl file\n",
    "decision_tree_model_pkl = open(decision_tree_pkl_filename, 'wb')\n",
    "pickle.dump(gs.best_estimator_, decision_tree_model_pkl)\n",
    "# Close the pickle instances\n",
    "decision_tree_model_pkl.close()"
   ]
  },
  {
   "cell_type": "markdown",
   "metadata": {},
   "source": [
    "##  LGBM Tuning"
   ]
  },
  {
   "cell_type": "code",
   "execution_count": 26,
   "metadata": {},
   "outputs": [],
   "source": [
    "lgbm_mod = LGBMClassifier()\n",
    "\n",
    "# Specify parameters \n",
    "gridParams = {\n",
    "    'learning_rate': [0.005],\n",
    "    'n_estimators': [40],\n",
    "    'num_leaves': [6,8,12,16],\n",
    "    'boosting_type' : ['gbdt'],\n",
    "    'objective' : ['binary'],\n",
    "    'colsample_bytree' : [0.65, 0.66],\n",
    "    'subsample' : [0.7,0.75],\n",
    "    'reg_alpha' : [1,1.2],\n",
    "    'reg_lambda' : [1,1.2,1.4],\n",
    "    }\n",
    "\n",
    "# Instantiate GS\n",
    "gs = GridSearchCV(lgbm_mod, gridParams, verbose=10, cv=4)"
   ]
  },
  {
   "cell_type": "code",
   "execution_count": 27,
   "metadata": {},
   "outputs": [
    {
     "name": "stdout",
     "output_type": "stream",
     "text": [
      "Fitting 4 folds for each of 96 candidates, totalling 384 fits\n",
      "[CV] boosting_type=gbdt, colsample_bytree=0.65, learning_rate=0.005, n_estimators=40, num_leaves=6, objective=binary, reg_alpha=1, reg_lambda=1, subsample=0.7 \n"
     ]
    },
    {
     "name": "stderr",
     "output_type": "stream",
     "text": [
      "[Parallel(n_jobs=1)]: Using backend SequentialBackend with 1 concurrent workers.\n"
     ]
    },
    {
     "name": "stdout",
     "output_type": "stream",
     "text": [
      "[CV]  boosting_type=gbdt, colsample_bytree=0.65, learning_rate=0.005, n_estimators=40, num_leaves=6, objective=binary, reg_alpha=1, reg_lambda=1, subsample=0.7, score=0.6572173271209115, total=   0.6s\n",
      "[CV] boosting_type=gbdt, colsample_bytree=0.65, learning_rate=0.005, n_estimators=40, num_leaves=6, objective=binary, reg_alpha=1, reg_lambda=1, subsample=0.7 \n"
     ]
    },
    {
     "name": "stderr",
     "output_type": "stream",
     "text": [
      "[Parallel(n_jobs=1)]: Done   1 out of   1 | elapsed:    0.7s remaining:    0.0s\n"
     ]
    },
    {
     "name": "stdout",
     "output_type": "stream",
     "text": [
      "[CV]  boosting_type=gbdt, colsample_bytree=0.65, learning_rate=0.005, n_estimators=40, num_leaves=6, objective=binary, reg_alpha=1, reg_lambda=1, subsample=0.7, score=0.6607002814042534, total=   0.5s\n",
      "[CV] boosting_type=gbdt, colsample_bytree=0.65, learning_rate=0.005, n_estimators=40, num_leaves=6, objective=binary, reg_alpha=1, reg_lambda=1, subsample=0.7 \n"
     ]
    },
    {
     "name": "stderr",
     "output_type": "stream",
     "text": [
      "[Parallel(n_jobs=1)]: Done   2 out of   2 | elapsed:    1.3s remaining:    0.0s\n"
     ]
    },
    {
     "name": "stdout",
     "output_type": "stream",
     "text": [
      "[CV]  boosting_type=gbdt, colsample_bytree=0.65, learning_rate=0.005, n_estimators=40, num_leaves=6, objective=binary, reg_alpha=1, reg_lambda=1, subsample=0.7, score=0.6675047285140933, total=   0.5s\n",
      "[CV] boosting_type=gbdt, colsample_bytree=0.65, learning_rate=0.005, n_estimators=40, num_leaves=6, objective=binary, reg_alpha=1, reg_lambda=1, subsample=0.7 \n"
     ]
    },
    {
     "name": "stderr",
     "output_type": "stream",
     "text": [
      "[Parallel(n_jobs=1)]: Done   3 out of   3 | elapsed:    1.8s remaining:    0.0s\n"
     ]
    },
    {
     "name": "stdout",
     "output_type": "stream",
     "text": [
      "[CV]  boosting_type=gbdt, colsample_bytree=0.65, learning_rate=0.005, n_estimators=40, num_leaves=6, objective=binary, reg_alpha=1, reg_lambda=1, subsample=0.7, score=0.6641985560399511, total=   0.4s\n",
      "[CV] boosting_type=gbdt, colsample_bytree=0.65, learning_rate=0.005, n_estimators=40, num_leaves=6, objective=binary, reg_alpha=1, reg_lambda=1, subsample=0.75 \n"
     ]
    },
    {
     "name": "stderr",
     "output_type": "stream",
     "text": [
      "[Parallel(n_jobs=1)]: Done   4 out of   4 | elapsed:    2.4s remaining:    0.0s\n"
     ]
    },
    {
     "name": "stdout",
     "output_type": "stream",
     "text": [
      "[CV]  boosting_type=gbdt, colsample_bytree=0.65, learning_rate=0.005, n_estimators=40, num_leaves=6, objective=binary, reg_alpha=1, reg_lambda=1, subsample=0.75, score=0.6572173271209115, total=   0.5s\n",
      "[CV] boosting_type=gbdt, colsample_bytree=0.65, learning_rate=0.005, n_estimators=40, num_leaves=6, objective=binary, reg_alpha=1, reg_lambda=1, subsample=0.75 \n"
     ]
    },
    {
     "name": "stderr",
     "output_type": "stream",
     "text": [
      "[Parallel(n_jobs=1)]: Done   5 out of   5 | elapsed:    3.0s remaining:    0.0s\n"
     ]
    },
    {
     "name": "stdout",
     "output_type": "stream",
     "text": [
      "[CV]  boosting_type=gbdt, colsample_bytree=0.65, learning_rate=0.005, n_estimators=40, num_leaves=6, objective=binary, reg_alpha=1, reg_lambda=1, subsample=0.75, score=0.6607002814042534, total=   0.5s\n",
      "[CV] boosting_type=gbdt, colsample_bytree=0.65, learning_rate=0.005, n_estimators=40, num_leaves=6, objective=binary, reg_alpha=1, reg_lambda=1, subsample=0.75 \n"
     ]
    },
    {
     "name": "stderr",
     "output_type": "stream",
     "text": [
      "[Parallel(n_jobs=1)]: Done   6 out of   6 | elapsed:    3.6s remaining:    0.0s\n"
     ]
    },
    {
     "name": "stdout",
     "output_type": "stream",
     "text": [
      "[CV]  boosting_type=gbdt, colsample_bytree=0.65, learning_rate=0.005, n_estimators=40, num_leaves=6, objective=binary, reg_alpha=1, reg_lambda=1, subsample=0.75, score=0.6675047285140933, total=   0.5s\n",
      "[CV] boosting_type=gbdt, colsample_bytree=0.65, learning_rate=0.005, n_estimators=40, num_leaves=6, objective=binary, reg_alpha=1, reg_lambda=1, subsample=0.75 \n"
     ]
    },
    {
     "name": "stderr",
     "output_type": "stream",
     "text": [
      "[Parallel(n_jobs=1)]: Done   7 out of   7 | elapsed:    4.2s remaining:    0.0s\n"
     ]
    },
    {
     "name": "stdout",
     "output_type": "stream",
     "text": [
      "[CV]  boosting_type=gbdt, colsample_bytree=0.65, learning_rate=0.005, n_estimators=40, num_leaves=6, objective=binary, reg_alpha=1, reg_lambda=1, subsample=0.75, score=0.6641985560399511, total=   0.5s\n",
      "[CV] boosting_type=gbdt, colsample_bytree=0.65, learning_rate=0.005, n_estimators=40, num_leaves=6, objective=binary, reg_alpha=1, reg_lambda=1.2, subsample=0.7 \n"
     ]
    },
    {
     "name": "stderr",
     "output_type": "stream",
     "text": [
      "[Parallel(n_jobs=1)]: Done   8 out of   8 | elapsed:    4.8s remaining:    0.0s\n"
     ]
    },
    {
     "name": "stdout",
     "output_type": "stream",
     "text": [
      "[CV]  boosting_type=gbdt, colsample_bytree=0.65, learning_rate=0.005, n_estimators=40, num_leaves=6, objective=binary, reg_alpha=1, reg_lambda=1.2, subsample=0.7, score=0.6562946902246621, total=   0.5s\n",
      "[CV] boosting_type=gbdt, colsample_bytree=0.65, learning_rate=0.005, n_estimators=40, num_leaves=6, objective=binary, reg_alpha=1, reg_lambda=1.2, subsample=0.7 \n"
     ]
    },
    {
     "name": "stderr",
     "output_type": "stream",
     "text": [
      "[Parallel(n_jobs=1)]: Done   9 out of   9 | elapsed:    5.4s remaining:    0.0s\n"
     ]
    },
    {
     "name": "stdout",
     "output_type": "stream",
     "text": [
      "[CV]  boosting_type=gbdt, colsample_bytree=0.65, learning_rate=0.005, n_estimators=40, num_leaves=6, objective=binary, reg_alpha=1, reg_lambda=1.2, subsample=0.7, score=0.6607002814042534, total=   0.5s\n",
      "[CV] boosting_type=gbdt, colsample_bytree=0.65, learning_rate=0.005, n_estimators=40, num_leaves=6, objective=binary, reg_alpha=1, reg_lambda=1.2, subsample=0.7 \n",
      "[CV]  boosting_type=gbdt, colsample_bytree=0.65, learning_rate=0.005, n_estimators=40, num_leaves=6, objective=binary, reg_alpha=1, reg_lambda=1.2, subsample=0.7, score=0.6675047285140933, total=   0.5s\n",
      "[CV] boosting_type=gbdt, colsample_bytree=0.65, learning_rate=0.005, n_estimators=40, num_leaves=6, objective=binary, reg_alpha=1, reg_lambda=1.2, subsample=0.7 \n",
      "[CV]  boosting_type=gbdt, colsample_bytree=0.65, learning_rate=0.005, n_estimators=40, num_leaves=6, objective=binary, reg_alpha=1, reg_lambda=1.2, subsample=0.7, score=0.6641985560399511, total=   0.5s\n",
      "[CV] boosting_type=gbdt, colsample_bytree=0.65, learning_rate=0.005, n_estimators=40, num_leaves=6, objective=binary, reg_alpha=1, reg_lambda=1.2, subsample=0.75 \n",
      "[CV]  boosting_type=gbdt, colsample_bytree=0.65, learning_rate=0.005, n_estimators=40, num_leaves=6, objective=binary, reg_alpha=1, reg_lambda=1.2, subsample=0.75, score=0.6562946902246621, total=   0.5s\n",
      "[CV] boosting_type=gbdt, colsample_bytree=0.65, learning_rate=0.005, n_estimators=40, num_leaves=6, objective=binary, reg_alpha=1, reg_lambda=1.2, subsample=0.75 \n",
      "[CV]  boosting_type=gbdt, colsample_bytree=0.65, learning_rate=0.005, n_estimators=40, num_leaves=6, objective=binary, reg_alpha=1, reg_lambda=1.2, subsample=0.75, score=0.6607002814042534, total=   0.5s\n",
      "[CV] boosting_type=gbdt, colsample_bytree=0.65, learning_rate=0.005, n_estimators=40, num_leaves=6, objective=binary, reg_alpha=1, reg_lambda=1.2, subsample=0.75 \n",
      "[CV]  boosting_type=gbdt, colsample_bytree=0.65, learning_rate=0.005, n_estimators=40, num_leaves=6, objective=binary, reg_alpha=1, reg_lambda=1.2, subsample=0.75, score=0.6675047285140933, total=   0.5s\n",
      "[CV] boosting_type=gbdt, colsample_bytree=0.65, learning_rate=0.005, n_estimators=40, num_leaves=6, objective=binary, reg_alpha=1, reg_lambda=1.2, subsample=0.75 \n",
      "[CV]  boosting_type=gbdt, colsample_bytree=0.65, learning_rate=0.005, n_estimators=40, num_leaves=6, objective=binary, reg_alpha=1, reg_lambda=1.2, subsample=0.75, score=0.6641985560399511, total=   0.4s\n",
      "[CV] boosting_type=gbdt, colsample_bytree=0.65, learning_rate=0.005, n_estimators=40, num_leaves=6, objective=binary, reg_alpha=1, reg_lambda=1.4, subsample=0.7 \n",
      "[CV]  boosting_type=gbdt, colsample_bytree=0.65, learning_rate=0.005, n_estimators=40, num_leaves=6, objective=binary, reg_alpha=1, reg_lambda=1.4, subsample=0.7, score=0.6562946902246621, total=   0.4s\n",
      "[CV] boosting_type=gbdt, colsample_bytree=0.65, learning_rate=0.005, n_estimators=40, num_leaves=6, objective=binary, reg_alpha=1, reg_lambda=1.4, subsample=0.7 \n",
      "[CV]  boosting_type=gbdt, colsample_bytree=0.65, learning_rate=0.005, n_estimators=40, num_leaves=6, objective=binary, reg_alpha=1, reg_lambda=1.4, subsample=0.7, score=0.6607002814042534, total=   0.5s\n",
      "[CV] boosting_type=gbdt, colsample_bytree=0.65, learning_rate=0.005, n_estimators=40, num_leaves=6, objective=binary, reg_alpha=1, reg_lambda=1.4, subsample=0.7 \n",
      "[CV]  boosting_type=gbdt, colsample_bytree=0.65, learning_rate=0.005, n_estimators=40, num_leaves=6, objective=binary, reg_alpha=1, reg_lambda=1.4, subsample=0.7, score=0.6675047285140933, total=   0.5s\n",
      "[CV] boosting_type=gbdt, colsample_bytree=0.65, learning_rate=0.005, n_estimators=40, num_leaves=6, objective=binary, reg_alpha=1, reg_lambda=1.4, subsample=0.7 \n",
      "[CV]  boosting_type=gbdt, colsample_bytree=0.65, learning_rate=0.005, n_estimators=40, num_leaves=6, objective=binary, reg_alpha=1, reg_lambda=1.4, subsample=0.7, score=0.6641985560399511, total=   0.5s\n",
      "[CV] boosting_type=gbdt, colsample_bytree=0.65, learning_rate=0.005, n_estimators=40, num_leaves=6, objective=binary, reg_alpha=1, reg_lambda=1.4, subsample=0.75 \n",
      "[CV]  boosting_type=gbdt, colsample_bytree=0.65, learning_rate=0.005, n_estimators=40, num_leaves=6, objective=binary, reg_alpha=1, reg_lambda=1.4, subsample=0.75, score=0.6562946902246621, total=   0.5s\n",
      "[CV] boosting_type=gbdt, colsample_bytree=0.65, learning_rate=0.005, n_estimators=40, num_leaves=6, objective=binary, reg_alpha=1, reg_lambda=1.4, subsample=0.75 \n",
      "[CV]  boosting_type=gbdt, colsample_bytree=0.65, learning_rate=0.005, n_estimators=40, num_leaves=6, objective=binary, reg_alpha=1, reg_lambda=1.4, subsample=0.75, score=0.6607002814042534, total=   0.5s\n",
      "[CV] boosting_type=gbdt, colsample_bytree=0.65, learning_rate=0.005, n_estimators=40, num_leaves=6, objective=binary, reg_alpha=1, reg_lambda=1.4, subsample=0.75 \n",
      "[CV]  boosting_type=gbdt, colsample_bytree=0.65, learning_rate=0.005, n_estimators=40, num_leaves=6, objective=binary, reg_alpha=1, reg_lambda=1.4, subsample=0.75, score=0.6675047285140933, total=   0.5s\n",
      "[CV] boosting_type=gbdt, colsample_bytree=0.65, learning_rate=0.005, n_estimators=40, num_leaves=6, objective=binary, reg_alpha=1, reg_lambda=1.4, subsample=0.75 \n",
      "[CV]  boosting_type=gbdt, colsample_bytree=0.65, learning_rate=0.005, n_estimators=40, num_leaves=6, objective=binary, reg_alpha=1, reg_lambda=1.4, subsample=0.75, score=0.6641985560399511, total=   0.5s\n",
      "[CV] boosting_type=gbdt, colsample_bytree=0.65, learning_rate=0.005, n_estimators=40, num_leaves=6, objective=binary, reg_alpha=1.2, reg_lambda=1, subsample=0.7 \n",
      "[CV]  boosting_type=gbdt, colsample_bytree=0.65, learning_rate=0.005, n_estimators=40, num_leaves=6, objective=binary, reg_alpha=1.2, reg_lambda=1, subsample=0.7, score=0.6562946902246621, total=   0.5s\n",
      "[CV] boosting_type=gbdt, colsample_bytree=0.65, learning_rate=0.005, n_estimators=40, num_leaves=6, objective=binary, reg_alpha=1.2, reg_lambda=1, subsample=0.7 \n",
      "[CV]  boosting_type=gbdt, colsample_bytree=0.65, learning_rate=0.005, n_estimators=40, num_leaves=6, objective=binary, reg_alpha=1.2, reg_lambda=1, subsample=0.7, score=0.6607002814042534, total=   0.5s\n",
      "[CV] boosting_type=gbdt, colsample_bytree=0.65, learning_rate=0.005, n_estimators=40, num_leaves=6, objective=binary, reg_alpha=1.2, reg_lambda=1, subsample=0.7 \n",
      "[CV]  boosting_type=gbdt, colsample_bytree=0.65, learning_rate=0.005, n_estimators=40, num_leaves=6, objective=binary, reg_alpha=1.2, reg_lambda=1, subsample=0.7, score=0.6675047285140933, total=   0.5s\n",
      "[CV] boosting_type=gbdt, colsample_bytree=0.65, learning_rate=0.005, n_estimators=40, num_leaves=6, objective=binary, reg_alpha=1.2, reg_lambda=1, subsample=0.7 \n",
      "[CV]  boosting_type=gbdt, colsample_bytree=0.65, learning_rate=0.005, n_estimators=40, num_leaves=6, objective=binary, reg_alpha=1.2, reg_lambda=1, subsample=0.7, score=0.6641985560399511, total=   0.5s\n",
      "[CV] boosting_type=gbdt, colsample_bytree=0.65, learning_rate=0.005, n_estimators=40, num_leaves=6, objective=binary, reg_alpha=1.2, reg_lambda=1, subsample=0.75 \n",
      "[CV]  boosting_type=gbdt, colsample_bytree=0.65, learning_rate=0.005, n_estimators=40, num_leaves=6, objective=binary, reg_alpha=1.2, reg_lambda=1, subsample=0.75, score=0.6562946902246621, total=   0.5s\n",
      "[CV] boosting_type=gbdt, colsample_bytree=0.65, learning_rate=0.005, n_estimators=40, num_leaves=6, objective=binary, reg_alpha=1.2, reg_lambda=1, subsample=0.75 \n",
      "[CV]  boosting_type=gbdt, colsample_bytree=0.65, learning_rate=0.005, n_estimators=40, num_leaves=6, objective=binary, reg_alpha=1.2, reg_lambda=1, subsample=0.75, score=0.6607002814042534, total=   0.5s\n",
      "[CV] boosting_type=gbdt, colsample_bytree=0.65, learning_rate=0.005, n_estimators=40, num_leaves=6, objective=binary, reg_alpha=1.2, reg_lambda=1, subsample=0.75 \n",
      "[CV]  boosting_type=gbdt, colsample_bytree=0.65, learning_rate=0.005, n_estimators=40, num_leaves=6, objective=binary, reg_alpha=1.2, reg_lambda=1, subsample=0.75, score=0.6675047285140933, total=   0.5s\n",
      "[CV] boosting_type=gbdt, colsample_bytree=0.65, learning_rate=0.005, n_estimators=40, num_leaves=6, objective=binary, reg_alpha=1.2, reg_lambda=1, subsample=0.75 \n",
      "[CV]  boosting_type=gbdt, colsample_bytree=0.65, learning_rate=0.005, n_estimators=40, num_leaves=6, objective=binary, reg_alpha=1.2, reg_lambda=1, subsample=0.75, score=0.6641985560399511, total=   0.5s\n",
      "[CV] boosting_type=gbdt, colsample_bytree=0.65, learning_rate=0.005, n_estimators=40, num_leaves=6, objective=binary, reg_alpha=1.2, reg_lambda=1.2, subsample=0.7 \n"
     ]
    },
    {
     "name": "stdout",
     "output_type": "stream",
     "text": [
      "[CV]  boosting_type=gbdt, colsample_bytree=0.65, learning_rate=0.005, n_estimators=40, num_leaves=6, objective=binary, reg_alpha=1.2, reg_lambda=1.2, subsample=0.7, score=0.6562946902246621, total=   0.5s\n",
      "[CV] boosting_type=gbdt, colsample_bytree=0.65, learning_rate=0.005, n_estimators=40, num_leaves=6, objective=binary, reg_alpha=1.2, reg_lambda=1.2, subsample=0.7 \n",
      "[CV]  boosting_type=gbdt, colsample_bytree=0.65, learning_rate=0.005, n_estimators=40, num_leaves=6, objective=binary, reg_alpha=1.2, reg_lambda=1.2, subsample=0.7, score=0.6607002814042534, total=   0.5s\n",
      "[CV] boosting_type=gbdt, colsample_bytree=0.65, learning_rate=0.005, n_estimators=40, num_leaves=6, objective=binary, reg_alpha=1.2, reg_lambda=1.2, subsample=0.7 \n",
      "[CV]  boosting_type=gbdt, colsample_bytree=0.65, learning_rate=0.005, n_estimators=40, num_leaves=6, objective=binary, reg_alpha=1.2, reg_lambda=1.2, subsample=0.7, score=0.6675047285140933, total=   0.4s\n",
      "[CV] boosting_type=gbdt, colsample_bytree=0.65, learning_rate=0.005, n_estimators=40, num_leaves=6, objective=binary, reg_alpha=1.2, reg_lambda=1.2, subsample=0.7 \n",
      "[CV]  boosting_type=gbdt, colsample_bytree=0.65, learning_rate=0.005, n_estimators=40, num_leaves=6, objective=binary, reg_alpha=1.2, reg_lambda=1.2, subsample=0.7, score=0.6641985560399511, total=   0.5s\n",
      "[CV] boosting_type=gbdt, colsample_bytree=0.65, learning_rate=0.005, n_estimators=40, num_leaves=6, objective=binary, reg_alpha=1.2, reg_lambda=1.2, subsample=0.75 \n",
      "[CV]  boosting_type=gbdt, colsample_bytree=0.65, learning_rate=0.005, n_estimators=40, num_leaves=6, objective=binary, reg_alpha=1.2, reg_lambda=1.2, subsample=0.75, score=0.6562946902246621, total=   0.5s\n",
      "[CV] boosting_type=gbdt, colsample_bytree=0.65, learning_rate=0.005, n_estimators=40, num_leaves=6, objective=binary, reg_alpha=1.2, reg_lambda=1.2, subsample=0.75 \n",
      "[CV]  boosting_type=gbdt, colsample_bytree=0.65, learning_rate=0.005, n_estimators=40, num_leaves=6, objective=binary, reg_alpha=1.2, reg_lambda=1.2, subsample=0.75, score=0.6607002814042534, total=   0.5s\n",
      "[CV] boosting_type=gbdt, colsample_bytree=0.65, learning_rate=0.005, n_estimators=40, num_leaves=6, objective=binary, reg_alpha=1.2, reg_lambda=1.2, subsample=0.75 \n",
      "[CV]  boosting_type=gbdt, colsample_bytree=0.65, learning_rate=0.005, n_estimators=40, num_leaves=6, objective=binary, reg_alpha=1.2, reg_lambda=1.2, subsample=0.75, score=0.6675047285140933, total=   0.5s\n",
      "[CV] boosting_type=gbdt, colsample_bytree=0.65, learning_rate=0.005, n_estimators=40, num_leaves=6, objective=binary, reg_alpha=1.2, reg_lambda=1.2, subsample=0.75 \n",
      "[CV]  boosting_type=gbdt, colsample_bytree=0.65, learning_rate=0.005, n_estimators=40, num_leaves=6, objective=binary, reg_alpha=1.2, reg_lambda=1.2, subsample=0.75, score=0.6641985560399511, total=   0.4s\n",
      "[CV] boosting_type=gbdt, colsample_bytree=0.65, learning_rate=0.005, n_estimators=40, num_leaves=6, objective=binary, reg_alpha=1.2, reg_lambda=1.4, subsample=0.7 \n",
      "[CV]  boosting_type=gbdt, colsample_bytree=0.65, learning_rate=0.005, n_estimators=40, num_leaves=6, objective=binary, reg_alpha=1.2, reg_lambda=1.4, subsample=0.7, score=0.6562946902246621, total=   0.5s\n",
      "[CV] boosting_type=gbdt, colsample_bytree=0.65, learning_rate=0.005, n_estimators=40, num_leaves=6, objective=binary, reg_alpha=1.2, reg_lambda=1.4, subsample=0.7 \n",
      "[CV]  boosting_type=gbdt, colsample_bytree=0.65, learning_rate=0.005, n_estimators=40, num_leaves=6, objective=binary, reg_alpha=1.2, reg_lambda=1.4, subsample=0.7, score=0.6607002814042534, total=   0.4s\n",
      "[CV] boosting_type=gbdt, colsample_bytree=0.65, learning_rate=0.005, n_estimators=40, num_leaves=6, objective=binary, reg_alpha=1.2, reg_lambda=1.4, subsample=0.7 \n",
      "[CV]  boosting_type=gbdt, colsample_bytree=0.65, learning_rate=0.005, n_estimators=40, num_leaves=6, objective=binary, reg_alpha=1.2, reg_lambda=1.4, subsample=0.7, score=0.6675047285140933, total=   0.5s\n",
      "[CV] boosting_type=gbdt, colsample_bytree=0.65, learning_rate=0.005, n_estimators=40, num_leaves=6, objective=binary, reg_alpha=1.2, reg_lambda=1.4, subsample=0.7 \n",
      "[CV]  boosting_type=gbdt, colsample_bytree=0.65, learning_rate=0.005, n_estimators=40, num_leaves=6, objective=binary, reg_alpha=1.2, reg_lambda=1.4, subsample=0.7, score=0.6641985560399511, total=   0.4s\n",
      "[CV] boosting_type=gbdt, colsample_bytree=0.65, learning_rate=0.005, n_estimators=40, num_leaves=6, objective=binary, reg_alpha=1.2, reg_lambda=1.4, subsample=0.75 \n",
      "[CV]  boosting_type=gbdt, colsample_bytree=0.65, learning_rate=0.005, n_estimators=40, num_leaves=6, objective=binary, reg_alpha=1.2, reg_lambda=1.4, subsample=0.75, score=0.6562946902246621, total=   0.4s\n",
      "[CV] boosting_type=gbdt, colsample_bytree=0.65, learning_rate=0.005, n_estimators=40, num_leaves=6, objective=binary, reg_alpha=1.2, reg_lambda=1.4, subsample=0.75 \n",
      "[CV]  boosting_type=gbdt, colsample_bytree=0.65, learning_rate=0.005, n_estimators=40, num_leaves=6, objective=binary, reg_alpha=1.2, reg_lambda=1.4, subsample=0.75, score=0.6607002814042534, total=   0.4s\n",
      "[CV] boosting_type=gbdt, colsample_bytree=0.65, learning_rate=0.005, n_estimators=40, num_leaves=6, objective=binary, reg_alpha=1.2, reg_lambda=1.4, subsample=0.75 \n",
      "[CV]  boosting_type=gbdt, colsample_bytree=0.65, learning_rate=0.005, n_estimators=40, num_leaves=6, objective=binary, reg_alpha=1.2, reg_lambda=1.4, subsample=0.75, score=0.6675047285140933, total=   0.5s\n",
      "[CV] boosting_type=gbdt, colsample_bytree=0.65, learning_rate=0.005, n_estimators=40, num_leaves=6, objective=binary, reg_alpha=1.2, reg_lambda=1.4, subsample=0.75 \n",
      "[CV]  boosting_type=gbdt, colsample_bytree=0.65, learning_rate=0.005, n_estimators=40, num_leaves=6, objective=binary, reg_alpha=1.2, reg_lambda=1.4, subsample=0.75, score=0.6641985560399511, total=   0.5s\n",
      "[CV] boosting_type=gbdt, colsample_bytree=0.65, learning_rate=0.005, n_estimators=40, num_leaves=8, objective=binary, reg_alpha=1, reg_lambda=1, subsample=0.7 \n",
      "[CV]  boosting_type=gbdt, colsample_bytree=0.65, learning_rate=0.005, n_estimators=40, num_leaves=8, objective=binary, reg_alpha=1, reg_lambda=1, subsample=0.7, score=0.6626608848087835, total=   0.5s\n",
      "[CV] boosting_type=gbdt, colsample_bytree=0.65, learning_rate=0.005, n_estimators=40, num_leaves=8, objective=binary, reg_alpha=1, reg_lambda=1, subsample=0.7 \n",
      "[CV]  boosting_type=gbdt, colsample_bytree=0.65, learning_rate=0.005, n_estimators=40, num_leaves=8, objective=binary, reg_alpha=1, reg_lambda=1, subsample=0.7, score=0.6735249342621211, total=   0.5s\n",
      "[CV] boosting_type=gbdt, colsample_bytree=0.65, learning_rate=0.005, n_estimators=40, num_leaves=8, objective=binary, reg_alpha=1, reg_lambda=1, subsample=0.7 \n",
      "[CV]  boosting_type=gbdt, colsample_bytree=0.65, learning_rate=0.005, n_estimators=40, num_leaves=8, objective=binary, reg_alpha=1, reg_lambda=1, subsample=0.7, score=0.6758545924251511, total=   0.5s\n",
      "[CV] boosting_type=gbdt, colsample_bytree=0.65, learning_rate=0.005, n_estimators=40, num_leaves=8, objective=binary, reg_alpha=1, reg_lambda=1, subsample=0.7 \n",
      "[CV]  boosting_type=gbdt, colsample_bytree=0.65, learning_rate=0.005, n_estimators=40, num_leaves=8, objective=binary, reg_alpha=1, reg_lambda=1, subsample=0.7, score=0.6744861947270085, total=   0.5s\n",
      "[CV] boosting_type=gbdt, colsample_bytree=0.65, learning_rate=0.005, n_estimators=40, num_leaves=8, objective=binary, reg_alpha=1, reg_lambda=1, subsample=0.75 \n",
      "[CV]  boosting_type=gbdt, colsample_bytree=0.65, learning_rate=0.005, n_estimators=40, num_leaves=8, objective=binary, reg_alpha=1, reg_lambda=1, subsample=0.75, score=0.6626608848087835, total=   0.5s\n",
      "[CV] boosting_type=gbdt, colsample_bytree=0.65, learning_rate=0.005, n_estimators=40, num_leaves=8, objective=binary, reg_alpha=1, reg_lambda=1, subsample=0.75 \n",
      "[CV]  boosting_type=gbdt, colsample_bytree=0.65, learning_rate=0.005, n_estimators=40, num_leaves=8, objective=binary, reg_alpha=1, reg_lambda=1, subsample=0.75, score=0.6735249342621211, total=   0.5s\n",
      "[CV] boosting_type=gbdt, colsample_bytree=0.65, learning_rate=0.005, n_estimators=40, num_leaves=8, objective=binary, reg_alpha=1, reg_lambda=1, subsample=0.75 \n",
      "[CV]  boosting_type=gbdt, colsample_bytree=0.65, learning_rate=0.005, n_estimators=40, num_leaves=8, objective=binary, reg_alpha=1, reg_lambda=1, subsample=0.75, score=0.6758545924251511, total=   0.5s\n",
      "[CV] boosting_type=gbdt, colsample_bytree=0.65, learning_rate=0.005, n_estimators=40, num_leaves=8, objective=binary, reg_alpha=1, reg_lambda=1, subsample=0.75 \n"
     ]
    },
    {
     "name": "stdout",
     "output_type": "stream",
     "text": [
      "[CV]  boosting_type=gbdt, colsample_bytree=0.65, learning_rate=0.005, n_estimators=40, num_leaves=8, objective=binary, reg_alpha=1, reg_lambda=1, subsample=0.75, score=0.6744861947270085, total=   0.5s\n",
      "[CV] boosting_type=gbdt, colsample_bytree=0.65, learning_rate=0.005, n_estimators=40, num_leaves=8, objective=binary, reg_alpha=1, reg_lambda=1.2, subsample=0.7 \n",
      "[CV]  boosting_type=gbdt, colsample_bytree=0.65, learning_rate=0.005, n_estimators=40, num_leaves=8, objective=binary, reg_alpha=1, reg_lambda=1.2, subsample=0.7, score=0.6626608848087835, total=   0.5s\n",
      "[CV] boosting_type=gbdt, colsample_bytree=0.65, learning_rate=0.005, n_estimators=40, num_leaves=8, objective=binary, reg_alpha=1, reg_lambda=1.2, subsample=0.7 \n",
      "[CV]  boosting_type=gbdt, colsample_bytree=0.65, learning_rate=0.005, n_estimators=40, num_leaves=8, objective=binary, reg_alpha=1, reg_lambda=1.2, subsample=0.7, score=0.6735249342621211, total=   0.5s\n",
      "[CV] boosting_type=gbdt, colsample_bytree=0.65, learning_rate=0.005, n_estimators=40, num_leaves=8, objective=binary, reg_alpha=1, reg_lambda=1.2, subsample=0.7 \n",
      "[CV]  boosting_type=gbdt, colsample_bytree=0.65, learning_rate=0.005, n_estimators=40, num_leaves=8, objective=binary, reg_alpha=1, reg_lambda=1.2, subsample=0.7, score=0.6758776583475573, total=   0.5s\n",
      "[CV] boosting_type=gbdt, colsample_bytree=0.65, learning_rate=0.005, n_estimators=40, num_leaves=8, objective=binary, reg_alpha=1, reg_lambda=1.2, subsample=0.7 \n",
      "[CV]  boosting_type=gbdt, colsample_bytree=0.65, learning_rate=0.005, n_estimators=40, num_leaves=8, objective=binary, reg_alpha=1, reg_lambda=1.2, subsample=0.7, score=0.6744861947270085, total=   0.5s\n",
      "[CV] boosting_type=gbdt, colsample_bytree=0.65, learning_rate=0.005, n_estimators=40, num_leaves=8, objective=binary, reg_alpha=1, reg_lambda=1.2, subsample=0.75 \n",
      "[CV]  boosting_type=gbdt, colsample_bytree=0.65, learning_rate=0.005, n_estimators=40, num_leaves=8, objective=binary, reg_alpha=1, reg_lambda=1.2, subsample=0.75, score=0.6626608848087835, total=   0.5s\n",
      "[CV] boosting_type=gbdt, colsample_bytree=0.65, learning_rate=0.005, n_estimators=40, num_leaves=8, objective=binary, reg_alpha=1, reg_lambda=1.2, subsample=0.75 \n",
      "[CV]  boosting_type=gbdt, colsample_bytree=0.65, learning_rate=0.005, n_estimators=40, num_leaves=8, objective=binary, reg_alpha=1, reg_lambda=1.2, subsample=0.75, score=0.6735249342621211, total=   0.4s\n",
      "[CV] boosting_type=gbdt, colsample_bytree=0.65, learning_rate=0.005, n_estimators=40, num_leaves=8, objective=binary, reg_alpha=1, reg_lambda=1.2, subsample=0.75 \n",
      "[CV]  boosting_type=gbdt, colsample_bytree=0.65, learning_rate=0.005, n_estimators=40, num_leaves=8, objective=binary, reg_alpha=1, reg_lambda=1.2, subsample=0.75, score=0.6758776583475573, total=   0.5s\n",
      "[CV] boosting_type=gbdt, colsample_bytree=0.65, learning_rate=0.005, n_estimators=40, num_leaves=8, objective=binary, reg_alpha=1, reg_lambda=1.2, subsample=0.75 \n",
      "[CV]  boosting_type=gbdt, colsample_bytree=0.65, learning_rate=0.005, n_estimators=40, num_leaves=8, objective=binary, reg_alpha=1, reg_lambda=1.2, subsample=0.75, score=0.6744861947270085, total=   0.5s\n",
      "[CV] boosting_type=gbdt, colsample_bytree=0.65, learning_rate=0.005, n_estimators=40, num_leaves=8, objective=binary, reg_alpha=1, reg_lambda=1.4, subsample=0.7 \n",
      "[CV]  boosting_type=gbdt, colsample_bytree=0.65, learning_rate=0.005, n_estimators=40, num_leaves=8, objective=binary, reg_alpha=1, reg_lambda=1.4, subsample=0.7, score=0.6626608848087835, total=   0.5s\n",
      "[CV] boosting_type=gbdt, colsample_bytree=0.65, learning_rate=0.005, n_estimators=40, num_leaves=8, objective=binary, reg_alpha=1, reg_lambda=1.4, subsample=0.7 \n",
      "[CV]  boosting_type=gbdt, colsample_bytree=0.65, learning_rate=0.005, n_estimators=40, num_leaves=8, objective=binary, reg_alpha=1, reg_lambda=1.4, subsample=0.7, score=0.6735249342621211, total=   0.5s\n",
      "[CV] boosting_type=gbdt, colsample_bytree=0.65, learning_rate=0.005, n_estimators=40, num_leaves=8, objective=binary, reg_alpha=1, reg_lambda=1.4, subsample=0.7 \n",
      "[CV]  boosting_type=gbdt, colsample_bytree=0.65, learning_rate=0.005, n_estimators=40, num_leaves=8, objective=binary, reg_alpha=1, reg_lambda=1.4, subsample=0.7, score=0.6758776583475573, total=   0.5s\n",
      "[CV] boosting_type=gbdt, colsample_bytree=0.65, learning_rate=0.005, n_estimators=40, num_leaves=8, objective=binary, reg_alpha=1, reg_lambda=1.4, subsample=0.7 \n",
      "[CV]  boosting_type=gbdt, colsample_bytree=0.65, learning_rate=0.005, n_estimators=40, num_leaves=8, objective=binary, reg_alpha=1, reg_lambda=1.4, subsample=0.7, score=0.6744861947270085, total=   0.5s\n",
      "[CV] boosting_type=gbdt, colsample_bytree=0.65, learning_rate=0.005, n_estimators=40, num_leaves=8, objective=binary, reg_alpha=1, reg_lambda=1.4, subsample=0.75 \n",
      "[CV]  boosting_type=gbdt, colsample_bytree=0.65, learning_rate=0.005, n_estimators=40, num_leaves=8, objective=binary, reg_alpha=1, reg_lambda=1.4, subsample=0.75, score=0.6626608848087835, total=   0.5s\n",
      "[CV] boosting_type=gbdt, colsample_bytree=0.65, learning_rate=0.005, n_estimators=40, num_leaves=8, objective=binary, reg_alpha=1, reg_lambda=1.4, subsample=0.75 \n",
      "[CV]  boosting_type=gbdt, colsample_bytree=0.65, learning_rate=0.005, n_estimators=40, num_leaves=8, objective=binary, reg_alpha=1, reg_lambda=1.4, subsample=0.75, score=0.6735249342621211, total=   0.5s\n",
      "[CV] boosting_type=gbdt, colsample_bytree=0.65, learning_rate=0.005, n_estimators=40, num_leaves=8, objective=binary, reg_alpha=1, reg_lambda=1.4, subsample=0.75 \n",
      "[CV]  boosting_type=gbdt, colsample_bytree=0.65, learning_rate=0.005, n_estimators=40, num_leaves=8, objective=binary, reg_alpha=1, reg_lambda=1.4, subsample=0.75, score=0.6758776583475573, total=   0.5s\n",
      "[CV] boosting_type=gbdt, colsample_bytree=0.65, learning_rate=0.005, n_estimators=40, num_leaves=8, objective=binary, reg_alpha=1, reg_lambda=1.4, subsample=0.75 \n",
      "[CV]  boosting_type=gbdt, colsample_bytree=0.65, learning_rate=0.005, n_estimators=40, num_leaves=8, objective=binary, reg_alpha=1, reg_lambda=1.4, subsample=0.75, score=0.6744861947270085, total=   0.5s\n",
      "[CV] boosting_type=gbdt, colsample_bytree=0.65, learning_rate=0.005, n_estimators=40, num_leaves=8, objective=binary, reg_alpha=1.2, reg_lambda=1, subsample=0.7 \n",
      "[CV]  boosting_type=gbdt, colsample_bytree=0.65, learning_rate=0.005, n_estimators=40, num_leaves=8, objective=binary, reg_alpha=1.2, reg_lambda=1, subsample=0.7, score=0.6626608848087835, total=   0.5s\n",
      "[CV] boosting_type=gbdt, colsample_bytree=0.65, learning_rate=0.005, n_estimators=40, num_leaves=8, objective=binary, reg_alpha=1.2, reg_lambda=1, subsample=0.7 \n",
      "[CV]  boosting_type=gbdt, colsample_bytree=0.65, learning_rate=0.005, n_estimators=40, num_leaves=8, objective=binary, reg_alpha=1.2, reg_lambda=1, subsample=0.7, score=0.6735249342621211, total=   0.5s\n",
      "[CV] boosting_type=gbdt, colsample_bytree=0.65, learning_rate=0.005, n_estimators=40, num_leaves=8, objective=binary, reg_alpha=1.2, reg_lambda=1, subsample=0.7 \n",
      "[CV]  boosting_type=gbdt, colsample_bytree=0.65, learning_rate=0.005, n_estimators=40, num_leaves=8, objective=binary, reg_alpha=1.2, reg_lambda=1, subsample=0.7, score=0.6758776583475573, total=   0.5s\n",
      "[CV] boosting_type=gbdt, colsample_bytree=0.65, learning_rate=0.005, n_estimators=40, num_leaves=8, objective=binary, reg_alpha=1.2, reg_lambda=1, subsample=0.7 \n",
      "[CV]  boosting_type=gbdt, colsample_bytree=0.65, learning_rate=0.005, n_estimators=40, num_leaves=8, objective=binary, reg_alpha=1.2, reg_lambda=1, subsample=0.7, score=0.6744861947270085, total=   0.5s\n",
      "[CV] boosting_type=gbdt, colsample_bytree=0.65, learning_rate=0.005, n_estimators=40, num_leaves=8, objective=binary, reg_alpha=1.2, reg_lambda=1, subsample=0.75 \n",
      "[CV]  boosting_type=gbdt, colsample_bytree=0.65, learning_rate=0.005, n_estimators=40, num_leaves=8, objective=binary, reg_alpha=1.2, reg_lambda=1, subsample=0.75, score=0.6626608848087835, total=   0.5s\n",
      "[CV] boosting_type=gbdt, colsample_bytree=0.65, learning_rate=0.005, n_estimators=40, num_leaves=8, objective=binary, reg_alpha=1.2, reg_lambda=1, subsample=0.75 \n",
      "[CV]  boosting_type=gbdt, colsample_bytree=0.65, learning_rate=0.005, n_estimators=40, num_leaves=8, objective=binary, reg_alpha=1.2, reg_lambda=1, subsample=0.75, score=0.6735249342621211, total=   0.5s\n",
      "[CV] boosting_type=gbdt, colsample_bytree=0.65, learning_rate=0.005, n_estimators=40, num_leaves=8, objective=binary, reg_alpha=1.2, reg_lambda=1, subsample=0.75 \n"
     ]
    },
    {
     "name": "stdout",
     "output_type": "stream",
     "text": [
      "[CV]  boosting_type=gbdt, colsample_bytree=0.65, learning_rate=0.005, n_estimators=40, num_leaves=8, objective=binary, reg_alpha=1.2, reg_lambda=1, subsample=0.75, score=0.6758776583475573, total=   0.5s\n",
      "[CV] boosting_type=gbdt, colsample_bytree=0.65, learning_rate=0.005, n_estimators=40, num_leaves=8, objective=binary, reg_alpha=1.2, reg_lambda=1, subsample=0.75 \n",
      "[CV]  boosting_type=gbdt, colsample_bytree=0.65, learning_rate=0.005, n_estimators=40, num_leaves=8, objective=binary, reg_alpha=1.2, reg_lambda=1, subsample=0.75, score=0.6744861947270085, total=   0.5s\n",
      "[CV] boosting_type=gbdt, colsample_bytree=0.65, learning_rate=0.005, n_estimators=40, num_leaves=8, objective=binary, reg_alpha=1.2, reg_lambda=1.2, subsample=0.7 \n",
      "[CV]  boosting_type=gbdt, colsample_bytree=0.65, learning_rate=0.005, n_estimators=40, num_leaves=8, objective=binary, reg_alpha=1.2, reg_lambda=1.2, subsample=0.7, score=0.6626608848087835, total=   0.5s\n",
      "[CV] boosting_type=gbdt, colsample_bytree=0.65, learning_rate=0.005, n_estimators=40, num_leaves=8, objective=binary, reg_alpha=1.2, reg_lambda=1.2, subsample=0.7 \n",
      "[CV]  boosting_type=gbdt, colsample_bytree=0.65, learning_rate=0.005, n_estimators=40, num_leaves=8, objective=binary, reg_alpha=1.2, reg_lambda=1.2, subsample=0.7, score=0.6735249342621211, total=   0.5s\n",
      "[CV] boosting_type=gbdt, colsample_bytree=0.65, learning_rate=0.005, n_estimators=40, num_leaves=8, objective=binary, reg_alpha=1.2, reg_lambda=1.2, subsample=0.7 \n",
      "[CV]  boosting_type=gbdt, colsample_bytree=0.65, learning_rate=0.005, n_estimators=40, num_leaves=8, objective=binary, reg_alpha=1.2, reg_lambda=1.2, subsample=0.7, score=0.6758776583475573, total=   0.5s\n",
      "[CV] boosting_type=gbdt, colsample_bytree=0.65, learning_rate=0.005, n_estimators=40, num_leaves=8, objective=binary, reg_alpha=1.2, reg_lambda=1.2, subsample=0.7 \n",
      "[CV]  boosting_type=gbdt, colsample_bytree=0.65, learning_rate=0.005, n_estimators=40, num_leaves=8, objective=binary, reg_alpha=1.2, reg_lambda=1.2, subsample=0.7, score=0.6744861947270085, total=   0.5s\n",
      "[CV] boosting_type=gbdt, colsample_bytree=0.65, learning_rate=0.005, n_estimators=40, num_leaves=8, objective=binary, reg_alpha=1.2, reg_lambda=1.2, subsample=0.75 \n",
      "[CV]  boosting_type=gbdt, colsample_bytree=0.65, learning_rate=0.005, n_estimators=40, num_leaves=8, objective=binary, reg_alpha=1.2, reg_lambda=1.2, subsample=0.75, score=0.6626608848087835, total=   0.5s\n",
      "[CV] boosting_type=gbdt, colsample_bytree=0.65, learning_rate=0.005, n_estimators=40, num_leaves=8, objective=binary, reg_alpha=1.2, reg_lambda=1.2, subsample=0.75 \n",
      "[CV]  boosting_type=gbdt, colsample_bytree=0.65, learning_rate=0.005, n_estimators=40, num_leaves=8, objective=binary, reg_alpha=1.2, reg_lambda=1.2, subsample=0.75, score=0.6735249342621211, total=   0.5s\n",
      "[CV] boosting_type=gbdt, colsample_bytree=0.65, learning_rate=0.005, n_estimators=40, num_leaves=8, objective=binary, reg_alpha=1.2, reg_lambda=1.2, subsample=0.75 \n",
      "[CV]  boosting_type=gbdt, colsample_bytree=0.65, learning_rate=0.005, n_estimators=40, num_leaves=8, objective=binary, reg_alpha=1.2, reg_lambda=1.2, subsample=0.75, score=0.6758776583475573, total=   0.5s\n",
      "[CV] boosting_type=gbdt, colsample_bytree=0.65, learning_rate=0.005, n_estimators=40, num_leaves=8, objective=binary, reg_alpha=1.2, reg_lambda=1.2, subsample=0.75 \n",
      "[CV]  boosting_type=gbdt, colsample_bytree=0.65, learning_rate=0.005, n_estimators=40, num_leaves=8, objective=binary, reg_alpha=1.2, reg_lambda=1.2, subsample=0.75, score=0.6744861947270085, total=   0.5s\n",
      "[CV] boosting_type=gbdt, colsample_bytree=0.65, learning_rate=0.005, n_estimators=40, num_leaves=8, objective=binary, reg_alpha=1.2, reg_lambda=1.4, subsample=0.7 \n",
      "[CV]  boosting_type=gbdt, colsample_bytree=0.65, learning_rate=0.005, n_estimators=40, num_leaves=8, objective=binary, reg_alpha=1.2, reg_lambda=1.4, subsample=0.7, score=0.6626608848087835, total=   0.5s\n",
      "[CV] boosting_type=gbdt, colsample_bytree=0.65, learning_rate=0.005, n_estimators=40, num_leaves=8, objective=binary, reg_alpha=1.2, reg_lambda=1.4, subsample=0.7 \n",
      "[CV]  boosting_type=gbdt, colsample_bytree=0.65, learning_rate=0.005, n_estimators=40, num_leaves=8, objective=binary, reg_alpha=1.2, reg_lambda=1.4, subsample=0.7, score=0.6735249342621211, total=   0.5s\n",
      "[CV] boosting_type=gbdt, colsample_bytree=0.65, learning_rate=0.005, n_estimators=40, num_leaves=8, objective=binary, reg_alpha=1.2, reg_lambda=1.4, subsample=0.7 \n",
      "[CV]  boosting_type=gbdt, colsample_bytree=0.65, learning_rate=0.005, n_estimators=40, num_leaves=8, objective=binary, reg_alpha=1.2, reg_lambda=1.4, subsample=0.7, score=0.6758776583475573, total=   0.5s\n",
      "[CV] boosting_type=gbdt, colsample_bytree=0.65, learning_rate=0.005, n_estimators=40, num_leaves=8, objective=binary, reg_alpha=1.2, reg_lambda=1.4, subsample=0.7 \n",
      "[CV]  boosting_type=gbdt, colsample_bytree=0.65, learning_rate=0.005, n_estimators=40, num_leaves=8, objective=binary, reg_alpha=1.2, reg_lambda=1.4, subsample=0.7, score=0.6744861947270085, total=   0.5s\n",
      "[CV] boosting_type=gbdt, colsample_bytree=0.65, learning_rate=0.005, n_estimators=40, num_leaves=8, objective=binary, reg_alpha=1.2, reg_lambda=1.4, subsample=0.75 \n",
      "[CV]  boosting_type=gbdt, colsample_bytree=0.65, learning_rate=0.005, n_estimators=40, num_leaves=8, objective=binary, reg_alpha=1.2, reg_lambda=1.4, subsample=0.75, score=0.6626608848087835, total=   0.5s\n",
      "[CV] boosting_type=gbdt, colsample_bytree=0.65, learning_rate=0.005, n_estimators=40, num_leaves=8, objective=binary, reg_alpha=1.2, reg_lambda=1.4, subsample=0.75 \n",
      "[CV]  boosting_type=gbdt, colsample_bytree=0.65, learning_rate=0.005, n_estimators=40, num_leaves=8, objective=binary, reg_alpha=1.2, reg_lambda=1.4, subsample=0.75, score=0.6735249342621211, total=   0.5s\n",
      "[CV] boosting_type=gbdt, colsample_bytree=0.65, learning_rate=0.005, n_estimators=40, num_leaves=8, objective=binary, reg_alpha=1.2, reg_lambda=1.4, subsample=0.75 \n",
      "[CV]  boosting_type=gbdt, colsample_bytree=0.65, learning_rate=0.005, n_estimators=40, num_leaves=8, objective=binary, reg_alpha=1.2, reg_lambda=1.4, subsample=0.75, score=0.6758776583475573, total=   0.5s\n",
      "[CV] boosting_type=gbdt, colsample_bytree=0.65, learning_rate=0.005, n_estimators=40, num_leaves=8, objective=binary, reg_alpha=1.2, reg_lambda=1.4, subsample=0.75 \n",
      "[CV]  boosting_type=gbdt, colsample_bytree=0.65, learning_rate=0.005, n_estimators=40, num_leaves=8, objective=binary, reg_alpha=1.2, reg_lambda=1.4, subsample=0.75, score=0.6744861947270085, total=   0.5s\n",
      "[CV] boosting_type=gbdt, colsample_bytree=0.65, learning_rate=0.005, n_estimators=40, num_leaves=12, objective=binary, reg_alpha=1, reg_lambda=1, subsample=0.7 \n",
      "[CV]  boosting_type=gbdt, colsample_bytree=0.65, learning_rate=0.005, n_estimators=40, num_leaves=12, objective=binary, reg_alpha=1, reg_lambda=1, subsample=0.7, score=0.6789454260275869, total=   0.5s\n",
      "[CV] boosting_type=gbdt, colsample_bytree=0.65, learning_rate=0.005, n_estimators=40, num_leaves=12, objective=binary, reg_alpha=1, reg_lambda=1, subsample=0.7 \n",
      "[CV]  boosting_type=gbdt, colsample_bytree=0.65, learning_rate=0.005, n_estimators=40, num_leaves=12, objective=binary, reg_alpha=1, reg_lambda=1, subsample=0.7, score=0.6808137657424921, total=   0.5s\n",
      "[CV] boosting_type=gbdt, colsample_bytree=0.65, learning_rate=0.005, n_estimators=40, num_leaves=12, objective=binary, reg_alpha=1, reg_lambda=1, subsample=0.7 \n",
      "[CV]  boosting_type=gbdt, colsample_bytree=0.65, learning_rate=0.005, n_estimators=40, num_leaves=12, objective=binary, reg_alpha=1, reg_lambda=1, subsample=0.7, score=0.6852193569220834, total=   0.6s\n",
      "[CV] boosting_type=gbdt, colsample_bytree=0.65, learning_rate=0.005, n_estimators=40, num_leaves=12, objective=binary, reg_alpha=1, reg_lambda=1, subsample=0.7 \n",
      "[CV]  boosting_type=gbdt, colsample_bytree=0.65, learning_rate=0.005, n_estimators=40, num_leaves=12, objective=binary, reg_alpha=1, reg_lambda=1, subsample=0.7, score=0.6967222568219039, total=   0.6s\n",
      "[CV] boosting_type=gbdt, colsample_bytree=0.65, learning_rate=0.005, n_estimators=40, num_leaves=12, objective=binary, reg_alpha=1, reg_lambda=1, subsample=0.75 \n",
      "[CV]  boosting_type=gbdt, colsample_bytree=0.65, learning_rate=0.005, n_estimators=40, num_leaves=12, objective=binary, reg_alpha=1, reg_lambda=1, subsample=0.75, score=0.6789454260275869, total=   0.5s\n",
      "[CV] boosting_type=gbdt, colsample_bytree=0.65, learning_rate=0.005, n_estimators=40, num_leaves=12, objective=binary, reg_alpha=1, reg_lambda=1, subsample=0.75 \n"
     ]
    },
    {
     "name": "stdout",
     "output_type": "stream",
     "text": [
      "[CV]  boosting_type=gbdt, colsample_bytree=0.65, learning_rate=0.005, n_estimators=40, num_leaves=12, objective=binary, reg_alpha=1, reg_lambda=1, subsample=0.75, score=0.6808137657424921, total=   0.5s\n",
      "[CV] boosting_type=gbdt, colsample_bytree=0.65, learning_rate=0.005, n_estimators=40, num_leaves=12, objective=binary, reg_alpha=1, reg_lambda=1, subsample=0.75 \n",
      "[CV]  boosting_type=gbdt, colsample_bytree=0.65, learning_rate=0.005, n_estimators=40, num_leaves=12, objective=binary, reg_alpha=1, reg_lambda=1, subsample=0.75, score=0.6852193569220834, total=   0.5s\n",
      "[CV] boosting_type=gbdt, colsample_bytree=0.65, learning_rate=0.005, n_estimators=40, num_leaves=12, objective=binary, reg_alpha=1, reg_lambda=1, subsample=0.75 \n",
      "[CV]  boosting_type=gbdt, colsample_bytree=0.65, learning_rate=0.005, n_estimators=40, num_leaves=12, objective=binary, reg_alpha=1, reg_lambda=1, subsample=0.75, score=0.6967222568219039, total=   0.5s\n",
      "[CV] boosting_type=gbdt, colsample_bytree=0.65, learning_rate=0.005, n_estimators=40, num_leaves=12, objective=binary, reg_alpha=1, reg_lambda=1.2, subsample=0.7 \n",
      "[CV]  boosting_type=gbdt, colsample_bytree=0.65, learning_rate=0.005, n_estimators=40, num_leaves=12, objective=binary, reg_alpha=1, reg_lambda=1.2, subsample=0.7, score=0.6789454260275869, total=   0.5s\n",
      "[CV] boosting_type=gbdt, colsample_bytree=0.65, learning_rate=0.005, n_estimators=40, num_leaves=12, objective=binary, reg_alpha=1, reg_lambda=1.2, subsample=0.7 \n",
      "[CV]  boosting_type=gbdt, colsample_bytree=0.65, learning_rate=0.005, n_estimators=40, num_leaves=12, objective=binary, reg_alpha=1, reg_lambda=1.2, subsample=0.7, score=0.6807906998200858, total=   0.5s\n",
      "[CV] boosting_type=gbdt, colsample_bytree=0.65, learning_rate=0.005, n_estimators=40, num_leaves=12, objective=binary, reg_alpha=1, reg_lambda=1.2, subsample=0.7 \n",
      "[CV]  boosting_type=gbdt, colsample_bytree=0.65, learning_rate=0.005, n_estimators=40, num_leaves=12, objective=binary, reg_alpha=1, reg_lambda=1.2, subsample=0.7, score=0.6857268072150206, total=   0.5s\n",
      "[CV] boosting_type=gbdt, colsample_bytree=0.65, learning_rate=0.005, n_estimators=40, num_leaves=12, objective=binary, reg_alpha=1, reg_lambda=1.2, subsample=0.7 \n",
      "[CV]  boosting_type=gbdt, colsample_bytree=0.65, learning_rate=0.005, n_estimators=40, num_leaves=12, objective=binary, reg_alpha=1, reg_lambda=1.2, subsample=0.7, score=0.6967222568219039, total=   0.5s\n",
      "[CV] boosting_type=gbdt, colsample_bytree=0.65, learning_rate=0.005, n_estimators=40, num_leaves=12, objective=binary, reg_alpha=1, reg_lambda=1.2, subsample=0.75 \n",
      "[CV]  boosting_type=gbdt, colsample_bytree=0.65, learning_rate=0.005, n_estimators=40, num_leaves=12, objective=binary, reg_alpha=1, reg_lambda=1.2, subsample=0.75, score=0.6789454260275869, total=   0.5s\n",
      "[CV] boosting_type=gbdt, colsample_bytree=0.65, learning_rate=0.005, n_estimators=40, num_leaves=12, objective=binary, reg_alpha=1, reg_lambda=1.2, subsample=0.75 \n",
      "[CV]  boosting_type=gbdt, colsample_bytree=0.65, learning_rate=0.005, n_estimators=40, num_leaves=12, objective=binary, reg_alpha=1, reg_lambda=1.2, subsample=0.75, score=0.6807906998200858, total=   0.5s\n",
      "[CV] boosting_type=gbdt, colsample_bytree=0.65, learning_rate=0.005, n_estimators=40, num_leaves=12, objective=binary, reg_alpha=1, reg_lambda=1.2, subsample=0.75 \n",
      "[CV]  boosting_type=gbdt, colsample_bytree=0.65, learning_rate=0.005, n_estimators=40, num_leaves=12, objective=binary, reg_alpha=1, reg_lambda=1.2, subsample=0.75, score=0.6857268072150206, total=   0.5s\n",
      "[CV] boosting_type=gbdt, colsample_bytree=0.65, learning_rate=0.005, n_estimators=40, num_leaves=12, objective=binary, reg_alpha=1, reg_lambda=1.2, subsample=0.75 \n",
      "[CV]  boosting_type=gbdt, colsample_bytree=0.65, learning_rate=0.005, n_estimators=40, num_leaves=12, objective=binary, reg_alpha=1, reg_lambda=1.2, subsample=0.75, score=0.6967222568219039, total=   0.5s\n",
      "[CV] boosting_type=gbdt, colsample_bytree=0.65, learning_rate=0.005, n_estimators=40, num_leaves=12, objective=binary, reg_alpha=1, reg_lambda=1.4, subsample=0.7 \n",
      "[CV]  boosting_type=gbdt, colsample_bytree=0.65, learning_rate=0.005, n_estimators=40, num_leaves=12, objective=binary, reg_alpha=1, reg_lambda=1.4, subsample=0.7, score=0.6785763712690871, total=   0.5s\n",
      "[CV] boosting_type=gbdt, colsample_bytree=0.65, learning_rate=0.005, n_estimators=40, num_leaves=12, objective=binary, reg_alpha=1, reg_lambda=1.4, subsample=0.7 \n",
      "[CV]  boosting_type=gbdt, colsample_bytree=0.65, learning_rate=0.005, n_estimators=40, num_leaves=12, objective=binary, reg_alpha=1, reg_lambda=1.4, subsample=0.7, score=0.6807906998200858, total=   0.5s\n",
      "[CV] boosting_type=gbdt, colsample_bytree=0.65, learning_rate=0.005, n_estimators=40, num_leaves=12, objective=binary, reg_alpha=1, reg_lambda=1.4, subsample=0.7 \n",
      "[CV]  boosting_type=gbdt, colsample_bytree=0.65, learning_rate=0.005, n_estimators=40, num_leaves=12, objective=binary, reg_alpha=1, reg_lambda=1.4, subsample=0.7, score=0.6857268072150206, total=   0.5s\n",
      "[CV] boosting_type=gbdt, colsample_bytree=0.65, learning_rate=0.005, n_estimators=40, num_leaves=12, objective=binary, reg_alpha=1, reg_lambda=1.4, subsample=0.7 \n",
      "[CV]  boosting_type=gbdt, colsample_bytree=0.65, learning_rate=0.005, n_estimators=40, num_leaves=12, objective=binary, reg_alpha=1, reg_lambda=1.4, subsample=0.7, score=0.6967222568219039, total=   0.5s\n",
      "[CV] boosting_type=gbdt, colsample_bytree=0.65, learning_rate=0.005, n_estimators=40, num_leaves=12, objective=binary, reg_alpha=1, reg_lambda=1.4, subsample=0.75 \n",
      "[CV]  boosting_type=gbdt, colsample_bytree=0.65, learning_rate=0.005, n_estimators=40, num_leaves=12, objective=binary, reg_alpha=1, reg_lambda=1.4, subsample=0.75, score=0.6785763712690871, total=   0.6s\n",
      "[CV] boosting_type=gbdt, colsample_bytree=0.65, learning_rate=0.005, n_estimators=40, num_leaves=12, objective=binary, reg_alpha=1, reg_lambda=1.4, subsample=0.75 \n",
      "[CV]  boosting_type=gbdt, colsample_bytree=0.65, learning_rate=0.005, n_estimators=40, num_leaves=12, objective=binary, reg_alpha=1, reg_lambda=1.4, subsample=0.75, score=0.6807906998200858, total=   0.5s\n",
      "[CV] boosting_type=gbdt, colsample_bytree=0.65, learning_rate=0.005, n_estimators=40, num_leaves=12, objective=binary, reg_alpha=1, reg_lambda=1.4, subsample=0.75 \n",
      "[CV]  boosting_type=gbdt, colsample_bytree=0.65, learning_rate=0.005, n_estimators=40, num_leaves=12, objective=binary, reg_alpha=1, reg_lambda=1.4, subsample=0.75, score=0.6857268072150206, total=   0.5s\n",
      "[CV] boosting_type=gbdt, colsample_bytree=0.65, learning_rate=0.005, n_estimators=40, num_leaves=12, objective=binary, reg_alpha=1, reg_lambda=1.4, subsample=0.75 \n",
      "[CV]  boosting_type=gbdt, colsample_bytree=0.65, learning_rate=0.005, n_estimators=40, num_leaves=12, objective=binary, reg_alpha=1, reg_lambda=1.4, subsample=0.75, score=0.6967222568219039, total=   0.5s\n",
      "[CV] boosting_type=gbdt, colsample_bytree=0.65, learning_rate=0.005, n_estimators=40, num_leaves=12, objective=binary, reg_alpha=1.2, reg_lambda=1, subsample=0.7 \n",
      "[CV]  boosting_type=gbdt, colsample_bytree=0.65, learning_rate=0.005, n_estimators=40, num_leaves=12, objective=binary, reg_alpha=1.2, reg_lambda=1, subsample=0.7, score=0.6785763712690871, total=   0.5s\n",
      "[CV] boosting_type=gbdt, colsample_bytree=0.65, learning_rate=0.005, n_estimators=40, num_leaves=12, objective=binary, reg_alpha=1.2, reg_lambda=1, subsample=0.7 \n",
      "[CV]  boosting_type=gbdt, colsample_bytree=0.65, learning_rate=0.005, n_estimators=40, num_leaves=12, objective=binary, reg_alpha=1.2, reg_lambda=1, subsample=0.7, score=0.6809290953545232, total=   0.5s\n",
      "[CV] boosting_type=gbdt, colsample_bytree=0.65, learning_rate=0.005, n_estimators=40, num_leaves=12, objective=binary, reg_alpha=1.2, reg_lambda=1, subsample=0.7 \n",
      "[CV]  boosting_type=gbdt, colsample_bytree=0.65, learning_rate=0.005, n_estimators=40, num_leaves=12, objective=binary, reg_alpha=1.2, reg_lambda=1, subsample=0.7, score=0.6852193569220834, total=   0.5s\n",
      "[CV] boosting_type=gbdt, colsample_bytree=0.65, learning_rate=0.005, n_estimators=40, num_leaves=12, objective=binary, reg_alpha=1.2, reg_lambda=1, subsample=0.7 \n",
      "[CV]  boosting_type=gbdt, colsample_bytree=0.65, learning_rate=0.005, n_estimators=40, num_leaves=12, objective=binary, reg_alpha=1.2, reg_lambda=1, subsample=0.7, score=0.6967222568219039, total=   0.5s\n",
      "[CV] boosting_type=gbdt, colsample_bytree=0.65, learning_rate=0.005, n_estimators=40, num_leaves=12, objective=binary, reg_alpha=1.2, reg_lambda=1, subsample=0.75 \n"
     ]
    },
    {
     "name": "stdout",
     "output_type": "stream",
     "text": [
      "[CV]  boosting_type=gbdt, colsample_bytree=0.65, learning_rate=0.005, n_estimators=40, num_leaves=12, objective=binary, reg_alpha=1.2, reg_lambda=1, subsample=0.75, score=0.6785763712690871, total=   0.5s\n",
      "[CV] boosting_type=gbdt, colsample_bytree=0.65, learning_rate=0.005, n_estimators=40, num_leaves=12, objective=binary, reg_alpha=1.2, reg_lambda=1, subsample=0.75 \n",
      "[CV]  boosting_type=gbdt, colsample_bytree=0.65, learning_rate=0.005, n_estimators=40, num_leaves=12, objective=binary, reg_alpha=1.2, reg_lambda=1, subsample=0.75, score=0.6809290953545232, total=   0.5s\n",
      "[CV] boosting_type=gbdt, colsample_bytree=0.65, learning_rate=0.005, n_estimators=40, num_leaves=12, objective=binary, reg_alpha=1.2, reg_lambda=1, subsample=0.75 \n",
      "[CV]  boosting_type=gbdt, colsample_bytree=0.65, learning_rate=0.005, n_estimators=40, num_leaves=12, objective=binary, reg_alpha=1.2, reg_lambda=1, subsample=0.75, score=0.6852193569220834, total=   0.6s\n",
      "[CV] boosting_type=gbdt, colsample_bytree=0.65, learning_rate=0.005, n_estimators=40, num_leaves=12, objective=binary, reg_alpha=1.2, reg_lambda=1, subsample=0.75 \n",
      "[CV]  boosting_type=gbdt, colsample_bytree=0.65, learning_rate=0.005, n_estimators=40, num_leaves=12, objective=binary, reg_alpha=1.2, reg_lambda=1, subsample=0.75, score=0.6967222568219039, total=   0.5s\n",
      "[CV] boosting_type=gbdt, colsample_bytree=0.65, learning_rate=0.005, n_estimators=40, num_leaves=12, objective=binary, reg_alpha=1.2, reg_lambda=1.2, subsample=0.7 \n",
      "[CV]  boosting_type=gbdt, colsample_bytree=0.65, learning_rate=0.005, n_estimators=40, num_leaves=12, objective=binary, reg_alpha=1.2, reg_lambda=1.2, subsample=0.7, score=0.6785763712690871, total=   0.5s\n",
      "[CV] boosting_type=gbdt, colsample_bytree=0.65, learning_rate=0.005, n_estimators=40, num_leaves=12, objective=binary, reg_alpha=1.2, reg_lambda=1.2, subsample=0.7 \n",
      "[CV]  boosting_type=gbdt, colsample_bytree=0.65, learning_rate=0.005, n_estimators=40, num_leaves=12, objective=binary, reg_alpha=1.2, reg_lambda=1.2, subsample=0.7, score=0.6807906998200858, total=   0.5s\n",
      "[CV] boosting_type=gbdt, colsample_bytree=0.65, learning_rate=0.005, n_estimators=40, num_leaves=12, objective=binary, reg_alpha=1.2, reg_lambda=1.2, subsample=0.7 \n",
      "[CV]  boosting_type=gbdt, colsample_bytree=0.65, learning_rate=0.005, n_estimators=40, num_leaves=12, objective=binary, reg_alpha=1.2, reg_lambda=1.2, subsample=0.7, score=0.6857268072150206, total=   0.5s\n",
      "[CV] boosting_type=gbdt, colsample_bytree=0.65, learning_rate=0.005, n_estimators=40, num_leaves=12, objective=binary, reg_alpha=1.2, reg_lambda=1.2, subsample=0.7 \n",
      "[CV]  boosting_type=gbdt, colsample_bytree=0.65, learning_rate=0.005, n_estimators=40, num_leaves=12, objective=binary, reg_alpha=1.2, reg_lambda=1.2, subsample=0.7, score=0.6965838580951722, total=   0.5s\n",
      "[CV] boosting_type=gbdt, colsample_bytree=0.65, learning_rate=0.005, n_estimators=40, num_leaves=12, objective=binary, reg_alpha=1.2, reg_lambda=1.2, subsample=0.75 \n",
      "[CV]  boosting_type=gbdt, colsample_bytree=0.65, learning_rate=0.005, n_estimators=40, num_leaves=12, objective=binary, reg_alpha=1.2, reg_lambda=1.2, subsample=0.75, score=0.6785763712690871, total=   0.5s\n",
      "[CV] boosting_type=gbdt, colsample_bytree=0.65, learning_rate=0.005, n_estimators=40, num_leaves=12, objective=binary, reg_alpha=1.2, reg_lambda=1.2, subsample=0.75 \n",
      "[CV]  boosting_type=gbdt, colsample_bytree=0.65, learning_rate=0.005, n_estimators=40, num_leaves=12, objective=binary, reg_alpha=1.2, reg_lambda=1.2, subsample=0.75, score=0.6807906998200858, total=   0.5s\n",
      "[CV] boosting_type=gbdt, colsample_bytree=0.65, learning_rate=0.005, n_estimators=40, num_leaves=12, objective=binary, reg_alpha=1.2, reg_lambda=1.2, subsample=0.75 \n",
      "[CV]  boosting_type=gbdt, colsample_bytree=0.65, learning_rate=0.005, n_estimators=40, num_leaves=12, objective=binary, reg_alpha=1.2, reg_lambda=1.2, subsample=0.75, score=0.6857268072150206, total=   0.5s\n",
      "[CV] boosting_type=gbdt, colsample_bytree=0.65, learning_rate=0.005, n_estimators=40, num_leaves=12, objective=binary, reg_alpha=1.2, reg_lambda=1.2, subsample=0.75 \n",
      "[CV]  boosting_type=gbdt, colsample_bytree=0.65, learning_rate=0.005, n_estimators=40, num_leaves=12, objective=binary, reg_alpha=1.2, reg_lambda=1.2, subsample=0.75, score=0.6965838580951722, total=   0.5s\n",
      "[CV] boosting_type=gbdt, colsample_bytree=0.65, learning_rate=0.005, n_estimators=40, num_leaves=12, objective=binary, reg_alpha=1.2, reg_lambda=1.4, subsample=0.7 \n",
      "[CV]  boosting_type=gbdt, colsample_bytree=0.65, learning_rate=0.005, n_estimators=40, num_leaves=12, objective=binary, reg_alpha=1.2, reg_lambda=1.4, subsample=0.7, score=0.6785763712690871, total=   0.5s\n",
      "[CV] boosting_type=gbdt, colsample_bytree=0.65, learning_rate=0.005, n_estimators=40, num_leaves=12, objective=binary, reg_alpha=1.2, reg_lambda=1.4, subsample=0.7 \n",
      "[CV]  boosting_type=gbdt, colsample_bytree=0.65, learning_rate=0.005, n_estimators=40, num_leaves=12, objective=binary, reg_alpha=1.2, reg_lambda=1.4, subsample=0.7, score=0.6807906998200858, total=   0.5s\n",
      "[CV] boosting_type=gbdt, colsample_bytree=0.65, learning_rate=0.005, n_estimators=40, num_leaves=12, objective=binary, reg_alpha=1.2, reg_lambda=1.4, subsample=0.7 \n",
      "[CV]  boosting_type=gbdt, colsample_bytree=0.65, learning_rate=0.005, n_estimators=40, num_leaves=12, objective=binary, reg_alpha=1.2, reg_lambda=1.4, subsample=0.7, score=0.6849425658532085, total=   0.5s\n",
      "[CV] boosting_type=gbdt, colsample_bytree=0.65, learning_rate=0.005, n_estimators=40, num_leaves=12, objective=binary, reg_alpha=1.2, reg_lambda=1.4, subsample=0.7 \n",
      "[CV]  boosting_type=gbdt, colsample_bytree=0.65, learning_rate=0.005, n_estimators=40, num_leaves=12, objective=binary, reg_alpha=1.2, reg_lambda=1.4, subsample=0.7, score=0.6966069245496275, total=   0.5s\n",
      "[CV] boosting_type=gbdt, colsample_bytree=0.65, learning_rate=0.005, n_estimators=40, num_leaves=12, objective=binary, reg_alpha=1.2, reg_lambda=1.4, subsample=0.75 \n",
      "[CV]  boosting_type=gbdt, colsample_bytree=0.65, learning_rate=0.005, n_estimators=40, num_leaves=12, objective=binary, reg_alpha=1.2, reg_lambda=1.4, subsample=0.75, score=0.6785763712690871, total=   0.5s\n",
      "[CV] boosting_type=gbdt, colsample_bytree=0.65, learning_rate=0.005, n_estimators=40, num_leaves=12, objective=binary, reg_alpha=1.2, reg_lambda=1.4, subsample=0.75 \n",
      "[CV]  boosting_type=gbdt, colsample_bytree=0.65, learning_rate=0.005, n_estimators=40, num_leaves=12, objective=binary, reg_alpha=1.2, reg_lambda=1.4, subsample=0.75, score=0.6807906998200858, total=   0.5s\n",
      "[CV] boosting_type=gbdt, colsample_bytree=0.65, learning_rate=0.005, n_estimators=40, num_leaves=12, objective=binary, reg_alpha=1.2, reg_lambda=1.4, subsample=0.75 \n",
      "[CV]  boosting_type=gbdt, colsample_bytree=0.65, learning_rate=0.005, n_estimators=40, num_leaves=12, objective=binary, reg_alpha=1.2, reg_lambda=1.4, subsample=0.75, score=0.6849425658532085, total=   0.5s\n",
      "[CV] boosting_type=gbdt, colsample_bytree=0.65, learning_rate=0.005, n_estimators=40, num_leaves=12, objective=binary, reg_alpha=1.2, reg_lambda=1.4, subsample=0.75 \n",
      "[CV]  boosting_type=gbdt, colsample_bytree=0.65, learning_rate=0.005, n_estimators=40, num_leaves=12, objective=binary, reg_alpha=1.2, reg_lambda=1.4, subsample=0.75, score=0.6966069245496275, total=   0.5s\n",
      "[CV] boosting_type=gbdt, colsample_bytree=0.65, learning_rate=0.005, n_estimators=40, num_leaves=16, objective=binary, reg_alpha=1, reg_lambda=1, subsample=0.7 \n",
      "[CV]  boosting_type=gbdt, colsample_bytree=0.65, learning_rate=0.005, n_estimators=40, num_leaves=16, objective=binary, reg_alpha=1, reg_lambda=1, subsample=0.7, score=0.6852424228444896, total=   0.5s\n",
      "[CV] boosting_type=gbdt, colsample_bytree=0.65, learning_rate=0.005, n_estimators=40, num_leaves=16, objective=binary, reg_alpha=1, reg_lambda=1, subsample=0.7 \n",
      "[CV]  boosting_type=gbdt, colsample_bytree=0.65, learning_rate=0.005, n_estimators=40, num_leaves=16, objective=binary, reg_alpha=1, reg_lambda=1, subsample=0.7, score=0.6917931448078609, total=   0.5s\n",
      "[CV] boosting_type=gbdt, colsample_bytree=0.65, learning_rate=0.005, n_estimators=40, num_leaves=16, objective=binary, reg_alpha=1, reg_lambda=1, subsample=0.7 \n",
      "[CV]  boosting_type=gbdt, colsample_bytree=0.65, learning_rate=0.005, n_estimators=40, num_leaves=16, objective=binary, reg_alpha=1, reg_lambda=1, subsample=0.7, score=0.7015038981408867, total=   0.5s\n",
      "[CV] boosting_type=gbdt, colsample_bytree=0.65, learning_rate=0.005, n_estimators=40, num_leaves=16, objective=binary, reg_alpha=1, reg_lambda=1, subsample=0.7 \n"
     ]
    },
    {
     "name": "stdout",
     "output_type": "stream",
     "text": [
      "[CV]  boosting_type=gbdt, colsample_bytree=0.65, learning_rate=0.005, n_estimators=40, num_leaves=16, objective=binary, reg_alpha=1, reg_lambda=1, subsample=0.7, score=0.7038497912485872, total=   0.5s\n",
      "[CV] boosting_type=gbdt, colsample_bytree=0.65, learning_rate=0.005, n_estimators=40, num_leaves=16, objective=binary, reg_alpha=1, reg_lambda=1, subsample=0.75 \n",
      "[CV]  boosting_type=gbdt, colsample_bytree=0.65, learning_rate=0.005, n_estimators=40, num_leaves=16, objective=binary, reg_alpha=1, reg_lambda=1, subsample=0.75, score=0.6852424228444896, total=   0.5s\n",
      "[CV] boosting_type=gbdt, colsample_bytree=0.65, learning_rate=0.005, n_estimators=40, num_leaves=16, objective=binary, reg_alpha=1, reg_lambda=1, subsample=0.75 \n",
      "[CV]  boosting_type=gbdt, colsample_bytree=0.65, learning_rate=0.005, n_estimators=40, num_leaves=16, objective=binary, reg_alpha=1, reg_lambda=1, subsample=0.75, score=0.6917931448078609, total=   0.5s\n",
      "[CV] boosting_type=gbdt, colsample_bytree=0.65, learning_rate=0.005, n_estimators=40, num_leaves=16, objective=binary, reg_alpha=1, reg_lambda=1, subsample=0.75 \n",
      "[CV]  boosting_type=gbdt, colsample_bytree=0.65, learning_rate=0.005, n_estimators=40, num_leaves=16, objective=binary, reg_alpha=1, reg_lambda=1, subsample=0.75, score=0.7015038981408867, total=   0.5s\n",
      "[CV] boosting_type=gbdt, colsample_bytree=0.65, learning_rate=0.005, n_estimators=40, num_leaves=16, objective=binary, reg_alpha=1, reg_lambda=1, subsample=0.75 \n",
      "[CV]  boosting_type=gbdt, colsample_bytree=0.65, learning_rate=0.005, n_estimators=40, num_leaves=16, objective=binary, reg_alpha=1, reg_lambda=1, subsample=0.75, score=0.7038497912485872, total=   0.5s\n",
      "[CV] boosting_type=gbdt, colsample_bytree=0.65, learning_rate=0.005, n_estimators=40, num_leaves=16, objective=binary, reg_alpha=1, reg_lambda=1.2, subsample=0.7 \n",
      "[CV]  boosting_type=gbdt, colsample_bytree=0.65, learning_rate=0.005, n_estimators=40, num_leaves=16, objective=binary, reg_alpha=1, reg_lambda=1.2, subsample=0.7, score=0.6852424228444896, total=   0.5s\n",
      "[CV] boosting_type=gbdt, colsample_bytree=0.65, learning_rate=0.005, n_estimators=40, num_leaves=16, objective=binary, reg_alpha=1, reg_lambda=1.2, subsample=0.7 \n",
      "[CV]  boosting_type=gbdt, colsample_bytree=0.65, learning_rate=0.005, n_estimators=40, num_leaves=16, objective=binary, reg_alpha=1, reg_lambda=1.2, subsample=0.7, score=0.6917931448078609, total=   0.5s\n",
      "[CV] boosting_type=gbdt, colsample_bytree=0.65, learning_rate=0.005, n_estimators=40, num_leaves=16, objective=binary, reg_alpha=1, reg_lambda=1.2, subsample=0.7 \n",
      "[CV]  boosting_type=gbdt, colsample_bytree=0.65, learning_rate=0.005, n_estimators=40, num_leaves=16, objective=binary, reg_alpha=1, reg_lambda=1.2, subsample=0.7, score=0.7015500299856992, total=   0.5s\n",
      "[CV] boosting_type=gbdt, colsample_bytree=0.65, learning_rate=0.005, n_estimators=40, num_leaves=16, objective=binary, reg_alpha=1, reg_lambda=1.2, subsample=0.7 \n",
      "[CV]  boosting_type=gbdt, colsample_bytree=0.65, learning_rate=0.005, n_estimators=40, num_leaves=16, objective=binary, reg_alpha=1, reg_lambda=1.2, subsample=0.7, score=0.7055797753327336, total=   0.5s\n",
      "[CV] boosting_type=gbdt, colsample_bytree=0.65, learning_rate=0.005, n_estimators=40, num_leaves=16, objective=binary, reg_alpha=1, reg_lambda=1.2, subsample=0.75 \n",
      "[CV]  boosting_type=gbdt, colsample_bytree=0.65, learning_rate=0.005, n_estimators=40, num_leaves=16, objective=binary, reg_alpha=1, reg_lambda=1.2, subsample=0.75, score=0.6852424228444896, total=   0.5s\n",
      "[CV] boosting_type=gbdt, colsample_bytree=0.65, learning_rate=0.005, n_estimators=40, num_leaves=16, objective=binary, reg_alpha=1, reg_lambda=1.2, subsample=0.75 \n",
      "[CV]  boosting_type=gbdt, colsample_bytree=0.65, learning_rate=0.005, n_estimators=40, num_leaves=16, objective=binary, reg_alpha=1, reg_lambda=1.2, subsample=0.75, score=0.6917931448078609, total=   0.5s\n",
      "[CV] boosting_type=gbdt, colsample_bytree=0.65, learning_rate=0.005, n_estimators=40, num_leaves=16, objective=binary, reg_alpha=1, reg_lambda=1.2, subsample=0.75 \n",
      "[CV]  boosting_type=gbdt, colsample_bytree=0.65, learning_rate=0.005, n_estimators=40, num_leaves=16, objective=binary, reg_alpha=1, reg_lambda=1.2, subsample=0.75, score=0.7015500299856992, total=   0.5s\n",
      "[CV] boosting_type=gbdt, colsample_bytree=0.65, learning_rate=0.005, n_estimators=40, num_leaves=16, objective=binary, reg_alpha=1, reg_lambda=1.2, subsample=0.75 \n",
      "[CV]  boosting_type=gbdt, colsample_bytree=0.65, learning_rate=0.005, n_estimators=40, num_leaves=16, objective=binary, reg_alpha=1, reg_lambda=1.2, subsample=0.75, score=0.7055797753327336, total=   0.5s\n",
      "[CV] boosting_type=gbdt, colsample_bytree=0.65, learning_rate=0.005, n_estimators=40, num_leaves=16, objective=binary, reg_alpha=1, reg_lambda=1.4, subsample=0.7 \n",
      "[CV]  boosting_type=gbdt, colsample_bytree=0.65, learning_rate=0.005, n_estimators=40, num_leaves=16, objective=binary, reg_alpha=1, reg_lambda=1.4, subsample=0.7, score=0.684988697698021, total=   0.5s\n",
      "[CV] boosting_type=gbdt, colsample_bytree=0.65, learning_rate=0.005, n_estimators=40, num_leaves=16, objective=binary, reg_alpha=1, reg_lambda=1.4, subsample=0.7 \n",
      "[CV]  boosting_type=gbdt, colsample_bytree=0.65, learning_rate=0.005, n_estimators=40, num_leaves=16, objective=binary, reg_alpha=1, reg_lambda=1.4, subsample=0.7, score=0.6922775291783918, total=   0.5s\n",
      "[CV] boosting_type=gbdt, colsample_bytree=0.65, learning_rate=0.005, n_estimators=40, num_leaves=16, objective=binary, reg_alpha=1, reg_lambda=1.4, subsample=0.7 \n",
      "[CV]  boosting_type=gbdt, colsample_bytree=0.65, learning_rate=0.005, n_estimators=40, num_leaves=16, objective=binary, reg_alpha=1, reg_lambda=1.4, subsample=0.7, score=0.7014808322184805, total=   0.5s\n",
      "[CV] boosting_type=gbdt, colsample_bytree=0.65, learning_rate=0.005, n_estimators=40, num_leaves=16, objective=binary, reg_alpha=1, reg_lambda=1.4, subsample=0.7 \n",
      "[CV]  boosting_type=gbdt, colsample_bytree=0.65, learning_rate=0.005, n_estimators=40, num_leaves=16, objective=binary, reg_alpha=1, reg_lambda=1.4, subsample=0.7, score=0.7056951076050101, total=   0.5s\n",
      "[CV] boosting_type=gbdt, colsample_bytree=0.65, learning_rate=0.005, n_estimators=40, num_leaves=16, objective=binary, reg_alpha=1, reg_lambda=1.4, subsample=0.75 \n",
      "[CV]  boosting_type=gbdt, colsample_bytree=0.65, learning_rate=0.005, n_estimators=40, num_leaves=16, objective=binary, reg_alpha=1, reg_lambda=1.4, subsample=0.75, score=0.684988697698021, total=   0.5s\n",
      "[CV] boosting_type=gbdt, colsample_bytree=0.65, learning_rate=0.005, n_estimators=40, num_leaves=16, objective=binary, reg_alpha=1, reg_lambda=1.4, subsample=0.75 \n",
      "[CV]  boosting_type=gbdt, colsample_bytree=0.65, learning_rate=0.005, n_estimators=40, num_leaves=16, objective=binary, reg_alpha=1, reg_lambda=1.4, subsample=0.75, score=0.6922775291783918, total=   0.5s\n",
      "[CV] boosting_type=gbdt, colsample_bytree=0.65, learning_rate=0.005, n_estimators=40, num_leaves=16, objective=binary, reg_alpha=1, reg_lambda=1.4, subsample=0.75 \n",
      "[CV]  boosting_type=gbdt, colsample_bytree=0.65, learning_rate=0.005, n_estimators=40, num_leaves=16, objective=binary, reg_alpha=1, reg_lambda=1.4, subsample=0.75, score=0.7014808322184805, total=   0.5s\n",
      "[CV] boosting_type=gbdt, colsample_bytree=0.65, learning_rate=0.005, n_estimators=40, num_leaves=16, objective=binary, reg_alpha=1, reg_lambda=1.4, subsample=0.75 \n",
      "[CV]  boosting_type=gbdt, colsample_bytree=0.65, learning_rate=0.005, n_estimators=40, num_leaves=16, objective=binary, reg_alpha=1, reg_lambda=1.4, subsample=0.75, score=0.7056951076050101, total=   0.5s\n",
      "[CV] boosting_type=gbdt, colsample_bytree=0.65, learning_rate=0.005, n_estimators=40, num_leaves=16, objective=binary, reg_alpha=1.2, reg_lambda=1, subsample=0.7 \n",
      "[CV]  boosting_type=gbdt, colsample_bytree=0.65, learning_rate=0.005, n_estimators=40, num_leaves=16, objective=binary, reg_alpha=1.2, reg_lambda=1, subsample=0.7, score=0.6852424228444896, total=   0.5s\n",
      "[CV] boosting_type=gbdt, colsample_bytree=0.65, learning_rate=0.005, n_estimators=40, num_leaves=16, objective=binary, reg_alpha=1.2, reg_lambda=1, subsample=0.7 \n",
      "[CV]  boosting_type=gbdt, colsample_bytree=0.65, learning_rate=0.005, n_estimators=40, num_leaves=16, objective=binary, reg_alpha=1.2, reg_lambda=1, subsample=0.7, score=0.6917239470406421, total=   0.5s\n",
      "[CV] boosting_type=gbdt, colsample_bytree=0.65, learning_rate=0.005, n_estimators=40, num_leaves=16, objective=binary, reg_alpha=1.2, reg_lambda=1, subsample=0.7 \n"
     ]
    },
    {
     "name": "stdout",
     "output_type": "stream",
     "text": [
      "[CV]  boosting_type=gbdt, colsample_bytree=0.65, learning_rate=0.005, n_estimators=40, num_leaves=16, objective=binary, reg_alpha=1.2, reg_lambda=1, subsample=0.7, score=0.7015500299856992, total=   0.5s\n",
      "[CV] boosting_type=gbdt, colsample_bytree=0.65, learning_rate=0.005, n_estimators=40, num_leaves=16, objective=binary, reg_alpha=1.2, reg_lambda=1, subsample=0.7 \n",
      "[CV]  boosting_type=gbdt, colsample_bytree=0.65, learning_rate=0.005, n_estimators=40, num_leaves=16, objective=binary, reg_alpha=1.2, reg_lambda=1, subsample=0.7, score=0.7055797753327336, total=   0.5s\n",
      "[CV] boosting_type=gbdt, colsample_bytree=0.65, learning_rate=0.005, n_estimators=40, num_leaves=16, objective=binary, reg_alpha=1.2, reg_lambda=1, subsample=0.75 \n",
      "[CV]  boosting_type=gbdt, colsample_bytree=0.65, learning_rate=0.005, n_estimators=40, num_leaves=16, objective=binary, reg_alpha=1.2, reg_lambda=1, subsample=0.75, score=0.6852424228444896, total=   0.5s\n",
      "[CV] boosting_type=gbdt, colsample_bytree=0.65, learning_rate=0.005, n_estimators=40, num_leaves=16, objective=binary, reg_alpha=1.2, reg_lambda=1, subsample=0.75 \n",
      "[CV]  boosting_type=gbdt, colsample_bytree=0.65, learning_rate=0.005, n_estimators=40, num_leaves=16, objective=binary, reg_alpha=1.2, reg_lambda=1, subsample=0.75, score=0.6917239470406421, total=   0.5s\n",
      "[CV] boosting_type=gbdt, colsample_bytree=0.65, learning_rate=0.005, n_estimators=40, num_leaves=16, objective=binary, reg_alpha=1.2, reg_lambda=1, subsample=0.75 \n",
      "[CV]  boosting_type=gbdt, colsample_bytree=0.65, learning_rate=0.005, n_estimators=40, num_leaves=16, objective=binary, reg_alpha=1.2, reg_lambda=1, subsample=0.75, score=0.7015500299856992, total=   0.5s\n",
      "[CV] boosting_type=gbdt, colsample_bytree=0.65, learning_rate=0.005, n_estimators=40, num_leaves=16, objective=binary, reg_alpha=1.2, reg_lambda=1, subsample=0.75 \n",
      "[CV]  boosting_type=gbdt, colsample_bytree=0.65, learning_rate=0.005, n_estimators=40, num_leaves=16, objective=binary, reg_alpha=1.2, reg_lambda=1, subsample=0.75, score=0.7055797753327336, total=   0.5s\n",
      "[CV] boosting_type=gbdt, colsample_bytree=0.65, learning_rate=0.005, n_estimators=40, num_leaves=16, objective=binary, reg_alpha=1.2, reg_lambda=1.2, subsample=0.7 \n",
      "[CV]  boosting_type=gbdt, colsample_bytree=0.65, learning_rate=0.005, n_estimators=40, num_leaves=16, objective=binary, reg_alpha=1.2, reg_lambda=1.2, subsample=0.7, score=0.6849425658532085, total=   0.5s\n",
      "[CV] boosting_type=gbdt, colsample_bytree=0.65, learning_rate=0.005, n_estimators=40, num_leaves=16, objective=binary, reg_alpha=1.2, reg_lambda=1.2, subsample=0.7 \n",
      "[CV]  boosting_type=gbdt, colsample_bytree=0.65, learning_rate=0.005, n_estimators=40, num_leaves=16, objective=binary, reg_alpha=1.2, reg_lambda=1.2, subsample=0.7, score=0.6922775291783918, total=   0.5s\n",
      "[CV] boosting_type=gbdt, colsample_bytree=0.65, learning_rate=0.005, n_estimators=40, num_leaves=16, objective=binary, reg_alpha=1.2, reg_lambda=1.2, subsample=0.7 \n",
      "[CV]  boosting_type=gbdt, colsample_bytree=0.65, learning_rate=0.005, n_estimators=40, num_leaves=16, objective=binary, reg_alpha=1.2, reg_lambda=1.2, subsample=0.7, score=0.7014808322184805, total=   0.5s\n",
      "[CV] boosting_type=gbdt, colsample_bytree=0.65, learning_rate=0.005, n_estimators=40, num_leaves=16, objective=binary, reg_alpha=1.2, reg_lambda=1.2, subsample=0.7 \n",
      "[CV]  boosting_type=gbdt, colsample_bytree=0.65, learning_rate=0.005, n_estimators=40, num_leaves=16, objective=binary, reg_alpha=1.2, reg_lambda=1.2, subsample=0.7, score=0.7056720411505547, total=   0.5s\n",
      "[CV] boosting_type=gbdt, colsample_bytree=0.65, learning_rate=0.005, n_estimators=40, num_leaves=16, objective=binary, reg_alpha=1.2, reg_lambda=1.2, subsample=0.75 \n",
      "[CV]  boosting_type=gbdt, colsample_bytree=0.65, learning_rate=0.005, n_estimators=40, num_leaves=16, objective=binary, reg_alpha=1.2, reg_lambda=1.2, subsample=0.75, score=0.6849425658532085, total=   0.5s\n",
      "[CV] boosting_type=gbdt, colsample_bytree=0.65, learning_rate=0.005, n_estimators=40, num_leaves=16, objective=binary, reg_alpha=1.2, reg_lambda=1.2, subsample=0.75 \n",
      "[CV]  boosting_type=gbdt, colsample_bytree=0.65, learning_rate=0.005, n_estimators=40, num_leaves=16, objective=binary, reg_alpha=1.2, reg_lambda=1.2, subsample=0.75, score=0.6922775291783918, total=   0.5s\n",
      "[CV] boosting_type=gbdt, colsample_bytree=0.65, learning_rate=0.005, n_estimators=40, num_leaves=16, objective=binary, reg_alpha=1.2, reg_lambda=1.2, subsample=0.75 \n",
      "[CV]  boosting_type=gbdt, colsample_bytree=0.65, learning_rate=0.005, n_estimators=40, num_leaves=16, objective=binary, reg_alpha=1.2, reg_lambda=1.2, subsample=0.75, score=0.7014808322184805, total=   0.5s\n",
      "[CV] boosting_type=gbdt, colsample_bytree=0.65, learning_rate=0.005, n_estimators=40, num_leaves=16, objective=binary, reg_alpha=1.2, reg_lambda=1.2, subsample=0.75 \n",
      "[CV]  boosting_type=gbdt, colsample_bytree=0.65, learning_rate=0.005, n_estimators=40, num_leaves=16, objective=binary, reg_alpha=1.2, reg_lambda=1.2, subsample=0.75, score=0.7056720411505547, total=   0.5s\n",
      "[CV] boosting_type=gbdt, colsample_bytree=0.65, learning_rate=0.005, n_estimators=40, num_leaves=16, objective=binary, reg_alpha=1.2, reg_lambda=1.4, subsample=0.7 \n",
      "[CV]  boosting_type=gbdt, colsample_bytree=0.65, learning_rate=0.005, n_estimators=40, num_leaves=16, objective=binary, reg_alpha=1.2, reg_lambda=1.4, subsample=0.7, score=0.6849425658532085, total=   0.5s\n",
      "[CV] boosting_type=gbdt, colsample_bytree=0.65, learning_rate=0.005, n_estimators=40, num_leaves=16, objective=binary, reg_alpha=1.2, reg_lambda=1.4, subsample=0.7 \n",
      "[CV]  boosting_type=gbdt, colsample_bytree=0.65, learning_rate=0.005, n_estimators=40, num_leaves=16, objective=binary, reg_alpha=1.2, reg_lambda=1.4, subsample=0.7, score=0.6922775291783918, total=   0.5s\n",
      "[CV] boosting_type=gbdt, colsample_bytree=0.65, learning_rate=0.005, n_estimators=40, num_leaves=16, objective=binary, reg_alpha=1.2, reg_lambda=1.4, subsample=0.7 \n",
      "[CV]  boosting_type=gbdt, colsample_bytree=0.65, learning_rate=0.005, n_estimators=40, num_leaves=16, objective=binary, reg_alpha=1.2, reg_lambda=1.4, subsample=0.7, score=0.7014808322184805, total=   0.5s\n",
      "[CV] boosting_type=gbdt, colsample_bytree=0.65, learning_rate=0.005, n_estimators=40, num_leaves=16, objective=binary, reg_alpha=1.2, reg_lambda=1.4, subsample=0.7 \n",
      "[CV]  boosting_type=gbdt, colsample_bytree=0.65, learning_rate=0.005, n_estimators=40, num_leaves=16, objective=binary, reg_alpha=1.2, reg_lambda=1.4, subsample=0.7, score=0.7054413766060019, total=   0.5s\n",
      "[CV] boosting_type=gbdt, colsample_bytree=0.65, learning_rate=0.005, n_estimators=40, num_leaves=16, objective=binary, reg_alpha=1.2, reg_lambda=1.4, subsample=0.75 \n",
      "[CV]  boosting_type=gbdt, colsample_bytree=0.65, learning_rate=0.005, n_estimators=40, num_leaves=16, objective=binary, reg_alpha=1.2, reg_lambda=1.4, subsample=0.75, score=0.6849425658532085, total=   0.5s\n",
      "[CV] boosting_type=gbdt, colsample_bytree=0.65, learning_rate=0.005, n_estimators=40, num_leaves=16, objective=binary, reg_alpha=1.2, reg_lambda=1.4, subsample=0.75 \n",
      "[CV]  boosting_type=gbdt, colsample_bytree=0.65, learning_rate=0.005, n_estimators=40, num_leaves=16, objective=binary, reg_alpha=1.2, reg_lambda=1.4, subsample=0.75, score=0.6922775291783918, total=   0.5s\n",
      "[CV] boosting_type=gbdt, colsample_bytree=0.65, learning_rate=0.005, n_estimators=40, num_leaves=16, objective=binary, reg_alpha=1.2, reg_lambda=1.4, subsample=0.75 \n",
      "[CV]  boosting_type=gbdt, colsample_bytree=0.65, learning_rate=0.005, n_estimators=40, num_leaves=16, objective=binary, reg_alpha=1.2, reg_lambda=1.4, subsample=0.75, score=0.7014808322184805, total=   0.5s\n",
      "[CV] boosting_type=gbdt, colsample_bytree=0.65, learning_rate=0.005, n_estimators=40, num_leaves=16, objective=binary, reg_alpha=1.2, reg_lambda=1.4, subsample=0.75 \n",
      "[CV]  boosting_type=gbdt, colsample_bytree=0.65, learning_rate=0.005, n_estimators=40, num_leaves=16, objective=binary, reg_alpha=1.2, reg_lambda=1.4, subsample=0.75, score=0.7054413766060019, total=   0.5s\n",
      "[CV] boosting_type=gbdt, colsample_bytree=0.66, learning_rate=0.005, n_estimators=40, num_leaves=6, objective=binary, reg_alpha=1, reg_lambda=1, subsample=0.7 \n",
      "[CV]  boosting_type=gbdt, colsample_bytree=0.66, learning_rate=0.005, n_estimators=40, num_leaves=6, objective=binary, reg_alpha=1, reg_lambda=1, subsample=0.7, score=0.656479217603912, total=   0.5s\n",
      "[CV] boosting_type=gbdt, colsample_bytree=0.66, learning_rate=0.005, n_estimators=40, num_leaves=6, objective=binary, reg_alpha=1, reg_lambda=1, subsample=0.7 \n"
     ]
    },
    {
     "name": "stdout",
     "output_type": "stream",
     "text": [
      "[CV]  boosting_type=gbdt, colsample_bytree=0.66, learning_rate=0.005, n_estimators=40, num_leaves=6, objective=binary, reg_alpha=1, reg_lambda=1, subsample=0.7, score=0.6604465562577847, total=   0.5s\n",
      "[CV] boosting_type=gbdt, colsample_bytree=0.66, learning_rate=0.005, n_estimators=40, num_leaves=6, objective=binary, reg_alpha=1, reg_lambda=1, subsample=0.7 \n",
      "[CV]  boosting_type=gbdt, colsample_bytree=0.66, learning_rate=0.005, n_estimators=40, num_leaves=6, objective=binary, reg_alpha=1, reg_lambda=1, subsample=0.7, score=0.6662361027817503, total=   0.5s\n",
      "[CV] boosting_type=gbdt, colsample_bytree=0.66, learning_rate=0.005, n_estimators=40, num_leaves=6, objective=binary, reg_alpha=1, reg_lambda=1, subsample=0.7 \n",
      "[CV]  boosting_type=gbdt, colsample_bytree=0.66, learning_rate=0.005, n_estimators=40, num_leaves=6, objective=binary, reg_alpha=1, reg_lambda=1, subsample=0.7, score=0.661199916960764, total=   0.4s\n",
      "[CV] boosting_type=gbdt, colsample_bytree=0.66, learning_rate=0.005, n_estimators=40, num_leaves=6, objective=binary, reg_alpha=1, reg_lambda=1, subsample=0.75 \n",
      "[CV]  boosting_type=gbdt, colsample_bytree=0.66, learning_rate=0.005, n_estimators=40, num_leaves=6, objective=binary, reg_alpha=1, reg_lambda=1, subsample=0.75, score=0.656479217603912, total=   0.4s\n",
      "[CV] boosting_type=gbdt, colsample_bytree=0.66, learning_rate=0.005, n_estimators=40, num_leaves=6, objective=binary, reg_alpha=1, reg_lambda=1, subsample=0.75 \n",
      "[CV]  boosting_type=gbdt, colsample_bytree=0.66, learning_rate=0.005, n_estimators=40, num_leaves=6, objective=binary, reg_alpha=1, reg_lambda=1, subsample=0.75, score=0.6604465562577847, total=   0.5s\n",
      "[CV] boosting_type=gbdt, colsample_bytree=0.66, learning_rate=0.005, n_estimators=40, num_leaves=6, objective=binary, reg_alpha=1, reg_lambda=1, subsample=0.75 \n",
      "[CV]  boosting_type=gbdt, colsample_bytree=0.66, learning_rate=0.005, n_estimators=40, num_leaves=6, objective=binary, reg_alpha=1, reg_lambda=1, subsample=0.75, score=0.6662361027817503, total=   0.4s\n",
      "[CV] boosting_type=gbdt, colsample_bytree=0.66, learning_rate=0.005, n_estimators=40, num_leaves=6, objective=binary, reg_alpha=1, reg_lambda=1, subsample=0.75 \n",
      "[CV]  boosting_type=gbdt, colsample_bytree=0.66, learning_rate=0.005, n_estimators=40, num_leaves=6, objective=binary, reg_alpha=1, reg_lambda=1, subsample=0.75, score=0.661199916960764, total=   0.5s\n",
      "[CV] boosting_type=gbdt, colsample_bytree=0.66, learning_rate=0.005, n_estimators=40, num_leaves=6, objective=binary, reg_alpha=1, reg_lambda=1.2, subsample=0.7 \n",
      "[CV]  boosting_type=gbdt, colsample_bytree=0.66, learning_rate=0.005, n_estimators=40, num_leaves=6, objective=binary, reg_alpha=1, reg_lambda=1.2, subsample=0.7, score=0.656479217603912, total=   0.4s\n",
      "[CV] boosting_type=gbdt, colsample_bytree=0.66, learning_rate=0.005, n_estimators=40, num_leaves=6, objective=binary, reg_alpha=1, reg_lambda=1.2, subsample=0.7 \n",
      "[CV]  boosting_type=gbdt, colsample_bytree=0.66, learning_rate=0.005, n_estimators=40, num_leaves=6, objective=binary, reg_alpha=1, reg_lambda=1.2, subsample=0.7, score=0.6604465562577847, total=   0.4s\n",
      "[CV] boosting_type=gbdt, colsample_bytree=0.66, learning_rate=0.005, n_estimators=40, num_leaves=6, objective=binary, reg_alpha=1, reg_lambda=1.2, subsample=0.7 \n",
      "[CV]  boosting_type=gbdt, colsample_bytree=0.66, learning_rate=0.005, n_estimators=40, num_leaves=6, objective=binary, reg_alpha=1, reg_lambda=1.2, subsample=0.7, score=0.6662361027817503, total=   0.4s\n",
      "[CV] boosting_type=gbdt, colsample_bytree=0.66, learning_rate=0.005, n_estimators=40, num_leaves=6, objective=binary, reg_alpha=1, reg_lambda=1.2, subsample=0.7 \n",
      "[CV]  boosting_type=gbdt, colsample_bytree=0.66, learning_rate=0.005, n_estimators=40, num_leaves=6, objective=binary, reg_alpha=1, reg_lambda=1.2, subsample=0.7, score=0.661199916960764, total=   0.4s\n",
      "[CV] boosting_type=gbdt, colsample_bytree=0.66, learning_rate=0.005, n_estimators=40, num_leaves=6, objective=binary, reg_alpha=1, reg_lambda=1.2, subsample=0.75 \n",
      "[CV]  boosting_type=gbdt, colsample_bytree=0.66, learning_rate=0.005, n_estimators=40, num_leaves=6, objective=binary, reg_alpha=1, reg_lambda=1.2, subsample=0.75, score=0.656479217603912, total=   0.4s\n",
      "[CV] boosting_type=gbdt, colsample_bytree=0.66, learning_rate=0.005, n_estimators=40, num_leaves=6, objective=binary, reg_alpha=1, reg_lambda=1.2, subsample=0.75 \n",
      "[CV]  boosting_type=gbdt, colsample_bytree=0.66, learning_rate=0.005, n_estimators=40, num_leaves=6, objective=binary, reg_alpha=1, reg_lambda=1.2, subsample=0.75, score=0.6604465562577847, total=   0.4s\n",
      "[CV] boosting_type=gbdt, colsample_bytree=0.66, learning_rate=0.005, n_estimators=40, num_leaves=6, objective=binary, reg_alpha=1, reg_lambda=1.2, subsample=0.75 \n",
      "[CV]  boosting_type=gbdt, colsample_bytree=0.66, learning_rate=0.005, n_estimators=40, num_leaves=6, objective=binary, reg_alpha=1, reg_lambda=1.2, subsample=0.75, score=0.6662361027817503, total=   0.5s\n",
      "[CV] boosting_type=gbdt, colsample_bytree=0.66, learning_rate=0.005, n_estimators=40, num_leaves=6, objective=binary, reg_alpha=1, reg_lambda=1.2, subsample=0.75 \n",
      "[CV]  boosting_type=gbdt, colsample_bytree=0.66, learning_rate=0.005, n_estimators=40, num_leaves=6, objective=binary, reg_alpha=1, reg_lambda=1.2, subsample=0.75, score=0.661199916960764, total=   0.4s\n",
      "[CV] boosting_type=gbdt, colsample_bytree=0.66, learning_rate=0.005, n_estimators=40, num_leaves=6, objective=binary, reg_alpha=1, reg_lambda=1.4, subsample=0.7 \n",
      "[CV]  boosting_type=gbdt, colsample_bytree=0.66, learning_rate=0.005, n_estimators=40, num_leaves=6, objective=binary, reg_alpha=1, reg_lambda=1.4, subsample=0.7, score=0.656479217603912, total=   0.4s\n",
      "[CV] boosting_type=gbdt, colsample_bytree=0.66, learning_rate=0.005, n_estimators=40, num_leaves=6, objective=binary, reg_alpha=1, reg_lambda=1.4, subsample=0.7 \n",
      "[CV]  boosting_type=gbdt, colsample_bytree=0.66, learning_rate=0.005, n_estimators=40, num_leaves=6, objective=binary, reg_alpha=1, reg_lambda=1.4, subsample=0.7, score=0.6604465562577847, total=   0.4s\n",
      "[CV] boosting_type=gbdt, colsample_bytree=0.66, learning_rate=0.005, n_estimators=40, num_leaves=6, objective=binary, reg_alpha=1, reg_lambda=1.4, subsample=0.7 \n",
      "[CV]  boosting_type=gbdt, colsample_bytree=0.66, learning_rate=0.005, n_estimators=40, num_leaves=6, objective=binary, reg_alpha=1, reg_lambda=1.4, subsample=0.7, score=0.6662361027817503, total=   0.5s\n",
      "[CV] boosting_type=gbdt, colsample_bytree=0.66, learning_rate=0.005, n_estimators=40, num_leaves=6, objective=binary, reg_alpha=1, reg_lambda=1.4, subsample=0.7 \n",
      "[CV]  boosting_type=gbdt, colsample_bytree=0.66, learning_rate=0.005, n_estimators=40, num_leaves=6, objective=binary, reg_alpha=1, reg_lambda=1.4, subsample=0.7, score=0.661199916960764, total=   0.4s\n",
      "[CV] boosting_type=gbdt, colsample_bytree=0.66, learning_rate=0.005, n_estimators=40, num_leaves=6, objective=binary, reg_alpha=1, reg_lambda=1.4, subsample=0.75 \n",
      "[CV]  boosting_type=gbdt, colsample_bytree=0.66, learning_rate=0.005, n_estimators=40, num_leaves=6, objective=binary, reg_alpha=1, reg_lambda=1.4, subsample=0.75, score=0.656479217603912, total=   0.5s\n",
      "[CV] boosting_type=gbdt, colsample_bytree=0.66, learning_rate=0.005, n_estimators=40, num_leaves=6, objective=binary, reg_alpha=1, reg_lambda=1.4, subsample=0.75 \n",
      "[CV]  boosting_type=gbdt, colsample_bytree=0.66, learning_rate=0.005, n_estimators=40, num_leaves=6, objective=binary, reg_alpha=1, reg_lambda=1.4, subsample=0.75, score=0.6604465562577847, total=   0.6s\n",
      "[CV] boosting_type=gbdt, colsample_bytree=0.66, learning_rate=0.005, n_estimators=40, num_leaves=6, objective=binary, reg_alpha=1, reg_lambda=1.4, subsample=0.75 \n",
      "[CV]  boosting_type=gbdt, colsample_bytree=0.66, learning_rate=0.005, n_estimators=40, num_leaves=6, objective=binary, reg_alpha=1, reg_lambda=1.4, subsample=0.75, score=0.6662361027817503, total=   0.6s\n",
      "[CV] boosting_type=gbdt, colsample_bytree=0.66, learning_rate=0.005, n_estimators=40, num_leaves=6, objective=binary, reg_alpha=1, reg_lambda=1.4, subsample=0.75 \n",
      "[CV]  boosting_type=gbdt, colsample_bytree=0.66, learning_rate=0.005, n_estimators=40, num_leaves=6, objective=binary, reg_alpha=1, reg_lambda=1.4, subsample=0.75, score=0.661199916960764, total=   0.6s\n",
      "[CV] boosting_type=gbdt, colsample_bytree=0.66, learning_rate=0.005, n_estimators=40, num_leaves=6, objective=binary, reg_alpha=1.2, reg_lambda=1, subsample=0.7 \n"
     ]
    },
    {
     "name": "stdout",
     "output_type": "stream",
     "text": [
      "[CV]  boosting_type=gbdt, colsample_bytree=0.66, learning_rate=0.005, n_estimators=40, num_leaves=6, objective=binary, reg_alpha=1.2, reg_lambda=1, subsample=0.7, score=0.656479217603912, total=   0.6s\n",
      "[CV] boosting_type=gbdt, colsample_bytree=0.66, learning_rate=0.005, n_estimators=40, num_leaves=6, objective=binary, reg_alpha=1.2, reg_lambda=1, subsample=0.7 \n",
      "[CV]  boosting_type=gbdt, colsample_bytree=0.66, learning_rate=0.005, n_estimators=40, num_leaves=6, objective=binary, reg_alpha=1.2, reg_lambda=1, subsample=0.7, score=0.6604465562577847, total=   0.6s\n",
      "[CV] boosting_type=gbdt, colsample_bytree=0.66, learning_rate=0.005, n_estimators=40, num_leaves=6, objective=binary, reg_alpha=1.2, reg_lambda=1, subsample=0.7 \n",
      "[CV]  boosting_type=gbdt, colsample_bytree=0.66, learning_rate=0.005, n_estimators=40, num_leaves=6, objective=binary, reg_alpha=1.2, reg_lambda=1, subsample=0.7, score=0.6662361027817503, total=   0.6s\n",
      "[CV] boosting_type=gbdt, colsample_bytree=0.66, learning_rate=0.005, n_estimators=40, num_leaves=6, objective=binary, reg_alpha=1.2, reg_lambda=1, subsample=0.7 \n",
      "[CV]  boosting_type=gbdt, colsample_bytree=0.66, learning_rate=0.005, n_estimators=40, num_leaves=6, objective=binary, reg_alpha=1.2, reg_lambda=1, subsample=0.7, score=0.661199916960764, total=   0.5s\n",
      "[CV] boosting_type=gbdt, colsample_bytree=0.66, learning_rate=0.005, n_estimators=40, num_leaves=6, objective=binary, reg_alpha=1.2, reg_lambda=1, subsample=0.75 \n",
      "[CV]  boosting_type=gbdt, colsample_bytree=0.66, learning_rate=0.005, n_estimators=40, num_leaves=6, objective=binary, reg_alpha=1.2, reg_lambda=1, subsample=0.75, score=0.656479217603912, total=   0.5s\n",
      "[CV] boosting_type=gbdt, colsample_bytree=0.66, learning_rate=0.005, n_estimators=40, num_leaves=6, objective=binary, reg_alpha=1.2, reg_lambda=1, subsample=0.75 \n",
      "[CV]  boosting_type=gbdt, colsample_bytree=0.66, learning_rate=0.005, n_estimators=40, num_leaves=6, objective=binary, reg_alpha=1.2, reg_lambda=1, subsample=0.75, score=0.6604465562577847, total=   0.6s\n",
      "[CV] boosting_type=gbdt, colsample_bytree=0.66, learning_rate=0.005, n_estimators=40, num_leaves=6, objective=binary, reg_alpha=1.2, reg_lambda=1, subsample=0.75 \n",
      "[CV]  boosting_type=gbdt, colsample_bytree=0.66, learning_rate=0.005, n_estimators=40, num_leaves=6, objective=binary, reg_alpha=1.2, reg_lambda=1, subsample=0.75, score=0.6662361027817503, total=   0.5s\n",
      "[CV] boosting_type=gbdt, colsample_bytree=0.66, learning_rate=0.005, n_estimators=40, num_leaves=6, objective=binary, reg_alpha=1.2, reg_lambda=1, subsample=0.75 \n",
      "[CV]  boosting_type=gbdt, colsample_bytree=0.66, learning_rate=0.005, n_estimators=40, num_leaves=6, objective=binary, reg_alpha=1.2, reg_lambda=1, subsample=0.75, score=0.661199916960764, total=   0.6s\n",
      "[CV] boosting_type=gbdt, colsample_bytree=0.66, learning_rate=0.005, n_estimators=40, num_leaves=6, objective=binary, reg_alpha=1.2, reg_lambda=1.2, subsample=0.7 \n",
      "[CV]  boosting_type=gbdt, colsample_bytree=0.66, learning_rate=0.005, n_estimators=40, num_leaves=6, objective=binary, reg_alpha=1.2, reg_lambda=1.2, subsample=0.7, score=0.656479217603912, total=   0.5s\n",
      "[CV] boosting_type=gbdt, colsample_bytree=0.66, learning_rate=0.005, n_estimators=40, num_leaves=6, objective=binary, reg_alpha=1.2, reg_lambda=1.2, subsample=0.7 \n",
      "[CV]  boosting_type=gbdt, colsample_bytree=0.66, learning_rate=0.005, n_estimators=40, num_leaves=6, objective=binary, reg_alpha=1.2, reg_lambda=1.2, subsample=0.7, score=0.6604465562577847, total=   0.6s\n",
      "[CV] boosting_type=gbdt, colsample_bytree=0.66, learning_rate=0.005, n_estimators=40, num_leaves=6, objective=binary, reg_alpha=1.2, reg_lambda=1.2, subsample=0.7 \n",
      "[CV]  boosting_type=gbdt, colsample_bytree=0.66, learning_rate=0.005, n_estimators=40, num_leaves=6, objective=binary, reg_alpha=1.2, reg_lambda=1.2, subsample=0.7, score=0.6662361027817503, total=   0.5s\n",
      "[CV] boosting_type=gbdt, colsample_bytree=0.66, learning_rate=0.005, n_estimators=40, num_leaves=6, objective=binary, reg_alpha=1.2, reg_lambda=1.2, subsample=0.7 \n",
      "[CV]  boosting_type=gbdt, colsample_bytree=0.66, learning_rate=0.005, n_estimators=40, num_leaves=6, objective=binary, reg_alpha=1.2, reg_lambda=1.2, subsample=0.7, score=0.661199916960764, total=   0.4s\n",
      "[CV] boosting_type=gbdt, colsample_bytree=0.66, learning_rate=0.005, n_estimators=40, num_leaves=6, objective=binary, reg_alpha=1.2, reg_lambda=1.2, subsample=0.75 \n",
      "[CV]  boosting_type=gbdt, colsample_bytree=0.66, learning_rate=0.005, n_estimators=40, num_leaves=6, objective=binary, reg_alpha=1.2, reg_lambda=1.2, subsample=0.75, score=0.656479217603912, total=   0.4s\n",
      "[CV] boosting_type=gbdt, colsample_bytree=0.66, learning_rate=0.005, n_estimators=40, num_leaves=6, objective=binary, reg_alpha=1.2, reg_lambda=1.2, subsample=0.75 \n",
      "[CV]  boosting_type=gbdt, colsample_bytree=0.66, learning_rate=0.005, n_estimators=40, num_leaves=6, objective=binary, reg_alpha=1.2, reg_lambda=1.2, subsample=0.75, score=0.6604465562577847, total=   0.5s\n",
      "[CV] boosting_type=gbdt, colsample_bytree=0.66, learning_rate=0.005, n_estimators=40, num_leaves=6, objective=binary, reg_alpha=1.2, reg_lambda=1.2, subsample=0.75 \n",
      "[CV]  boosting_type=gbdt, colsample_bytree=0.66, learning_rate=0.005, n_estimators=40, num_leaves=6, objective=binary, reg_alpha=1.2, reg_lambda=1.2, subsample=0.75, score=0.6662361027817503, total=   0.5s\n",
      "[CV] boosting_type=gbdt, colsample_bytree=0.66, learning_rate=0.005, n_estimators=40, num_leaves=6, objective=binary, reg_alpha=1.2, reg_lambda=1.2, subsample=0.75 \n",
      "[CV]  boosting_type=gbdt, colsample_bytree=0.66, learning_rate=0.005, n_estimators=40, num_leaves=6, objective=binary, reg_alpha=1.2, reg_lambda=1.2, subsample=0.75, score=0.661199916960764, total=   0.5s\n",
      "[CV] boosting_type=gbdt, colsample_bytree=0.66, learning_rate=0.005, n_estimators=40, num_leaves=6, objective=binary, reg_alpha=1.2, reg_lambda=1.4, subsample=0.7 \n",
      "[CV]  boosting_type=gbdt, colsample_bytree=0.66, learning_rate=0.005, n_estimators=40, num_leaves=6, objective=binary, reg_alpha=1.2, reg_lambda=1.4, subsample=0.7, score=0.656479217603912, total=   0.5s\n",
      "[CV] boosting_type=gbdt, colsample_bytree=0.66, learning_rate=0.005, n_estimators=40, num_leaves=6, objective=binary, reg_alpha=1.2, reg_lambda=1.4, subsample=0.7 \n",
      "[CV]  boosting_type=gbdt, colsample_bytree=0.66, learning_rate=0.005, n_estimators=40, num_leaves=6, objective=binary, reg_alpha=1.2, reg_lambda=1.4, subsample=0.7, score=0.6604465562577847, total=   0.5s\n",
      "[CV] boosting_type=gbdt, colsample_bytree=0.66, learning_rate=0.005, n_estimators=40, num_leaves=6, objective=binary, reg_alpha=1.2, reg_lambda=1.4, subsample=0.7 \n",
      "[CV]  boosting_type=gbdt, colsample_bytree=0.66, learning_rate=0.005, n_estimators=40, num_leaves=6, objective=binary, reg_alpha=1.2, reg_lambda=1.4, subsample=0.7, score=0.6662361027817503, total=   0.5s\n",
      "[CV] boosting_type=gbdt, colsample_bytree=0.66, learning_rate=0.005, n_estimators=40, num_leaves=6, objective=binary, reg_alpha=1.2, reg_lambda=1.4, subsample=0.7 \n",
      "[CV]  boosting_type=gbdt, colsample_bytree=0.66, learning_rate=0.005, n_estimators=40, num_leaves=6, objective=binary, reg_alpha=1.2, reg_lambda=1.4, subsample=0.7, score=0.661199916960764, total=   0.4s\n",
      "[CV] boosting_type=gbdt, colsample_bytree=0.66, learning_rate=0.005, n_estimators=40, num_leaves=6, objective=binary, reg_alpha=1.2, reg_lambda=1.4, subsample=0.75 \n",
      "[CV]  boosting_type=gbdt, colsample_bytree=0.66, learning_rate=0.005, n_estimators=40, num_leaves=6, objective=binary, reg_alpha=1.2, reg_lambda=1.4, subsample=0.75, score=0.656479217603912, total=   0.4s\n",
      "[CV] boosting_type=gbdt, colsample_bytree=0.66, learning_rate=0.005, n_estimators=40, num_leaves=6, objective=binary, reg_alpha=1.2, reg_lambda=1.4, subsample=0.75 \n",
      "[CV]  boosting_type=gbdt, colsample_bytree=0.66, learning_rate=0.005, n_estimators=40, num_leaves=6, objective=binary, reg_alpha=1.2, reg_lambda=1.4, subsample=0.75, score=0.6604465562577847, total=   0.5s\n",
      "[CV] boosting_type=gbdt, colsample_bytree=0.66, learning_rate=0.005, n_estimators=40, num_leaves=6, objective=binary, reg_alpha=1.2, reg_lambda=1.4, subsample=0.75 \n",
      "[CV]  boosting_type=gbdt, colsample_bytree=0.66, learning_rate=0.005, n_estimators=40, num_leaves=6, objective=binary, reg_alpha=1.2, reg_lambda=1.4, subsample=0.75, score=0.6662361027817503, total=   0.5s\n",
      "[CV] boosting_type=gbdt, colsample_bytree=0.66, learning_rate=0.005, n_estimators=40, num_leaves=6, objective=binary, reg_alpha=1.2, reg_lambda=1.4, subsample=0.75 \n"
     ]
    },
    {
     "name": "stdout",
     "output_type": "stream",
     "text": [
      "[CV]  boosting_type=gbdt, colsample_bytree=0.66, learning_rate=0.005, n_estimators=40, num_leaves=6, objective=binary, reg_alpha=1.2, reg_lambda=1.4, subsample=0.75, score=0.661199916960764, total=   0.4s\n",
      "[CV] boosting_type=gbdt, colsample_bytree=0.66, learning_rate=0.005, n_estimators=40, num_leaves=8, objective=binary, reg_alpha=1, reg_lambda=1, subsample=0.7 \n",
      "[CV]  boosting_type=gbdt, colsample_bytree=0.66, learning_rate=0.005, n_estimators=40, num_leaves=8, objective=binary, reg_alpha=1, reg_lambda=1, subsample=0.7, score=0.664067906075564, total=   0.5s\n",
      "[CV] boosting_type=gbdt, colsample_bytree=0.66, learning_rate=0.005, n_estimators=40, num_leaves=8, objective=binary, reg_alpha=1, reg_lambda=1, subsample=0.7 \n",
      "[CV]  boosting_type=gbdt, colsample_bytree=0.66, learning_rate=0.005, n_estimators=40, num_leaves=8, objective=binary, reg_alpha=1, reg_lambda=1, subsample=0.7, score=0.6714490012455598, total=   0.5s\n",
      "[CV] boosting_type=gbdt, colsample_bytree=0.66, learning_rate=0.005, n_estimators=40, num_leaves=8, objective=binary, reg_alpha=1, reg_lambda=1, subsample=0.7 \n",
      "[CV]  boosting_type=gbdt, colsample_bytree=0.66, learning_rate=0.005, n_estimators=40, num_leaves=8, objective=binary, reg_alpha=1, reg_lambda=1, subsample=0.7, score=0.6742630437791207, total=   0.5s\n",
      "[CV] boosting_type=gbdt, colsample_bytree=0.66, learning_rate=0.005, n_estimators=40, num_leaves=8, objective=binary, reg_alpha=1, reg_lambda=1, subsample=0.7 \n",
      "[CV]  boosting_type=gbdt, colsample_bytree=0.66, learning_rate=0.005, n_estimators=40, num_leaves=8, objective=binary, reg_alpha=1, reg_lambda=1, subsample=0.7, score=0.6754319193596752, total=   0.5s\n",
      "[CV] boosting_type=gbdt, colsample_bytree=0.66, learning_rate=0.005, n_estimators=40, num_leaves=8, objective=binary, reg_alpha=1, reg_lambda=1, subsample=0.75 \n",
      "[CV]  boosting_type=gbdt, colsample_bytree=0.66, learning_rate=0.005, n_estimators=40, num_leaves=8, objective=binary, reg_alpha=1, reg_lambda=1, subsample=0.75, score=0.664067906075564, total=   0.5s\n",
      "[CV] boosting_type=gbdt, colsample_bytree=0.66, learning_rate=0.005, n_estimators=40, num_leaves=8, objective=binary, reg_alpha=1, reg_lambda=1, subsample=0.75 \n",
      "[CV]  boosting_type=gbdt, colsample_bytree=0.66, learning_rate=0.005, n_estimators=40, num_leaves=8, objective=binary, reg_alpha=1, reg_lambda=1, subsample=0.75, score=0.6714490012455598, total=   0.5s\n",
      "[CV] boosting_type=gbdt, colsample_bytree=0.66, learning_rate=0.005, n_estimators=40, num_leaves=8, objective=binary, reg_alpha=1, reg_lambda=1, subsample=0.75 \n",
      "[CV]  boosting_type=gbdt, colsample_bytree=0.66, learning_rate=0.005, n_estimators=40, num_leaves=8, objective=binary, reg_alpha=1, reg_lambda=1, subsample=0.75, score=0.6742630437791207, total=   0.5s\n",
      "[CV] boosting_type=gbdt, colsample_bytree=0.66, learning_rate=0.005, n_estimators=40, num_leaves=8, objective=binary, reg_alpha=1, reg_lambda=1, subsample=0.75 \n",
      "[CV]  boosting_type=gbdt, colsample_bytree=0.66, learning_rate=0.005, n_estimators=40, num_leaves=8, objective=binary, reg_alpha=1, reg_lambda=1, subsample=0.75, score=0.6754319193596752, total=   0.5s\n",
      "[CV] boosting_type=gbdt, colsample_bytree=0.66, learning_rate=0.005, n_estimators=40, num_leaves=8, objective=binary, reg_alpha=1, reg_lambda=1.2, subsample=0.7 \n",
      "[CV]  boosting_type=gbdt, colsample_bytree=0.66, learning_rate=0.005, n_estimators=40, num_leaves=8, objective=binary, reg_alpha=1, reg_lambda=1.2, subsample=0.7, score=0.664067906075564, total=   0.5s\n",
      "[CV] boosting_type=gbdt, colsample_bytree=0.66, learning_rate=0.005, n_estimators=40, num_leaves=8, objective=binary, reg_alpha=1, reg_lambda=1.2, subsample=0.7 \n",
      "[CV]  boosting_type=gbdt, colsample_bytree=0.66, learning_rate=0.005, n_estimators=40, num_leaves=8, objective=binary, reg_alpha=1, reg_lambda=1.2, subsample=0.7, score=0.6714490012455598, total=   0.5s\n",
      "[CV] boosting_type=gbdt, colsample_bytree=0.66, learning_rate=0.005, n_estimators=40, num_leaves=8, objective=binary, reg_alpha=1, reg_lambda=1.2, subsample=0.7 \n",
      "[CV]  boosting_type=gbdt, colsample_bytree=0.66, learning_rate=0.005, n_estimators=40, num_leaves=8, objective=binary, reg_alpha=1, reg_lambda=1.2, subsample=0.7, score=0.6742630437791207, total=   0.5s\n",
      "[CV] boosting_type=gbdt, colsample_bytree=0.66, learning_rate=0.005, n_estimators=40, num_leaves=8, objective=binary, reg_alpha=1, reg_lambda=1.2, subsample=0.7 \n",
      "[CV]  boosting_type=gbdt, colsample_bytree=0.66, learning_rate=0.005, n_estimators=40, num_leaves=8, objective=binary, reg_alpha=1, reg_lambda=1.2, subsample=0.7, score=0.6754319193596752, total=   0.5s\n",
      "[CV] boosting_type=gbdt, colsample_bytree=0.66, learning_rate=0.005, n_estimators=40, num_leaves=8, objective=binary, reg_alpha=1, reg_lambda=1.2, subsample=0.75 \n",
      "[CV]  boosting_type=gbdt, colsample_bytree=0.66, learning_rate=0.005, n_estimators=40, num_leaves=8, objective=binary, reg_alpha=1, reg_lambda=1.2, subsample=0.75, score=0.664067906075564, total=   0.5s\n",
      "[CV] boosting_type=gbdt, colsample_bytree=0.66, learning_rate=0.005, n_estimators=40, num_leaves=8, objective=binary, reg_alpha=1, reg_lambda=1.2, subsample=0.75 \n",
      "[CV]  boosting_type=gbdt, colsample_bytree=0.66, learning_rate=0.005, n_estimators=40, num_leaves=8, objective=binary, reg_alpha=1, reg_lambda=1.2, subsample=0.75, score=0.6714490012455598, total=   0.5s\n",
      "[CV] boosting_type=gbdt, colsample_bytree=0.66, learning_rate=0.005, n_estimators=40, num_leaves=8, objective=binary, reg_alpha=1, reg_lambda=1.2, subsample=0.75 \n",
      "[CV]  boosting_type=gbdt, colsample_bytree=0.66, learning_rate=0.005, n_estimators=40, num_leaves=8, objective=binary, reg_alpha=1, reg_lambda=1.2, subsample=0.75, score=0.6742630437791207, total=   0.5s\n",
      "[CV] boosting_type=gbdt, colsample_bytree=0.66, learning_rate=0.005, n_estimators=40, num_leaves=8, objective=binary, reg_alpha=1, reg_lambda=1.2, subsample=0.75 \n",
      "[CV]  boosting_type=gbdt, colsample_bytree=0.66, learning_rate=0.005, n_estimators=40, num_leaves=8, objective=binary, reg_alpha=1, reg_lambda=1.2, subsample=0.75, score=0.6754319193596752, total=   0.5s\n",
      "[CV] boosting_type=gbdt, colsample_bytree=0.66, learning_rate=0.005, n_estimators=40, num_leaves=8, objective=binary, reg_alpha=1, reg_lambda=1.4, subsample=0.7 \n",
      "[CV]  boosting_type=gbdt, colsample_bytree=0.66, learning_rate=0.005, n_estimators=40, num_leaves=8, objective=binary, reg_alpha=1, reg_lambda=1.4, subsample=0.7, score=0.664067906075564, total=   0.5s\n",
      "[CV] boosting_type=gbdt, colsample_bytree=0.66, learning_rate=0.005, n_estimators=40, num_leaves=8, objective=binary, reg_alpha=1, reg_lambda=1.4, subsample=0.7 \n",
      "[CV]  boosting_type=gbdt, colsample_bytree=0.66, learning_rate=0.005, n_estimators=40, num_leaves=8, objective=binary, reg_alpha=1, reg_lambda=1.4, subsample=0.7, score=0.6714490012455598, total=   0.5s\n",
      "[CV] boosting_type=gbdt, colsample_bytree=0.66, learning_rate=0.005, n_estimators=40, num_leaves=8, objective=binary, reg_alpha=1, reg_lambda=1.4, subsample=0.7 \n",
      "[CV]  boosting_type=gbdt, colsample_bytree=0.66, learning_rate=0.005, n_estimators=40, num_leaves=8, objective=binary, reg_alpha=1, reg_lambda=1.4, subsample=0.7, score=0.6742630437791207, total=   0.5s\n",
      "[CV] boosting_type=gbdt, colsample_bytree=0.66, learning_rate=0.005, n_estimators=40, num_leaves=8, objective=binary, reg_alpha=1, reg_lambda=1.4, subsample=0.7 \n",
      "[CV]  boosting_type=gbdt, colsample_bytree=0.66, learning_rate=0.005, n_estimators=40, num_leaves=8, objective=binary, reg_alpha=1, reg_lambda=1.4, subsample=0.7, score=0.6754319193596752, total=   0.5s\n",
      "[CV] boosting_type=gbdt, colsample_bytree=0.66, learning_rate=0.005, n_estimators=40, num_leaves=8, objective=binary, reg_alpha=1, reg_lambda=1.4, subsample=0.75 \n",
      "[CV]  boosting_type=gbdt, colsample_bytree=0.66, learning_rate=0.005, n_estimators=40, num_leaves=8, objective=binary, reg_alpha=1, reg_lambda=1.4, subsample=0.75, score=0.664067906075564, total=   0.5s\n",
      "[CV] boosting_type=gbdt, colsample_bytree=0.66, learning_rate=0.005, n_estimators=40, num_leaves=8, objective=binary, reg_alpha=1, reg_lambda=1.4, subsample=0.75 \n",
      "[CV]  boosting_type=gbdt, colsample_bytree=0.66, learning_rate=0.005, n_estimators=40, num_leaves=8, objective=binary, reg_alpha=1, reg_lambda=1.4, subsample=0.75, score=0.6714490012455598, total=   0.5s\n",
      "[CV] boosting_type=gbdt, colsample_bytree=0.66, learning_rate=0.005, n_estimators=40, num_leaves=8, objective=binary, reg_alpha=1, reg_lambda=1.4, subsample=0.75 \n"
     ]
    },
    {
     "name": "stdout",
     "output_type": "stream",
     "text": [
      "[CV]  boosting_type=gbdt, colsample_bytree=0.66, learning_rate=0.005, n_estimators=40, num_leaves=8, objective=binary, reg_alpha=1, reg_lambda=1.4, subsample=0.75, score=0.6742630437791207, total=   0.5s\n",
      "[CV] boosting_type=gbdt, colsample_bytree=0.66, learning_rate=0.005, n_estimators=40, num_leaves=8, objective=binary, reg_alpha=1, reg_lambda=1.4, subsample=0.75 \n",
      "[CV]  boosting_type=gbdt, colsample_bytree=0.66, learning_rate=0.005, n_estimators=40, num_leaves=8, objective=binary, reg_alpha=1, reg_lambda=1.4, subsample=0.75, score=0.6754319193596752, total=   0.5s\n",
      "[CV] boosting_type=gbdt, colsample_bytree=0.66, learning_rate=0.005, n_estimators=40, num_leaves=8, objective=binary, reg_alpha=1.2, reg_lambda=1, subsample=0.7 \n",
      "[CV]  boosting_type=gbdt, colsample_bytree=0.66, learning_rate=0.005, n_estimators=40, num_leaves=8, objective=binary, reg_alpha=1.2, reg_lambda=1, subsample=0.7, score=0.664067906075564, total=   0.5s\n",
      "[CV] boosting_type=gbdt, colsample_bytree=0.66, learning_rate=0.005, n_estimators=40, num_leaves=8, objective=binary, reg_alpha=1.2, reg_lambda=1, subsample=0.7 \n",
      "[CV]  boosting_type=gbdt, colsample_bytree=0.66, learning_rate=0.005, n_estimators=40, num_leaves=8, objective=binary, reg_alpha=1.2, reg_lambda=1, subsample=0.7, score=0.6714490012455598, total=   0.5s\n",
      "[CV] boosting_type=gbdt, colsample_bytree=0.66, learning_rate=0.005, n_estimators=40, num_leaves=8, objective=binary, reg_alpha=1.2, reg_lambda=1, subsample=0.7 \n",
      "[CV]  boosting_type=gbdt, colsample_bytree=0.66, learning_rate=0.005, n_estimators=40, num_leaves=8, objective=binary, reg_alpha=1.2, reg_lambda=1, subsample=0.7, score=0.6742630437791207, total=   0.5s\n",
      "[CV] boosting_type=gbdt, colsample_bytree=0.66, learning_rate=0.005, n_estimators=40, num_leaves=8, objective=binary, reg_alpha=1.2, reg_lambda=1, subsample=0.7 \n",
      "[CV]  boosting_type=gbdt, colsample_bytree=0.66, learning_rate=0.005, n_estimators=40, num_leaves=8, objective=binary, reg_alpha=1.2, reg_lambda=1, subsample=0.7, score=0.6754319193596752, total=   0.5s\n",
      "[CV] boosting_type=gbdt, colsample_bytree=0.66, learning_rate=0.005, n_estimators=40, num_leaves=8, objective=binary, reg_alpha=1.2, reg_lambda=1, subsample=0.75 \n",
      "[CV]  boosting_type=gbdt, colsample_bytree=0.66, learning_rate=0.005, n_estimators=40, num_leaves=8, objective=binary, reg_alpha=1.2, reg_lambda=1, subsample=0.75, score=0.664067906075564, total=   0.5s\n",
      "[CV] boosting_type=gbdt, colsample_bytree=0.66, learning_rate=0.005, n_estimators=40, num_leaves=8, objective=binary, reg_alpha=1.2, reg_lambda=1, subsample=0.75 \n",
      "[CV]  boosting_type=gbdt, colsample_bytree=0.66, learning_rate=0.005, n_estimators=40, num_leaves=8, objective=binary, reg_alpha=1.2, reg_lambda=1, subsample=0.75, score=0.6714490012455598, total=   0.5s\n",
      "[CV] boosting_type=gbdt, colsample_bytree=0.66, learning_rate=0.005, n_estimators=40, num_leaves=8, objective=binary, reg_alpha=1.2, reg_lambda=1, subsample=0.75 \n",
      "[CV]  boosting_type=gbdt, colsample_bytree=0.66, learning_rate=0.005, n_estimators=40, num_leaves=8, objective=binary, reg_alpha=1.2, reg_lambda=1, subsample=0.75, score=0.6742630437791207, total=   0.5s\n",
      "[CV] boosting_type=gbdt, colsample_bytree=0.66, learning_rate=0.005, n_estimators=40, num_leaves=8, objective=binary, reg_alpha=1.2, reg_lambda=1, subsample=0.75 \n",
      "[CV]  boosting_type=gbdt, colsample_bytree=0.66, learning_rate=0.005, n_estimators=40, num_leaves=8, objective=binary, reg_alpha=1.2, reg_lambda=1, subsample=0.75, score=0.6754319193596752, total=   0.5s\n",
      "[CV] boosting_type=gbdt, colsample_bytree=0.66, learning_rate=0.005, n_estimators=40, num_leaves=8, objective=binary, reg_alpha=1.2, reg_lambda=1.2, subsample=0.7 \n",
      "[CV]  boosting_type=gbdt, colsample_bytree=0.66, learning_rate=0.005, n_estimators=40, num_leaves=8, objective=binary, reg_alpha=1.2, reg_lambda=1.2, subsample=0.7, score=0.664067906075564, total=   0.5s\n",
      "[CV] boosting_type=gbdt, colsample_bytree=0.66, learning_rate=0.005, n_estimators=40, num_leaves=8, objective=binary, reg_alpha=1.2, reg_lambda=1.2, subsample=0.7 \n",
      "[CV]  boosting_type=gbdt, colsample_bytree=0.66, learning_rate=0.005, n_estimators=40, num_leaves=8, objective=binary, reg_alpha=1.2, reg_lambda=1.2, subsample=0.7, score=0.6714490012455598, total=   0.5s\n",
      "[CV] boosting_type=gbdt, colsample_bytree=0.66, learning_rate=0.005, n_estimators=40, num_leaves=8, objective=binary, reg_alpha=1.2, reg_lambda=1.2, subsample=0.7 \n",
      "[CV]  boosting_type=gbdt, colsample_bytree=0.66, learning_rate=0.005, n_estimators=40, num_leaves=8, objective=binary, reg_alpha=1.2, reg_lambda=1.2, subsample=0.7, score=0.6742630437791207, total=   0.5s\n",
      "[CV] boosting_type=gbdt, colsample_bytree=0.66, learning_rate=0.005, n_estimators=40, num_leaves=8, objective=binary, reg_alpha=1.2, reg_lambda=1.2, subsample=0.7 \n",
      "[CV]  boosting_type=gbdt, colsample_bytree=0.66, learning_rate=0.005, n_estimators=40, num_leaves=8, objective=binary, reg_alpha=1.2, reg_lambda=1.2, subsample=0.7, score=0.6754319193596752, total=   0.5s\n",
      "[CV] boosting_type=gbdt, colsample_bytree=0.66, learning_rate=0.005, n_estimators=40, num_leaves=8, objective=binary, reg_alpha=1.2, reg_lambda=1.2, subsample=0.75 \n",
      "[CV]  boosting_type=gbdt, colsample_bytree=0.66, learning_rate=0.005, n_estimators=40, num_leaves=8, objective=binary, reg_alpha=1.2, reg_lambda=1.2, subsample=0.75, score=0.664067906075564, total=   0.5s\n",
      "[CV] boosting_type=gbdt, colsample_bytree=0.66, learning_rate=0.005, n_estimators=40, num_leaves=8, objective=binary, reg_alpha=1.2, reg_lambda=1.2, subsample=0.75 \n",
      "[CV]  boosting_type=gbdt, colsample_bytree=0.66, learning_rate=0.005, n_estimators=40, num_leaves=8, objective=binary, reg_alpha=1.2, reg_lambda=1.2, subsample=0.75, score=0.6714490012455598, total=   0.5s\n",
      "[CV] boosting_type=gbdt, colsample_bytree=0.66, learning_rate=0.005, n_estimators=40, num_leaves=8, objective=binary, reg_alpha=1.2, reg_lambda=1.2, subsample=0.75 \n",
      "[CV]  boosting_type=gbdt, colsample_bytree=0.66, learning_rate=0.005, n_estimators=40, num_leaves=8, objective=binary, reg_alpha=1.2, reg_lambda=1.2, subsample=0.75, score=0.6742630437791207, total=   0.5s\n",
      "[CV] boosting_type=gbdt, colsample_bytree=0.66, learning_rate=0.005, n_estimators=40, num_leaves=8, objective=binary, reg_alpha=1.2, reg_lambda=1.2, subsample=0.75 \n",
      "[CV]  boosting_type=gbdt, colsample_bytree=0.66, learning_rate=0.005, n_estimators=40, num_leaves=8, objective=binary, reg_alpha=1.2, reg_lambda=1.2, subsample=0.75, score=0.6754319193596752, total=   0.5s\n",
      "[CV] boosting_type=gbdt, colsample_bytree=0.66, learning_rate=0.005, n_estimators=40, num_leaves=8, objective=binary, reg_alpha=1.2, reg_lambda=1.4, subsample=0.7 \n",
      "[CV]  boosting_type=gbdt, colsample_bytree=0.66, learning_rate=0.005, n_estimators=40, num_leaves=8, objective=binary, reg_alpha=1.2, reg_lambda=1.4, subsample=0.7, score=0.664067906075564, total=   0.5s\n",
      "[CV] boosting_type=gbdt, colsample_bytree=0.66, learning_rate=0.005, n_estimators=40, num_leaves=8, objective=binary, reg_alpha=1.2, reg_lambda=1.4, subsample=0.7 \n",
      "[CV]  boosting_type=gbdt, colsample_bytree=0.66, learning_rate=0.005, n_estimators=40, num_leaves=8, objective=binary, reg_alpha=1.2, reg_lambda=1.4, subsample=0.7, score=0.6714490012455598, total=   0.5s\n",
      "[CV] boosting_type=gbdt, colsample_bytree=0.66, learning_rate=0.005, n_estimators=40, num_leaves=8, objective=binary, reg_alpha=1.2, reg_lambda=1.4, subsample=0.7 \n",
      "[CV]  boosting_type=gbdt, colsample_bytree=0.66, learning_rate=0.005, n_estimators=40, num_leaves=8, objective=binary, reg_alpha=1.2, reg_lambda=1.4, subsample=0.7, score=0.6742630437791207, total=   0.5s\n",
      "[CV] boosting_type=gbdt, colsample_bytree=0.66, learning_rate=0.005, n_estimators=40, num_leaves=8, objective=binary, reg_alpha=1.2, reg_lambda=1.4, subsample=0.7 \n",
      "[CV]  boosting_type=gbdt, colsample_bytree=0.66, learning_rate=0.005, n_estimators=40, num_leaves=8, objective=binary, reg_alpha=1.2, reg_lambda=1.4, subsample=0.7, score=0.6749013909072037, total=   0.5s\n",
      "[CV] boosting_type=gbdt, colsample_bytree=0.66, learning_rate=0.005, n_estimators=40, num_leaves=8, objective=binary, reg_alpha=1.2, reg_lambda=1.4, subsample=0.75 \n",
      "[CV]  boosting_type=gbdt, colsample_bytree=0.66, learning_rate=0.005, n_estimators=40, num_leaves=8, objective=binary, reg_alpha=1.2, reg_lambda=1.4, subsample=0.75, score=0.664067906075564, total=   0.5s\n",
      "[CV] boosting_type=gbdt, colsample_bytree=0.66, learning_rate=0.005, n_estimators=40, num_leaves=8, objective=binary, reg_alpha=1.2, reg_lambda=1.4, subsample=0.75 \n"
     ]
    },
    {
     "name": "stdout",
     "output_type": "stream",
     "text": [
      "[CV]  boosting_type=gbdt, colsample_bytree=0.66, learning_rate=0.005, n_estimators=40, num_leaves=8, objective=binary, reg_alpha=1.2, reg_lambda=1.4, subsample=0.75, score=0.6714490012455598, total=   0.5s\n",
      "[CV] boosting_type=gbdt, colsample_bytree=0.66, learning_rate=0.005, n_estimators=40, num_leaves=8, objective=binary, reg_alpha=1.2, reg_lambda=1.4, subsample=0.75 \n",
      "[CV]  boosting_type=gbdt, colsample_bytree=0.66, learning_rate=0.005, n_estimators=40, num_leaves=8, objective=binary, reg_alpha=1.2, reg_lambda=1.4, subsample=0.75, score=0.6742630437791207, total=   0.5s\n",
      "[CV] boosting_type=gbdt, colsample_bytree=0.66, learning_rate=0.005, n_estimators=40, num_leaves=8, objective=binary, reg_alpha=1.2, reg_lambda=1.4, subsample=0.75 \n",
      "[CV]  boosting_type=gbdt, colsample_bytree=0.66, learning_rate=0.005, n_estimators=40, num_leaves=8, objective=binary, reg_alpha=1.2, reg_lambda=1.4, subsample=0.75, score=0.6749013909072037, total=   0.4s\n",
      "[CV] boosting_type=gbdt, colsample_bytree=0.66, learning_rate=0.005, n_estimators=40, num_leaves=12, objective=binary, reg_alpha=1, reg_lambda=1, subsample=0.7 \n",
      "[CV]  boosting_type=gbdt, colsample_bytree=0.66, learning_rate=0.005, n_estimators=40, num_leaves=12, objective=binary, reg_alpha=1, reg_lambda=1, subsample=0.7, score=0.6766157678645569, total=   0.5s\n",
      "[CV] boosting_type=gbdt, colsample_bytree=0.66, learning_rate=0.005, n_estimators=40, num_leaves=12, objective=binary, reg_alpha=1, reg_lambda=1, subsample=0.7 \n",
      "[CV]  boosting_type=gbdt, colsample_bytree=0.66, learning_rate=0.005, n_estimators=40, num_leaves=12, objective=binary, reg_alpha=1, reg_lambda=1, subsample=0.7, score=0.6802140517599299, total=   0.5s\n",
      "[CV] boosting_type=gbdt, colsample_bytree=0.66, learning_rate=0.005, n_estimators=40, num_leaves=12, objective=binary, reg_alpha=1, reg_lambda=1, subsample=0.7 \n",
      "[CV]  boosting_type=gbdt, colsample_bytree=0.66, learning_rate=0.005, n_estimators=40, num_leaves=12, objective=binary, reg_alpha=1, reg_lambda=1, subsample=0.7, score=0.6802832495271486, total=   0.5s\n",
      "[CV] boosting_type=gbdt, colsample_bytree=0.66, learning_rate=0.005, n_estimators=40, num_leaves=12, objective=binary, reg_alpha=1, reg_lambda=1, subsample=0.7 \n",
      "[CV]  boosting_type=gbdt, colsample_bytree=0.66, learning_rate=0.005, n_estimators=40, num_leaves=12, objective=binary, reg_alpha=1, reg_lambda=1, subsample=0.7, score=0.6948538740110257, total=   0.5s\n",
      "[CV] boosting_type=gbdt, colsample_bytree=0.66, learning_rate=0.005, n_estimators=40, num_leaves=12, objective=binary, reg_alpha=1, reg_lambda=1, subsample=0.75 \n",
      "[CV]  boosting_type=gbdt, colsample_bytree=0.66, learning_rate=0.005, n_estimators=40, num_leaves=12, objective=binary, reg_alpha=1, reg_lambda=1, subsample=0.75, score=0.6766157678645569, total=   0.5s\n",
      "[CV] boosting_type=gbdt, colsample_bytree=0.66, learning_rate=0.005, n_estimators=40, num_leaves=12, objective=binary, reg_alpha=1, reg_lambda=1, subsample=0.75 \n",
      "[CV]  boosting_type=gbdt, colsample_bytree=0.66, learning_rate=0.005, n_estimators=40, num_leaves=12, objective=binary, reg_alpha=1, reg_lambda=1, subsample=0.75, score=0.6802140517599299, total=   0.5s\n",
      "[CV] boosting_type=gbdt, colsample_bytree=0.66, learning_rate=0.005, n_estimators=40, num_leaves=12, objective=binary, reg_alpha=1, reg_lambda=1, subsample=0.75 \n",
      "[CV]  boosting_type=gbdt, colsample_bytree=0.66, learning_rate=0.005, n_estimators=40, num_leaves=12, objective=binary, reg_alpha=1, reg_lambda=1, subsample=0.75, score=0.6802832495271486, total=   0.5s\n",
      "[CV] boosting_type=gbdt, colsample_bytree=0.66, learning_rate=0.005, n_estimators=40, num_leaves=12, objective=binary, reg_alpha=1, reg_lambda=1, subsample=0.75 \n",
      "[CV]  boosting_type=gbdt, colsample_bytree=0.66, learning_rate=0.005, n_estimators=40, num_leaves=12, objective=binary, reg_alpha=1, reg_lambda=1, subsample=0.75, score=0.6948538740110257, total=   0.5s\n",
      "[CV] boosting_type=gbdt, colsample_bytree=0.66, learning_rate=0.005, n_estimators=40, num_leaves=12, objective=binary, reg_alpha=1, reg_lambda=1.2, subsample=0.7 \n",
      "[CV]  boosting_type=gbdt, colsample_bytree=0.66, learning_rate=0.005, n_estimators=40, num_leaves=12, objective=binary, reg_alpha=1, reg_lambda=1.2, subsample=0.7, score=0.6763159108732758, total=   0.5s\n",
      "[CV] boosting_type=gbdt, colsample_bytree=0.66, learning_rate=0.005, n_estimators=40, num_leaves=12, objective=binary, reg_alpha=1, reg_lambda=1.2, subsample=0.7 \n",
      "[CV]  boosting_type=gbdt, colsample_bytree=0.66, learning_rate=0.005, n_estimators=40, num_leaves=12, objective=binary, reg_alpha=1, reg_lambda=1.2, subsample=0.7, score=0.6802140517599299, total=   0.5s\n",
      "[CV] boosting_type=gbdt, colsample_bytree=0.66, learning_rate=0.005, n_estimators=40, num_leaves=12, objective=binary, reg_alpha=1, reg_lambda=1.2, subsample=0.7 \n",
      "[CV]  boosting_type=gbdt, colsample_bytree=0.66, learning_rate=0.005, n_estimators=40, num_leaves=12, objective=binary, reg_alpha=1, reg_lambda=1.2, subsample=0.7, score=0.6832126216727407, total=   0.5s\n",
      "[CV] boosting_type=gbdt, colsample_bytree=0.66, learning_rate=0.005, n_estimators=40, num_leaves=12, objective=binary, reg_alpha=1, reg_lambda=1.2, subsample=0.7 \n",
      "[CV]  boosting_type=gbdt, colsample_bytree=0.66, learning_rate=0.005, n_estimators=40, num_leaves=12, objective=binary, reg_alpha=1, reg_lambda=1.2, subsample=0.7, score=0.6948538740110257, total=   0.5s\n",
      "[CV] boosting_type=gbdt, colsample_bytree=0.66, learning_rate=0.005, n_estimators=40, num_leaves=12, objective=binary, reg_alpha=1, reg_lambda=1.2, subsample=0.75 \n",
      "[CV]  boosting_type=gbdt, colsample_bytree=0.66, learning_rate=0.005, n_estimators=40, num_leaves=12, objective=binary, reg_alpha=1, reg_lambda=1.2, subsample=0.75, score=0.6763159108732758, total=   0.5s\n",
      "[CV] boosting_type=gbdt, colsample_bytree=0.66, learning_rate=0.005, n_estimators=40, num_leaves=12, objective=binary, reg_alpha=1, reg_lambda=1.2, subsample=0.75 \n",
      "[CV]  boosting_type=gbdt, colsample_bytree=0.66, learning_rate=0.005, n_estimators=40, num_leaves=12, objective=binary, reg_alpha=1, reg_lambda=1.2, subsample=0.75, score=0.6802140517599299, total=   0.5s\n",
      "[CV] boosting_type=gbdt, colsample_bytree=0.66, learning_rate=0.005, n_estimators=40, num_leaves=12, objective=binary, reg_alpha=1, reg_lambda=1.2, subsample=0.75 \n",
      "[CV]  boosting_type=gbdt, colsample_bytree=0.66, learning_rate=0.005, n_estimators=40, num_leaves=12, objective=binary, reg_alpha=1, reg_lambda=1.2, subsample=0.75, score=0.6832126216727407, total=   0.5s\n",
      "[CV] boosting_type=gbdt, colsample_bytree=0.66, learning_rate=0.005, n_estimators=40, num_leaves=12, objective=binary, reg_alpha=1, reg_lambda=1.2, subsample=0.75 \n",
      "[CV]  boosting_type=gbdt, colsample_bytree=0.66, learning_rate=0.005, n_estimators=40, num_leaves=12, objective=binary, reg_alpha=1, reg_lambda=1.2, subsample=0.75, score=0.6948538740110257, total=   0.5s\n",
      "[CV] boosting_type=gbdt, colsample_bytree=0.66, learning_rate=0.005, n_estimators=40, num_leaves=12, objective=binary, reg_alpha=1, reg_lambda=1.4, subsample=0.7 \n",
      "[CV]  boosting_type=gbdt, colsample_bytree=0.66, learning_rate=0.005, n_estimators=40, num_leaves=12, objective=binary, reg_alpha=1, reg_lambda=1.4, subsample=0.7, score=0.676039119804401, total=   0.5s\n",
      "[CV] boosting_type=gbdt, colsample_bytree=0.66, learning_rate=0.005, n_estimators=40, num_leaves=12, objective=binary, reg_alpha=1, reg_lambda=1.4, subsample=0.7 \n",
      "[CV]  boosting_type=gbdt, colsample_bytree=0.66, learning_rate=0.005, n_estimators=40, num_leaves=12, objective=binary, reg_alpha=1, reg_lambda=1.4, subsample=0.7, score=0.6801909858375237, total=   0.5s\n",
      "[CV] boosting_type=gbdt, colsample_bytree=0.66, learning_rate=0.005, n_estimators=40, num_leaves=12, objective=binary, reg_alpha=1, reg_lambda=1.4, subsample=0.7 \n",
      "[CV]  boosting_type=gbdt, colsample_bytree=0.66, learning_rate=0.005, n_estimators=40, num_leaves=12, objective=binary, reg_alpha=1, reg_lambda=1.4, subsample=0.7, score=0.6832126216727407, total=   0.5s\n",
      "[CV] boosting_type=gbdt, colsample_bytree=0.66, learning_rate=0.005, n_estimators=40, num_leaves=12, objective=binary, reg_alpha=1, reg_lambda=1.4, subsample=0.7 \n",
      "[CV]  boosting_type=gbdt, colsample_bytree=0.66, learning_rate=0.005, n_estimators=40, num_leaves=12, objective=binary, reg_alpha=1, reg_lambda=1.4, subsample=0.7, score=0.694715475284294, total=   0.5s\n",
      "[CV] boosting_type=gbdt, colsample_bytree=0.66, learning_rate=0.005, n_estimators=40, num_leaves=12, objective=binary, reg_alpha=1, reg_lambda=1.4, subsample=0.75 \n"
     ]
    },
    {
     "name": "stdout",
     "output_type": "stream",
     "text": [
      "[CV]  boosting_type=gbdt, colsample_bytree=0.66, learning_rate=0.005, n_estimators=40, num_leaves=12, objective=binary, reg_alpha=1, reg_lambda=1.4, subsample=0.75, score=0.676039119804401, total=   0.5s\n",
      "[CV] boosting_type=gbdt, colsample_bytree=0.66, learning_rate=0.005, n_estimators=40, num_leaves=12, objective=binary, reg_alpha=1, reg_lambda=1.4, subsample=0.75 \n",
      "[CV]  boosting_type=gbdt, colsample_bytree=0.66, learning_rate=0.005, n_estimators=40, num_leaves=12, objective=binary, reg_alpha=1, reg_lambda=1.4, subsample=0.75, score=0.6801909858375237, total=   0.5s\n",
      "[CV] boosting_type=gbdt, colsample_bytree=0.66, learning_rate=0.005, n_estimators=40, num_leaves=12, objective=binary, reg_alpha=1, reg_lambda=1.4, subsample=0.75 \n",
      "[CV]  boosting_type=gbdt, colsample_bytree=0.66, learning_rate=0.005, n_estimators=40, num_leaves=12, objective=binary, reg_alpha=1, reg_lambda=1.4, subsample=0.75, score=0.6832126216727407, total=   0.5s\n",
      "[CV] boosting_type=gbdt, colsample_bytree=0.66, learning_rate=0.005, n_estimators=40, num_leaves=12, objective=binary, reg_alpha=1, reg_lambda=1.4, subsample=0.75 \n",
      "[CV]  boosting_type=gbdt, colsample_bytree=0.66, learning_rate=0.005, n_estimators=40, num_leaves=12, objective=binary, reg_alpha=1, reg_lambda=1.4, subsample=0.75, score=0.694715475284294, total=   0.5s\n",
      "[CV] boosting_type=gbdt, colsample_bytree=0.66, learning_rate=0.005, n_estimators=40, num_leaves=12, objective=binary, reg_alpha=1.2, reg_lambda=1, subsample=0.7 \n",
      "[CV]  boosting_type=gbdt, colsample_bytree=0.66, learning_rate=0.005, n_estimators=40, num_leaves=12, objective=binary, reg_alpha=1.2, reg_lambda=1, subsample=0.7, score=0.6763159108732758, total=   0.5s\n",
      "[CV] boosting_type=gbdt, colsample_bytree=0.66, learning_rate=0.005, n_estimators=40, num_leaves=12, objective=binary, reg_alpha=1.2, reg_lambda=1, subsample=0.7 \n",
      "[CV]  boosting_type=gbdt, colsample_bytree=0.66, learning_rate=0.005, n_estimators=40, num_leaves=12, objective=binary, reg_alpha=1.2, reg_lambda=1, subsample=0.7, score=0.6802140517599299, total=   0.5s\n",
      "[CV] boosting_type=gbdt, colsample_bytree=0.66, learning_rate=0.005, n_estimators=40, num_leaves=12, objective=binary, reg_alpha=1.2, reg_lambda=1, subsample=0.7 \n",
      "[CV]  boosting_type=gbdt, colsample_bytree=0.66, learning_rate=0.005, n_estimators=40, num_leaves=12, objective=binary, reg_alpha=1.2, reg_lambda=1, subsample=0.7, score=0.6832126216727407, total=   0.5s\n",
      "[CV] boosting_type=gbdt, colsample_bytree=0.66, learning_rate=0.005, n_estimators=40, num_leaves=12, objective=binary, reg_alpha=1.2, reg_lambda=1, subsample=0.7 \n",
      "[CV]  boosting_type=gbdt, colsample_bytree=0.66, learning_rate=0.005, n_estimators=40, num_leaves=12, objective=binary, reg_alpha=1.2, reg_lambda=1, subsample=0.7, score=0.6948538740110257, total=   0.5s\n",
      "[CV] boosting_type=gbdt, colsample_bytree=0.66, learning_rate=0.005, n_estimators=40, num_leaves=12, objective=binary, reg_alpha=1.2, reg_lambda=1, subsample=0.75 \n",
      "[CV]  boosting_type=gbdt, colsample_bytree=0.66, learning_rate=0.005, n_estimators=40, num_leaves=12, objective=binary, reg_alpha=1.2, reg_lambda=1, subsample=0.75, score=0.6763159108732758, total=   0.5s\n",
      "[CV] boosting_type=gbdt, colsample_bytree=0.66, learning_rate=0.005, n_estimators=40, num_leaves=12, objective=binary, reg_alpha=1.2, reg_lambda=1, subsample=0.75 \n",
      "[CV]  boosting_type=gbdt, colsample_bytree=0.66, learning_rate=0.005, n_estimators=40, num_leaves=12, objective=binary, reg_alpha=1.2, reg_lambda=1, subsample=0.75, score=0.6802140517599299, total=   0.5s\n",
      "[CV] boosting_type=gbdt, colsample_bytree=0.66, learning_rate=0.005, n_estimators=40, num_leaves=12, objective=binary, reg_alpha=1.2, reg_lambda=1, subsample=0.75 \n",
      "[CV]  boosting_type=gbdt, colsample_bytree=0.66, learning_rate=0.005, n_estimators=40, num_leaves=12, objective=binary, reg_alpha=1.2, reg_lambda=1, subsample=0.75, score=0.6832126216727407, total=   0.5s\n",
      "[CV] boosting_type=gbdt, colsample_bytree=0.66, learning_rate=0.005, n_estimators=40, num_leaves=12, objective=binary, reg_alpha=1.2, reg_lambda=1, subsample=0.75 \n",
      "[CV]  boosting_type=gbdt, colsample_bytree=0.66, learning_rate=0.005, n_estimators=40, num_leaves=12, objective=binary, reg_alpha=1.2, reg_lambda=1, subsample=0.75, score=0.6948538740110257, total=   0.5s\n",
      "[CV] boosting_type=gbdt, colsample_bytree=0.66, learning_rate=0.005, n_estimators=40, num_leaves=12, objective=binary, reg_alpha=1.2, reg_lambda=1.2, subsample=0.7 \n",
      "[CV]  boosting_type=gbdt, colsample_bytree=0.66, learning_rate=0.005, n_estimators=40, num_leaves=12, objective=binary, reg_alpha=1.2, reg_lambda=1.2, subsample=0.7, score=0.676039119804401, total=   0.6s\n",
      "[CV] boosting_type=gbdt, colsample_bytree=0.66, learning_rate=0.005, n_estimators=40, num_leaves=12, objective=binary, reg_alpha=1.2, reg_lambda=1.2, subsample=0.7 \n",
      "[CV]  boosting_type=gbdt, colsample_bytree=0.66, learning_rate=0.005, n_estimators=40, num_leaves=12, objective=binary, reg_alpha=1.2, reg_lambda=1.2, subsample=0.7, score=0.6802140517599299, total=   0.5s\n",
      "[CV] boosting_type=gbdt, colsample_bytree=0.66, learning_rate=0.005, n_estimators=40, num_leaves=12, objective=binary, reg_alpha=1.2, reg_lambda=1.2, subsample=0.7 \n",
      "[CV]  boosting_type=gbdt, colsample_bytree=0.66, learning_rate=0.005, n_estimators=40, num_leaves=12, objective=binary, reg_alpha=1.2, reg_lambda=1.2, subsample=0.7, score=0.6832126216727407, total=   0.6s\n",
      "[CV] boosting_type=gbdt, colsample_bytree=0.66, learning_rate=0.005, n_estimators=40, num_leaves=12, objective=binary, reg_alpha=1.2, reg_lambda=1.2, subsample=0.7 \n",
      "[CV]  boosting_type=gbdt, colsample_bytree=0.66, learning_rate=0.005, n_estimators=40, num_leaves=12, objective=binary, reg_alpha=1.2, reg_lambda=1.2, subsample=0.7, score=0.6947616081932046, total=   0.5s\n",
      "[CV] boosting_type=gbdt, colsample_bytree=0.66, learning_rate=0.005, n_estimators=40, num_leaves=12, objective=binary, reg_alpha=1.2, reg_lambda=1.2, subsample=0.75 \n",
      "[CV]  boosting_type=gbdt, colsample_bytree=0.66, learning_rate=0.005, n_estimators=40, num_leaves=12, objective=binary, reg_alpha=1.2, reg_lambda=1.2, subsample=0.75, score=0.676039119804401, total=   0.5s\n",
      "[CV] boosting_type=gbdt, colsample_bytree=0.66, learning_rate=0.005, n_estimators=40, num_leaves=12, objective=binary, reg_alpha=1.2, reg_lambda=1.2, subsample=0.75 \n",
      "[CV]  boosting_type=gbdt, colsample_bytree=0.66, learning_rate=0.005, n_estimators=40, num_leaves=12, objective=binary, reg_alpha=1.2, reg_lambda=1.2, subsample=0.75, score=0.6802140517599299, total=   0.6s\n",
      "[CV] boosting_type=gbdt, colsample_bytree=0.66, learning_rate=0.005, n_estimators=40, num_leaves=12, objective=binary, reg_alpha=1.2, reg_lambda=1.2, subsample=0.75 \n",
      "[CV]  boosting_type=gbdt, colsample_bytree=0.66, learning_rate=0.005, n_estimators=40, num_leaves=12, objective=binary, reg_alpha=1.2, reg_lambda=1.2, subsample=0.75, score=0.6832126216727407, total=   0.5s\n",
      "[CV] boosting_type=gbdt, colsample_bytree=0.66, learning_rate=0.005, n_estimators=40, num_leaves=12, objective=binary, reg_alpha=1.2, reg_lambda=1.2, subsample=0.75 \n",
      "[CV]  boosting_type=gbdt, colsample_bytree=0.66, learning_rate=0.005, n_estimators=40, num_leaves=12, objective=binary, reg_alpha=1.2, reg_lambda=1.2, subsample=0.75, score=0.6947616081932046, total=   0.6s\n",
      "[CV] boosting_type=gbdt, colsample_bytree=0.66, learning_rate=0.005, n_estimators=40, num_leaves=12, objective=binary, reg_alpha=1.2, reg_lambda=1.4, subsample=0.7 \n",
      "[CV]  boosting_type=gbdt, colsample_bytree=0.66, learning_rate=0.005, n_estimators=40, num_leaves=12, objective=binary, reg_alpha=1.2, reg_lambda=1.4, subsample=0.7, score=0.6760160538819947, total=   0.5s\n",
      "[CV] boosting_type=gbdt, colsample_bytree=0.66, learning_rate=0.005, n_estimators=40, num_leaves=12, objective=binary, reg_alpha=1.2, reg_lambda=1.4, subsample=0.7 \n",
      "[CV]  boosting_type=gbdt, colsample_bytree=0.66, learning_rate=0.005, n_estimators=40, num_leaves=12, objective=binary, reg_alpha=1.2, reg_lambda=1.4, subsample=0.7, score=0.6801909858375237, total=   0.5s\n",
      "[CV] boosting_type=gbdt, colsample_bytree=0.66, learning_rate=0.005, n_estimators=40, num_leaves=12, objective=binary, reg_alpha=1.2, reg_lambda=1.4, subsample=0.7 \n",
      "[CV]  boosting_type=gbdt, colsample_bytree=0.66, learning_rate=0.005, n_estimators=40, num_leaves=12, objective=binary, reg_alpha=1.2, reg_lambda=1.4, subsample=0.7, score=0.6822207870092725, total=   0.5s\n",
      "[CV] boosting_type=gbdt, colsample_bytree=0.66, learning_rate=0.005, n_estimators=40, num_leaves=12, objective=binary, reg_alpha=1.2, reg_lambda=1.4, subsample=0.7 \n"
     ]
    },
    {
     "name": "stdout",
     "output_type": "stream",
     "text": [
      "[CV]  boosting_type=gbdt, colsample_bytree=0.66, learning_rate=0.005, n_estimators=40, num_leaves=12, objective=binary, reg_alpha=1.2, reg_lambda=1.4, subsample=0.7, score=0.6949461398288469, total=   0.5s\n",
      "[CV] boosting_type=gbdt, colsample_bytree=0.66, learning_rate=0.005, n_estimators=40, num_leaves=12, objective=binary, reg_alpha=1.2, reg_lambda=1.4, subsample=0.75 \n",
      "[CV]  boosting_type=gbdt, colsample_bytree=0.66, learning_rate=0.005, n_estimators=40, num_leaves=12, objective=binary, reg_alpha=1.2, reg_lambda=1.4, subsample=0.75, score=0.6760160538819947, total=   0.5s\n",
      "[CV] boosting_type=gbdt, colsample_bytree=0.66, learning_rate=0.005, n_estimators=40, num_leaves=12, objective=binary, reg_alpha=1.2, reg_lambda=1.4, subsample=0.75 \n",
      "[CV]  boosting_type=gbdt, colsample_bytree=0.66, learning_rate=0.005, n_estimators=40, num_leaves=12, objective=binary, reg_alpha=1.2, reg_lambda=1.4, subsample=0.75, score=0.6801909858375237, total=   0.5s\n",
      "[CV] boosting_type=gbdt, colsample_bytree=0.66, learning_rate=0.005, n_estimators=40, num_leaves=12, objective=binary, reg_alpha=1.2, reg_lambda=1.4, subsample=0.75 \n",
      "[CV]  boosting_type=gbdt, colsample_bytree=0.66, learning_rate=0.005, n_estimators=40, num_leaves=12, objective=binary, reg_alpha=1.2, reg_lambda=1.4, subsample=0.75, score=0.6822207870092725, total=   0.5s\n",
      "[CV] boosting_type=gbdt, colsample_bytree=0.66, learning_rate=0.005, n_estimators=40, num_leaves=12, objective=binary, reg_alpha=1.2, reg_lambda=1.4, subsample=0.75 \n",
      "[CV]  boosting_type=gbdt, colsample_bytree=0.66, learning_rate=0.005, n_estimators=40, num_leaves=12, objective=binary, reg_alpha=1.2, reg_lambda=1.4, subsample=0.75, score=0.6949461398288469, total=   0.5s\n",
      "[CV] boosting_type=gbdt, colsample_bytree=0.66, learning_rate=0.005, n_estimators=40, num_leaves=16, objective=binary, reg_alpha=1, reg_lambda=1, subsample=0.7 \n",
      "[CV]  boosting_type=gbdt, colsample_bytree=0.66, learning_rate=0.005, n_estimators=40, num_leaves=16, objective=binary, reg_alpha=1, reg_lambda=1, subsample=0.7, score=0.6850578954652397, total=   0.5s\n",
      "[CV] boosting_type=gbdt, colsample_bytree=0.66, learning_rate=0.005, n_estimators=40, num_leaves=16, objective=binary, reg_alpha=1, reg_lambda=1, subsample=0.7 \n",
      "[CV]  boosting_type=gbdt, colsample_bytree=0.66, learning_rate=0.005, n_estimators=40, num_leaves=16, objective=binary, reg_alpha=1, reg_lambda=1, subsample=0.7, score=0.6899017391705494, total=   0.5s\n",
      "[CV] boosting_type=gbdt, colsample_bytree=0.66, learning_rate=0.005, n_estimators=40, num_leaves=16, objective=binary, reg_alpha=1, reg_lambda=1, subsample=0.7 \n",
      "[CV]  boosting_type=gbdt, colsample_bytree=0.66, learning_rate=0.005, n_estimators=40, num_leaves=16, objective=binary, reg_alpha=1, reg_lambda=1, subsample=0.7, score=0.7003736679429811, total=   0.5s\n",
      "[CV] boosting_type=gbdt, colsample_bytree=0.66, learning_rate=0.005, n_estimators=40, num_leaves=16, objective=binary, reg_alpha=1, reg_lambda=1, subsample=0.7 \n",
      "[CV]  boosting_type=gbdt, colsample_bytree=0.66, learning_rate=0.005, n_estimators=40, num_leaves=16, objective=binary, reg_alpha=1, reg_lambda=1, subsample=0.7, score=0.7029040666159204, total=   0.5s\n",
      "[CV] boosting_type=gbdt, colsample_bytree=0.66, learning_rate=0.005, n_estimators=40, num_leaves=16, objective=binary, reg_alpha=1, reg_lambda=1, subsample=0.75 \n",
      "[CV]  boosting_type=gbdt, colsample_bytree=0.66, learning_rate=0.005, n_estimators=40, num_leaves=16, objective=binary, reg_alpha=1, reg_lambda=1, subsample=0.75, score=0.6850578954652397, total=   0.5s\n",
      "[CV] boosting_type=gbdt, colsample_bytree=0.66, learning_rate=0.005, n_estimators=40, num_leaves=16, objective=binary, reg_alpha=1, reg_lambda=1, subsample=0.75 \n",
      "[CV]  boosting_type=gbdt, colsample_bytree=0.66, learning_rate=0.005, n_estimators=40, num_leaves=16, objective=binary, reg_alpha=1, reg_lambda=1, subsample=0.75, score=0.6899017391705494, total=   0.5s\n",
      "[CV] boosting_type=gbdt, colsample_bytree=0.66, learning_rate=0.005, n_estimators=40, num_leaves=16, objective=binary, reg_alpha=1, reg_lambda=1, subsample=0.75 \n",
      "[CV]  boosting_type=gbdt, colsample_bytree=0.66, learning_rate=0.005, n_estimators=40, num_leaves=16, objective=binary, reg_alpha=1, reg_lambda=1, subsample=0.75, score=0.7003736679429811, total=   0.5s\n",
      "[CV] boosting_type=gbdt, colsample_bytree=0.66, learning_rate=0.005, n_estimators=40, num_leaves=16, objective=binary, reg_alpha=1, reg_lambda=1, subsample=0.75 \n",
      "[CV]  boosting_type=gbdt, colsample_bytree=0.66, learning_rate=0.005, n_estimators=40, num_leaves=16, objective=binary, reg_alpha=1, reg_lambda=1, subsample=0.75, score=0.7029040666159204, total=   0.5s\n",
      "[CV] boosting_type=gbdt, colsample_bytree=0.66, learning_rate=0.005, n_estimators=40, num_leaves=16, objective=binary, reg_alpha=1, reg_lambda=1.2, subsample=0.7 \n",
      "[CV]  boosting_type=gbdt, colsample_bytree=0.66, learning_rate=0.005, n_estimators=40, num_leaves=16, objective=binary, reg_alpha=1, reg_lambda=1.2, subsample=0.7, score=0.6850578954652397, total=   0.5s\n",
      "[CV] boosting_type=gbdt, colsample_bytree=0.66, learning_rate=0.005, n_estimators=40, num_leaves=16, objective=binary, reg_alpha=1, reg_lambda=1.2, subsample=0.7 \n",
      "[CV]  boosting_type=gbdt, colsample_bytree=0.66, learning_rate=0.005, n_estimators=40, num_leaves=16, objective=binary, reg_alpha=1, reg_lambda=1.2, subsample=0.7, score=0.6900862665497993, total=   0.5s\n",
      "[CV] boosting_type=gbdt, colsample_bytree=0.66, learning_rate=0.005, n_estimators=40, num_leaves=16, objective=binary, reg_alpha=1, reg_lambda=1.2, subsample=0.7 \n",
      "[CV]  boosting_type=gbdt, colsample_bytree=0.66, learning_rate=0.005, n_estimators=40, num_leaves=16, objective=binary, reg_alpha=1, reg_lambda=1.2, subsample=0.7, score=0.7001660746413249, total=   0.5s\n",
      "[CV] boosting_type=gbdt, colsample_bytree=0.66, learning_rate=0.005, n_estimators=40, num_leaves=16, objective=binary, reg_alpha=1, reg_lambda=1.2, subsample=0.7 \n",
      "[CV]  boosting_type=gbdt, colsample_bytree=0.66, learning_rate=0.005, n_estimators=40, num_leaves=16, objective=binary, reg_alpha=1, reg_lambda=1.2, subsample=0.7, score=0.7018891426198879, total=   0.5s\n",
      "[CV] boosting_type=gbdt, colsample_bytree=0.66, learning_rate=0.005, n_estimators=40, num_leaves=16, objective=binary, reg_alpha=1, reg_lambda=1.2, subsample=0.75 \n",
      "[CV]  boosting_type=gbdt, colsample_bytree=0.66, learning_rate=0.005, n_estimators=40, num_leaves=16, objective=binary, reg_alpha=1, reg_lambda=1.2, subsample=0.75, score=0.6850578954652397, total=   0.5s\n",
      "[CV] boosting_type=gbdt, colsample_bytree=0.66, learning_rate=0.005, n_estimators=40, num_leaves=16, objective=binary, reg_alpha=1, reg_lambda=1.2, subsample=0.75 \n",
      "[CV]  boosting_type=gbdt, colsample_bytree=0.66, learning_rate=0.005, n_estimators=40, num_leaves=16, objective=binary, reg_alpha=1, reg_lambda=1.2, subsample=0.75, score=0.6900862665497993, total=   0.5s\n",
      "[CV] boosting_type=gbdt, colsample_bytree=0.66, learning_rate=0.005, n_estimators=40, num_leaves=16, objective=binary, reg_alpha=1, reg_lambda=1.2, subsample=0.75 \n",
      "[CV]  boosting_type=gbdt, colsample_bytree=0.66, learning_rate=0.005, n_estimators=40, num_leaves=16, objective=binary, reg_alpha=1, reg_lambda=1.2, subsample=0.75, score=0.7001660746413249, total=   0.5s\n",
      "[CV] boosting_type=gbdt, colsample_bytree=0.66, learning_rate=0.005, n_estimators=40, num_leaves=16, objective=binary, reg_alpha=1, reg_lambda=1.2, subsample=0.75 \n",
      "[CV]  boosting_type=gbdt, colsample_bytree=0.66, learning_rate=0.005, n_estimators=40, num_leaves=16, objective=binary, reg_alpha=1, reg_lambda=1.2, subsample=0.75, score=0.7018891426198879, total=   0.5s\n",
      "[CV] boosting_type=gbdt, colsample_bytree=0.66, learning_rate=0.005, n_estimators=40, num_leaves=16, objective=binary, reg_alpha=1, reg_lambda=1.4, subsample=0.7 \n",
      "[CV]  boosting_type=gbdt, colsample_bytree=0.66, learning_rate=0.005, n_estimators=40, num_leaves=16, objective=binary, reg_alpha=1, reg_lambda=1.4, subsample=0.7, score=0.6849425658532085, total=   0.6s\n",
      "[CV] boosting_type=gbdt, colsample_bytree=0.66, learning_rate=0.005, n_estimators=40, num_leaves=16, objective=binary, reg_alpha=1, reg_lambda=1.4, subsample=0.7 \n",
      "[CV]  boosting_type=gbdt, colsample_bytree=0.66, learning_rate=0.005, n_estimators=40, num_leaves=16, objective=binary, reg_alpha=1, reg_lambda=1.4, subsample=0.7, score=0.6899248050929556, total=   0.5s\n",
      "[CV] boosting_type=gbdt, colsample_bytree=0.66, learning_rate=0.005, n_estimators=40, num_leaves=16, objective=binary, reg_alpha=1, reg_lambda=1.4, subsample=0.7 \n"
     ]
    },
    {
     "name": "stdout",
     "output_type": "stream",
     "text": [
      "[CV]  boosting_type=gbdt, colsample_bytree=0.66, learning_rate=0.005, n_estimators=40, num_leaves=16, objective=binary, reg_alpha=1, reg_lambda=1.4, subsample=0.7, score=0.7001891405637312, total=   0.5s\n",
      "[CV] boosting_type=gbdt, colsample_bytree=0.66, learning_rate=0.005, n_estimators=40, num_leaves=16, objective=binary, reg_alpha=1, reg_lambda=1.4, subsample=0.7 \n",
      "[CV]  boosting_type=gbdt, colsample_bytree=0.66, learning_rate=0.005, n_estimators=40, num_leaves=16, objective=binary, reg_alpha=1, reg_lambda=1.4, subsample=0.7, score=0.7021659400733513, total=   0.5s\n",
      "[CV] boosting_type=gbdt, colsample_bytree=0.66, learning_rate=0.005, n_estimators=40, num_leaves=16, objective=binary, reg_alpha=1, reg_lambda=1.4, subsample=0.75 \n",
      "[CV]  boosting_type=gbdt, colsample_bytree=0.66, learning_rate=0.005, n_estimators=40, num_leaves=16, objective=binary, reg_alpha=1, reg_lambda=1.4, subsample=0.75, score=0.6849425658532085, total=   0.5s\n",
      "[CV] boosting_type=gbdt, colsample_bytree=0.66, learning_rate=0.005, n_estimators=40, num_leaves=16, objective=binary, reg_alpha=1, reg_lambda=1.4, subsample=0.75 \n",
      "[CV]  boosting_type=gbdt, colsample_bytree=0.66, learning_rate=0.005, n_estimators=40, num_leaves=16, objective=binary, reg_alpha=1, reg_lambda=1.4, subsample=0.75, score=0.6899248050929556, total=   0.5s\n",
      "[CV] boosting_type=gbdt, colsample_bytree=0.66, learning_rate=0.005, n_estimators=40, num_leaves=16, objective=binary, reg_alpha=1, reg_lambda=1.4, subsample=0.75 \n",
      "[CV]  boosting_type=gbdt, colsample_bytree=0.66, learning_rate=0.005, n_estimators=40, num_leaves=16, objective=binary, reg_alpha=1, reg_lambda=1.4, subsample=0.75, score=0.7001891405637312, total=   0.5s\n",
      "[CV] boosting_type=gbdt, colsample_bytree=0.66, learning_rate=0.005, n_estimators=40, num_leaves=16, objective=binary, reg_alpha=1, reg_lambda=1.4, subsample=0.75 \n",
      "[CV]  boosting_type=gbdt, colsample_bytree=0.66, learning_rate=0.005, n_estimators=40, num_leaves=16, objective=binary, reg_alpha=1, reg_lambda=1.4, subsample=0.75, score=0.7021659400733513, total=   0.5s\n",
      "[CV] boosting_type=gbdt, colsample_bytree=0.66, learning_rate=0.005, n_estimators=40, num_leaves=16, objective=binary, reg_alpha=1.2, reg_lambda=1, subsample=0.7 \n",
      "[CV]  boosting_type=gbdt, colsample_bytree=0.66, learning_rate=0.005, n_estimators=40, num_leaves=16, objective=binary, reg_alpha=1.2, reg_lambda=1, subsample=0.7, score=0.6850578954652397, total=   0.5s\n",
      "[CV] boosting_type=gbdt, colsample_bytree=0.66, learning_rate=0.005, n_estimators=40, num_leaves=16, objective=binary, reg_alpha=1.2, reg_lambda=1, subsample=0.7 \n",
      "[CV]  boosting_type=gbdt, colsample_bytree=0.66, learning_rate=0.005, n_estimators=40, num_leaves=16, objective=binary, reg_alpha=1.2, reg_lambda=1, subsample=0.7, score=0.6900862665497993, total=   0.5s\n",
      "[CV] boosting_type=gbdt, colsample_bytree=0.66, learning_rate=0.005, n_estimators=40, num_leaves=16, objective=binary, reg_alpha=1.2, reg_lambda=1, subsample=0.7 \n",
      "[CV]  boosting_type=gbdt, colsample_bytree=0.66, learning_rate=0.005, n_estimators=40, num_leaves=16, objective=binary, reg_alpha=1.2, reg_lambda=1, subsample=0.7, score=0.7001660746413249, total=   0.5s\n",
      "[CV] boosting_type=gbdt, colsample_bytree=0.66, learning_rate=0.005, n_estimators=40, num_leaves=16, objective=binary, reg_alpha=1.2, reg_lambda=1, subsample=0.7 \n",
      "[CV]  boosting_type=gbdt, colsample_bytree=0.66, learning_rate=0.005, n_estimators=40, num_leaves=16, objective=binary, reg_alpha=1.2, reg_lambda=1, subsample=0.7, score=0.7029271330703758, total=   0.5s\n",
      "[CV] boosting_type=gbdt, colsample_bytree=0.66, learning_rate=0.005, n_estimators=40, num_leaves=16, objective=binary, reg_alpha=1.2, reg_lambda=1, subsample=0.75 \n",
      "[CV]  boosting_type=gbdt, colsample_bytree=0.66, learning_rate=0.005, n_estimators=40, num_leaves=16, objective=binary, reg_alpha=1.2, reg_lambda=1, subsample=0.75, score=0.6850578954652397, total=   0.5s\n",
      "[CV] boosting_type=gbdt, colsample_bytree=0.66, learning_rate=0.005, n_estimators=40, num_leaves=16, objective=binary, reg_alpha=1.2, reg_lambda=1, subsample=0.75 \n",
      "[CV]  boosting_type=gbdt, colsample_bytree=0.66, learning_rate=0.005, n_estimators=40, num_leaves=16, objective=binary, reg_alpha=1.2, reg_lambda=1, subsample=0.75, score=0.6900862665497993, total=   0.5s\n",
      "[CV] boosting_type=gbdt, colsample_bytree=0.66, learning_rate=0.005, n_estimators=40, num_leaves=16, objective=binary, reg_alpha=1.2, reg_lambda=1, subsample=0.75 \n",
      "[CV]  boosting_type=gbdt, colsample_bytree=0.66, learning_rate=0.005, n_estimators=40, num_leaves=16, objective=binary, reg_alpha=1.2, reg_lambda=1, subsample=0.75, score=0.7001660746413249, total=   0.5s\n",
      "[CV] boosting_type=gbdt, colsample_bytree=0.66, learning_rate=0.005, n_estimators=40, num_leaves=16, objective=binary, reg_alpha=1.2, reg_lambda=1, subsample=0.75 \n",
      "[CV]  boosting_type=gbdt, colsample_bytree=0.66, learning_rate=0.005, n_estimators=40, num_leaves=16, objective=binary, reg_alpha=1.2, reg_lambda=1, subsample=0.75, score=0.7029271330703758, total=   0.5s\n",
      "[CV] boosting_type=gbdt, colsample_bytree=0.66, learning_rate=0.005, n_estimators=40, num_leaves=16, objective=binary, reg_alpha=1.2, reg_lambda=1.2, subsample=0.7 \n",
      "[CV]  boosting_type=gbdt, colsample_bytree=0.66, learning_rate=0.005, n_estimators=40, num_leaves=16, objective=binary, reg_alpha=1.2, reg_lambda=1.2, subsample=0.7, score=0.6850578954652397, total=   0.5s\n",
      "[CV] boosting_type=gbdt, colsample_bytree=0.66, learning_rate=0.005, n_estimators=40, num_leaves=16, objective=binary, reg_alpha=1.2, reg_lambda=1.2, subsample=0.7 \n",
      "[CV]  boosting_type=gbdt, colsample_bytree=0.66, learning_rate=0.005, n_estimators=40, num_leaves=16, objective=binary, reg_alpha=1.2, reg_lambda=1.2, subsample=0.7, score=0.6899248050929556, total=   0.5s\n",
      "[CV] boosting_type=gbdt, colsample_bytree=0.66, learning_rate=0.005, n_estimators=40, num_leaves=16, objective=binary, reg_alpha=1.2, reg_lambda=1.2, subsample=0.7 \n",
      "[CV]  boosting_type=gbdt, colsample_bytree=0.66, learning_rate=0.005, n_estimators=40, num_leaves=16, objective=binary, reg_alpha=1.2, reg_lambda=1.2, subsample=0.7, score=0.7001891405637312, total=   0.5s\n",
      "[CV] boosting_type=gbdt, colsample_bytree=0.66, learning_rate=0.005, n_estimators=40, num_leaves=16, objective=binary, reg_alpha=1.2, reg_lambda=1.2, subsample=0.7 \n",
      "[CV]  boosting_type=gbdt, colsample_bytree=0.66, learning_rate=0.005, n_estimators=40, num_leaves=16, objective=binary, reg_alpha=1.2, reg_lambda=1.2, subsample=0.7, score=0.7028118007980994, total=   0.5s\n",
      "[CV] boosting_type=gbdt, colsample_bytree=0.66, learning_rate=0.005, n_estimators=40, num_leaves=16, objective=binary, reg_alpha=1.2, reg_lambda=1.2, subsample=0.75 \n",
      "[CV]  boosting_type=gbdt, colsample_bytree=0.66, learning_rate=0.005, n_estimators=40, num_leaves=16, objective=binary, reg_alpha=1.2, reg_lambda=1.2, subsample=0.75, score=0.6850578954652397, total=   0.5s\n",
      "[CV] boosting_type=gbdt, colsample_bytree=0.66, learning_rate=0.005, n_estimators=40, num_leaves=16, objective=binary, reg_alpha=1.2, reg_lambda=1.2, subsample=0.75 \n",
      "[CV]  boosting_type=gbdt, colsample_bytree=0.66, learning_rate=0.005, n_estimators=40, num_leaves=16, objective=binary, reg_alpha=1.2, reg_lambda=1.2, subsample=0.75, score=0.6899248050929556, total=   0.5s\n",
      "[CV] boosting_type=gbdt, colsample_bytree=0.66, learning_rate=0.005, n_estimators=40, num_leaves=16, objective=binary, reg_alpha=1.2, reg_lambda=1.2, subsample=0.75 \n",
      "[CV]  boosting_type=gbdt, colsample_bytree=0.66, learning_rate=0.005, n_estimators=40, num_leaves=16, objective=binary, reg_alpha=1.2, reg_lambda=1.2, subsample=0.75, score=0.7001891405637312, total=   0.5s\n",
      "[CV] boosting_type=gbdt, colsample_bytree=0.66, learning_rate=0.005, n_estimators=40, num_leaves=16, objective=binary, reg_alpha=1.2, reg_lambda=1.2, subsample=0.75 \n",
      "[CV]  boosting_type=gbdt, colsample_bytree=0.66, learning_rate=0.005, n_estimators=40, num_leaves=16, objective=binary, reg_alpha=1.2, reg_lambda=1.2, subsample=0.75, score=0.7028118007980994, total=   0.5s\n",
      "[CV] boosting_type=gbdt, colsample_bytree=0.66, learning_rate=0.005, n_estimators=40, num_leaves=16, objective=binary, reg_alpha=1.2, reg_lambda=1.4, subsample=0.7 \n",
      "[CV]  boosting_type=gbdt, colsample_bytree=0.66, learning_rate=0.005, n_estimators=40, num_leaves=16, objective=binary, reg_alpha=1.2, reg_lambda=1.4, subsample=0.7, score=0.6849656317756148, total=   0.5s\n",
      "[CV] boosting_type=gbdt, colsample_bytree=0.66, learning_rate=0.005, n_estimators=40, num_leaves=16, objective=binary, reg_alpha=1.2, reg_lambda=1.4, subsample=0.7 \n"
     ]
    },
    {
     "name": "stdout",
     "output_type": "stream",
     "text": [
      "[CV]  boosting_type=gbdt, colsample_bytree=0.66, learning_rate=0.005, n_estimators=40, num_leaves=16, objective=binary, reg_alpha=1.2, reg_lambda=1.4, subsample=0.7, score=0.6894404207224247, total=   0.5s\n",
      "[CV] boosting_type=gbdt, colsample_bytree=0.66, learning_rate=0.005, n_estimators=40, num_leaves=16, objective=binary, reg_alpha=1.2, reg_lambda=1.4, subsample=0.7 \n",
      "[CV]  boosting_type=gbdt, colsample_bytree=0.66, learning_rate=0.005, n_estimators=40, num_leaves=16, objective=binary, reg_alpha=1.2, reg_lambda=1.4, subsample=0.7, score=0.7003044701757624, total=   0.5s\n",
      "[CV] boosting_type=gbdt, colsample_bytree=0.66, learning_rate=0.005, n_estimators=40, num_leaves=16, objective=binary, reg_alpha=1.2, reg_lambda=1.4, subsample=0.7 \n",
      "[CV]  boosting_type=gbdt, colsample_bytree=0.66, learning_rate=0.005, n_estimators=40, num_leaves=16, objective=binary, reg_alpha=1.2, reg_lambda=1.4, subsample=0.7, score=0.7031347311604733, total=   0.5s\n",
      "[CV] boosting_type=gbdt, colsample_bytree=0.66, learning_rate=0.005, n_estimators=40, num_leaves=16, objective=binary, reg_alpha=1.2, reg_lambda=1.4, subsample=0.75 \n",
      "[CV]  boosting_type=gbdt, colsample_bytree=0.66, learning_rate=0.005, n_estimators=40, num_leaves=16, objective=binary, reg_alpha=1.2, reg_lambda=1.4, subsample=0.75, score=0.6849656317756148, total=   0.5s\n",
      "[CV] boosting_type=gbdt, colsample_bytree=0.66, learning_rate=0.005, n_estimators=40, num_leaves=16, objective=binary, reg_alpha=1.2, reg_lambda=1.4, subsample=0.75 \n",
      "[CV]  boosting_type=gbdt, colsample_bytree=0.66, learning_rate=0.005, n_estimators=40, num_leaves=16, objective=binary, reg_alpha=1.2, reg_lambda=1.4, subsample=0.75, score=0.6894404207224247, total=   0.5s\n",
      "[CV] boosting_type=gbdt, colsample_bytree=0.66, learning_rate=0.005, n_estimators=40, num_leaves=16, objective=binary, reg_alpha=1.2, reg_lambda=1.4, subsample=0.75 \n",
      "[CV]  boosting_type=gbdt, colsample_bytree=0.66, learning_rate=0.005, n_estimators=40, num_leaves=16, objective=binary, reg_alpha=1.2, reg_lambda=1.4, subsample=0.75, score=0.7003044701757624, total=   0.5s\n",
      "[CV] boosting_type=gbdt, colsample_bytree=0.66, learning_rate=0.005, n_estimators=40, num_leaves=16, objective=binary, reg_alpha=1.2, reg_lambda=1.4, subsample=0.75 \n",
      "[CV]  boosting_type=gbdt, colsample_bytree=0.66, learning_rate=0.005, n_estimators=40, num_leaves=16, objective=binary, reg_alpha=1.2, reg_lambda=1.4, subsample=0.75, score=0.7031347311604733, total=   0.5s\n"
     ]
    },
    {
     "name": "stderr",
     "output_type": "stream",
     "text": [
      "[Parallel(n_jobs=1)]: Done 384 out of 384 | elapsed:  3.9min finished\n"
     ]
    },
    {
     "data": {
      "text/plain": [
       "GridSearchCV(cv=4, error_score='raise-deprecating',\n",
       "       estimator=LGBMClassifier(boosting_type='gbdt', class_weight=None, colsample_bytree=1.0,\n",
       "        importance_type='split', learning_rate=0.1, max_depth=-1,\n",
       "        min_child_samples=20, min_child_weight=0.001, min_split_gain=0.0,\n",
       "        n_estimators=100, n_jobs=-1, num_leaves=31, objective=None,\n",
       "        random_state=None, reg_alpha=0.0, reg_lambda=0.0, silent=True,\n",
       "        subsample=1.0, subsample_for_bin=200000, subsample_freq=0),\n",
       "       fit_params=None, iid='warn', n_jobs=None,\n",
       "       param_grid={'learning_rate': [0.005], 'n_estimators': [40], 'num_leaves': [6, 8, 12, 16], 'boosting_type': ['gbdt'], 'objective': ['binary'], 'colsample_bytree': [0.65, 0.66], 'subsample': [0.7, 0.75], 'reg_alpha': [1, 1.2], 'reg_lambda': [1, 1.2, 1.4]},\n",
       "       pre_dispatch='2*n_jobs', refit=True, return_train_score='warn',\n",
       "       scoring=None, verbose=10)"
      ]
     },
     "execution_count": 27,
     "metadata": {},
     "output_type": "execute_result"
    }
   ],
   "source": [
    "gs.fit(x_train_sample, y_train_sample)"
   ]
  },
  {
   "cell_type": "code",
   "execution_count": null,
   "metadata": {},
   "outputs": [],
   "source": []
  }
 ],
 "metadata": {
  "kernelspec": {
   "display_name": "Python 3",
   "language": "python",
   "name": "python3"
  },
  "language_info": {
   "codemirror_mode": {
    "name": "ipython",
    "version": 3
   },
   "file_extension": ".py",
   "mimetype": "text/x-python",
   "name": "python",
   "nbconvert_exporter": "python",
   "pygments_lexer": "ipython3",
   "version": "3.6.5"
  }
 },
 "nbformat": 4,
 "nbformat_minor": 2
}
