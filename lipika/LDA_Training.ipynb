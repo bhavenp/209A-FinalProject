{
 "cells": [
  {
   "cell_type": "code",
   "execution_count": 1,
   "metadata": {},
   "outputs": [],
   "source": [
    "import numpy as np\n",
    "import pandas as pd\n",
    "import matplotlib\n",
    "import matplotlib.pyplot as plt\n",
    "%matplotlib inline\n",
    "import seaborn as sns\n",
    "sns.set()\n",
    "from sklearn.model_selection import train_test_split\n",
    "from sklearn.model_selection import cross_val_score\n",
    "from sklearn.metrics import accuracy_score\n",
    "from sklearn import preprocessing\n",
    "from sklearn.pipeline import make_pipeline\n",
    "from sklearn.pipeline import Pipeline\n",
    "from sklearn.discriminant_analysis import QuadraticDiscriminantAnalysis\n",
    "from sklearn.discriminant_analysis import LinearDiscriminantAnalysis\n",
    "\n",
    "from sklearn.preprocessing import PolynomialFeatures\n",
    "from imblearn.over_sampling import SMOTE\n",
    "import pickle\n",
    "from sklearn.metrics import roc_auc_score"
   ]
  },
  {
   "cell_type": "code",
   "execution_count": 2,
   "metadata": {},
   "outputs": [],
   "source": [
    "data_train = pd.read_csv(\"cleaned_2013_14\", low_memory = False);\n",
    "data_test = pd.read_csv(\"cleaned_2015\", low_memory = False);"
   ]
  },
  {
   "cell_type": "code",
   "execution_count": 3,
   "metadata": {},
   "outputs": [
    {
     "data": {
      "text/plain": [
       "array([ True,  True,  True,  True,  True,  True,  True,  True,  True,\n",
       "        True,  True,  True,  True,  True,  True,  True,  True,  True,\n",
       "        True,  True,  True,  True,  True,  True,  True,  True,  True,\n",
       "        True,  True,  True,  True,  True,  True,  True,  True,  True,\n",
       "        True,  True,  True,  True,  True,  True,  True,  True,  True,\n",
       "        True,  True,  True,  True,  True])"
      ]
     },
     "execution_count": 3,
     "metadata": {},
     "output_type": "execute_result"
    }
   ],
   "source": [
    "data_test = data_test.dropna()\n",
    "data_test.columns == data_train.columns"
   ]
  },
  {
   "cell_type": "code",
   "execution_count": 4,
   "metadata": {},
   "outputs": [],
   "source": [
    "def split_data(df, cols):\n",
    "    x = df.drop(cols, axis = 1)\n",
    "    y = df.paid\n",
    "    return x, y\n",
    "\n",
    "cols_to_drop_training = ['loan_status', 'paid', 'amnt', 'total_pymnt', 'term_adj', 'zip_code']\n",
    "x_train_initial, y_train_initial = split_data(data_train, cols_to_drop_training)\n",
    "x_test, y_test = split_data(data_test, cols_to_drop_training)"
   ]
  },
  {
   "cell_type": "code",
   "execution_count": 5,
   "metadata": {},
   "outputs": [],
   "source": [
    "sm = SMOTE(random_state=1, ratio = 1.0)\n",
    "x_train, y_train = sm.fit_sample(x_train_initial, y_train_initial)"
   ]
  },
  {
   "cell_type": "code",
   "execution_count": 6,
   "metadata": {},
   "outputs": [
    {
     "data": {
      "text/plain": [
       "((578050, 44), (346843, 44))"
      ]
     },
     "execution_count": 6,
     "metadata": {},
     "output_type": "execute_result"
    }
   ],
   "source": [
    "x_train.shape, x_test.shape"
   ]
  },
  {
   "cell_type": "code",
   "execution_count": 7,
   "metadata": {},
   "outputs": [
    {
     "name": "stderr",
     "output_type": "stream",
     "text": [
      "/usr/local/lib/python2.7/site-packages/sklearn/discriminant_analysis.py:388: UserWarning: Variables are collinear.\n",
      "  warnings.warn(\"Variables are collinear.\")\n"
     ]
    }
   ],
   "source": [
    "# Use Pipeline instead of make_pipeline to do grid search\n",
    "pipe = Pipeline([('POLY', PolynomialFeatures(degree=2, include_bias=False)),\n",
    "            ('LDA',LinearDiscriminantAnalysis())])\n",
    "\n",
    "lda = pipe.fit(x_train, y_train)"
   ]
  },
  {
   "cell_type": "code",
   "execution_count": null,
   "metadata": {},
   "outputs": [],
   "source": []
  },
  {
   "cell_type": "code",
   "execution_count": 8,
   "metadata": {},
   "outputs": [
    {
     "name": "stdout",
     "output_type": "stream",
     "text": [
      "('train accuracy: ', 0.49749156647348847)\n",
      "('test accuracy: ', 0.47518617933762536)\n",
      "('Train ROC AUC: ', 0.49749042243431263)\n",
      "('Test  ROC AUC: ', 0.4886904936188663)\n"
     ]
    }
   ],
   "source": [
    "## Predict\n",
    "train_predictions = lda.predict(x_train)\n",
    "test_predictions = lda.predict(x_test)\n",
    "\n",
    "## Accuracy Score\n",
    "train_score = lda.score(x_train, y_train)\n",
    "test_score = lda.score(x_test, y_test)\n",
    "\n",
    "print(\"train accuracy: \", train_score)\n",
    "print(\"test accuracy: \", test_score)\n",
    "\n",
    "## AUC\n",
    "train_predictions_class = np.where(train_predictions > 0.5, 1, 0)\n",
    "test_predictions_class = np.where(test_predictions > 0.5, 1, 0)\n",
    "\n",
    "print('Train ROC AUC: ', roc_auc_score(train_predictions_class, y_train))\n",
    "print('Test  ROC AUC: ', roc_auc_score(test_predictions_class, y_test))"
   ]
  },
  {
   "cell_type": "code",
   "execution_count": 10,
   "metadata": {},
   "outputs": [],
   "source": [
    "# Dump the trained decision tree classifier with Pickle\n",
    "pkl_filename = 'LDA.pkl'\n",
    "\n",
    "# Open the file to save as pkl file\n",
    "model_pkl = open(pkl_filename, 'wb')\n",
    "pickle.dump(lda, model_pkl)\n",
    "\n",
    "# Close the pickle instances\n",
    "model_pkl.close()"
   ]
  },
  {
   "cell_type": "markdown",
   "metadata": {},
   "source": []
  },
  {
   "cell_type": "code",
   "execution_count": 9,
   "metadata": {},
   "outputs": [
    {
     "name": "stderr",
     "output_type": "stream",
     "text": [
      "/usr/local/lib/python2.7/site-packages/sklearn/discriminant_analysis.py:692: UserWarning: Variables are collinear\n",
      "  warnings.warn(\"Variables are collinear\")\n"
     ]
    }
   ],
   "source": [
    "# Use Pipeline instead of make_pipeline to do grid search\n",
    "pipe = Pipeline([('POLY', PolynomialFeatures(degree=2, include_bias=False)),\n",
    "            ('QDA',QuadraticDiscriminantAnalysis())])\n",
    "\n",
    "qda = pipe.fit(x_train, y_train)"
   ]
  },
  {
   "cell_type": "code",
   "execution_count": 10,
   "metadata": {},
   "outputs": [
    {
     "name": "stdout",
     "output_type": "stream",
     "text": [
      "('train accuracy: ', 0.5346873107862642)\n",
      "('test accuracy: ', 0.7777207555003273)\n",
      "('Train ROC AUC: ', 0.7578184100689117)\n",
      "('Test  ROC AUC: ', 0.7923243598837394)\n"
     ]
    }
   ],
   "source": [
    "## Predict\n",
    "train_predictions = qda.predict(x_train)\n",
    "test_predictions = qda.predict(x_test)\n",
    "\n",
    "## Accuracy Score\n",
    "train_score = qda.score(x_train, y_train)\n",
    "test_score = qda.score(x_test, y_test)\n",
    "\n",
    "print(\"train accuracy: \", train_score)\n",
    "print(\"test accuracy: \", test_score)\n",
    "\n",
    "## AUC\n",
    "train_predictions_class = np.where(train_predictions > 0.5, 1, 0)\n",
    "test_predictions_class = np.where(test_predictions > 0.5, 1, 0)\n",
    "\n",
    "print('Train ROC AUC: ', roc_auc_score(train_predictions_class, y_train))\n",
    "print('Test  ROC AUC: ', roc_auc_score(test_predictions_class, y_test))"
   ]
  },
  {
   "cell_type": "code",
   "execution_count": 11,
   "metadata": {},
   "outputs": [],
   "source": [
    "# Dump the trained decision tree classifier with Pickle\n",
    "pkl_filename = 'QDA.pkl'\n",
    "\n",
    "# Open the file to save as pkl file\n",
    "model_pkl = open(pkl_filename, 'wb')\n",
    "pickle.dump(qda, model_pkl)\n",
    "\n",
    "# Close the pickle instances\n",
    "model_pkl.close()"
   ]
  },
  {
   "cell_type": "code",
   "execution_count": null,
   "metadata": {},
   "outputs": [],
   "source": []
  }
 ],
 "metadata": {
  "kernelspec": {
   "display_name": "Python 3",
   "language": "python",
   "name": "python3"
  },
  "language_info": {
   "codemirror_mode": {
    "name": "ipython",
    "version": 3
   },
   "file_extension": ".py",
   "mimetype": "text/x-python",
   "name": "python",
   "nbconvert_exporter": "python",
   "pygments_lexer": "ipython3",
   "version": "3.7.0"
  }
 },
 "nbformat": 4,
 "nbformat_minor": 2
}
