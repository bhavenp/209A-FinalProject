{
 "cells": [
  {
   "cell_type": "code",
   "execution_count": 2,
   "metadata": {},
   "outputs": [],
   "source": [
    "import numpy as np\n",
    "import pandas as pd\n",
    "# import matplotlib\n",
    "# import matplotlib.pyplot as plt\n",
    "%matplotlib inline\n",
    "import seaborn as sns\n",
    "sns.set()\n",
    "from sklearn import preprocessing"
   ]
  },
  {
   "cell_type": "code",
   "execution_count": 31,
   "metadata": {},
   "outputs": [],
   "source": [
    "data_2013 = pd.read_csv(\"../data/2012_13_loan_data/LoanStats3b.csv\", low_memory = False, encoding='latin-1')\n",
    "data_a_2014 = pd.read_csv(\"../data/2014_loan_data/LoanStats_2014_A.csv\", low_memory = False);\n",
    "data_b_2014 = pd.read_csv(\"../data/2014_loan_data/LoanStats_2014_B.csv\", low_memory = False);\n",
    "data_c_2014 = pd.read_csv(\"../data/2014_loan_data/LoanStats_2014_C.csv\", low_memory = False);\n",
    "data_d_2014 = pd.read_csv(\"../data/2014_loan_data/LoanStats_2014_D.csv\", low_memory = False);"
   ]
  },
  {
   "cell_type": "code",
   "execution_count": 32,
   "metadata": {},
   "outputs": [],
   "source": [
    "data_train = pd.concat([data_a_2014, data_b_2014, data_c_2014, data_d_2014, data_2013], ignore_index=True)"
   ]
  },
  {
   "cell_type": "code",
   "execution_count": 33,
   "metadata": {},
   "outputs": [
    {
     "data": {
      "text/plain": [
       "(370443, 145)"
      ]
     },
     "execution_count": 33,
     "metadata": {},
     "output_type": "execute_result"
    }
   ],
   "source": [
    "(data_train).shape"
   ]
  },
  {
   "cell_type": "code",
   "execution_count": 34,
   "metadata": {},
   "outputs": [
    {
     "data": {
      "text/plain": [
       "0"
      ]
     },
     "execution_count": 34,
     "metadata": {},
     "output_type": "execute_result"
    }
   ],
   "source": [
    "## checking for policy code 2\n",
    "sum(data_train.policy_code == 2)"
   ]
  },
  {
   "cell_type": "code",
   "execution_count": 35,
   "metadata": {},
   "outputs": [
    {
     "data": {
      "text/plain": [
       "{'ANY', 'MORTGAGE', 'OWN', 'RENT'}"
      ]
     },
     "execution_count": 35,
     "metadata": {},
     "output_type": "execute_result"
    }
   ],
   "source": [
    "set(data_train.home_ownership)"
   ]
  },
  {
   "cell_type": "code",
   "execution_count": 36,
   "metadata": {},
   "outputs": [],
   "source": [
    "def format_revol(val):\n",
    "    percent = val[:-1]\n",
    "    return float(percent)/100\n",
    "\n",
    "def format_interest(val):\n",
    "    percent = val[:-1]\n",
    "    return float(percent)/100\n",
    "\n",
    "def format_term(val):\n",
    "    term = val[1:3]\n",
    "    return float(term)/12"
   ]
  },
  {
   "cell_type": "code",
   "execution_count": 37,
   "metadata": {},
   "outputs": [],
   "source": [
    "def initial_model(df, columns, columns_to_encode, columns_to_normalize):\n",
    "    min_max_scaler = preprocessing.MinMaxScaler()\n",
    "    new_df = df.copy()\n",
    "    new_df = new_df[columns]\n",
    "    new_df = pd.get_dummies(new_df, columns = columns_to_encode)\n",
    "    new_df['amnt'] = new_df['funded_amnt']\n",
    "    new_df[columns_to_normalize] = min_max_scaler.fit_transform(new_df[columns_to_normalize])\n",
    "    return new_df\n",
    "\n",
    "def clean_data(old_df):\n",
    "    df = old_df.copy()\n",
    "    columns_to_drop = ['id', 'member_id', 'emp_title']\n",
    "    df = df.drop(columns_to_drop, axis = 1)\n",
    "    \n",
    "    cols = ['funded_amnt', 'emp_length', 'home_ownership', 'int_rate', 'purpose', 'total_pymnt',\n",
    "        'annual_inc', 'verification_status', 'dti', 'loan_status', 'revol_util', 'grade', 'term']\n",
    "    cols_encode = ['emp_length', 'home_ownership', 'verification_status', 'grade', 'purpose']\n",
    "    cols_normalize = ['funded_amnt', 'annual_inc', 'dti']\n",
    "    \n",
    "    df = initial_model(df, cols, cols_encode, cols_normalize)\n",
    "    \n",
    "    df['term'] = df['term'].map(format_term, na_action = 'ignore')\n",
    "    df['int_rate'] = df['int_rate'].map(format_interest, na_action='ignore')\n",
    "    df['revol_util'] = df['revol_util'].map(format_revol, na_action='ignore')\n",
    "    \n",
    "    df[df['revol_util'].isnull()] = np.mean(df['revol_util'])\n",
    "    df[df['int_rate'].isnull()] = np.mean(df['int_rate'])\n",
    "    df = df[df.loan_status != 'Current']\n",
    "    \n",
    "    df['paid'] = 1;\n",
    "    df.loc[df.loan_status == 'Fully Paid', 'paid'] = 0;\n",
    "    \n",
    "    return df"
   ]
  },
  {
   "cell_type": "code",
   "execution_count": 39,
   "metadata": {},
   "outputs": [
    {
     "name": "stderr",
     "output_type": "stream",
     "text": [
      "/anaconda3/lib/python3.7/site-packages/sklearn/preprocessing/data.py:323: DataConversionWarning: Data with input dtype int64, float64 were all converted to float64 by MinMaxScaler.\n",
      "  return self.partial_fit(X, y)\n"
     ]
    }
   ],
   "source": [
    "data_train = clean_data(data_train)"
   ]
  },
  {
   "cell_type": "code",
   "execution_count": 40,
   "metadata": {},
   "outputs": [
    {
     "data": {
      "text/plain": [
       "48"
      ]
     },
     "execution_count": 40,
     "metadata": {},
     "output_type": "execute_result"
    }
   ],
   "source": [
    "len(data_train.columns)"
   ]
  },
  {
   "cell_type": "code",
   "execution_count": 41,
   "metadata": {},
   "outputs": [
    {
     "data": {
      "text/plain": [
       "Index(['funded_amnt', 'int_rate', 'total_pymnt', 'annual_inc', 'dti',\n",
       "       'loan_status', 'revol_util', 'term', 'emp_length_1 year',\n",
       "       'emp_length_10+ years', 'emp_length_2 years', 'emp_length_3 years',\n",
       "       'emp_length_4 years', 'emp_length_5 years', 'emp_length_6 years',\n",
       "       'emp_length_7 years', 'emp_length_8 years', 'emp_length_9 years',\n",
       "       'emp_length_< 1 year', 'home_ownership_ANY', 'home_ownership_MORTGAGE',\n",
       "       'home_ownership_OWN', 'home_ownership_RENT',\n",
       "       'verification_status_Not Verified',\n",
       "       'verification_status_Source Verified', 'verification_status_Verified',\n",
       "       'grade_A', 'grade_B', 'grade_C', 'grade_D', 'grade_E', 'grade_F',\n",
       "       'grade_G', 'purpose_car', 'purpose_credit_card',\n",
       "       'purpose_debt_consolidation', 'purpose_home_improvement',\n",
       "       'purpose_house', 'purpose_major_purchase', 'purpose_medical',\n",
       "       'purpose_moving', 'purpose_other', 'purpose_renewable_energy',\n",
       "       'purpose_small_business', 'purpose_vacation', 'purpose_wedding', 'amnt',\n",
       "       'paid'],\n",
       "      dtype='object')"
      ]
     },
     "execution_count": 41,
     "metadata": {},
     "output_type": "execute_result"
    }
   ],
   "source": [
    "data_train.columns"
   ]
  },
  {
   "cell_type": "code",
   "execution_count": 42,
   "metadata": {},
   "outputs": [
    {
     "data": {
      "text/html": [
       "<div>\n",
       "<style scoped>\n",
       "    .dataframe tbody tr th:only-of-type {\n",
       "        vertical-align: middle;\n",
       "    }\n",
       "\n",
       "    .dataframe tbody tr th {\n",
       "        vertical-align: top;\n",
       "    }\n",
       "\n",
       "    .dataframe thead th {\n",
       "        text-align: right;\n",
       "    }\n",
       "</style>\n",
       "<table border=\"1\" class=\"dataframe\">\n",
       "  <thead>\n",
       "    <tr style=\"text-align: right;\">\n",
       "      <th></th>\n",
       "      <th>funded_amnt</th>\n",
       "      <th>int_rate</th>\n",
       "      <th>total_pymnt</th>\n",
       "      <th>annual_inc</th>\n",
       "      <th>dti</th>\n",
       "      <th>loan_status</th>\n",
       "      <th>revol_util</th>\n",
       "      <th>term</th>\n",
       "      <th>emp_length_1 year</th>\n",
       "      <th>emp_length_10+ years</th>\n",
       "      <th>...</th>\n",
       "      <th>purpose_major_purchase</th>\n",
       "      <th>purpose_medical</th>\n",
       "      <th>purpose_moving</th>\n",
       "      <th>purpose_other</th>\n",
       "      <th>purpose_renewable_energy</th>\n",
       "      <th>purpose_small_business</th>\n",
       "      <th>purpose_vacation</th>\n",
       "      <th>purpose_wedding</th>\n",
       "      <th>amnt</th>\n",
       "      <th>paid</th>\n",
       "    </tr>\n",
       "  </thead>\n",
       "  <tbody>\n",
       "    <tr>\n",
       "      <th>0</th>\n",
       "      <td>0.276471</td>\n",
       "      <td>0.0699</td>\n",
       "      <td>6611.69</td>\n",
       "      <td>0.007336</td>\n",
       "      <td>0.373093</td>\n",
       "      <td>Charged Off</td>\n",
       "      <td>0.316</td>\n",
       "      <td>3.0</td>\n",
       "      <td>0.0</td>\n",
       "      <td>0.0</td>\n",
       "      <td>...</td>\n",
       "      <td>0.0</td>\n",
       "      <td>0.0</td>\n",
       "      <td>0.0</td>\n",
       "      <td>0.0</td>\n",
       "      <td>0.0</td>\n",
       "      <td>0.0</td>\n",
       "      <td>0.0</td>\n",
       "      <td>0.0</td>\n",
       "      <td>10400.0</td>\n",
       "      <td>1</td>\n",
       "    </tr>\n",
       "    <tr>\n",
       "      <th>1</th>\n",
       "      <td>0.411765</td>\n",
       "      <td>0.1239</td>\n",
       "      <td>17392.37</td>\n",
       "      <td>0.010004</td>\n",
       "      <td>0.300825</td>\n",
       "      <td>Fully Paid</td>\n",
       "      <td>0.290</td>\n",
       "      <td>5.0</td>\n",
       "      <td>0.0</td>\n",
       "      <td>1.0</td>\n",
       "      <td>...</td>\n",
       "      <td>0.0</td>\n",
       "      <td>0.0</td>\n",
       "      <td>0.0</td>\n",
       "      <td>0.0</td>\n",
       "      <td>0.0</td>\n",
       "      <td>0.0</td>\n",
       "      <td>0.0</td>\n",
       "      <td>0.0</td>\n",
       "      <td>15000.0</td>\n",
       "      <td>0</td>\n",
       "    </tr>\n",
       "    <tr>\n",
       "      <th>3</th>\n",
       "      <td>0.195588</td>\n",
       "      <td>0.1366</td>\n",
       "      <td>2281.98</td>\n",
       "      <td>0.006269</td>\n",
       "      <td>0.870468</td>\n",
       "      <td>Charged Off</td>\n",
       "      <td>0.919</td>\n",
       "      <td>3.0</td>\n",
       "      <td>0.0</td>\n",
       "      <td>0.0</td>\n",
       "      <td>...</td>\n",
       "      <td>0.0</td>\n",
       "      <td>0.0</td>\n",
       "      <td>0.0</td>\n",
       "      <td>0.0</td>\n",
       "      <td>0.0</td>\n",
       "      <td>0.0</td>\n",
       "      <td>0.0</td>\n",
       "      <td>0.0</td>\n",
       "      <td>7650.0</td>\n",
       "      <td>1</td>\n",
       "    </tr>\n",
       "    <tr>\n",
       "      <th>4</th>\n",
       "      <td>0.252941</td>\n",
       "      <td>0.1366</td>\n",
       "      <td>9973.43</td>\n",
       "      <td>0.008804</td>\n",
       "      <td>0.645411</td>\n",
       "      <td>Fully Paid</td>\n",
       "      <td>0.594</td>\n",
       "      <td>3.0</td>\n",
       "      <td>0.0</td>\n",
       "      <td>1.0</td>\n",
       "      <td>...</td>\n",
       "      <td>0.0</td>\n",
       "      <td>0.0</td>\n",
       "      <td>0.0</td>\n",
       "      <td>0.0</td>\n",
       "      <td>0.0</td>\n",
       "      <td>0.0</td>\n",
       "      <td>0.0</td>\n",
       "      <td>0.0</td>\n",
       "      <td>9600.0</td>\n",
       "      <td>0</td>\n",
       "    </tr>\n",
       "    <tr>\n",
       "      <th>5</th>\n",
       "      <td>0.600735</td>\n",
       "      <td>0.1559</td>\n",
       "      <td>25512.20</td>\n",
       "      <td>0.008110</td>\n",
       "      <td>0.462366</td>\n",
       "      <td>Fully Paid</td>\n",
       "      <td>0.762</td>\n",
       "      <td>5.0</td>\n",
       "      <td>0.0</td>\n",
       "      <td>0.0</td>\n",
       "      <td>...</td>\n",
       "      <td>0.0</td>\n",
       "      <td>0.0</td>\n",
       "      <td>0.0</td>\n",
       "      <td>0.0</td>\n",
       "      <td>0.0</td>\n",
       "      <td>0.0</td>\n",
       "      <td>0.0</td>\n",
       "      <td>0.0</td>\n",
       "      <td>21425.0</td>\n",
       "      <td>0</td>\n",
       "    </tr>\n",
       "  </tbody>\n",
       "</table>\n",
       "<p>5 rows × 48 columns</p>\n",
       "</div>"
      ],
      "text/plain": [
       "   funded_amnt  int_rate  total_pymnt  annual_inc       dti  loan_status  \\\n",
       "0     0.276471    0.0699      6611.69    0.007336  0.373093  Charged Off   \n",
       "1     0.411765    0.1239     17392.37    0.010004  0.300825   Fully Paid   \n",
       "3     0.195588    0.1366      2281.98    0.006269  0.870468  Charged Off   \n",
       "4     0.252941    0.1366      9973.43    0.008804  0.645411   Fully Paid   \n",
       "5     0.600735    0.1559     25512.20    0.008110  0.462366   Fully Paid   \n",
       "\n",
       "   revol_util  term  emp_length_1 year  emp_length_10+ years  ...   \\\n",
       "0       0.316   3.0                0.0                   0.0  ...    \n",
       "1       0.290   5.0                0.0                   1.0  ...    \n",
       "3       0.919   3.0                0.0                   0.0  ...    \n",
       "4       0.594   3.0                0.0                   1.0  ...    \n",
       "5       0.762   5.0                0.0                   0.0  ...    \n",
       "\n",
       "   purpose_major_purchase  purpose_medical  purpose_moving  purpose_other  \\\n",
       "0                     0.0              0.0             0.0            0.0   \n",
       "1                     0.0              0.0             0.0            0.0   \n",
       "3                     0.0              0.0             0.0            0.0   \n",
       "4                     0.0              0.0             0.0            0.0   \n",
       "5                     0.0              0.0             0.0            0.0   \n",
       "\n",
       "   purpose_renewable_energy  purpose_small_business  purpose_vacation  \\\n",
       "0                       0.0                     0.0               0.0   \n",
       "1                       0.0                     0.0               0.0   \n",
       "3                       0.0                     0.0               0.0   \n",
       "4                       0.0                     0.0               0.0   \n",
       "5                       0.0                     0.0               0.0   \n",
       "\n",
       "   purpose_wedding     amnt  paid  \n",
       "0              0.0  10400.0     1  \n",
       "1              0.0  15000.0     0  \n",
       "3              0.0   7650.0     1  \n",
       "4              0.0   9600.0     0  \n",
       "5              0.0  21425.0     0  \n",
       "\n",
       "[5 rows x 48 columns]"
      ]
     },
     "execution_count": 42,
     "metadata": {},
     "output_type": "execute_result"
    }
   ],
   "source": [
    "data_train.head()"
   ]
  },
  {
   "cell_type": "code",
   "execution_count": 43,
   "metadata": {
    "scrolled": false
   },
   "outputs": [],
   "source": [
    "data_train.to_csv('cleaned_2013_14', index = False)"
   ]
  },
  {
   "cell_type": "code",
   "execution_count": null,
   "metadata": {},
   "outputs": [],
   "source": []
  }
 ],
 "metadata": {
  "kernelspec": {
   "display_name": "Python 3",
   "language": "python",
   "name": "python3"
  },
  "language_info": {
   "codemirror_mode": {
    "name": "ipython",
    "version": 3
   },
   "file_extension": ".py",
   "mimetype": "text/x-python",
   "name": "python",
   "nbconvert_exporter": "python",
   "pygments_lexer": "ipython3",
   "version": "3.7.0"
  }
 },
 "nbformat": 4,
 "nbformat_minor": 2
}
