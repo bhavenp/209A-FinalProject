{
 "cells": [
  {
   "cell_type": "markdown",
   "metadata": {},
   "source": [
    "# Set up"
   ]
  },
  {
   "cell_type": "code",
   "execution_count": 34,
   "metadata": {},
   "outputs": [],
   "source": [
    "import numpy as np\n",
    "import pandas as pd\n",
    "import matplotlib\n",
    "import matplotlib.pyplot as plt\n",
    "%matplotlib inline\n",
    "import seaborn as sns\n",
    "sns.set()\n",
    "\n",
    "from sklearn.preprocessing import PolynomialFeatures\n",
    "from sklearn.pipeline import make_pipeline\n",
    "from sklearn.tree import DecisionTreeClassifier\n",
    "from imblearn.over_sampling import SMOTE\n",
    "from sklearn.ensemble import AdaBoostClassifier\n",
    "\n",
    "from sklearn.metrics import roc_auc_score\n",
    "\n",
    "import pickle"
   ]
  },
  {
   "cell_type": "code",
   "execution_count": 4,
   "metadata": {},
   "outputs": [],
   "source": [
    "train = pd.read_csv('../lipika/cleaned_2013_14')\n",
    "test = pd.read_csv('../lipika/cleaned_2015')"
   ]
  },
  {
   "cell_type": "markdown",
   "metadata": {},
   "source": [
    "# Run model"
   ]
  },
  {
   "cell_type": "code",
   "execution_count": 29,
   "metadata": {},
   "outputs": [],
   "source": [
    "def split_data(df, cols):\n",
    "    x = df.drop(cols, axis = 1)\n",
    "    y = df.paid\n",
    "    return x, y\n",
    "\n",
    "cols_to_drop_training = ['loan_status', 'paid', 'amnt', 'total_pymnt', 'term_adj']\n",
    "x_train_initial, y_train_initial = split_data(train, cols_to_drop_training)\n",
    "\n",
    "# drop NAs from test\n",
    "test_noNAs = test.dropna()\n",
    "x_test, y_test = split_data(test_noNAs, cols_to_drop_training)"
   ]
  },
  {
   "cell_type": "code",
   "execution_count": 11,
   "metadata": {},
   "outputs": [],
   "source": [
    "sm = SMOTE(random_state=1, ratio = 1.0)\n",
    "x_train, y_train = sm.fit_sample(x_train_initial, y_train_initial)"
   ]
  },
  {
   "cell_type": "code",
   "execution_count": 20,
   "metadata": {},
   "outputs": [],
   "source": [
    "def adaboost_model(x, y, dtree_depth=3, n_est=50, lr=0.1):\n",
    "    model = make_pipeline(\n",
    "    PolynomialFeatures(degree=2, include_bias=False),\n",
    "    AdaBoostClassifier(DecisionTreeClassifier(max_depth=dtree_depth), n_estimators=n_est, learning_rate=lr))\n",
    "    model.fit(x, y)\n",
    "    return model"
   ]
  },
  {
   "cell_type": "code",
   "execution_count": 21,
   "metadata": {},
   "outputs": [],
   "source": [
    "ada1 = adaboost_model(x_train, y_train)"
   ]
  },
  {
   "cell_type": "code",
   "execution_count": 31,
   "metadata": {},
   "outputs": [],
   "source": [
    "ada1_class_acc_train = ada1.score(x_train, y_train)\n",
    "ada1_class_acc_test = ada1.score(x_test, y_test)\n",
    "ada1_auc_train = roc_auc_score(y_train, ada1.predict(x_train))\n",
    "ada1_auc_test = roc_auc_score(y_test, ada1.predict(x_test))"
   ]
  },
  {
   "cell_type": "code",
   "execution_count": 32,
   "metadata": {},
   "outputs": [
    {
     "name": "stdout",
     "output_type": "stream",
     "text": [
      "Classification accuracy rate (train): 0.7942669319263039\n",
      "Classification accuracy rate (test): 0.6575107469373751\n",
      "AUC (train): 0.7942669319263038\n",
      "AUC (test): 0.6092821309181438\n"
     ]
    }
   ],
   "source": [
    "print('Classification accuracy rate (train):', ada1_class_acc_train)\n",
    "print('Classification accuracy rate (test):', ada1_class_acc_test)\n",
    "print('AUC (train):', ada1_auc_train)\n",
    "print('AUC (test):', ada1_auc_test)"
   ]
  },
  {
   "cell_type": "code",
   "execution_count": 35,
   "metadata": {},
   "outputs": [],
   "source": [
    "# Dump the trained Adaboost model with Pickle\n",
    "# Open the file to save as pkl file\n",
    "adaboost_pkl = open('Adaboost1.pkl', 'wb')\n",
    "pickle.dump(ada1, adaboost_pkl)\n",
    "# Close the pickle instances\n",
    "adaboost_pkl.close()"
   ]
  },
  {
   "cell_type": "code",
   "execution_count": null,
   "metadata": {},
   "outputs": [],
   "source": []
  }
 ],
 "metadata": {
  "kernelspec": {
   "display_name": "Python 3",
   "language": "python",
   "name": "python3"
  },
  "language_info": {
   "codemirror_mode": {
    "name": "ipython",
    "version": 3
   },
   "file_extension": ".py",
   "mimetype": "text/x-python",
   "name": "python",
   "nbconvert_exporter": "python",
   "pygments_lexer": "ipython3",
   "version": "3.6.5"
  }
 },
 "nbformat": 4,
 "nbformat_minor": 2
}
