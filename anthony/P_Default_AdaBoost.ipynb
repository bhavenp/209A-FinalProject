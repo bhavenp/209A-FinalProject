{
 "cells": [
  {
   "cell_type": "markdown",
   "metadata": {},
   "source": [
    "# Set up"
   ]
  },
  {
   "cell_type": "code",
   "execution_count": 8,
   "metadata": {},
   "outputs": [],
   "source": [
    "import numpy as np\n",
    "import pandas as pd\n",
    "import matplotlib\n",
    "import matplotlib.pyplot as plt\n",
    "%matplotlib inline\n",
    "import seaborn as sns\n",
    "sns.set()\n",
    "\n",
    "from sklearn.preprocessing import PolynomialFeatures\n",
    "from sklearn.pipeline import make_pipeline\n",
    "from sklearn.tree import DecisionTreeClassifier\n",
    "from imblearn.over_sampling import SMOTE\n",
    "from sklearn.ensemble import AdaBoostClassifier\n",
    "\n",
    "from sklearn.metrics import roc_auc_score\n",
    "from sklearn.model_selection import GridSearchCV\n",
    "\n",
    "import pickle"
   ]
  },
  {
   "cell_type": "code",
   "execution_count": 2,
   "metadata": {},
   "outputs": [],
   "source": [
    "train = pd.read_csv('../lipika/cleaned_2013_14')\n",
    "test = pd.read_csv('../lipika/cleaned_2015')"
   ]
  },
  {
   "cell_type": "markdown",
   "metadata": {},
   "source": [
    "# Run model"
   ]
  },
  {
   "cell_type": "code",
   "execution_count": 5,
   "metadata": {},
   "outputs": [],
   "source": [
    "def split_data(df, cols):\n",
    "    x = df.drop(cols, axis = 1)\n",
    "    y = df.paid\n",
    "    return x, y\n",
    "\n",
    "cols_to_drop_training = ['loan_status', 'paid', 'amnt', 'total_pymnt', 'term_adj', 'zip_code']\n",
    "x_train_initial, y_train_initial = split_data(train, cols_to_drop_training)\n",
    "\n",
    "# drop NAs from test\n",
    "test_noNAs = test.dropna()\n",
    "x_test, y_test = split_data(test_noNAs, cols_to_drop_training)"
   ]
  },
  {
   "cell_type": "code",
   "execution_count": 6,
   "metadata": {},
   "outputs": [],
   "source": [
    "sm = SMOTE(random_state=1, ratio = 1.0)\n",
    "x_train, y_train = sm.fit_sample(x_train_initial, y_train_initial)"
   ]
  },
  {
   "cell_type": "code",
   "execution_count": 20,
   "metadata": {},
   "outputs": [],
   "source": [
    "def adaboost_model(x, y, dtree_depth=3, n_est=50, lr=0.1):\n",
    "    model = make_pipeline(\n",
    "    PolynomialFeatures(degree=2, include_bias=False),\n",
    "    AdaBoostClassifier(DecisionTreeClassifier(max_depth=dtree_depth), n_estimators=n_est, learning_rate=lr))\n",
    "    model.fit(x, y)\n",
    "    return model"
   ]
  },
  {
   "cell_type": "code",
   "execution_count": 21,
   "metadata": {},
   "outputs": [],
   "source": [
    "ada1 = adaboost_model(x_train, y_train)"
   ]
  },
  {
   "cell_type": "code",
   "execution_count": 31,
   "metadata": {},
   "outputs": [],
   "source": [
    "ada1_class_acc_train = ada1.score(x_train, y_train)\n",
    "ada1_class_acc_test = ada1.score(x_test, y_test)\n",
    "ada1_auc_train = roc_auc_score(y_train, ada1.predict(x_train))\n",
    "ada1_auc_test = roc_auc_score(y_test, ada1.predict(x_test))"
   ]
  },
  {
   "cell_type": "code",
   "execution_count": 32,
   "metadata": {},
   "outputs": [
    {
     "name": "stdout",
     "output_type": "stream",
     "text": [
      "Classification accuracy rate (train): 0.7942669319263039\n",
      "Classification accuracy rate (test): 0.6575107469373751\n",
      "AUC (train): 0.7942669319263038\n",
      "AUC (test): 0.6092821309181438\n"
     ]
    }
   ],
   "source": [
    "print('Classification accuracy rate (train):', ada1_class_acc_train)\n",
    "print('Classification accuracy rate (test):', ada1_class_acc_test)\n",
    "print('AUC (train):', ada1_auc_train)\n",
    "print('AUC (test):', ada1_auc_test)"
   ]
  },
  {
   "cell_type": "code",
   "execution_count": 35,
   "metadata": {},
   "outputs": [],
   "source": [
    "# Open the file to save as pkl file\n",
    "adaboost_pkl = open('Adaboost1.pkl', 'wb')\n",
    "pickle.dump(ada1, adaboost_pkl)\n",
    "# Close the pickle instances\n",
    "adaboost_pkl.close()"
   ]
  },
  {
   "cell_type": "markdown",
   "metadata": {},
   "source": [
    "# Adaboost and Grid Search"
   ]
  },
  {
   "cell_type": "code",
   "execution_count": 13,
   "metadata": {},
   "outputs": [],
   "source": [
    "param_grid = {\"base_estimator__max_depth\": [3, 5, 10],\n",
    "              \"n_estimators\": [50, 100],\n",
    "              \"learning_rate\": [0.001, 0.01, 0.1]\n",
    "             }\n",
    "adaboost_clf = AdaBoostClassifier(DecisionTreeClassifier())\n",
    "ada_gs = GridSearchCV(adaboost_clf, param_grid, scoring = 'roc_auc', cv=5, verbose=2)"
   ]
  },
  {
   "cell_type": "code",
   "execution_count": 14,
   "metadata": {},
   "outputs": [
    {
     "name": "stderr",
     "output_type": "stream",
     "text": [
      "/Users/anthonyrentsch/anaconda3/lib/python3.6/site-packages/sklearn/model_selection/_split.py:1943: FutureWarning: You should specify a value for 'cv' instead of relying on the default value. The default value will change from 3 to 5 in version 0.22.\n",
      "  warnings.warn(CV_WARNING, FutureWarning)\n",
      "[Parallel(n_jobs=1)]: Using backend SequentialBackend with 1 concurrent workers.\n"
     ]
    },
    {
     "name": "stdout",
     "output_type": "stream",
     "text": [
      "Fitting 3 folds for each of 18 candidates, totalling 54 fits\n",
      "[CV] base_estimator__max_depth=3, learning_rate=0.001, n_estimators=50 \n",
      "[CV]  base_estimator__max_depth=3, learning_rate=0.001, n_estimators=50, total= 1.6min\n",
      "[CV] base_estimator__max_depth=3, learning_rate=0.001, n_estimators=50 \n"
     ]
    },
    {
     "name": "stderr",
     "output_type": "stream",
     "text": [
      "[Parallel(n_jobs=1)]: Done   1 out of   1 | elapsed:  1.6min remaining:    0.0s\n"
     ]
    },
    {
     "name": "stdout",
     "output_type": "stream",
     "text": [
      "[CV]  base_estimator__max_depth=3, learning_rate=0.001, n_estimators=50, total= 1.5min\n",
      "[CV] base_estimator__max_depth=3, learning_rate=0.001, n_estimators=50 \n",
      "[CV]  base_estimator__max_depth=3, learning_rate=0.001, n_estimators=50, total= 1.9min\n",
      "[CV] base_estimator__max_depth=3, learning_rate=0.001, n_estimators=100 \n",
      "[CV]  base_estimator__max_depth=3, learning_rate=0.001, n_estimators=100, total= 3.1min\n",
      "[CV] base_estimator__max_depth=3, learning_rate=0.001, n_estimators=100 \n",
      "[CV]  base_estimator__max_depth=3, learning_rate=0.001, n_estimators=100, total= 2.9min\n",
      "[CV] base_estimator__max_depth=3, learning_rate=0.001, n_estimators=100 \n",
      "[CV]  base_estimator__max_depth=3, learning_rate=0.001, n_estimators=100, total=11.5min\n",
      "[CV] base_estimator__max_depth=3, learning_rate=0.01, n_estimators=50 \n",
      "[CV]  base_estimator__max_depth=3, learning_rate=0.01, n_estimators=50, total= 1.5min\n",
      "[CV] base_estimator__max_depth=3, learning_rate=0.01, n_estimators=50 \n",
      "[CV]  base_estimator__max_depth=3, learning_rate=0.01, n_estimators=50, total= 1.5min\n",
      "[CV] base_estimator__max_depth=3, learning_rate=0.01, n_estimators=50 \n",
      "[CV]  base_estimator__max_depth=3, learning_rate=0.01, n_estimators=50, total= 1.5min\n",
      "[CV] base_estimator__max_depth=3, learning_rate=0.01, n_estimators=100 \n",
      "[CV]  base_estimator__max_depth=3, learning_rate=0.01, n_estimators=100, total= 3.1min\n",
      "[CV] base_estimator__max_depth=3, learning_rate=0.01, n_estimators=100 \n",
      "[CV]  base_estimator__max_depth=3, learning_rate=0.01, n_estimators=100, total= 2.9min\n",
      "[CV] base_estimator__max_depth=3, learning_rate=0.01, n_estimators=100 \n",
      "[CV]  base_estimator__max_depth=3, learning_rate=0.01, n_estimators=100, total= 3.3min\n",
      "[CV] base_estimator__max_depth=3, learning_rate=0.1, n_estimators=50 .\n",
      "[CV]  base_estimator__max_depth=3, learning_rate=0.1, n_estimators=50, total= 1.5min\n",
      "[CV] base_estimator__max_depth=3, learning_rate=0.1, n_estimators=50 .\n",
      "[CV]  base_estimator__max_depth=3, learning_rate=0.1, n_estimators=50, total= 1.5min\n",
      "[CV] base_estimator__max_depth=3, learning_rate=0.1, n_estimators=50 .\n",
      "[CV]  base_estimator__max_depth=3, learning_rate=0.1, n_estimators=50, total= 1.5min\n",
      "[CV] base_estimator__max_depth=3, learning_rate=0.1, n_estimators=100 \n",
      "[CV]  base_estimator__max_depth=3, learning_rate=0.1, n_estimators=100, total= 3.1min\n",
      "[CV] base_estimator__max_depth=3, learning_rate=0.1, n_estimators=100 \n",
      "[CV]  base_estimator__max_depth=3, learning_rate=0.1, n_estimators=100, total= 2.9min\n",
      "[CV] base_estimator__max_depth=3, learning_rate=0.1, n_estimators=100 \n",
      "[CV]  base_estimator__max_depth=3, learning_rate=0.1, n_estimators=100, total= 2.9min\n",
      "[CV] base_estimator__max_depth=5, learning_rate=0.001, n_estimators=50 \n",
      "[CV]  base_estimator__max_depth=5, learning_rate=0.001, n_estimators=50, total= 2.5min\n",
      "[CV] base_estimator__max_depth=5, learning_rate=0.001, n_estimators=50 \n",
      "[CV]  base_estimator__max_depth=5, learning_rate=0.001, n_estimators=50, total= 2.3min\n",
      "[CV] base_estimator__max_depth=5, learning_rate=0.001, n_estimators=50 \n",
      "[CV]  base_estimator__max_depth=5, learning_rate=0.001, n_estimators=50, total= 2.3min\n",
      "[CV] base_estimator__max_depth=5, learning_rate=0.001, n_estimators=100 \n",
      "[CV]  base_estimator__max_depth=5, learning_rate=0.001, n_estimators=100, total= 5.0min\n",
      "[CV] base_estimator__max_depth=5, learning_rate=0.001, n_estimators=100 \n",
      "[CV]  base_estimator__max_depth=5, learning_rate=0.001, n_estimators=100, total= 4.7min\n",
      "[CV] base_estimator__max_depth=5, learning_rate=0.001, n_estimators=100 \n",
      "[CV]  base_estimator__max_depth=5, learning_rate=0.001, n_estimators=100, total=39.0min\n",
      "[CV] base_estimator__max_depth=5, learning_rate=0.01, n_estimators=50 \n",
      "[CV]  base_estimator__max_depth=5, learning_rate=0.01, n_estimators=50, total= 2.5min\n",
      "[CV] base_estimator__max_depth=5, learning_rate=0.01, n_estimators=50 \n",
      "[CV]  base_estimator__max_depth=5, learning_rate=0.01, n_estimators=50, total= 2.3min\n",
      "[CV] base_estimator__max_depth=5, learning_rate=0.01, n_estimators=50 \n",
      "[CV]  base_estimator__max_depth=5, learning_rate=0.01, n_estimators=50, total= 2.4min\n",
      "[CV] base_estimator__max_depth=5, learning_rate=0.01, n_estimators=100 \n",
      "[CV]  base_estimator__max_depth=5, learning_rate=0.01, n_estimators=100, total= 4.9min\n",
      "[CV] base_estimator__max_depth=5, learning_rate=0.01, n_estimators=100 \n",
      "[CV]  base_estimator__max_depth=5, learning_rate=0.01, n_estimators=100, total=12.5min\n",
      "[CV] base_estimator__max_depth=5, learning_rate=0.01, n_estimators=100 \n",
      "[CV]  base_estimator__max_depth=5, learning_rate=0.01, n_estimators=100, total= 4.7min\n",
      "[CV] base_estimator__max_depth=5, learning_rate=0.1, n_estimators=50 .\n",
      "[CV]  base_estimator__max_depth=5, learning_rate=0.1, n_estimators=50, total=41.9min\n",
      "[CV] base_estimator__max_depth=5, learning_rate=0.1, n_estimators=50 .\n",
      "[CV]  base_estimator__max_depth=5, learning_rate=0.1, n_estimators=50, total= 2.4min\n",
      "[CV] base_estimator__max_depth=5, learning_rate=0.1, n_estimators=50 .\n",
      "[CV]  base_estimator__max_depth=5, learning_rate=0.1, n_estimators=50, total=35.1min\n",
      "[CV] base_estimator__max_depth=5, learning_rate=0.1, n_estimators=100 \n",
      "[CV]  base_estimator__max_depth=5, learning_rate=0.1, n_estimators=100, total=173.2min\n",
      "[CV] base_estimator__max_depth=5, learning_rate=0.1, n_estimators=100 \n",
      "[CV]  base_estimator__max_depth=5, learning_rate=0.1, n_estimators=100, total= 4.8min\n",
      "[CV] base_estimator__max_depth=5, learning_rate=0.1, n_estimators=100 \n",
      "[CV]  base_estimator__max_depth=5, learning_rate=0.1, n_estimators=100, total= 4.7min\n",
      "[CV] base_estimator__max_depth=10, learning_rate=0.001, n_estimators=50 \n",
      "[CV]  base_estimator__max_depth=10, learning_rate=0.001, n_estimators=50, total= 4.7min\n",
      "[CV] base_estimator__max_depth=10, learning_rate=0.001, n_estimators=50 \n",
      "[CV]  base_estimator__max_depth=10, learning_rate=0.001, n_estimators=50, total=20.3min\n",
      "[CV] base_estimator__max_depth=10, learning_rate=0.001, n_estimators=50 \n",
      "[CV]  base_estimator__max_depth=10, learning_rate=0.001, n_estimators=50, total= 4.2min\n",
      "[CV] base_estimator__max_depth=10, learning_rate=0.001, n_estimators=100 \n",
      "[CV]  base_estimator__max_depth=10, learning_rate=0.001, n_estimators=100, total= 9.1min\n",
      "[CV] base_estimator__max_depth=10, learning_rate=0.001, n_estimators=100 \n",
      "[CV]  base_estimator__max_depth=10, learning_rate=0.001, n_estimators=100, total= 8.5min\n",
      "[CV] base_estimator__max_depth=10, learning_rate=0.001, n_estimators=100 \n",
      "[CV]  base_estimator__max_depth=10, learning_rate=0.001, n_estimators=100, total= 8.5min\n",
      "[CV] base_estimator__max_depth=10, learning_rate=0.01, n_estimators=50 \n",
      "[CV]  base_estimator__max_depth=10, learning_rate=0.01, n_estimators=50, total= 4.5min\n",
      "[CV] base_estimator__max_depth=10, learning_rate=0.01, n_estimators=50 \n",
      "[CV]  base_estimator__max_depth=10, learning_rate=0.01, n_estimators=50, total= 4.3min\n",
      "[CV] base_estimator__max_depth=10, learning_rate=0.01, n_estimators=50 \n",
      "[CV]  base_estimator__max_depth=10, learning_rate=0.01, n_estimators=50, total= 4.3min\n",
      "[CV] base_estimator__max_depth=10, learning_rate=0.01, n_estimators=100 \n",
      "[CV]  base_estimator__max_depth=10, learning_rate=0.01, n_estimators=100, total= 9.0min\n",
      "[CV] base_estimator__max_depth=10, learning_rate=0.01, n_estimators=100 \n",
      "[CV]  base_estimator__max_depth=10, learning_rate=0.01, n_estimators=100, total= 8.7min\n",
      "[CV] base_estimator__max_depth=10, learning_rate=0.01, n_estimators=100 \n",
      "[CV]  base_estimator__max_depth=10, learning_rate=0.01, n_estimators=100, total= 8.6min\n",
      "[CV] base_estimator__max_depth=10, learning_rate=0.1, n_estimators=50 \n",
      "[CV]  base_estimator__max_depth=10, learning_rate=0.1, n_estimators=50, total= 4.8min\n",
      "[CV] base_estimator__max_depth=10, learning_rate=0.1, n_estimators=50 \n",
      "[CV]  base_estimator__max_depth=10, learning_rate=0.1, n_estimators=50, total= 4.5min\n",
      "[CV] base_estimator__max_depth=10, learning_rate=0.1, n_estimators=50 \n",
      "[CV]  base_estimator__max_depth=10, learning_rate=0.1, n_estimators=50, total= 4.5min\n",
      "[CV] base_estimator__max_depth=10, learning_rate=0.1, n_estimators=100 \n",
      "[CV]  base_estimator__max_depth=10, learning_rate=0.1, n_estimators=100, total= 9.3min\n",
      "[CV] base_estimator__max_depth=10, learning_rate=0.1, n_estimators=100 \n",
      "[CV]  base_estimator__max_depth=10, learning_rate=0.1, n_estimators=100, total= 9.0min\n",
      "[CV] base_estimator__max_depth=10, learning_rate=0.1, n_estimators=100 \n"
     ]
    },
    {
     "name": "stdout",
     "output_type": "stream",
     "text": [
      "[CV]  base_estimator__max_depth=10, learning_rate=0.1, n_estimators=100, total= 9.2min\n"
     ]
    },
    {
     "name": "stderr",
     "output_type": "stream",
     "text": [
      "[Parallel(n_jobs=1)]: Done  54 out of  54 | elapsed: 536.6min finished\n"
     ]
    },
    {
     "data": {
      "text/plain": [
       "GridSearchCV(cv='warn', error_score='raise-deprecating',\n",
       "       estimator=AdaBoostClassifier(algorithm='SAMME.R',\n",
       "          base_estimator=DecisionTreeClassifier(class_weight=None, criterion='gini', max_depth=None,\n",
       "            max_features=None, max_leaf_nodes=None,\n",
       "            min_impurity_decrease=0.0, min_impurity_split=None,\n",
       "            min_samples_leaf=1, min_samples_split=2,\n",
       "            min_weight_fraction_leaf=0.0, presort=False, random_state=None,\n",
       "            splitter='best'),\n",
       "          learning_rate=1.0, n_estimators=50, random_state=None),\n",
       "       fit_params=None, iid='warn', n_jobs=None,\n",
       "       param_grid={'base_estimator__max_depth': [3, 5, 10], 'n_estimators': [50, 100], 'learning_rate': [0.001, 0.01, 0.1]},\n",
       "       pre_dispatch='2*n_jobs', refit=True, return_train_score='warn',\n",
       "       scoring='roc_auc', verbose=2)"
      ]
     },
     "execution_count": 14,
     "metadata": {},
     "output_type": "execute_result"
    }
   ],
   "source": [
    "ada_gs.fit(x_train, y_train)"
   ]
  },
  {
   "cell_type": "code",
   "execution_count": 20,
   "metadata": {},
   "outputs": [],
   "source": [
    "adags_class_acc_train = ada_gs.score(x_train, y_train)\n",
    "adags_class_acc_test = ada_gs.score(x_test, y_test)\n",
    "adags_auc_train = roc_auc_score(y_train, ada_gs.predict(x_train))\n",
    "adags_auc_test = roc_auc_score(y_test, ada_gs.predict(x_test))"
   ]
  },
  {
   "cell_type": "code",
   "execution_count": 21,
   "metadata": {},
   "outputs": [
    {
     "name": "stdout",
     "output_type": "stream",
     "text": [
      "Grid Search Adaboost\n",
      "Classification accuracy rate (train): 0.9604228159210939\n",
      "Classification accuracy rate (test): 0.6220354836307184\n",
      "AUC (train): 0.896216590260358\n",
      "AUC (test): 0.56200382881067\n"
     ]
    }
   ],
   "source": [
    "print('Grid Search Adaboost')\n",
    "print('Classification accuracy rate (train):', adags_class_acc_train)\n",
    "print('Classification accuracy rate (test):', adags_class_acc_test)\n",
    "print('AUC (train):', adags_auc_train)\n",
    "print('AUC (test):', adags_auc_test)"
   ]
  },
  {
   "cell_type": "code",
   "execution_count": 18,
   "metadata": {},
   "outputs": [],
   "source": [
    "# Open the file to save as pkl file\n",
    "adaboost_gs_pkl = open('AdaboostGS.pkl', 'wb')\n",
    "pickle.dump(ada_gs, adaboost_gs_pkl)\n",
    "# Close the pickle instances\n",
    "adaboost_gs_pkl.close()"
   ]
  }
 ],
 "metadata": {
  "kernelspec": {
   "display_name": "Python 3",
   "language": "python",
   "name": "python3"
  },
  "language_info": {
   "codemirror_mode": {
    "name": "ipython",
    "version": 3
   },
   "file_extension": ".py",
   "mimetype": "text/x-python",
   "name": "python",
   "nbconvert_exporter": "python",
   "pygments_lexer": "ipython3",
   "version": "3.6.5"
  }
 },
 "nbformat": 4,
 "nbformat_minor": 2
}
