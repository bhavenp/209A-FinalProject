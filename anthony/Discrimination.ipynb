{
 "cells": [
  {
   "cell_type": "markdown",
   "metadata": {},
   "source": [
    "# Set up"
   ]
  },
  {
   "cell_type": "code",
   "execution_count": 1,
   "metadata": {},
   "outputs": [],
   "source": [
    "import numpy as np\n",
    "import pandas as pd\n",
    "import matplotlib\n",
    "import matplotlib.pyplot as plt\n",
    "%matplotlib inline\n",
    "import seaborn as sns\n",
    "sns.set()\n",
    "\n",
    "import statsmodels.api as sm\n",
    "from statsmodels.api import OLS"
   ]
  },
  {
   "cell_type": "code",
   "execution_count": 4,
   "metadata": {},
   "outputs": [],
   "source": [
    "lc_census_merged = pd.read_csv('../data/2014_loan_data/pct_accepted_by_zip3_2014_ALL.csv', dtype={'zip_3':str})"
   ]
  },
  {
   "cell_type": "markdown",
   "metadata": {},
   "source": [
    "# What variables should we care about?\n",
    "\n",
    "[Legally protected classes](https://content.next.westlaw.com/Document/Ibb0a38daef0511e28578f7ccc38dcbee/View/FullText.html?contextData=sc.Default&transitionType=Default&firstPage=true&bhcp=1):\n",
    "* Race\n",
    "* Color\n",
    "* Religion or creed\n",
    "* National origin or ancestry\n",
    "* Sex\n",
    "* Age\n",
    "* Physical or mental disability\n",
    "* Veteran status\n",
    "* Genetic information\n",
    "* Citizenship\n",
    "\n",
    "Characteristics that are protected by being an Equal Housing Lender, which Lending Club is:\n",
    "* Race\n",
    "* Color\n",
    "* Religion\n",
    "* National origin\n",
    "* Sex\n",
    "* Handicap\n",
    "* Familial status\n",
    "\n",
    "Other variables research suggests is correlated to socioeconomic status and other important socio-political outcomes:\n",
    "* **Education**\n",
    "* Unemployment\n",
    "* Poverty\n",
    "* Income/wealth\n",
    "\n",
    "<hr>\n",
    "Variables we have through Lending Club (individual-level fairness):\n",
    "* Income\n",
    "* Loan description (could be used to back out purchases for families, for instance)\n",
    "\n",
    "Variables that we have through the Census (group-level fairness): \n",
    "* Race\n",
    "* Education\n",
    "* Family status\n",
    "* Unemployment rate\n",
    "* Workforce\n",
    "* Household income"
   ]
  }
 ],
 "metadata": {
  "kernelspec": {
   "display_name": "Python 3",
   "language": "python",
   "name": "python3"
  },
  "language_info": {
   "codemirror_mode": {
    "name": "ipython",
    "version": 3
   },
   "file_extension": ".py",
   "mimetype": "text/x-python",
   "name": "python",
   "nbconvert_exporter": "python",
   "pygments_lexer": "ipython3",
   "version": "3.6.5"
  }
 },
 "nbformat": 4,
 "nbformat_minor": 2
}
