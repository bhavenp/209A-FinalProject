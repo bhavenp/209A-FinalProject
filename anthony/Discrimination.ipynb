{
 "cells": [
  {
   "cell_type": "markdown",
   "metadata": {},
   "source": [
    "# Set up"
   ]
  },
  {
   "cell_type": "code",
   "execution_count": 1,
   "metadata": {},
   "outputs": [],
   "source": [
    "import numpy as np\n",
    "import pandas as pd\n",
    "import matplotlib\n",
    "import matplotlib.pyplot as plt\n",
    "%matplotlib inline\n",
    "import seaborn as sns\n",
    "sns.set()\n",
    "\n",
    "import statsmodels.api as sm\n",
    "from statsmodels.api import OLS"
   ]
  },
  {
   "cell_type": "code",
   "execution_count": 2,
   "metadata": {},
   "outputs": [],
   "source": [
    "lc_census_merged = pd.read_csv('../data/2014_loan_data/pct_accepted_by_zip3_2014_ALL.csv', dtype={'zip_3':str})\n",
    "all_loans_2014 = pd.read_csv('../hugo/all_loans_2014', dtype={'ZIP':str}, low_memory = False)\n",
    "all_loans_2015 = pd.read_csv('../hugo/all_loans_2015', dtype={'ZIP':str}, low_memory = False)\n",
    "census = pd.read_csv('../data/census_zip3.csv', dtype={'zip_3':str})"
   ]
  },
  {
   "cell_type": "code",
   "execution_count": 6,
   "metadata": {},
   "outputs": [],
   "source": [
    "all_loans_2014_merged = all_loans_2014.merge(census, \"left\", left_on=\"ZIP\", right_on=\"zip_3\")\n",
    "all_loans_2015_merged = all_loans_2015.merge(census, \"left\", left_on=\"ZIP\", right_on=\"zip_3\")"
   ]
  },
  {
   "cell_type": "markdown",
   "metadata": {},
   "source": [
    "# What variables should we care about?\n",
    "\n",
    "[Legally protected classes](https://content.next.westlaw.com/Document/Ibb0a38daef0511e28578f7ccc38dcbee/View/FullText.html?contextData=sc.Default&transitionType=Default&firstPage=true&bhcp=1):\n",
    "* Race\n",
    "* Color\n",
    "* Religion or creed\n",
    "* National origin or ancestry\n",
    "* Sex\n",
    "* Age\n",
    "* Physical or mental disability\n",
    "* Veteran status\n",
    "* Genetic information\n",
    "* Citizenship\n",
    "\n",
    "Characteristics that are protected by being an Equal Housing Lender, which Lending Club is:\n",
    "* Race\n",
    "* Color\n",
    "* Religion\n",
    "* National origin\n",
    "* Sex\n",
    "* Handicap\n",
    "* Familial status\n",
    "\n",
    "Other variables research suggests is correlated to socioeconomic status and other important socio-political outcomes:\n",
    "* **Education**\n",
    "* Unemployment\n",
    "* Poverty\n",
    "* Income/wealth\n",
    "\n",
    "<hr>\n",
    "Variables we have through Lending Club (individual-level fairness):\n",
    "* Income (`annual_inc_joint`, `annualInc`)\n",
    "* Loan description (could be used to back out loans for families, for instance) (`desc`)\n",
    "    * This is something we'd need text analysis for, probably beyond our scope\n",
    "* Debt-to-income ratio (`dti`)\n",
    "* Number of mortgage accounts (could be used to back out loans for families) (`mortAcc`)\n",
    "* Job description (`emp_title`)\n",
    "\n",
    "Variables that we have through the Census (group-level fairness): \n",
    "* Race\n",
    "* Education\n",
    "* Family status\n",
    "* Gender x age\n",
    "* Unemployment rate\n",
    "* Workforce\n",
    "* Household income\n",
    "\n",
    "<hr>\n",
    "\n",
    "Synthesizing, it seems like these are our best options for proceeding:\n",
    "\n",
    "| Type | Features |\n",
    "| --- | --- |\n",
    "| Individual-level fairness | *Income* |\n",
    "| Group-level fairness | *Race, family status, education, unemployment* |\n",
    "\n",
    "Will consider both **post-hoc** adjustments to achieve fairness (statistical/conditional parity, calibration/predictive equality) and **built-in** fairness features (adjusting the loss function to balance loss by a group of interest)."
   ]
  },
  {
   "cell_type": "markdown",
   "metadata": {},
   "source": [
    "# Individual-level fairness\n",
    "\n",
    "* just using reject data, see if people in same zip codes with different dti, risk scores, employment lengths are rejected differently\n",
    "* histograms for dti and risk score and bar charts for employment\n",
    "\n",
    "Going to need more full data set to do this, not the scaled back one we have here."
   ]
  },
  {
   "cell_type": "markdown",
   "metadata": {},
   "source": [
    "# Group-level fairness"
   ]
  },
  {
   "cell_type": "code",
   "execution_count": 46,
   "metadata": {},
   "outputs": [
    {
     "data": {
      "image/png": "[encoded data removed]",
      "text/plain": [
       "<Figure size 432x288 with 1 Axes>"
      ]
     },
     "metadata": {},
     "output_type": "display_data"
    }
   ],
   "source": [
    "bachelor_deg_tiles = np.percentile(all_loans_2014_merged.Bachelors_Degree_pct.dropna(), [0,25,50,75,100])\n",
    "bachelor_deg_0_25 = all_loans_2014_merged.Bachelors_Degree_pct < bachelor_deg_tiles[0]\n",
    "bachelor_deg_25_50 = all_loans_2014_merged.Bachelors_Degree_pct < bachelor_deg_tiles[1]  \n",
    "bachelor_deg_50_75 = all_loans_2014_merged.Bachelors_Degree_pct < bachelor_deg_tiles[2]\n",
    "bachelor_deg_75_100 = all_loans_2014_merged.Bachelors_Degree_pct < bachelor_deg_tiles[3]\n",
    "\n",
    "\n",
    "sns.kdeplot(all_loans_2014_merged.proba[bachelor_deg_ind==True].dropna(), color=\"blue\", label=\"Above average\", alpha=0.5)\n",
    "sns.kdeplot(all_loans_2014_merged.proba[bachelor_deg_ind==False].dropna(), color=\"red\", label=\"Below average\", alpha=0.5)\n",
    "plt.xlabel(\"Bachelor's Degree %\")\n",
    "plt.title(r\"Distribution of $P(default)$\")\n",
    "plt.legend()\n",
    "plt.tight_layout()\n"
   ]
  },
  {
   "cell_type": "code",
   "execution_count": 55,
   "metadata": {},
   "outputs": [
    {
     "ename": "NameError",
     "evalue": "name 'bachelor_deg_tiles' is not defined",
     "output_type": "error",
     "traceback": [
      "\u001b[0;31m---------------------------------------------------------------------------\u001b[0m",
      "\u001b[0;31mNameError\u001b[0m                                 Traceback (most recent call last)",
      "\u001b[0;32m<ipython-input-55-c6976fe15814>\u001b[0m in \u001b[0;36m<module>\u001b[0;34m()\u001b[0m\n\u001b[0;32m----> 1\u001b[0;31m \u001b[0mbachelor_deg_tiles\u001b[0m\u001b[0;34m[\u001b[0m\u001b[0;36m0\u001b[0m\u001b[0;34m]\u001b[0m \u001b[0;34m<\u001b[0m \u001b[0mall_loans_2014_merged\u001b[0m\u001b[0;34m.\u001b[0m\u001b[0mBachelors_Degree_pct\u001b[0m \u001b[0;34m<\u001b[0m \u001b[0mbachelor_deg_tiles\u001b[0m\u001b[0;34m[\u001b[0m\u001b[0;36m1\u001b[0m\u001b[0;34m]\u001b[0m\u001b[0;34m\u001b[0m\u001b[0m\n\u001b[0m",
      "\u001b[0;31mNameError\u001b[0m: name 'bachelor_deg_tiles' is not defined"
     ]
    }
   ],
   "source": [
    "bachelor_deg_tiles[0] < all_loans_2014_merged.Bachelors_Degree_pct < bachelor_deg_tiles[1]  "
   ]
  },
  {
   "cell_type": "code",
   "execution_count": 54,
   "metadata": {},
   "outputs": [
    {
     "data": {
      "text/plain": [
       "0.04252631578947368"
      ]
     },
     "execution_count": 54,
     "metadata": {},
     "output_type": "execute_result"
    }
   ],
   "source": [
    "np.percentile(all_loans_2014_merged.Bachelors_Degree_pct.dropna(), [0,25,50,75,100])[0]"
   ]
  },
  {
   "cell_type": "code",
   "execution_count": null,
   "metadata": {},
   "outputs": [],
   "source": []
  }
 ],
 "metadata": {
  "kernelspec": {
   "display_name": "Python 3",
   "language": "python",
   "name": "python3"
  },
  "language_info": {
   "codemirror_mode": {
    "name": "ipython",
    "version": 3
   },
   "file_extension": ".py",
   "mimetype": "text/x-python",
   "name": "python",
   "nbconvert_exporter": "python",
   "pygments_lexer": "ipython3",
   "version": "3.6.5"
  }
 },
 "nbformat": 4,
 "nbformat_minor": 2
}
