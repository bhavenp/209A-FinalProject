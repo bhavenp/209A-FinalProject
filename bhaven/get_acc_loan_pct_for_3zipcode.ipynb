{
 "cells": [
  {
   "cell_type": "code",
   "execution_count": 1,
   "metadata": {},
   "outputs": [],
   "source": [
    "import warnings\n",
    "#warnings.filterwarnings('ignore')\n",
    "import numpy as np\n",
    "import pandas as pd\n",
    "import matplotlib\n",
    "import matplotlib.pyplot as plt\n",
    "import create_aggregate_df as agg_df\n",
    "\n",
    "%matplotlib inline\n",
    "pd.set_option('display.max_columns', None);"
   ]
  },
  {
   "cell_type": "markdown",
   "metadata": {},
   "source": [
    "### Read in 2013 accepted loan data, 2014 accepted loan data, and 2013-2014 rejected loan data"
   ]
  },
  {
   "cell_type": "code",
   "execution_count": 2,
   "metadata": {},
   "outputs": [],
   "source": [
    "#get 2013 data\n",
    "lc2013 = pd.read_csv(\"../data/2012_13_loan_data/LoanStats3b.csv\", low_memory = False, encoding='latin-1');\n",
    "# lc2013.head()"
   ]
  },
  {
   "cell_type": "code",
   "execution_count": 3,
   "metadata": {},
   "outputs": [
    {
     "name": "stderr",
     "output_type": "stream",
     "text": [
      "/Users/bhavenpatel/anaconda3/lib/python3.6/site-packages/IPython/core/interactiveshell.py:2785: DtypeWarning: Columns (19) have mixed types. Specify dtype option on import or set low_memory=False.\n",
      "  interactivity=interactivity, compiler=compiler, result=result)\n"
     ]
    }
   ],
   "source": [
    "#read in 2014 accepted loan data\n",
    "lc14a = pd.read_csv(\"../data/2014_loan_data/LoanStats_2014_A.csv\")\n",
    "lc14b = pd.read_csv(\"../data/2014_loan_data/LoanStats_2014_B.csv\")\n",
    "lc14c = pd.read_csv(\"../data/2014_loan_data/LoanStats_2014_C.csv\")\n",
    "lc14d = pd.read_csv(\"../data/2014_loan_data/LoanStats_2014_D.csv\")"
   ]
  },
  {
   "cell_type": "code",
   "execution_count": 4,
   "metadata": {},
   "outputs": [
    {
     "name": "stdout",
     "output_type": "stream",
     "text": [
      "(235629, 145)\n"
     ]
    }
   ],
   "source": [
    "acc_loans_2014 = pd.concat([lc14a, lc14b, lc14c, lc14d], axis = 0);\n",
    "print(acc_loans_2014.shape)\n",
    "# acc_loans_2014.head()"
   ]
  },
  {
   "cell_type": "code",
   "execution_count": 5,
   "metadata": {},
   "outputs": [],
   "source": [
    "#get 2013-2014 rejected loan data\n",
    "lc1314rejecta = pd.read_csv(\"../data/2014_loan_data/RejectStats2013_2014_A.csv\", header=1)\n",
    "lc1314rejectb = pd.read_csv(\"../data/2014_loan_data/RejectStats2013_2014_B.csv\", header=None)\n",
    "lc1314rejectc = pd.read_csv(\"../data/2014_loan_data/RejectStats2013_2014_C.csv\", header=None)\n",
    "lc1314rejectd = pd.read_csv(\"../data/2014_loan_data/RejectStats2013_2014_D.csv\", header=None)\n",
    "lc1314rejectb.columns = lc1314rejecta.columns\n",
    "lc1314rejectc.columns = lc1314rejecta.columns\n",
    "lc1314rejectd.columns = lc1314rejecta.columns"
   ]
  },
  {
   "cell_type": "code",
   "execution_count": 6,
   "metadata": {},
   "outputs": [
    {
     "data": {
      "text/plain": [
       "(2694642, 10)"
      ]
     },
     "execution_count": 6,
     "metadata": {},
     "output_type": "execute_result"
    }
   ],
   "source": [
    "# bind all 2013/2014 LC reject data together\n",
    "lc_reject_all = lc1314rejecta.append(lc1314rejectb).append(lc1314rejectc).append(lc1314rejectd).reset_index()\n",
    "lc_reject_all.shape"
   ]
  },
  {
   "cell_type": "code",
   "execution_count": 8,
   "metadata": {},
   "outputs": [
    {
     "data": {
      "text/html": [
       "<div>\n",
       "<style scoped>\n",
       "    .dataframe tbody tr th:only-of-type {\n",
       "        vertical-align: middle;\n",
       "    }\n",
       "\n",
       "    .dataframe tbody tr th {\n",
       "        vertical-align: top;\n",
       "    }\n",
       "\n",
       "    .dataframe thead th {\n",
       "        text-align: right;\n",
       "    }\n",
       "</style>\n",
       "<table border=\"1\" class=\"dataframe\">\n",
       "  <thead>\n",
       "    <tr style=\"text-align: right;\">\n",
       "      <th></th>\n",
       "      <th>index</th>\n",
       "      <th>Amount Requested</th>\n",
       "      <th>Application Date</th>\n",
       "      <th>Loan Title</th>\n",
       "      <th>Risk_Score</th>\n",
       "      <th>Debt-To-Income Ratio</th>\n",
       "      <th>Zip Code</th>\n",
       "      <th>State</th>\n",
       "      <th>Employment Length</th>\n",
       "      <th>Policy Code</th>\n",
       "    </tr>\n",
       "  </thead>\n",
       "  <tbody>\n",
       "    <tr>\n",
       "      <th>0</th>\n",
       "      <td>0</td>\n",
       "      <td>30000.0</td>\n",
       "      <td>2013-01-01</td>\n",
       "      <td>debt_consolidation</td>\n",
       "      <td>754.0</td>\n",
       "      <td>32.01%</td>\n",
       "      <td>559xx</td>\n",
       "      <td>MN</td>\n",
       "      <td>&lt; 1 year</td>\n",
       "      <td>0</td>\n",
       "    </tr>\n",
       "    <tr>\n",
       "      <th>1</th>\n",
       "      <td>1</td>\n",
       "      <td>15000.0</td>\n",
       "      <td>2013-01-01</td>\n",
       "      <td>medical</td>\n",
       "      <td>728.0</td>\n",
       "      <td>27.01%</td>\n",
       "      <td>945xx</td>\n",
       "      <td>CA</td>\n",
       "      <td>&lt; 1 year</td>\n",
       "      <td>0</td>\n",
       "    </tr>\n",
       "    <tr>\n",
       "      <th>2</th>\n",
       "      <td>2</td>\n",
       "      <td>2500.0</td>\n",
       "      <td>2013-01-01</td>\n",
       "      <td>other</td>\n",
       "      <td>723.0</td>\n",
       "      <td>0.92%</td>\n",
       "      <td>190xx</td>\n",
       "      <td>PA</td>\n",
       "      <td>7 years</td>\n",
       "      <td>0</td>\n",
       "    </tr>\n",
       "    <tr>\n",
       "      <th>3</th>\n",
       "      <td>3</td>\n",
       "      <td>4000.0</td>\n",
       "      <td>2013-01-01</td>\n",
       "      <td>car</td>\n",
       "      <td>563.0</td>\n",
       "      <td>24.92%</td>\n",
       "      <td>296xx</td>\n",
       "      <td>SC</td>\n",
       "      <td>&lt; 1 year</td>\n",
       "      <td>0</td>\n",
       "    </tr>\n",
       "    <tr>\n",
       "      <th>4</th>\n",
       "      <td>4</td>\n",
       "      <td>22000.0</td>\n",
       "      <td>2013-01-01</td>\n",
       "      <td>debt_consolidation</td>\n",
       "      <td>0.0</td>\n",
       "      <td>26.91%</td>\n",
       "      <td>735xx</td>\n",
       "      <td>OK</td>\n",
       "      <td>&lt; 1 year</td>\n",
       "      <td>0</td>\n",
       "    </tr>\n",
       "  </tbody>\n",
       "</table>\n",
       "</div>"
      ],
      "text/plain": [
       "   index  Amount Requested Application Date          Loan Title  Risk_Score  \\\n",
       "0      0           30000.0       2013-01-01  debt_consolidation       754.0   \n",
       "1      1           15000.0       2013-01-01             medical       728.0   \n",
       "2      2            2500.0       2013-01-01               other       723.0   \n",
       "3      3            4000.0       2013-01-01                 car       563.0   \n",
       "4      4           22000.0       2013-01-01  debt_consolidation         0.0   \n",
       "\n",
       "  Debt-To-Income Ratio Zip Code State Employment Length  Policy Code  \n",
       "0               32.01%    559xx    MN          < 1 year            0  \n",
       "1               27.01%    945xx    CA          < 1 year            0  \n",
       "2                0.92%    190xx    PA           7 years            0  \n",
       "3               24.92%    296xx    SC          < 1 year            0  \n",
       "4               26.91%    735xx    OK          < 1 year            0  "
      ]
     },
     "execution_count": 8,
     "metadata": {},
     "output_type": "execute_result"
    }
   ],
   "source": [
    "lc_reject_all.head()"
   ]
  },
  {
   "cell_type": "markdown",
   "metadata": {},
   "source": [
    "### Split 2013-2014 rejected loans into their respective years"
   ]
  },
  {
   "cell_type": "code",
   "execution_count": 9,
   "metadata": {},
   "outputs": [
    {
     "data": {
      "text/html": [
       "<div>\n",
       "<style scoped>\n",
       "    .dataframe tbody tr th:only-of-type {\n",
       "        vertical-align: middle;\n",
       "    }\n",
       "\n",
       "    .dataframe tbody tr th {\n",
       "        vertical-align: top;\n",
       "    }\n",
       "\n",
       "    .dataframe thead th {\n",
       "        text-align: right;\n",
       "    }\n",
       "</style>\n",
       "<table border=\"1\" class=\"dataframe\">\n",
       "  <thead>\n",
       "    <tr style=\"text-align: right;\">\n",
       "      <th></th>\n",
       "      <th>index</th>\n",
       "      <th>Amount Requested</th>\n",
       "      <th>Application Date</th>\n",
       "      <th>Loan Title</th>\n",
       "      <th>Risk_Score</th>\n",
       "      <th>Debt-To-Income Ratio</th>\n",
       "      <th>Zip Code</th>\n",
       "      <th>State</th>\n",
       "      <th>Employment Length</th>\n",
       "      <th>Policy Code</th>\n",
       "      <th>App_year</th>\n",
       "    </tr>\n",
       "  </thead>\n",
       "  <tbody>\n",
       "    <tr>\n",
       "      <th>0</th>\n",
       "      <td>0</td>\n",
       "      <td>30000.0</td>\n",
       "      <td>2013-01-01</td>\n",
       "      <td>debt_consolidation</td>\n",
       "      <td>754.0</td>\n",
       "      <td>32.01%</td>\n",
       "      <td>559xx</td>\n",
       "      <td>MN</td>\n",
       "      <td>&lt; 1 year</td>\n",
       "      <td>0</td>\n",
       "      <td>2013</td>\n",
       "    </tr>\n",
       "    <tr>\n",
       "      <th>1</th>\n",
       "      <td>1</td>\n",
       "      <td>15000.0</td>\n",
       "      <td>2013-01-01</td>\n",
       "      <td>medical</td>\n",
       "      <td>728.0</td>\n",
       "      <td>27.01%</td>\n",
       "      <td>945xx</td>\n",
       "      <td>CA</td>\n",
       "      <td>&lt; 1 year</td>\n",
       "      <td>0</td>\n",
       "      <td>2013</td>\n",
       "    </tr>\n",
       "    <tr>\n",
       "      <th>2</th>\n",
       "      <td>2</td>\n",
       "      <td>2500.0</td>\n",
       "      <td>2013-01-01</td>\n",
       "      <td>other</td>\n",
       "      <td>723.0</td>\n",
       "      <td>0.92%</td>\n",
       "      <td>190xx</td>\n",
       "      <td>PA</td>\n",
       "      <td>7 years</td>\n",
       "      <td>0</td>\n",
       "      <td>2013</td>\n",
       "    </tr>\n",
       "    <tr>\n",
       "      <th>3</th>\n",
       "      <td>3</td>\n",
       "      <td>4000.0</td>\n",
       "      <td>2013-01-01</td>\n",
       "      <td>car</td>\n",
       "      <td>563.0</td>\n",
       "      <td>24.92%</td>\n",
       "      <td>296xx</td>\n",
       "      <td>SC</td>\n",
       "      <td>&lt; 1 year</td>\n",
       "      <td>0</td>\n",
       "      <td>2013</td>\n",
       "    </tr>\n",
       "    <tr>\n",
       "      <th>4</th>\n",
       "      <td>4</td>\n",
       "      <td>22000.0</td>\n",
       "      <td>2013-01-01</td>\n",
       "      <td>debt_consolidation</td>\n",
       "      <td>0.0</td>\n",
       "      <td>26.91%</td>\n",
       "      <td>735xx</td>\n",
       "      <td>OK</td>\n",
       "      <td>&lt; 1 year</td>\n",
       "      <td>0</td>\n",
       "      <td>2013</td>\n",
       "    </tr>\n",
       "  </tbody>\n",
       "</table>\n",
       "</div>"
      ],
      "text/plain": [
       "   index  Amount Requested Application Date          Loan Title  Risk_Score  \\\n",
       "0      0           30000.0       2013-01-01  debt_consolidation       754.0   \n",
       "1      1           15000.0       2013-01-01             medical       728.0   \n",
       "2      2            2500.0       2013-01-01               other       723.0   \n",
       "3      3            4000.0       2013-01-01                 car       563.0   \n",
       "4      4           22000.0       2013-01-01  debt_consolidation         0.0   \n",
       "\n",
       "  Debt-To-Income Ratio Zip Code State Employment Length  Policy Code  App_year  \n",
       "0               32.01%    559xx    MN          < 1 year            0      2013  \n",
       "1               27.01%    945xx    CA          < 1 year            0      2013  \n",
       "2                0.92%    190xx    PA           7 years            0      2013  \n",
       "3               24.92%    296xx    SC          < 1 year            0      2013  \n",
       "4               26.91%    735xx    OK          < 1 year            0      2013  "
      ]
     },
     "execution_count": 9,
     "metadata": {},
     "output_type": "execute_result"
    }
   ],
   "source": [
    "def format_app_year(x):\n",
    "    year = x[0:4];\n",
    "    return int(year);\n",
    "\n",
    "lc_reject_all['App_year'] = lc_reject_all['Application Date'].map(format_app_year);\n",
    "lc_reject_all.head()"
   ]
  },
  {
   "cell_type": "code",
   "execution_count": 10,
   "metadata": {},
   "outputs": [
    {
     "data": {
      "text/plain": [
       "(760942, 11)"
      ]
     },
     "execution_count": 10,
     "metadata": {},
     "output_type": "execute_result"
    }
   ],
   "source": [
    "#get 2013 rejected loans\n",
    "rejected_loans_2013 = lc_reject_all[lc_reject_all.App_year == 2013];\n",
    "rejected_loans_2013.shape"
   ]
  },
  {
   "cell_type": "code",
   "execution_count": 12,
   "metadata": {},
   "outputs": [
    {
     "name": "stdout",
     "output_type": "stream",
     "text": [
      "(1933700, 11)\n"
     ]
    }
   ],
   "source": [
    "#get 2014 rejected loans\n",
    "rejected_loans_2014 = lc_reject_all[lc_reject_all.App_year == 2014];\n",
    "print(rejected_loans_2014.shape)\n",
    "assert(lc_reject_all.shape[0] == (rejected_loans_2013.shape[0]+rejected_loans_2014.shape[0]) ) #check that we have all the loans accounted for"
   ]
  },
  {
   "cell_type": "markdown",
   "metadata": {},
   "source": [
    "### Calculate 2014 accepted loans and rejected loans based on zip code"
   ]
  },
  {
   "cell_type": "code",
   "execution_count": 20,
   "metadata": {},
   "outputs": [
    {
     "data": {
      "text/plain": [
       "866"
      ]
     },
     "execution_count": 20,
     "metadata": {},
     "output_type": "execute_result"
    }
   ],
   "source": [
    "#format 3-digit zipcode for each accepted loan\n",
    "acc_loans_2014['3_dig_zip'] = acc_loans_2014.zip_code.str.slice(0,3);\n",
    "# acc_loans_2014['3_dig_zip'].unique() #check that zipcodes are formatted correctly\n",
    "len(acc_loans_2014['3_dig_zip'].unique())"
   ]
  },
  {
   "cell_type": "code",
   "execution_count": 21,
   "metadata": {},
   "outputs": [
    {
     "name": "stderr",
     "output_type": "stream",
     "text": [
      "/Users/bhavenpatel/anaconda3/lib/python3.6/site-packages/ipykernel_launcher.py:2: SettingWithCopyWarning: \n",
      "A value is trying to be set on a copy of a slice from a DataFrame.\n",
      "Try using .loc[row_indexer,col_indexer] = value instead\n",
      "\n",
      "See the caveats in the documentation: http://pandas.pydata.org/pandas-docs/stable/indexing.html#indexing-view-versus-copy\n",
      "  \n"
     ]
    },
    {
     "data": {
      "text/plain": [
       "996"
      ]
     },
     "execution_count": 21,
     "metadata": {},
     "output_type": "execute_result"
    }
   ],
   "source": [
    "#format 3-digit zipcode for each rejected loan\n",
    "rejected_loans_2014['3_dig_zip'] = rejected_loans_2014['Zip Code'].str.slice(0,3);\n",
    "# rejected_loans_2014['3_dig_zip'].unique() #check that zipcodes are formatted correctly\n",
    "len(rejected_loans_2014['3_dig_zip'].unique())"
   ]
  },
  {
   "cell_type": "code",
   "execution_count": 28,
   "metadata": {},
   "outputs": [],
   "source": [
    "#group accepted loans by 3 digit zip code\n",
    "acc_loans_2014_zipgb = acc_loans_2014.groupby(by='3_dig_zip').agg({\n",
    "    '3_dig_zip' : ['count'],\n",
    "});\n",
    "\n",
    "#group rejected loans by 3 digit zip code\n",
    "rej_loans_2014_zipgb = rejected_loans_2014.groupby(by='3_dig_zip').agg({\n",
    "    '3_dig_zip' : ['count'],\n",
    "});\n",
    "# rej_loans_2014_zipgb"
   ]
  },
  {
   "cell_type": "code",
   "execution_count": 31,
   "metadata": {},
   "outputs": [],
   "source": [
    "acc_loans_2014_zipgb.columns = ['2014_accpt_loans']\n",
    "rej_loans_2014_zipgb.columns = ['2014_rejected_loans']"
   ]
  },
  {
   "cell_type": "code",
   "execution_count": 41,
   "metadata": {},
   "outputs": [
    {
     "data": {
      "text/html": [
       "<div>\n",
       "<style scoped>\n",
       "    .dataframe tbody tr th:only-of-type {\n",
       "        vertical-align: middle;\n",
       "    }\n",
       "\n",
       "    .dataframe tbody tr th {\n",
       "        vertical-align: top;\n",
       "    }\n",
       "\n",
       "    .dataframe thead th {\n",
       "        text-align: right;\n",
       "    }\n",
       "</style>\n",
       "<table border=\"1\" class=\"dataframe\">\n",
       "  <thead>\n",
       "    <tr style=\"text-align: right;\">\n",
       "      <th></th>\n",
       "      <th>2014_rejected_loans</th>\n",
       "    </tr>\n",
       "    <tr>\n",
       "      <th>3_dig_zip</th>\n",
       "      <th></th>\n",
       "    </tr>\n",
       "  </thead>\n",
       "  <tbody>\n",
       "    <tr>\n",
       "      <th>985</th>\n",
       "      <td>2779</td>\n",
       "    </tr>\n",
       "    <tr>\n",
       "      <th>986</th>\n",
       "      <td>2918</td>\n",
       "    </tr>\n",
       "    <tr>\n",
       "      <th>987</th>\n",
       "      <td>15</td>\n",
       "    </tr>\n",
       "    <tr>\n",
       "      <th>988</th>\n",
       "      <td>1039</td>\n",
       "    </tr>\n",
       "    <tr>\n",
       "      <th>989</th>\n",
       "      <td>1273</td>\n",
       "    </tr>\n",
       "    <tr>\n",
       "      <th>990</th>\n",
       "      <td>732</td>\n",
       "    </tr>\n",
       "    <tr>\n",
       "      <th>991</th>\n",
       "      <td>470</td>\n",
       "    </tr>\n",
       "    <tr>\n",
       "      <th>992</th>\n",
       "      <td>1633</td>\n",
       "    </tr>\n",
       "    <tr>\n",
       "      <th>993</th>\n",
       "      <td>1643</td>\n",
       "    </tr>\n",
       "    <tr>\n",
       "      <th>994</th>\n",
       "      <td>97</td>\n",
       "    </tr>\n",
       "    <tr>\n",
       "      <th>995</th>\n",
       "      <td>2118</td>\n",
       "    </tr>\n",
       "    <tr>\n",
       "      <th>996</th>\n",
       "      <td>865</td>\n",
       "    </tr>\n",
       "    <tr>\n",
       "      <th>997</th>\n",
       "      <td>796</td>\n",
       "    </tr>\n",
       "    <tr>\n",
       "      <th>998</th>\n",
       "      <td>252</td>\n",
       "    </tr>\n",
       "    <tr>\n",
       "      <th>999</th>\n",
       "      <td>148</td>\n",
       "    </tr>\n",
       "  </tbody>\n",
       "</table>\n",
       "</div>"
      ],
      "text/plain": [
       "           2014_rejected_loans\n",
       "3_dig_zip                     \n",
       "985                       2779\n",
       "986                       2918\n",
       "987                         15\n",
       "988                       1039\n",
       "989                       1273\n",
       "990                        732\n",
       "991                        470\n",
       "992                       1633\n",
       "993                       1643\n",
       "994                         97\n",
       "995                       2118\n",
       "996                        865\n",
       "997                        796\n",
       "998                        252\n",
       "999                        148"
      ]
     },
     "execution_count": 41,
     "metadata": {},
     "output_type": "execute_result"
    }
   ],
   "source": [
    "rej_loans_2014_zipgb.tail(15)"
   ]
  },
  {
   "cell_type": "code",
   "execution_count": 48,
   "metadata": {},
   "outputs": [],
   "source": [
    "loan_cnt_2014_zip3 = acc_loans_2014_zipgb.merge(rej_loans_2014_zipgb, on='3_dig_zip', how='left')"
   ]
  },
  {
   "cell_type": "code",
   "execution_count": 50,
   "metadata": {},
   "outputs": [
    {
     "data": {
      "text/html": [
       "<div>\n",
       "<style scoped>\n",
       "    .dataframe tbody tr th:only-of-type {\n",
       "        vertical-align: middle;\n",
       "    }\n",
       "\n",
       "    .dataframe tbody tr th {\n",
       "        vertical-align: top;\n",
       "    }\n",
       "\n",
       "    .dataframe thead th {\n",
       "        text-align: right;\n",
       "    }\n",
       "</style>\n",
       "<table border=\"1\" class=\"dataframe\">\n",
       "  <thead>\n",
       "    <tr style=\"text-align: right;\">\n",
       "      <th></th>\n",
       "      <th>2014_accpt_loans</th>\n",
       "      <th>2014_rejected_loans</th>\n",
       "      <th>2014_Total_loans_considered</th>\n",
       "      <th>2014_pct_accepted</th>\n",
       "    </tr>\n",
       "    <tr>\n",
       "      <th>3_dig_zip</th>\n",
       "      <th></th>\n",
       "      <th></th>\n",
       "      <th></th>\n",
       "      <th></th>\n",
       "    </tr>\n",
       "  </thead>\n",
       "  <tbody>\n",
       "    <tr>\n",
       "      <th>007</th>\n",
       "      <td>2</td>\n",
       "      <td>63.0</td>\n",
       "      <td>65.0</td>\n",
       "      <td>0.030769</td>\n",
       "    </tr>\n",
       "    <tr>\n",
       "      <th>008</th>\n",
       "      <td>1</td>\n",
       "      <td>45.0</td>\n",
       "      <td>46.0</td>\n",
       "      <td>0.021739</td>\n",
       "    </tr>\n",
       "    <tr>\n",
       "      <th>010</th>\n",
       "      <td>379</td>\n",
       "      <td>2741.0</td>\n",
       "      <td>3120.0</td>\n",
       "      <td>0.121474</td>\n",
       "    </tr>\n",
       "    <tr>\n",
       "      <th>011</th>\n",
       "      <td>115</td>\n",
       "      <td>1367.0</td>\n",
       "      <td>1482.0</td>\n",
       "      <td>0.077598</td>\n",
       "    </tr>\n",
       "    <tr>\n",
       "      <th>012</th>\n",
       "      <td>93</td>\n",
       "      <td>803.0</td>\n",
       "      <td>896.0</td>\n",
       "      <td>0.103795</td>\n",
       "    </tr>\n",
       "  </tbody>\n",
       "</table>\n",
       "</div>"
      ],
      "text/plain": [
       "           2014_accpt_loans  2014_rejected_loans  2014_Total_loans_considered  \\\n",
       "3_dig_zip                                                                       \n",
       "007                       2                 63.0                         65.0   \n",
       "008                       1                 45.0                         46.0   \n",
       "010                     379               2741.0                       3120.0   \n",
       "011                     115               1367.0                       1482.0   \n",
       "012                      93                803.0                        896.0   \n",
       "\n",
       "           2014_pct_accepted  \n",
       "3_dig_zip                     \n",
       "007                 0.030769  \n",
       "008                 0.021739  \n",
       "010                 0.121474  \n",
       "011                 0.077598  \n",
       "012                 0.103795  "
      ]
     },
     "execution_count": 50,
     "metadata": {},
     "output_type": "execute_result"
    }
   ],
   "source": [
    "loan_cnt_2014_zip3['2014_Total_loans_considered'] = loan_cnt_2014_zip3['2014_accpt_loans'] + loan_cnt_2014_zip3['2014_rejected_loans'];\n",
    "loan_cnt_2014_zip3['2014_pct_accepted'] = loan_cnt_2014_zip3['2014_accpt_loans'] / loan_cnt_2014_zip3['2014_Total_loans_considered'];\n",
    "loan_cnt_2014_zip3.head()"
   ]
  },
  {
   "cell_type": "code",
   "execution_count": 51,
   "metadata": {},
   "outputs": [],
   "source": [
    "loan_cnt_2014_zip3.to_csv('../data/2014_loan_data/pct_accepted_by_zip3_2014_BP.csv');"
   ]
  }
 ],
 "metadata": {
  "kernelspec": {
   "display_name": "Python 3",
   "language": "python",
   "name": "python3"
  },
  "language_info": {
   "codemirror_mode": {
    "name": "ipython",
    "version": 3
   },
   "file_extension": ".py",
   "mimetype": "text/x-python",
   "name": "python",
   "nbconvert_exporter": "python",
   "pygments_lexer": "ipython3",
   "version": "3.6.5"
  }
 },
 "nbformat": 4,
 "nbformat_minor": 2
}
