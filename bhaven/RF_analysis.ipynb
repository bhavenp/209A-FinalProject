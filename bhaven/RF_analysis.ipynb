{
 "cells": [
  {
   "cell_type": "code",
   "execution_count": 1,
   "metadata": {},
   "outputs": [],
   "source": [
    "import pickle\n",
    "import numpy as np\n",
    "import pandas as pd\n",
    "import matplotlib\n",
    "import matplotlib.pyplot as plt\n",
    "%matplotlib inline\n",
    "import seaborn as sns\n",
    "sns.set()\n",
    "\n",
    "from sklearn.linear_model import LogisticRegression\n",
    "from sklearn.linear_model import LogisticRegressionCV\n",
    "from sklearn.model_selection import train_test_split\n",
    "from sklearn.model_selection import cross_val_score\n",
    "from sklearn.metrics import accuracy_score\n",
    "from sklearn.discriminant_analysis import QuadraticDiscriminantAnalysis\n",
    "from sklearn.discriminant_analysis import LinearDiscriminantAnalysis\n",
    "from sklearn import preprocessing\n",
    "from sklearn.ensemble import RandomForestClassifier\n",
    "from sklearn.pipeline import make_pipeline\n",
    "from sklearn.preprocessing import PolynomialFeatures\n",
    "\n",
    "from imblearn.over_sampling import SMOTE"
   ]
  },
  {
   "cell_type": "code",
   "execution_count": 2,
   "metadata": {},
   "outputs": [],
   "source": [
    "#load Hugo's RF model\n",
    "rf_pkl = open('../hugo/Random_Forest_Model.pkl', 'rb')\n",
    "rf_pipeline = pickle.load(rf_pkl);\n",
    "#extract the RF model from the Pipeline object\n",
    "rf_model = rf_pipeline.steps[1][1];"
   ]
  },
  {
   "cell_type": "code",
   "execution_count": 3,
   "metadata": {},
   "outputs": [
    {
     "name": "stdout",
     "output_type": "stream",
     "text": [
      "Random Forest Top Features {269: 3, 761: 3, 1: 11, 109: 5, 193: 1, 88: 12, 65: 1, 271: 5, 272: 1, 194: 5, 90: 8, 844: 2, 192: 1, 348: 2, 5: 11, 115: 4, 198: 9, 21: 2, 112: 5, 273: 6, 46: 1, 64: 2, 68: 4, 94: 2, 27: 2, 215: 5, 254: 6, 235: 4, 887: 1, 45: 5, 737: 1, 277: 3, 256: 6, 49: 2, 92: 9, 977: 1, 881: 1, 120: 13, 71: 3, 692: 1, 110: 2, 943: 1, 898: 2, 734: 2, 149: 1, 105: 4, 689: 5, 762: 2, 267: 3, 234: 4, 690: 2, 153: 5, 157: 1, 276: 3, 174: 1, 24: 6, 95: 1, 25: 4, 154: 1, 282: 6, 824: 7, 806: 1, 29: 1, 274: 2, 275: 2, 283: 1, 3: 2, 238: 2, 47: 1, 231: 2, 134: 1, 960: 1, 195: 1, 11: 1, 236: 1, 108: 2, 784: 1, 769: 1, 70: 1, 833: 2, 787: 2, 742: 1, 107: 2, 175: 6, 191: 1, 91: 2, 886: 1, 119: 2, 683: 1, 113: 2, 132: 1, 2: 1, 114: 1, 72: 1, 156: 1, 73: 2, 834: 1, 852: 1, 786: 2, 237: 1, 111: 1, 131: 1, 116: 1, 903: 2, 783: 1, 48: 1, 173: 1, 214: 1, 741: 1}\n",
      "109 top features in random forest\n"
     ]
    }
   ],
   "source": [
    "rf_trees = rf_model.estimators_;\n",
    "#count top feature for Random Forest model\n",
    "rf_top_features = {};\n",
    "for tree in rf_trees:\n",
    "    for i in range(3):\n",
    "        top_feat = tree.tree_.feature[i];\n",
    "        try:\n",
    "            rf_top_features[top_feat] += 1;\n",
    "        except:\n",
    "            rf_top_features[top_feat] = 1;\n",
    "        \n",
    "print(\"Random Forest Top Features\", rf_top_features);\n",
    "print(len(rf_top_features.keys()), \"top features in random forest\")"
   ]
  },
  {
   "cell_type": "code",
   "execution_count": 4,
   "metadata": {},
   "outputs": [
    {
     "name": "stdout",
     "output_type": "stream",
     "text": [
      "[(120, 13), (88, 12), (1, 11), (5, 11), (198, 9), (92, 9), (90, 8), (824, 7), (273, 6), (254, 6), (256, 6), (24, 6), (282, 6), (175, 6), (109, 5), (271, 5), (194, 5), (112, 5), (215, 5), (45, 5), (689, 5), (153, 5), (115, 4), (68, 4), (235, 4), (105, 4), (234, 4), (25, 4), (269, 3), (761, 3), (277, 3), (71, 3), (267, 3), (276, 3), (844, 2), (348, 2), (21, 2), (64, 2), (94, 2), (27, 2), (49, 2), (110, 2), (898, 2), (734, 2), (762, 2), (690, 2), (274, 2), (275, 2), (3, 2), (238, 2), (231, 2), (108, 2), (833, 2), (787, 2), (107, 2), (91, 2), (119, 2), (113, 2), (73, 2), (786, 2), (903, 2), (193, 1), (65, 1), (272, 1), (192, 1), (46, 1), (887, 1), (737, 1), (977, 1), (881, 1), (692, 1), (943, 1), (149, 1), (157, 1), (174, 1), (95, 1), (154, 1), (806, 1), (29, 1), (283, 1), (47, 1), (134, 1), (960, 1), (195, 1), (11, 1), (236, 1), (784, 1), (769, 1), (70, 1), (742, 1), (191, 1), (886, 1), (683, 1), (132, 1), (2, 1), (114, 1), (72, 1), (156, 1), (834, 1), (852, 1), (237, 1), (111, 1), (131, 1), (116, 1), (783, 1), (48, 1), (173, 1), (214, 1), (741, 1)]\n"
     ]
    }
   ],
   "source": [
    "top_feats_sorted = sorted(rf_top_features.items(), key= lambda x: x[1], reverse=True);\n",
    "print(top_feats_sorted)"
   ]
  },
  {
   "cell_type": "code",
   "execution_count": 5,
   "metadata": {},
   "outputs": [],
   "source": [
    "#create dataframe that Hugo trained the model on again\n",
    "df = pd.read_csv(\"../hugo/cleaned_2014\", low_memory = False);\n",
    "data_train, data_test = train_test_split(df, test_size=.2, stratify=df.paid, random_state=1)\n",
    "def split_data(df, cols):\n",
    "    x = df.drop(cols, axis = 1)\n",
    "    y = df.paid\n",
    "    return x, y\n",
    "\n",
    "cols_to_drop_training = ['loan_status', 'paid', 'amnt', 'total_pymnt', 'term']\n",
    "x_train_initial, y_train_initial = split_data(data_train, cols_to_drop_training)"
   ]
  },
  {
   "cell_type": "code",
   "execution_count": 6,
   "metadata": {},
   "outputs": [],
   "source": [
    "poly = PolynomialFeatures(degree=2, interaction_only=False, include_bias=False);\n",
    "poly.fit(x_train_initial);\n",
    "all_training_features = poly.get_feature_names(input_features= x_train_initial.columns);"
   ]
  },
  {
   "cell_type": "code",
   "execution_count": 7,
   "metadata": {},
   "outputs": [
    {
     "name": "stdout",
     "output_type": "stream",
     "text": [
      "Training Features: 989\n",
      "Feature 120: int_rate purpose_major_purchase\n",
      "Feature 88: int_rate dti\n",
      "Feature 1: int_rate\n",
      "Feature 5: emp_length_1 year\n",
      "Feature 198: dti purpose_debt_consolidation\n",
      "Feature 92: int_rate emp_length_2 years\n",
      "Feature 90: int_rate emp_length_1 year\n",
      "Feature 824: grade_C purpose_credit_card\n",
      "Feature 273: emp_length_1 year purpose_car\n",
      "Feature 254: emp_length_1 year emp_length_6 years\n"
     ]
    }
   ],
   "source": [
    "print(\"Training Features: {0}\".format(len(all_training_features)))\n",
    "\n",
    "for i in range(10):\n",
    "    feat_num = top_feats_sorted[i][0];\n",
    "    print(\"Feature {0}: {1}\".format(feat_num, all_training_features[feat_num]))\n"
   ]
  }
 ],
 "metadata": {
  "kernelspec": {
   "display_name": "Python 3",
   "language": "python",
   "name": "python3"
  },
  "language_info": {
   "codemirror_mode": {
    "name": "ipython",
    "version": 3
   },
   "file_extension": ".py",
   "mimetype": "text/x-python",
   "name": "python",
   "nbconvert_exporter": "python",
   "pygments_lexer": "ipython3",
   "version": "3.6.5"
  }
 },
 "nbformat": 4,
 "nbformat_minor": 2
}
