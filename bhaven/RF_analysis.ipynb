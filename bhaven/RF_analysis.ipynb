{
 "cells": [
  {
   "cell_type": "code",
   "execution_count": 1,
   "metadata": {},
   "outputs": [],
   "source": [
    "import pickle\n",
    "import numpy as np\n",
    "import pandas as pd\n",
    "import matplotlib\n",
    "import matplotlib.pyplot as plt\n",
    "%matplotlib inline\n",
    "import seaborn as sns\n",
    "sns.set()\n",
    "\n",
    "from sklearn.linear_model import LogisticRegression\n",
    "from sklearn.linear_model import LogisticRegressionCV\n",
    "from sklearn.model_selection import train_test_split\n",
    "from sklearn.model_selection import cross_val_score\n",
    "from sklearn.metrics import accuracy_score\n",
    "from sklearn.discriminant_analysis import QuadraticDiscriminantAnalysis\n",
    "from sklearn.discriminant_analysis import LinearDiscriminantAnalysis\n",
    "from sklearn import preprocessing\n",
    "from sklearn.ensemble import RandomForestClassifier\n",
    "from sklearn.pipeline import make_pipeline\n",
    "from sklearn.preprocessing import PolynomialFeatures\n",
    "\n",
    "from imblearn.over_sampling import SMOTE"
   ]
  },
  {
   "cell_type": "code",
   "execution_count": 2,
   "metadata": {},
   "outputs": [],
   "source": [
    "#load Hugo's RF model\n",
    "rf_pkl = open('../hugo/Random_Forest_Model.pkl', 'rb')\n",
    "rf_pipeline = pickle.load(rf_pkl);\n",
    "#extract the RF model from the Pipeline object\n",
    "rf_model = rf_pipeline.steps[1][1];"
   ]
  },
  {
   "cell_type": "code",
   "execution_count": 3,
   "metadata": {},
   "outputs": [
    {
     "name": "stdout",
     "output_type": "stream",
     "text": [
      "180 top features in random forest\n"
     ]
    }
   ],
   "source": [
    "rf_trees = rf_model.estimators_;\n",
    "#count top feature for Random Forest model\n",
    "rf_top_features = {};\n",
    "for tree in rf_trees:\n",
    "    for i in range(7):\n",
    "        top_feat = tree.tree_.feature[i];\n",
    "        try:\n",
    "            rf_top_features[top_feat] += 1;\n",
    "        except:\n",
    "            rf_top_features[top_feat] = 1;\n",
    "        \n",
    "# print(\"Random Forest Top Features\", rf_top_features);\n",
    "print(len(rf_top_features.keys()), \"top features in random forest\")"
   ]
  },
  {
   "cell_type": "code",
   "execution_count": 4,
   "metadata": {},
   "outputs": [
    {
     "name": "stdout",
     "output_type": "stream",
     "text": [
      "[(1, 28), (88, 26), (92, 23), (120, 21), (90, 16), (5, 16), (175, 14), (198, 12), (109, 10), (273, 10), (234, 10), (24, 10), (25, 9), (271, 9), (194, 9), (844, 9), (112, 9), (215, 9), (254, 9), (45, 8), (49, 8), (274, 8), (190, 8), (0, 8), (282, 8), (824, 8), (174, 7), (64, 7), (68, 7), (235, 7), (105, 7), (107, 7), (153, 7), (269, 6), (761, 6), (70, 6), (115, 6), (111, 6), (91, 6), (256, 6), (108, 5), (762, 5), (69, 5), (276, 5), (3, 5), (833, 5), (71, 5), (131, 5), (689, 5), (267, 5), (119, 5), (173, 5), (46, 4), (110, 4), (214, 4), (277, 4), (690, 4), (134, 4), (734, 4), (44, 4), (238, 4), (228, 4), (113, 4), (230, 4), (195, 4), (157, 3), (881, 3), (94, 3), (237, 3), (77, 3), (162, 3), (47, 3), (149, 3), (76, 3), (683, 3), (956, 3), (154, 3), (275, 3), (62, 3), (863, 3), (114, 3), (48, 3), (4, 3), (73, 3), (2, 3), (193, 2), (272, 2), (151, 2), (348, 2), (21, 2), (196, 2), (27, 2), (155, 2), (89, 2), (692, 2), (898, 2), (852, 2), (281, 2), (156, 2), (344, 2), (150, 2), (236, 2), (784, 2), (231, 2), (742, 2), (787, 2), (350, 2), (188, 2), (72, 2), (243, 2), (786, 2), (903, 2), (135, 1), (65, 1), (203, 1), (192, 1), (176, 1), (887, 1), (103, 1), (737, 1), (199, 1), (758, 1), (977, 1), (968, 1), (18, 1), (943, 1), (944, 1), (466, 1), (870, 1), (95, 1), (7, 1), (974, 1), (806, 1), (124, 1), (29, 1), (785, 1), (283, 1), (836, 1), (148, 1), (251, 1), (691, 1), (979, 1), (694, 1), (914, 1), (932, 1), (229, 1), (960, 1), (147, 1), (249, 1), (11, 1), (221, 1), (177, 1), (714, 1), (769, 1), (587, 1), (349, 1), (106, 1), (191, 1), (886, 1), (117, 1), (132, 1), (26, 1), (145, 1), (288, 1), (961, 1), (834, 1), (56, 1), (142, 1), (167, 1), (136, 1), (851, 1), (929, 1), (743, 1), (116, 1), (783, 1), (159, 1), (161, 1), (958, 1), (739, 1), (741, 1)]\n"
     ]
    }
   ],
   "source": [
    "top_feats_sorted = sorted(rf_top_features.items(), key= lambda x: x[1], reverse=True);\n",
    "print(top_feats_sorted)"
   ]
  },
  {
   "cell_type": "code",
   "execution_count": 5,
   "metadata": {},
   "outputs": [],
   "source": [
    "#create dataframe that Hugo trained the model on again\n",
    "df = pd.read_csv(\"../hugo/cleaned_2014\", low_memory = False);\n",
    "data_train, data_test = train_test_split(df, test_size=.2, stratify=df.paid, random_state=1)\n",
    "def split_data(df, cols):\n",
    "    x = df.drop(cols, axis = 1)\n",
    "    y = df.paid\n",
    "    return x, y\n",
    "\n",
    "cols_to_drop_training = ['loan_status', 'paid', 'amnt', 'total_pymnt', 'term']\n",
    "x_train_initial, y_train_initial = split_data(data_train, cols_to_drop_training)"
   ]
  },
  {
   "cell_type": "code",
   "execution_count": 6,
   "metadata": {},
   "outputs": [],
   "source": [
    "poly = PolynomialFeatures(degree=2, interaction_only=False, include_bias=False);\n",
    "poly.fit(x_train_initial);\n",
    "all_training_features = poly.get_feature_names(input_features= x_train_initial.columns);"
   ]
  },
  {
   "cell_type": "code",
   "execution_count": 7,
   "metadata": {},
   "outputs": [
    {
     "name": "stdout",
     "output_type": "stream",
     "text": [
      "Training Features: 989\n",
      "Feature 1: int_rate\n",
      "Feature 88: int_rate dti\n",
      "Feature 92: int_rate emp_length_2 years\n",
      "Feature 120: int_rate purpose_major_purchase\n",
      "Feature 90: int_rate emp_length_1 year\n",
      "Feature 5: emp_length_1 year\n",
      "Feature 175: dti emp_length_4 years\n",
      "Feature 198: dti purpose_debt_consolidation\n",
      "Feature 109: int_rate grade_B\n",
      "Feature 273: emp_length_1 year purpose_car\n"
     ]
    }
   ],
   "source": [
    "print(\"Training Features: {0}\".format(len(all_training_features)))\n",
    "\n",
    "for i in range(10):\n",
    "    feat_num = top_feats_sorted[i][0];\n",
    "    print(\"Feature {0}: {1}\".format(feat_num, all_training_features[feat_num]))\n"
   ]
  }
 ],
 "metadata": {
  "kernelspec": {
   "display_name": "Python 3",
   "language": "python",
   "name": "python3"
  },
  "language_info": {
   "codemirror_mode": {
    "name": "ipython",
    "version": 3
   },
   "file_extension": ".py",
   "mimetype": "text/x-python",
   "name": "python",
   "nbconvert_exporter": "python",
   "pygments_lexer": "ipython3",
   "version": "3.6.5"
  }
 },
 "nbformat": 4,
 "nbformat_minor": 2
}
